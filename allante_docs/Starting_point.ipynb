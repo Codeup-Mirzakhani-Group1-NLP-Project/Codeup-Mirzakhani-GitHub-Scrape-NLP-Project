{
 "cells": [
  {
   "cell_type": "code",
   "execution_count": 1,
   "metadata": {},
   "outputs": [],
   "source": [
    "import os\n",
    "import json\n",
    "import unicodedata\n",
    "import re\n",
    "import prepare as pr\n",
    "from typing import Dict, List, Optional, Union, cast\n",
    "import requests\n",
    "from bs4 import BeautifulSoup\n",
    "import pandas as pd\n",
    "import nltk\n",
    "from nltk.tokenize.toktok import ToktokTokenizer\n",
    "from nltk.corpus import stopwords\n",
    "from env import github_token, github_username"
   ]
  },
  {
   "cell_type": "markdown",
   "metadata": {},
   "source": [
    "# Acquire "
   ]
  },
  {
   "cell_type": "code",
   "execution_count": 2,
   "metadata": {},
   "outputs": [],
   "source": [
    "df = pr.get_clean_df()"
   ]
  },
  {
   "cell_type": "code",
   "execution_count": 3,
   "metadata": {},
   "outputs": [
    {
     "data": {
      "text/html": [
       "<div>\n",
       "<style scoped>\n",
       "    .dataframe tbody tr th:only-of-type {\n",
       "        vertical-align: middle;\n",
       "    }\n",
       "\n",
       "    .dataframe tbody tr th {\n",
       "        vertical-align: top;\n",
       "    }\n",
       "\n",
       "    .dataframe thead th {\n",
       "        text-align: right;\n",
       "    }\n",
       "</style>\n",
       "<table border=\"1\" class=\"dataframe\">\n",
       "  <thead>\n",
       "    <tr style=\"text-align: right;\">\n",
       "      <th></th>\n",
       "      <th>original</th>\n",
       "      <th>first_clean</th>\n",
       "      <th>clean</th>\n",
       "      <th>lemmatized</th>\n",
       "      <th>language</th>\n",
       "    </tr>\n",
       "  </thead>\n",
       "  <tbody>\n",
       "    <tr>\n",
       "      <th>0</th>\n",
       "      <td>&lt;p align=\"center\"&gt;&lt;img src=\"https://live.stati...</td>\n",
       "      <td>SpaceX REST API  Open Source REST API for lau...</td>\n",
       "      <td>spacex rest api open source rest api launch ro...</td>\n",
       "      <td>spacex rest api open source rest api launch ro...</td>\n",
       "      <td>JavaScript</td>\n",
       "    </tr>\n",
       "    <tr>\n",
       "      <th>1</th>\n",
       "      <td>\\nARCHIVED VERSION OF Space Engineers. This ve...</td>\n",
       "      <td>ARCHIVED VERSION OF Space Engineers. This vers...</td>\n",
       "      <td>archived version engineers version uptodate ve...</td>\n",
       "      <td>archived version engineer version uptodate ver...</td>\n",
       "      <td>C#</td>\n",
       "    </tr>\n",
       "    <tr>\n",
       "      <th>2</th>\n",
       "      <td># Spaceship Generator\\n\\nA Blender script to p...</td>\n",
       "      <td># Spaceship Generator  A Blender script to pro...</td>\n",
       "      <td>spaceship generator blender script procedurall...</td>\n",
       "      <td>spaceship generator blender script procedurall...</td>\n",
       "      <td>Python</td>\n",
       "    </tr>\n",
       "    <tr>\n",
       "      <th>3</th>\n",
       "      <td># Spacegray\\n\\nA set of custom UI themes for S...</td>\n",
       "      <td># Spacegray  A set of custom UI themes for Sub...</td>\n",
       "      <td>spacegray set custom ui themes sublime text hy...</td>\n",
       "      <td>spacegray set custom ui theme sublime text hyp...</td>\n",
       "      <td>JavaScript</td>\n",
       "    </tr>\n",
       "    <tr>\n",
       "      <th>4</th>\n",
       "      <td># S P A C E\\n\\n![cover](resources/space-readme...</td>\n",
       "      <td># S P A C E  ![cover .  You can read it here: ...</td>\n",
       "      <td>p c e cover read</td>\n",
       "      <td>p c e cover read</td>\n",
       "      <td>JavaScript</td>\n",
       "    </tr>\n",
       "    <tr>\n",
       "      <th>...</th>\n",
       "      <td>...</td>\n",
       "      <td>...</td>\n",
       "      <td>...</td>\n",
       "      <td>...</td>\n",
       "      <td>...</td>\n",
       "    </tr>\n",
       "    <tr>\n",
       "      <th>427</th>\n",
       "      <td># Simple multi-dataset detection\\nAn object de...</td>\n",
       "      <td># Simple multi-dataset detection An object det...</td>\n",
       "      <td>simple multidataset detection object detector ...</td>\n",
       "      <td>simple multidataset detection object detector ...</td>\n",
       "      <td>Python</td>\n",
       "    </tr>\n",
       "    <tr>\n",
       "      <th>428</th>\n",
       "      <td>\\n![Python package](https://github.com/WagnerG...</td>\n",
       "      <td>![Python package .</td>\n",
       "      <td>python package</td>\n",
       "      <td>python package</td>\n",
       "      <td>Python</td>\n",
       "    </tr>\n",
       "    <tr>\n",
       "      <th>429</th>\n",
       "      <td># UnityScreenSpaceMetaballs\\nScreenSpace Metab...</td>\n",
       "      <td># UnityScreenSpaceMetaballs ScreenSpace Metaba...</td>\n",
       "      <td>unityscreenspacemetaballs screenspace metaball...</td>\n",
       "      <td>unityscreenspacemetaballs screenspace metaball...</td>\n",
       "      <td>C#</td>\n",
       "    </tr>\n",
       "    <tr>\n",
       "      <th>430</th>\n",
       "      <td>Caching for Analytic Computations\\n-----------...</td>\n",
       "      <td>Caching for Analytic Computations ------------...</td>\n",
       "      <td>caching analytic computations humans repeat st...</td>\n",
       "      <td>caching analytic computation human repeat stuf...</td>\n",
       "      <td>Python</td>\n",
       "    </tr>\n",
       "    <tr>\n",
       "      <th>431</th>\n",
       "      <td>KCT\\n===\\n\\nKerbal Construction Time - An addo...</td>\n",
       "      <td>KCT ===  Kerbal Construction Time - An addon f...</td>\n",
       "      <td>kct kerbal construction time addon kerbal prog...</td>\n",
       "      <td>kct kerbal construction time addon kerbal prog...</td>\n",
       "      <td>C#</td>\n",
       "    </tr>\n",
       "  </tbody>\n",
       "</table>\n",
       "<p>432 rows × 5 columns</p>\n",
       "</div>"
      ],
      "text/plain": [
       "                                              original  \\\n",
       "0    <p align=\"center\"><img src=\"https://live.stati...   \n",
       "1    \\nARCHIVED VERSION OF Space Engineers. This ve...   \n",
       "2    # Spaceship Generator\\n\\nA Blender script to p...   \n",
       "3    # Spacegray\\n\\nA set of custom UI themes for S...   \n",
       "4    # S P A C E\\n\\n![cover](resources/space-readme...   \n",
       "..                                                 ...   \n",
       "427  # Simple multi-dataset detection\\nAn object de...   \n",
       "428  \\n![Python package](https://github.com/WagnerG...   \n",
       "429  # UnityScreenSpaceMetaballs\\nScreenSpace Metab...   \n",
       "430  Caching for Analytic Computations\\n-----------...   \n",
       "431  KCT\\n===\\n\\nKerbal Construction Time - An addo...   \n",
       "\n",
       "                                           first_clean  \\\n",
       "0     SpaceX REST API  Open Source REST API for lau...   \n",
       "1    ARCHIVED VERSION OF Space Engineers. This vers...   \n",
       "2    # Spaceship Generator  A Blender script to pro...   \n",
       "3    # Spacegray  A set of custom UI themes for Sub...   \n",
       "4    # S P A C E  ![cover .  You can read it here: ...   \n",
       "..                                                 ...   \n",
       "427  # Simple multi-dataset detection An object det...   \n",
       "428                               ![Python package .     \n",
       "429  # UnityScreenSpaceMetaballs ScreenSpace Metaba...   \n",
       "430  Caching for Analytic Computations ------------...   \n",
       "431  KCT ===  Kerbal Construction Time - An addon f...   \n",
       "\n",
       "                                                 clean  \\\n",
       "0    spacex rest api open source rest api launch ro...   \n",
       "1    archived version engineers version uptodate ve...   \n",
       "2    spaceship generator blender script procedurall...   \n",
       "3    spacegray set custom ui themes sublime text hy...   \n",
       "4                                     p c e cover read   \n",
       "..                                                 ...   \n",
       "427  simple multidataset detection object detector ...   \n",
       "428                                     python package   \n",
       "429  unityscreenspacemetaballs screenspace metaball...   \n",
       "430  caching analytic computations humans repeat st...   \n",
       "431  kct kerbal construction time addon kerbal prog...   \n",
       "\n",
       "                                            lemmatized    language  \n",
       "0    spacex rest api open source rest api launch ro...  JavaScript  \n",
       "1    archived version engineer version uptodate ver...          C#  \n",
       "2    spaceship generator blender script procedurall...      Python  \n",
       "3    spacegray set custom ui theme sublime text hyp...  JavaScript  \n",
       "4                                     p c e cover read  JavaScript  \n",
       "..                                                 ...         ...  \n",
       "427  simple multidataset detection object detector ...      Python  \n",
       "428                                     python package      Python  \n",
       "429  unityscreenspacemetaballs screenspace metaball...          C#  \n",
       "430  caching analytic computation human repeat stuf...      Python  \n",
       "431  kct kerbal construction time addon kerbal prog...          C#  \n",
       "\n",
       "[432 rows x 5 columns]"
      ]
     },
     "execution_count": 3,
     "metadata": {},
     "output_type": "execute_result"
    }
   ],
   "source": [
    "df"
   ]
  },
  {
   "cell_type": "markdown",
   "metadata": {},
   "source": [
    "# what percent of our sample is which language? "
   ]
  },
  {
   "cell_type": "code",
   "execution_count": 105,
   "metadata": {},
   "outputs": [],
   "source": [
    "def data_representation(df):\n",
    "    '''this function will create a data frame that shows the count and percentage of the target variable'''\n",
    "    # creating dataframe of languages and their count and percentages \n",
    "    languages_table = pd.concat([df.language.value_counts(),round(df.language.value_counts(normalize=True),2)], axis=1)\n",
    "    # creating column names for dataframe\n",
    "    languages_table.columns = ['count', 'percent']\n",
    "    # displaying table of information \n",
    "    return languages_table"
   ]
  },
  {
   "cell_type": "code",
   "execution_count": 106,
   "metadata": {},
   "outputs": [
    {
     "data": {
      "text/html": [
       "<div>\n",
       "<style scoped>\n",
       "    .dataframe tbody tr th:only-of-type {\n",
       "        vertical-align: middle;\n",
       "    }\n",
       "\n",
       "    .dataframe tbody tr th {\n",
       "        vertical-align: top;\n",
       "    }\n",
       "\n",
       "    .dataframe thead th {\n",
       "        text-align: right;\n",
       "    }\n",
       "</style>\n",
       "<table border=\"1\" class=\"dataframe\">\n",
       "  <thead>\n",
       "    <tr style=\"text-align: right;\">\n",
       "      <th></th>\n",
       "      <th>count</th>\n",
       "      <th>percent</th>\n",
       "    </tr>\n",
       "  </thead>\n",
       "  <tbody>\n",
       "    <tr>\n",
       "      <th>JavaScript</th>\n",
       "      <td>153</td>\n",
       "      <td>0.35</td>\n",
       "    </tr>\n",
       "    <tr>\n",
       "      <th>Python</th>\n",
       "      <td>137</td>\n",
       "      <td>0.32</td>\n",
       "    </tr>\n",
       "    <tr>\n",
       "      <th>C#</th>\n",
       "      <td>93</td>\n",
       "      <td>0.22</td>\n",
       "    </tr>\n",
       "    <tr>\n",
       "      <th>Java</th>\n",
       "      <td>49</td>\n",
       "      <td>0.11</td>\n",
       "    </tr>\n",
       "  </tbody>\n",
       "</table>\n",
       "</div>"
      ],
      "text/plain": [
       "            count  percent\n",
       "JavaScript    153     0.35\n",
       "Python        137     0.32\n",
       "C#             93     0.22\n",
       "Java           49     0.11"
      ]
     },
     "execution_count": 106,
     "metadata": {},
     "output_type": "execute_result"
    }
   ],
   "source": [
    "# table of the target variables count and perecentage of df \n",
    "data_representation(df)"
   ]
  },
  {
   "cell_type": "code",
   "execution_count": 110,
   "metadata": {},
   "outputs": [
    {
     "data": {
      "image/png": "[encoded data removed]",
      "text/plain": [
       "<Figure size 1440x720 with 1 Axes>"
      ]
     },
     "metadata": {},
     "output_type": "display_data"
    }
   ],
   "source": [
    "import matplotlib.pyplot as plt\n",
    "import seaborn as sns\n",
    "#adjusts size of \n",
    "plt.figure(figsize=(20,10))\n",
    "#define data\n",
    "data = [35,32,22,11]\n",
    "labels = ['JavaScript', 'Python', 'C#', 'Java']\n",
    "\n",
    "#define Seaborn color palette to use\n",
    "colors = sns.color_palette('pastel')[0:5]\n",
    "\n",
    "#create pie chart\n",
    "plt.pie(data, labels = labels, colors = colors, autopct='%.0f%%')\n",
    "plt.show()"
   ]
  },
  {
   "cell_type": "markdown",
   "metadata": {},
   "source": [
    "### Takeaways \n",
    "\n",
    "- Javascript makes up 35% of the sample \n",
    "- Python makes up 31% of sample \n",
    "- Based on sample we might infer that these are very popular languges amongst users of github "
   ]
  },
  {
   "cell_type": "code",
   "execution_count": 7,
   "metadata": {},
   "outputs": [],
   "source": [
    "from sklearn.model_selection import train_test_split\n",
    "seed = 42\n",
    "target = 'language'\n",
    "\n",
    "def split_3(df):\n",
    "    '''\n",
    "    This function takes in a dataframe and splits it into 3 data sets\n",
    "    Test is 20% of the original dataset, validate is .30*.80= 24% of the \n",
    "    original dataset, and train is .70*.80= 56% of the original dataset. \n",
    "    The function returns, in this order, train, validate and test dataframes. \n",
    "    '''\n",
    "    #split_db class verision with random seed\n",
    "    train_validate, test = train_test_split(df, test_size=0.2, \n",
    "                                            random_state=seed, stratify=df[target])\n",
    "    train, validate = train_test_split(train_validate, test_size=0.3, \n",
    "                                       random_state=seed, stratify=train_validate[target])\n",
    "    return train, validate, test\n",
    "\n",
    "def split_data(df, explore=True):\n",
    "    '''\n",
    "    the function accepts a dataframe as a parameter\n",
    "    splits according to the purpose\n",
    "    for the exploration returns train, validate, test\n",
    "    for modeling it drops unneeded columns, creates dummis, and returns\n",
    "    6 values X_train, y_train ...\n",
    "    '''\n",
    "\n",
    "    if explore:\n",
    "        return split_3(df)\n",
    "    else:\n",
    "        train, validate, test = split_3(df)\n",
    "        return train.iloc[:, :-1], validate.iloc[:, :-1], test.iloc[:, :-1], \\\n",
    "            train[target], validate[target], test[target]\n",
    "\n",
    "train, _, _ = split_data(df)"
   ]
  },
  {
   "cell_type": "code",
   "execution_count": 8,
   "metadata": {
    "scrolled": true
   },
   "outputs": [
    {
     "data": {
      "text/plain": [
       "(241, 5)"
      ]
     },
     "execution_count": 8,
     "metadata": {},
     "output_type": "execute_result"
    }
   ],
   "source": [
    "train.shape"
   ]
  },
  {
   "cell_type": "code",
   "execution_count": 14,
   "metadata": {},
   "outputs": [],
   "source": [
    "def word_groups(df, target):\n",
    "    # split languages into seperate DataFrames\n",
    "    js_lang = train[train[target] == 'JavaScript']\n",
    "    cs_lang = train[train[target] == 'C#']\n",
    "    jv_lang = train[train[target] == 'Java']\n",
    "    py_lang = train[train[target] == 'Python']\n",
    "    \n",
    "    # create word groups on lemmatized column \n",
    "    js_lem = (' '.join(js_lang[js_lang[target] == 'JavaScript']['lemmatized'])).split()\n",
    "    cs_lem = (' '.join(cs_lang[cs_lang[target] == 'C#']['lemmatized'])).split()\n",
    "    jv_lem = (' '.join(jv_lang[jv_lang[target] == 'Java']['lemmatized'])).split()\n",
    "    py_lem = (' '.join(py_lang[py_lang[target] == 'Python']['lemmatized'])).split()\n",
    "    all_lem = (' '.join(train['lemmatized'])).split()\n",
    "    \n",
    "    # create word groups on clean column\n",
    "    js_clean = (' '.join(js_lang[js_lang[target] == 'JavaScript']['clean'])).split()\n",
    "    cs_clean = (' '.join(cs_lang[cs_lang[target] == 'C#']['clean'])).split()\n",
    "    jv_clean = (' '.join(jv_lang[jv_lang[target] == 'Java']['clean'])).split()\n",
    "    py_clean = (' '.join(py_lang[py_lang[target] == 'Python']['clean'])).split()\n",
    "    all_clean = (' '.join(train['clean'])).split()\n",
    "    \n",
    "    return js_lang, cs_lang, jv_lang, py_lang,all_lem, js_lem, cs_lem, jv_lem, py_lem, js_clean, cs_clean, jv_clean, py_clean, all_clean"
   ]
  },
  {
   "cell_type": "code",
   "execution_count": 15,
   "metadata": {},
   "outputs": [],
   "source": [
    "js_lang, cs_lang, jv_lang, py_lang,all_lem, js_lem, cs_lem, jv_lem, py_lem, js_clean, cs_clean, jv_clean, py_clean, all_clean = word_groups(train,'language')"
   ]
  },
  {
   "cell_type": "code",
   "execution_count": 17,
   "metadata": {},
   "outputs": [
    {
     "data": {
      "text/plain": [
       "&#9;     528\n",
       "v         81\n",
       "fix       78\n",
       "fixed     72\n",
       "parts     71\n",
       "dtype: int64"
      ]
     },
     "execution_count": 17,
     "metadata": {},
     "output_type": "execute_result"
    }
   ],
   "source": [
    "# What words occur the most in c sharpe cleaned readme files? \n",
    "cs_freq_clean = pd.Series(cs_clean).value_counts()\n",
    "cs_freq_clean.head()"
   ]
  },
  {
   "cell_type": "code",
   "execution_count": 18,
   "metadata": {},
   "outputs": [
    {
     "data": {
      "text/plain": [
       "fixed       82\n",
       "x           50\n",
       "use         41\n",
       "software    40\n",
       "v           33\n",
       "dtype: int64"
      ]
     },
     "execution_count": 18,
     "metadata": {},
     "output_type": "execute_result"
    }
   ],
   "source": [
    "js_freq_clean = pd.Series(js_clean).value_counts()\n",
    "js_freq_clean.head()"
   ]
  },
  {
   "cell_type": "code",
   "execution_count": 19,
   "metadata": {},
   "outputs": [
    {
     "data": {
      "text/plain": [
       "license    17\n",
       "use        16\n",
       "planets    14\n",
       "support    11\n",
       "system     11\n",
       "dtype: int64"
      ]
     },
     "execution_count": 19,
     "metadata": {},
     "output_type": "execute_result"
    }
   ],
   "source": [
    "jv_freq_clean = pd.Series(jv_clean).value_counts()\n",
    "jv_freq_clean.head()"
   ]
  },
  {
   "cell_type": "code",
   "execution_count": 20,
   "metadata": {},
   "outputs": [
    {
     "data": {
      "text/plain": [
       "python       84\n",
       "&#9;         56\n",
       "codeblock    51\n",
       "subnet       45\n",
       "image        45\n",
       "dtype: int64"
      ]
     },
     "execution_count": 20,
     "metadata": {},
     "output_type": "execute_result"
    }
   ],
   "source": [
    "py_freq_clean = pd.Series(py_clean).value_counts()\n",
    "py_freq_clean.head()"
   ]
  },
  {
   "cell_type": "code",
   "execution_count": 31,
   "metadata": {},
   "outputs": [
    {
     "data": {
      "text/plain": [
       "&#9;        591\n",
       "fixed       157\n",
       "use         122\n",
       "v           117\n",
       "software     96\n",
       "dtype: int64"
      ]
     },
     "execution_count": 31,
     "metadata": {},
     "output_type": "execute_result"
    }
   ],
   "source": [
    "all_freq_clean = pd.Series(all_clean).value_counts()\n",
    "all_freq_clean.head()"
   ]
  },
  {
   "cell_type": "code",
   "execution_count": 32,
   "metadata": {},
   "outputs": [
    {
     "data": {
      "text/html": [
       "<div>\n",
       "<style scoped>\n",
       "    .dataframe tbody tr th:only-of-type {\n",
       "        vertical-align: middle;\n",
       "    }\n",
       "\n",
       "    .dataframe tbody tr th {\n",
       "        vertical-align: top;\n",
       "    }\n",
       "\n",
       "    .dataframe thead th {\n",
       "        text-align: right;\n",
       "    }\n",
       "</style>\n",
       "<table border=\"1\" class=\"dataframe\">\n",
       "  <thead>\n",
       "    <tr style=\"text-align: right;\">\n",
       "      <th></th>\n",
       "      <th>c_sharp</th>\n",
       "      <th>javascript</th>\n",
       "      <th>java</th>\n",
       "      <th>python</th>\n",
       "      <th>all</th>\n",
       "    </tr>\n",
       "  </thead>\n",
       "  <tbody>\n",
       "    <tr>\n",
       "      <th>&amp;#9;</th>\n",
       "      <td>528</td>\n",
       "      <td>7</td>\n",
       "      <td>0</td>\n",
       "      <td>56</td>\n",
       "      <td>591</td>\n",
       "    </tr>\n",
       "    <tr>\n",
       "      <th>aabb</th>\n",
       "      <td>0</td>\n",
       "      <td>2</td>\n",
       "      <td>0</td>\n",
       "      <td>0</td>\n",
       "      <td>2</td>\n",
       "    </tr>\n",
       "    <tr>\n",
       "      <th>aaro</th>\n",
       "      <td>1</td>\n",
       "      <td>0</td>\n",
       "      <td>0</td>\n",
       "      <td>0</td>\n",
       "      <td>1</td>\n",
       "    </tr>\n",
       "    <tr>\n",
       "      <th>ab</th>\n",
       "      <td>2</td>\n",
       "      <td>1</td>\n",
       "      <td>0</td>\n",
       "      <td>0</td>\n",
       "      <td>3</td>\n",
       "    </tr>\n",
       "    <tr>\n",
       "      <th>ability</th>\n",
       "      <td>5</td>\n",
       "      <td>5</td>\n",
       "      <td>0</td>\n",
       "      <td>0</td>\n",
       "      <td>10</td>\n",
       "    </tr>\n",
       "  </tbody>\n",
       "</table>\n",
       "</div>"
      ],
      "text/plain": [
       "         c_sharp  javascript  java  python  all\n",
       "&#9;         528           7     0      56  591\n",
       "aabb           0           2     0       0    2\n",
       "aaro           1           0     0       0    1\n",
       "ab             2           1     0       0    3\n",
       "ability        5           5     0       0   10"
      ]
     },
     "execution_count": 32,
     "metadata": {},
     "output_type": "execute_result"
    }
   ],
   "source": [
    "# dataframe of word counts \n",
    "word_counts = (pd.concat([cs_freq_clean,js_freq_clean, jv_freq_clean, py_freq_clean,all_freq_clean], axis=1, sort=True)\n",
    "                .set_axis(['c_sharp','javascript', 'java', 'python','all'], axis=1, inplace=False)\n",
    "                .fillna(0)\n",
    "                .apply(lambda s: s.astype(int)))\n",
    "\n",
    "word_counts.head()\n"
   ]
  },
  {
   "cell_type": "code",
   "execution_count": 48,
   "metadata": {},
   "outputs": [
    {
     "data": {
      "text/html": [
       "<div>\n",
       "<style scoped>\n",
       "    .dataframe tbody tr th:only-of-type {\n",
       "        vertical-align: middle;\n",
       "    }\n",
       "\n",
       "    .dataframe tbody tr th {\n",
       "        vertical-align: top;\n",
       "    }\n",
       "\n",
       "    .dataframe thead th {\n",
       "        text-align: right;\n",
       "    }\n",
       "</style>\n",
       "<table border=\"1\" class=\"dataframe\">\n",
       "  <thead>\n",
       "    <tr style=\"text-align: right;\">\n",
       "      <th></th>\n",
       "      <th>c_sharp</th>\n",
       "      <th>javascript</th>\n",
       "      <th>java</th>\n",
       "      <th>python</th>\n",
       "      <th>all</th>\n",
       "    </tr>\n",
       "  </thead>\n",
       "  <tbody>\n",
       "    <tr>\n",
       "      <th>fixed</th>\n",
       "      <td>72</td>\n",
       "      <td>82</td>\n",
       "      <td>1</td>\n",
       "      <td>2</td>\n",
       "      <td>157</td>\n",
       "    </tr>\n",
       "    <tr>\n",
       "      <th>x</th>\n",
       "      <td>3</td>\n",
       "      <td>50</td>\n",
       "      <td>0</td>\n",
       "      <td>4</td>\n",
       "      <td>57</td>\n",
       "    </tr>\n",
       "    <tr>\n",
       "      <th>use</th>\n",
       "      <td>38</td>\n",
       "      <td>41</td>\n",
       "      <td>16</td>\n",
       "      <td>27</td>\n",
       "      <td>122</td>\n",
       "    </tr>\n",
       "    <tr>\n",
       "      <th>software</th>\n",
       "      <td>37</td>\n",
       "      <td>40</td>\n",
       "      <td>3</td>\n",
       "      <td>16</td>\n",
       "      <td>96</td>\n",
       "    </tr>\n",
       "    <tr>\n",
       "      <th>v</th>\n",
       "      <td>81</td>\n",
       "      <td>33</td>\n",
       "      <td>2</td>\n",
       "      <td>1</td>\n",
       "      <td>117</td>\n",
       "    </tr>\n",
       "    <tr>\n",
       "      <th>new</th>\n",
       "      <td>11</td>\n",
       "      <td>31</td>\n",
       "      <td>3</td>\n",
       "      <td>12</td>\n",
       "      <td>57</td>\n",
       "    </tr>\n",
       "    <tr>\n",
       "      <th>create</th>\n",
       "      <td>2</td>\n",
       "      <td>29</td>\n",
       "      <td>0</td>\n",
       "      <td>24</td>\n",
       "      <td>55</td>\n",
       "    </tr>\n",
       "    <tr>\n",
       "      <th>system</th>\n",
       "      <td>8</td>\n",
       "      <td>28</td>\n",
       "      <td>11</td>\n",
       "      <td>3</td>\n",
       "      <td>50</td>\n",
       "    </tr>\n",
       "    <tr>\n",
       "      <th>bug</th>\n",
       "      <td>10</td>\n",
       "      <td>25</td>\n",
       "      <td>0</td>\n",
       "      <td>0</td>\n",
       "      <td>35</td>\n",
       "    </tr>\n",
       "    <tr>\n",
       "      <th>without</th>\n",
       "      <td>21</td>\n",
       "      <td>25</td>\n",
       "      <td>7</td>\n",
       "      <td>14</td>\n",
       "      <td>67</td>\n",
       "    </tr>\n",
       "  </tbody>\n",
       "</table>\n",
       "</div>"
      ],
      "text/plain": [
       "          c_sharp  javascript  java  python  all\n",
       "fixed          72          82     1       2  157\n",
       "x               3          50     0       4   57\n",
       "use            38          41    16      27  122\n",
       "software       37          40     3      16   96\n",
       "v              81          33     2       1  117\n",
       "new            11          31     3      12   57\n",
       "create          2          29     0      24   55\n",
       "system          8          28    11       3   50\n",
       "bug            10          25     0       0   35\n",
       "without        21          25     7      14   67"
      ]
     },
     "execution_count": 48,
     "metadata": {},
     "output_type": "execute_result"
    }
   ],
   "source": [
    "# filtering most words by c sharp\n",
    "word_counts.sort_values(by='javascript', ascending=False).head(10)"
   ]
  },
  {
   "cell_type": "code",
   "execution_count": 33,
   "metadata": {
    "scrolled": true
   },
   "outputs": [
    {
     "data": {
      "text/html": [
       "<div>\n",
       "<style scoped>\n",
       "    .dataframe tbody tr th:only-of-type {\n",
       "        vertical-align: middle;\n",
       "    }\n",
       "\n",
       "    .dataframe tbody tr th {\n",
       "        vertical-align: top;\n",
       "    }\n",
       "\n",
       "    .dataframe thead th {\n",
       "        text-align: right;\n",
       "    }\n",
       "</style>\n",
       "<table border=\"1\" class=\"dataframe\">\n",
       "  <thead>\n",
       "    <tr style=\"text-align: right;\">\n",
       "      <th></th>\n",
       "      <th>c_sharp</th>\n",
       "      <th>javascript</th>\n",
       "      <th>java</th>\n",
       "      <th>python</th>\n",
       "      <th>all</th>\n",
       "    </tr>\n",
       "  </thead>\n",
       "  <tbody>\n",
       "    <tr>\n",
       "      <th>&amp;#9;</th>\n",
       "      <td>528</td>\n",
       "      <td>7</td>\n",
       "      <td>0</td>\n",
       "      <td>56</td>\n",
       "      <td>591</td>\n",
       "    </tr>\n",
       "    <tr>\n",
       "      <th>v</th>\n",
       "      <td>81</td>\n",
       "      <td>33</td>\n",
       "      <td>2</td>\n",
       "      <td>1</td>\n",
       "      <td>117</td>\n",
       "    </tr>\n",
       "    <tr>\n",
       "      <th>fix</th>\n",
       "      <td>78</td>\n",
       "      <td>1</td>\n",
       "      <td>0</td>\n",
       "      <td>2</td>\n",
       "      <td>81</td>\n",
       "    </tr>\n",
       "    <tr>\n",
       "      <th>fixed</th>\n",
       "      <td>72</td>\n",
       "      <td>82</td>\n",
       "      <td>1</td>\n",
       "      <td>2</td>\n",
       "      <td>157</td>\n",
       "    </tr>\n",
       "    <tr>\n",
       "      <th>parts</th>\n",
       "      <td>71</td>\n",
       "      <td>3</td>\n",
       "      <td>0</td>\n",
       "      <td>1</td>\n",
       "      <td>75</td>\n",
       "    </tr>\n",
       "    <tr>\n",
       "      <th>drag</th>\n",
       "      <td>50</td>\n",
       "      <td>1</td>\n",
       "      <td>0</td>\n",
       "      <td>0</td>\n",
       "      <td>51</td>\n",
       "    </tr>\n",
       "    <tr>\n",
       "      <th>ksp</th>\n",
       "      <td>48</td>\n",
       "      <td>0</td>\n",
       "      <td>0</td>\n",
       "      <td>0</td>\n",
       "      <td>48</td>\n",
       "    </tr>\n",
       "    <tr>\n",
       "      <th>part</th>\n",
       "      <td>46</td>\n",
       "      <td>5</td>\n",
       "      <td>0</td>\n",
       "      <td>2</td>\n",
       "      <td>53</td>\n",
       "    </tr>\n",
       "    <tr>\n",
       "      <th>stiffening</th>\n",
       "      <td>44</td>\n",
       "      <td>0</td>\n",
       "      <td>0</td>\n",
       "      <td>0</td>\n",
       "      <td>44</td>\n",
       "    </tr>\n",
       "    <tr>\n",
       "      <th>features</th>\n",
       "      <td>44</td>\n",
       "      <td>8</td>\n",
       "      <td>7</td>\n",
       "      <td>17</td>\n",
       "      <td>76</td>\n",
       "    </tr>\n",
       "  </tbody>\n",
       "</table>\n",
       "</div>"
      ],
      "text/plain": [
       "            c_sharp  javascript  java  python  all\n",
       "&#9;            528           7     0      56  591\n",
       "v                81          33     2       1  117\n",
       "fix              78           1     0       2   81\n",
       "fixed            72          82     1       2  157\n",
       "parts            71           3     0       1   75\n",
       "drag             50           1     0       0   51\n",
       "ksp              48           0     0       0   48\n",
       "part             46           5     0       2   53\n",
       "stiffening       44           0     0       0   44\n",
       "features         44           8     7      17   76"
      ]
     },
     "execution_count": 33,
     "metadata": {},
     "output_type": "execute_result"
    }
   ],
   "source": [
    "# filtering most words by c sharp\n",
    "word_counts.sort_values(by='c_sharp', ascending=False).head(10)"
   ]
  },
  {
   "cell_type": "markdown",
   "metadata": {},
   "source": [
    "## Takeaways \n",
    "- Unique words for C sharp appear to be ksp/stiffening (doesn't appear in other languages), \n",
    "- drag less used by other languages as well\n",
    "- Most used is &#9"
   ]
  },
  {
   "cell_type": "code",
   "execution_count": 53,
   "metadata": {
    "scrolled": true
   },
   "outputs": [
    {
     "data": {
      "text/html": [
       "<div>\n",
       "<style scoped>\n",
       "    .dataframe tbody tr th:only-of-type {\n",
       "        vertical-align: middle;\n",
       "    }\n",
       "\n",
       "    .dataframe tbody tr th {\n",
       "        vertical-align: top;\n",
       "    }\n",
       "\n",
       "    .dataframe thead th {\n",
       "        text-align: right;\n",
       "    }\n",
       "</style>\n",
       "<table border=\"1\" class=\"dataframe\">\n",
       "  <thead>\n",
       "    <tr style=\"text-align: right;\">\n",
       "      <th></th>\n",
       "      <th>c_sharp</th>\n",
       "      <th>javascript</th>\n",
       "      <th>java</th>\n",
       "      <th>python</th>\n",
       "      <th>all</th>\n",
       "    </tr>\n",
       "  </thead>\n",
       "  <tbody>\n",
       "    <tr>\n",
       "      <th>python</th>\n",
       "      <td>0</td>\n",
       "      <td>1</td>\n",
       "      <td>1</td>\n",
       "      <td>84</td>\n",
       "      <td>86</td>\n",
       "    </tr>\n",
       "    <tr>\n",
       "      <th>&amp;#9;</th>\n",
       "      <td>528</td>\n",
       "      <td>7</td>\n",
       "      <td>0</td>\n",
       "      <td>56</td>\n",
       "      <td>591</td>\n",
       "    </tr>\n",
       "    <tr>\n",
       "      <th>codeblock</th>\n",
       "      <td>0</td>\n",
       "      <td>0</td>\n",
       "      <td>0</td>\n",
       "      <td>51</td>\n",
       "      <td>51</td>\n",
       "    </tr>\n",
       "    <tr>\n",
       "      <th>subnet</th>\n",
       "      <td>0</td>\n",
       "      <td>0</td>\n",
       "      <td>0</td>\n",
       "      <td>45</td>\n",
       "      <td>45</td>\n",
       "    </tr>\n",
       "    <tr>\n",
       "      <th>image</th>\n",
       "      <td>0</td>\n",
       "      <td>3</td>\n",
       "      <td>0</td>\n",
       "      <td>45</td>\n",
       "      <td>48</td>\n",
       "    </tr>\n",
       "  </tbody>\n",
       "</table>\n",
       "</div>"
      ],
      "text/plain": [
       "           c_sharp  javascript  java  python  all\n",
       "python           0           1     1      84   86\n",
       "&#9;           528           7     0      56  591\n",
       "codeblock        0           0     0      51   51\n",
       "subnet           0           0     0      45   45\n",
       "image            0           3     0      45   48"
      ]
     },
     "execution_count": 53,
     "metadata": {},
     "output_type": "execute_result"
    }
   ],
   "source": [
    "# filtering most words by python\n",
    "word_counts.sort_values(by='python', ascending=False).head(5)\n"
   ]
  },
  {
   "cell_type": "markdown",
   "metadata": {},
   "source": [
    "## Takeaways \n",
    "- python used infrequently in other readme files \n",
    "- codeblock and subnet not used by other languages \n",
    "- most used word is python "
   ]
  },
  {
   "cell_type": "code",
   "execution_count": 78,
   "metadata": {},
   "outputs": [
    {
     "data": {
      "text/html": [
       "<div>\n",
       "<style scoped>\n",
       "    .dataframe tbody tr th:only-of-type {\n",
       "        vertical-align: middle;\n",
       "    }\n",
       "\n",
       "    .dataframe tbody tr th {\n",
       "        vertical-align: top;\n",
       "    }\n",
       "\n",
       "    .dataframe thead th {\n",
       "        text-align: right;\n",
       "    }\n",
       "</style>\n",
       "<table border=\"1\" class=\"dataframe\">\n",
       "  <thead>\n",
       "    <tr style=\"text-align: right;\">\n",
       "      <th></th>\n",
       "      <th>c_sharp</th>\n",
       "      <th>javascript</th>\n",
       "      <th>java</th>\n",
       "      <th>python</th>\n",
       "      <th>all</th>\n",
       "      <th>ratio</th>\n",
       "    </tr>\n",
       "  </thead>\n",
       "  <tbody>\n",
       "    <tr>\n",
       "      <th>fixed</th>\n",
       "      <td>72</td>\n",
       "      <td>82</td>\n",
       "      <td>1</td>\n",
       "      <td>2</td>\n",
       "      <td>157</td>\n",
       "      <td>81.188119</td>\n",
       "    </tr>\n",
       "    <tr>\n",
       "      <th>fixed</th>\n",
       "      <td>72</td>\n",
       "      <td>82</td>\n",
       "      <td>1</td>\n",
       "      <td>2</td>\n",
       "      <td>157</td>\n",
       "      <td>81.188119</td>\n",
       "    </tr>\n",
       "  </tbody>\n",
       "</table>\n",
       "</div>"
      ],
      "text/plain": [
       "       c_sharp  javascript  java  python  all      ratio\n",
       "fixed       72          82     1       2  157  81.188119\n",
       "fixed       72          82     1       2  157  81.188119"
      ]
     },
     "execution_count": 78,
     "metadata": {},
     "output_type": "execute_result"
    }
   ],
   "source": [
    "(word_counts\n",
    " [(word_counts.javascript > 70) & (word_counts.java < 10) & (word_counts.c_sharp > 0)]\n",
    " .assign(ratio=lambda df: df.javascript / (df.java + .01))\n",
    " .sort_values(by='ratio')\n",
    " .pipe(lambda df: pd.concat([df.head(), df.tail()])))\n"
   ]
  },
  {
   "cell_type": "markdown",
   "metadata": {},
   "source": [
    "## Bigrams \n"
   ]
  },
  {
   "cell_type": "code",
   "execution_count": 111,
   "metadata": {
    "scrolled": true
   },
   "outputs": [
    {
     "data": {
      "text/plain": [
       "(&#9;, &#9;, &#9;, &#9;)               74\n",
       "(v, &#9;, feature, &#9;)               26\n",
       "(decoupler, stiffening, look, part)     8\n",
       "(part, type, add, stiffening)           8\n",
       "(beyond, part, type, add)               8\n",
       "(part, beyond, part, type)              8\n",
       "(stiffening, look, part, beyond)        8\n",
       "(&#9;, decoupler, stiffening, look)     8\n",
       "(look, part, beyond, part)              8\n",
       "(v, &#9;, bugfixes, &#9;)               7\n",
       "dtype: int64"
      ]
     },
     "execution_count": 111,
     "metadata": {},
     "output_type": "execute_result"
    }
   ],
   "source": [
    "# top 20 bi grams for c sharp lemmitized \n",
    "top_20_csharp_lem_bigrams = (pd.Series(nltk.ngrams(cs_lem, 2)).value_counts().head(10))\n",
    "top_20_csharp_lem_bigrams"
   ]
  },
  {
   "cell_type": "code",
   "execution_count": 94,
   "metadata": {},
   "outputs": [
    {
     "data": {
      "image/png": "[encoded data removed]",
      "text/plain": [
       "<Figure size 720x432 with 1 Axes>"
      ]
     },
     "metadata": {
      "needs_background": "light"
     },
     "output_type": "display_data"
    }
   ],
   "source": [
    "top_20_csharp_lem_bigrams.sort_values(ascending=False).plot.barh(color='green', width=.9, figsize=(10, 6))\n",
    "\n",
    "plt.title('20 Most frequently occuring c# bigrams (Lemmatized)')\n",
    "plt.ylabel('Bigram')\n",
    "plt.xlabel('# Occurances')\n",
    "\n",
    "# make the labels pretty\n",
    "ticks, _ = plt.yticks()\n",
    "labels = top_20_csharp_lem_bigrams.reset_index()['index'].apply(lambda t: t[0] + ' ' + t[1])\n",
    "_ = plt.yticks(ticks, labels)\n"
   ]
  },
  {
   "cell_type": "code",
   "execution_count": 85,
   "metadata": {
    "scrolled": true
   },
   "outputs": [
    {
     "data": {
      "text/plain": [
       "(&#9;, &#9;)               163\n",
       "(v, &#9;)                   35\n",
       "(features, &#9;)            29\n",
       "(&#9;, features)            28\n",
       "(&#9;, bugfixes)            23\n",
       "(bugfixes, &#9;)            23\n",
       "(decoupler, stiffening)     17\n",
       "(&#9;, string)              15\n",
       "(string, &#9;)              15\n",
       "(&#9;, decoupler)           14\n",
       "dtype: int64"
      ]
     },
     "execution_count": 85,
     "metadata": {},
     "output_type": "execute_result"
    }
   ],
   "source": [
    "top_20_csharp_clean_bigrams = (pd.Series(nltk.ngrams(cs_clean, 2)).value_counts().head(10))\n",
    "top_20_csharp_clean_bigrams"
   ]
  },
  {
   "cell_type": "code",
   "execution_count": 96,
   "metadata": {},
   "outputs": [
    {
     "data": {
      "image/png": "[encoded data removed]",
      "text/plain": [
       "<Figure size 720x432 with 1 Axes>"
      ]
     },
     "metadata": {
      "needs_background": "light"
     },
     "output_type": "display_data"
    }
   ],
   "source": [
    "top_20_csharp_clean_bigrams.sort_values(ascending=False).plot.barh(color='blue', width=.9, figsize=(10, 6))\n",
    "\n",
    "plt.title('20 Most frequently occuring c# bigrams (Cleaned)')\n",
    "plt.ylabel('Bigram')\n",
    "plt.xlabel('# Occurances')\n",
    "\n",
    "# make the labels pretty\n",
    "ticks, _ = plt.yticks()\n",
    "labels = top_20_csharp_clean_bigrams.reset_index()['index'].apply(lambda t: t[0] + ' ' + t[1])\n",
    "_ = plt.yticks(ticks, labels)\n"
   ]
  },
  {
   "cell_type": "code",
   "execution_count": null,
   "metadata": {},
   "outputs": [],
   "source": [
    "# appears to be small difference between lemmatize and clean bigrams \n",
    "- clean bigram appears to have less counts of a few bi grams also shown in lemmatized bi grams "
   ]
  },
  {
   "cell_type": "code",
   "execution_count": 87,
   "metadata": {},
   "outputs": [
    {
     "data": {
      "text/plain": [
       "(ip, address)          21\n",
       "(image, target)        19\n",
       "(codeblock, text)      16\n",
       "(codeblock, python)    13\n",
       "(pip, install)         12\n",
       "(target, alt)          11\n",
       "(codeblock, shell)     10\n",
       "(please, refer)        10\n",
       "(codeblock, bash)       9\n",
       "(feature, network)      8\n",
       "dtype: int64"
      ]
     },
     "execution_count": 87,
     "metadata": {},
     "output_type": "execute_result"
    }
   ],
   "source": [
    "# top 20 bi grams for c sharp lemmitized \n",
    "top_20_python_lem_bigrams = (pd.Series(nltk.ngrams(py_lem, 2)).value_counts().head(10))\n",
    "top_20_python_lem_bigrams"
   ]
  },
  {
   "cell_type": "code",
   "execution_count": 99,
   "metadata": {
    "scrolled": true
   },
   "outputs": [
    {
     "data": {
      "image/png": "[encoded data removed]",
      "text/plain": [
       "<Figure size 720x432 with 1 Axes>"
      ]
     },
     "metadata": {
      "needs_background": "light"
     },
     "output_type": "display_data"
    }
   ],
   "source": [
    "top_20_python_lem_bigrams.sort_values(ascending=False).plot.barh(color='brown', width=.9, figsize=(10, 6))\n",
    "\n",
    "plt.title('20 Most frequently occuring c# bigrams (Lemmatized)')\n",
    "plt.ylabel('Bigram')\n",
    "plt.xlabel('# Occurances')\n",
    "\n",
    "# make the labels pretty\n",
    "ticks, _ = plt.yticks()\n",
    "labels = top_20_python_lem_bigrams.reset_index()['index'].apply(lambda t: t[0] + ' ' + t[1])\n",
    "_ = plt.yticks(ticks, labels)\n"
   ]
  },
  {
   "cell_type": "code",
   "execution_count": 102,
   "metadata": {
    "collapsed": true
   },
   "outputs": [
    {
     "data": {
      "text/plain": [
       "(image, target)        19\n",
       "(ip, address)          17\n",
       "(codeblock, text)      16\n",
       "(codeblock, python)    13\n",
       "(pip, install)         12\n",
       "(target, alt)          11\n",
       "(codeblock, shell)     10\n",
       "(please, refer)        10\n",
       "(codeblock, bash)       9\n",
       "(road, speed)           8\n",
       "dtype: int64"
      ]
     },
     "execution_count": 102,
     "metadata": {},
     "output_type": "execute_result"
    }
   ],
   "source": [
    "# top 20 bi grams for c sharp lemmitized \n",
    "top_20_python_clean_bigrams = (pd.Series(nltk.ngrams(py_clean, 2)).value_counts().head(10))\n",
    "top_20_python_clean_bigrams"
   ]
  },
  {
   "cell_type": "code",
   "execution_count": 104,
   "metadata": {},
   "outputs": [
    {
     "name": "stdout",
     "output_type": "stream",
     "text": [
      "(image, target)        19\n",
      "(ip, address)          17\n",
      "(codeblock, text)      16\n",
      "(codeblock, python)    13\n",
      "(pip, install)         12\n",
      "(target, alt)          11\n",
      "(codeblock, shell)     10\n",
      "(please, refer)        10\n",
      "(codeblock, bash)       9\n",
      "(road, speed)           8\n",
      "dtype: int64\n"
     ]
    },
    {
     "data": {
      "image/png": "[encoded data removed]",
      "text/plain": [
       "<Figure size 720x432 with 1 Axes>"
      ]
     },
     "metadata": {
      "needs_background": "light"
     },
     "output_type": "display_data"
    }
   ],
   "source": [
    "top_20_python_clean_bigrams.sort_values(ascending=False).plot.barh(color='black', width=.9, figsize=(10, 6))\n",
    "\n",
    "plt.title('20 Most frequently occuring c# bigrams (Cleaned)')\n",
    "plt.ylabel('Bigram')\n",
    "plt.xlabel('# Occurances')\n",
    "print(top_20_python_clean_bigrams)\n",
    "# make the labels pretty\n",
    "ticks, _ = plt.yticks()\n",
    "labels = top_20_python_clean_bigrams.reset_index()['index'].apply(lambda t: t[0] + ' ' + t[1])\n",
    "_ = plt.yticks(ticks, labels)"
   ]
  },
  {
   "cell_type": "code",
   "execution_count": null,
   "metadata": {},
   "outputs": [],
   "source": [
    "# slight difference between the cleaned and lemmatized version of python bi grams "
   ]
  },
  {
   "cell_type": "markdown",
   "metadata": {},
   "source": [
    "## Statistical questions "
   ]
  },
  {
   "cell_type": "code",
   "execution_count": null,
   "metadata": {},
   "outputs": [],
   "source": [
    "Is the length of characters in the lemmatized python string significantly different than the other languages? "
   ]
  },
  {
   "cell_type": "code",
   "execution_count": 113,
   "metadata": {},
   "outputs": [
    {
     "ename": "AttributeError",
     "evalue": "'DataFrame' object has no attribute 'lem_length'",
     "output_type": "error",
     "traceback": [
      "\u001b[0;31m---------------------------------------------------------------------------\u001b[0m",
      "\u001b[0;31mAttributeError\u001b[0m                            Traceback (most recent call last)",
      "Input \u001b[0;32mIn [113]\u001b[0m, in \u001b[0;36m<cell line: 8>\u001b[0;34m()\u001b[0m\n\u001b[1;32m      6\u001b[0m C \u001b[38;5;241m=\u001b[39m df[df\u001b[38;5;241m.\u001b[39mlanguage \u001b[38;5;241m==\u001b[39m \u001b[38;5;124m'\u001b[39m\u001b[38;5;124mC#\u001b[39m\u001b[38;5;124m'\u001b[39m]\n\u001b[1;32m      7\u001b[0m Java \u001b[38;5;241m=\u001b[39m df[df\u001b[38;5;241m.\u001b[39mlanguage \u001b[38;5;241m==\u001b[39m \u001b[38;5;124m'\u001b[39m\u001b[38;5;124mJava\u001b[39m\u001b[38;5;124m'\u001b[39m]\n\u001b[0;32m----> 8\u001b[0m \u001b[38;5;28mprint\u001b[39m(\u001b[38;5;124m'\u001b[39m\u001b[38;5;124mpython = \u001b[39m\u001b[38;5;124m'\u001b[39m , \u001b[43mPython\u001b[49m\u001b[38;5;241;43m.\u001b[39;49m\u001b[43mlem_length\u001b[49m\u001b[38;5;241m.\u001b[39mmean(), \u001b[38;5;124m'\u001b[39m\u001b[38;5;124mJavascript = \u001b[39m\u001b[38;5;124m'\u001b[39m, JavaScript\u001b[38;5;241m.\u001b[39mlem_length\u001b[38;5;241m.\u001b[39mmean(), \u001b[38;5;124m'\u001b[39m\u001b[38;5;124mC# =\u001b[39m\u001b[38;5;124m'\u001b[39m, C\u001b[38;5;241m.\u001b[39mlem_length\u001b[38;5;241m.\u001b[39mmean(), \u001b[38;5;124m'\u001b[39m\u001b[38;5;124mJava =\u001b[39m\u001b[38;5;124m'\u001b[39m, Java\u001b[38;5;241m.\u001b[39mlem_length\u001b[38;5;241m.\u001b[39mmean())\n",
      "File \u001b[0;32m/opt/homebrew/anaconda3/lib/python3.9/site-packages/pandas/core/generic.py:5575\u001b[0m, in \u001b[0;36mNDFrame.__getattr__\u001b[0;34m(self, name)\u001b[0m\n\u001b[1;32m   5568\u001b[0m \u001b[38;5;28;01mif\u001b[39;00m (\n\u001b[1;32m   5569\u001b[0m     name \u001b[38;5;129;01mnot\u001b[39;00m \u001b[38;5;129;01min\u001b[39;00m \u001b[38;5;28mself\u001b[39m\u001b[38;5;241m.\u001b[39m_internal_names_set\n\u001b[1;32m   5570\u001b[0m     \u001b[38;5;129;01mand\u001b[39;00m name \u001b[38;5;129;01mnot\u001b[39;00m \u001b[38;5;129;01min\u001b[39;00m \u001b[38;5;28mself\u001b[39m\u001b[38;5;241m.\u001b[39m_metadata\n\u001b[1;32m   5571\u001b[0m     \u001b[38;5;129;01mand\u001b[39;00m name \u001b[38;5;129;01mnot\u001b[39;00m \u001b[38;5;129;01min\u001b[39;00m \u001b[38;5;28mself\u001b[39m\u001b[38;5;241m.\u001b[39m_accessors\n\u001b[1;32m   5572\u001b[0m     \u001b[38;5;129;01mand\u001b[39;00m \u001b[38;5;28mself\u001b[39m\u001b[38;5;241m.\u001b[39m_info_axis\u001b[38;5;241m.\u001b[39m_can_hold_identifiers_and_holds_name(name)\n\u001b[1;32m   5573\u001b[0m ):\n\u001b[1;32m   5574\u001b[0m     \u001b[38;5;28;01mreturn\u001b[39;00m \u001b[38;5;28mself\u001b[39m[name]\n\u001b[0;32m-> 5575\u001b[0m \u001b[38;5;28;01mreturn\u001b[39;00m \u001b[38;5;28;43mobject\u001b[39;49m\u001b[38;5;241;43m.\u001b[39;49m\u001b[38;5;21;43m__getattribute__\u001b[39;49m\u001b[43m(\u001b[49m\u001b[38;5;28;43mself\u001b[39;49m\u001b[43m,\u001b[49m\u001b[43m \u001b[49m\u001b[43mname\u001b[49m\u001b[43m)\u001b[49m\n",
      "\u001b[0;31mAttributeError\u001b[0m: 'DataFrame' object has no attribute 'lem_length'"
     ]
    }
   ],
   "source": [
    "# zach code for string lengths\n",
    "# python string lengths\n",
    "\n",
    "\n",
    "    js_lang = train[train[target] == 'JavaScript']\n",
    "    cs_lang = train[train[target] == 'C#']\n",
    "    jv_lang = train[train[target] == 'Java']\n",
    "    py_lang = train[train[target] == 'Python']\n",
    "    \n",
    "    \n",
    "js_lang['lem str len'] = df['lemmatized'].str.len()\n",
    "Python = df[df.language == 'Python']\n",
    "JavaScript = df[df.language == 'JavaScript']\n",
    "C = df[df.language == 'C#']\n",
    "Java = df[df.language == 'Java']\n",
    "print('python = ' , Python.lem_length.mean(), 'Javascript = ', JavaScript.lem_length.mean(), 'C# =', C.lem_length.mean(), 'Java =', Java.lem_length.mean())"
   ]
  },
  {
   "cell_type": "code",
   "execution_count": null,
   "metadata": {},
   "outputs": [],
   "source": []
  }
 ],
 "metadata": {
  "kernelspec": {
   "display_name": "Python 3 (ipykernel)",
   "language": "python",
   "name": "python3"
  },
  "language_info": {
   "codemirror_mode": {
    "name": "ipython",
    "version": 3
   },
   "file_extension": ".py",
   "mimetype": "text/x-python",
   "name": "python",
   "nbconvert_exporter": "python",
   "pygments_lexer": "ipython3",
   "version": "3.9.12"
  }
 },
 "nbformat": 4,
 "nbformat_minor": 1
}
