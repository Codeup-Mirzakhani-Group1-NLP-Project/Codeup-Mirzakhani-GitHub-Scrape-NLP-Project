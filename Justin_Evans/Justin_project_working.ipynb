{
 "cells": [
  {
   "cell_type": "code",
   "execution_count": 1,
   "id": "f4bda8db",
   "metadata": {},
   "outputs": [],
   "source": [
    "# ------------- #\n",
    "# Local Imports #\n",
    "# ------------- #\n",
    "\n",
    "# importing sys\n",
    "import sys\n",
    "\n",
    "# adding 00_helper_files to the system path\n",
    "sys.path.insert(0, '/Users/qmcbt/codeup-data-science/00_helper_files')\n",
    "\n",
    "# env containing sensitive access credentials\n",
    "import env\n",
    "from env import user, password, host\n",
    "from env import get_db_url\n",
    "\n",
    "# Import Helper Modules\n",
    "import QMCBT_00_quicktips as qt\n",
    "import QMCBT_01_acquire as acq\n",
    "import QMCBT_02_prepare as prep\n",
    "import QMCBT_03_explore as exp\n",
    "import QMCBT_04_visualize as viz\n",
    "import QMCBT_05_model as mod\n",
    "import QMCBT_wrangle as w"
   ]
  },
  {
   "cell_type": "code",
   "execution_count": null,
   "id": "65794cb2",
   "metadata": {},
   "outputs": [],
   "source": []
  }
 ],
 "metadata": {
  "kernelspec": {
   "display_name": "Python 3 (ipykernel)",
   "language": "python",
   "name": "python3"
  },
  "language_info": {
   "codemirror_mode": {
    "name": "ipython",
    "version": 3
   },
   "file_extension": ".py",
   "mimetype": "text/x-python",
   "name": "python",
   "nbconvert_exporter": "python",
   "pygments_lexer": "ipython3",
   "version": "3.9.12"
  }
 },
 "nbformat": 4,
 "nbformat_minor": 5
}
