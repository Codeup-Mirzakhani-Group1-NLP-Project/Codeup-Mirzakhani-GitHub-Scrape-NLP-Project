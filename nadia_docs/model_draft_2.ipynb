{
 "cells": [
  {
   "cell_type": "code",
   "execution_count": 1,
   "id": "ce9a1ba3",
   "metadata": {},
   "outputs": [],
   "source": [
    "import pandas as pd\n",
    "import prepare as pr"
   ]
  },
  {
   "cell_type": "code",
   "execution_count": 2,
   "id": "31140535",
   "metadata": {},
   "outputs": [],
   "source": [
    "import matplotlib.pyplot as plt\n",
    "import seaborn as sns\n",
    "import pandas as pd\n",
    "import nltk\n",
    "import unicodedata\n",
    "import re\n",
    "# import modules\n",
    "import env\n",
    "from wordcloud import WordCloud"
   ]
  },
  {
   "cell_type": "code",
   "execution_count": 3,
   "id": "600e5623",
   "metadata": {},
   "outputs": [],
   "source": [
    "from sklearn.model_selection import train_test_split\n",
    "from sklearn.tree import DecisionTreeClassifier\n",
    "from sklearn.feature_extraction.text import CountVectorizer\n",
    "from sklearn.feature_extraction.text import TfidfVectorizer"
   ]
  },
  {
   "cell_type": "code",
   "execution_count": 4,
   "id": "69d040e7",
   "metadata": {},
   "outputs": [],
   "source": [
    "from importlib import reload"
   ]
  },
  {
   "cell_type": "code",
   "execution_count": 6,
   "id": "14dc573f",
   "metadata": {},
   "outputs": [],
   "source": [
    "df = pr.get_clean_df()"
   ]
  },
  {
   "cell_type": "code",
   "execution_count": 5,
   "id": "eca913af",
   "metadata": {},
   "outputs": [
    {
     "data": {
      "text/plain": [
       "\"\\ndf['original_length'] = df.original.str.len()\\ndf['clean_length'] = df.clean.str.len()\\ndf['length_diff'] = df.original_length - df.clean_length\\ndf['lem_length'] = df.lemmatized.str.len()\\n# categorical\\ndf['has_#9'] = np.where(df.clean.str.contains('&#9;'), 1, 0)\\ndf['has_parts'] = np.where((df.clean.str.contains(' parts ')) | (df.clean.str.contains(' parts ')), 1, 0)\\ndf['has_fix'] = np.where(df.clean.str.contains(' fix '), 1, 0)\\ndf['has_tab'] = np.where(df.clean.str.contains(' tab '), 1, 0)\\ndf['has_x'] = np.where(df.clean.str.contains(' x '), 1, 0)\\ndf['has_v'] = np.where(df.clean.str.contains(' v '), 1, 0)\\ndf['has_codeblock'] = np.where(df.clean.str.contains('codeblock'), 1, 0)\\ndf['has_image'] = np.where(df.clean.str.contains('image'), 1, 0)\\n\""
      ]
     },
     "execution_count": 5,
     "metadata": {},
     "output_type": "execute_result"
    }
   ],
   "source": [
    "# numerical\n",
    "'''\n",
    "df['original_length'] = df.original.str.len()\n",
    "df['clean_length'] = df.clean.str.len()\n",
    "df['length_diff'] = df.original_length - df.clean_length\n",
    "df['lem_length'] = df.lemmatized.str.len()\n",
    "# categorical\n",
    "df['has_#9'] = np.where(df.clean.str.contains('&#9;'), 1, 0)\n",
    "df['has_parts'] = np.where((df.clean.str.contains(' parts ')) | (df.clean.str.contains(' parts ')), 1, 0)\n",
    "df['has_fix'] = np.where(df.clean.str.contains(' fix '), 1, 0)\n",
    "df['has_tab'] = np.where(df.clean.str.contains(' tab '), 1, 0)\n",
    "df['has_x'] = np.where(df.clean.str.contains(' x '), 1, 0)\n",
    "df['has_v'] = np.where(df.clean.str.contains(' v '), 1, 0)\n",
    "df['has_codeblock'] = np.where(df.clean.str.contains('codeblock'), 1, 0)\n",
    "df['has_image'] = np.where(df.clean.str.contains('image'), 1, 0)\n",
    "'''"
   ]
  },
  {
   "cell_type": "code",
   "execution_count": null,
   "id": "f232e6f8",
   "metadata": {},
   "outputs": [],
   "source": [
    "def scale_numeric_data(X_train, X_validate, X_test):\n",
    "    '''\n",
    "    Scales numerical columns.\n",
    "    Parameters:\n",
    "        train, validate, test data sets\n",
    "    Returns:\n",
    "    train, validate, test data sets with scaled data\n",
    "    '''\n",
    "    # features to scale\n",
    "    to_scale = ['sentiment', 'lem_length', 'original_length',  'length_diff','clean_length']\n",
    "    # create a scaler\n",
    "    sc = MinMaxScaler()\n",
    "    sc.fit(X_train[to_scale])\n",
    "    # transform data\n",
    "    X_train[to_scale] = sc.transform(X_train[to_scale])\n",
    "    X_validate[to_scale] = sc.transform(X_validate[to_scale])\n",
    "    X_test[to_scale] = sc.transform(X_test[to_scale])\n",
    "    \n",
    "    return X_train, X_validate, X_test"
   ]
  },
  {
   "cell_type": "code",
   "execution_count": 20,
   "id": "99ac06de",
   "metadata": {},
   "outputs": [
    {
     "data": {
      "text/plain": [
       "<module 'prepare' from '/Users/nadina/codeup-data-science/Codeup-Mirzakhani-GitHub-Scrape-NLP-Project/prepare.py'>"
      ]
     },
     "execution_count": 20,
     "metadata": {},
     "output_type": "execute_result"
    }
   ],
   "source": [
    "reload(pr)"
   ]
  },
  {
   "cell_type": "code",
   "execution_count": 21,
   "id": "17ca5fbc",
   "metadata": {},
   "outputs": [],
   "source": [
    "df = pr.get_clean_df()"
   ]
  },
  {
   "cell_type": "code",
   "execution_count": 22,
   "id": "80cfccd1",
   "metadata": {},
   "outputs": [
    {
     "data": {
      "text/html": [
       "<div>\n",
       "<style scoped>\n",
       "    .dataframe tbody tr th:only-of-type {\n",
       "        vertical-align: middle;\n",
       "    }\n",
       "\n",
       "    .dataframe tbody tr th {\n",
       "        vertical-align: top;\n",
       "    }\n",
       "\n",
       "    .dataframe thead th {\n",
       "        text-align: right;\n",
       "    }\n",
       "</style>\n",
       "<table border=\"1\" class=\"dataframe\">\n",
       "  <thead>\n",
       "    <tr style=\"text-align: right;\">\n",
       "      <th></th>\n",
       "      <th>original</th>\n",
       "      <th>first_clean</th>\n",
       "      <th>clean</th>\n",
       "      <th>lemmatized</th>\n",
       "      <th>sentiment</th>\n",
       "      <th>lem_length</th>\n",
       "      <th>original_length</th>\n",
       "      <th>length_diff</th>\n",
       "      <th>has_#9</th>\n",
       "      <th>has_tab</th>\n",
       "      <th>has_parts</th>\n",
       "      <th>has_fix</th>\n",
       "      <th>has_x</th>\n",
       "      <th>has_v</th>\n",
       "      <th>has_codeblock</th>\n",
       "      <th>has_image</th>\n",
       "      <th>language</th>\n",
       "    </tr>\n",
       "  </thead>\n",
       "  <tbody>\n",
       "    <tr>\n",
       "      <th>0</th>\n",
       "      <td>&lt;p align=\"center\"&gt;&lt;img src=\"https://live.stati...</td>\n",
       "      <td>SpaceX REST API  Open Source REST API for lau...</td>\n",
       "      <td>spacex rest api open source rest api launch ro...</td>\n",
       "      <td>spacex rest api open source rest api launch ro...</td>\n",
       "      <td>0.7717</td>\n",
       "      <td>475</td>\n",
       "      <td>7208</td>\n",
       "      <td>6713</td>\n",
       "      <td>0</td>\n",
       "      <td>0</td>\n",
       "      <td>0</td>\n",
       "      <td>0</td>\n",
       "      <td>0</td>\n",
       "      <td>0</td>\n",
       "      <td>0</td>\n",
       "      <td>1</td>\n",
       "      <td>JavaScript</td>\n",
       "    </tr>\n",
       "  </tbody>\n",
       "</table>\n",
       "</div>"
      ],
      "text/plain": [
       "                                            original  \\\n",
       "0  <p align=\"center\"><img src=\"https://live.stati...   \n",
       "\n",
       "                                         first_clean  \\\n",
       "0   SpaceX REST API  Open Source REST API for lau...   \n",
       "\n",
       "                                               clean  \\\n",
       "0  spacex rest api open source rest api launch ro...   \n",
       "\n",
       "                                          lemmatized  sentiment  lem_length  \\\n",
       "0  spacex rest api open source rest api launch ro...     0.7717         475   \n",
       "\n",
       "   original_length  length_diff  has_#9  has_tab  has_parts  has_fix  has_x  \\\n",
       "0             7208         6713       0        0          0        0      0   \n",
       "\n",
       "   has_v  has_codeblock  has_image    language  \n",
       "0      0              0          1  JavaScript  "
      ]
     },
     "execution_count": 22,
     "metadata": {},
     "output_type": "execute_result"
    }
   ],
   "source": [
    "df.head(1)"
   ]
  },
  {
   "cell_type": "code",
   "execution_count": 24,
   "id": "738b4b48",
   "metadata": {},
   "outputs": [],
   "source": [
    "X_train, X_validate, X_test, y_train, y_validate, y_test = pr.split_data(df, explore=False)"
   ]
  },
  {
   "cell_type": "code",
   "execution_count": 27,
   "id": "c2bbeca2",
   "metadata": {
    "scrolled": true
   },
   "outputs": [
    {
     "data": {
      "text/html": [
       "<div>\n",
       "<style scoped>\n",
       "    .dataframe tbody tr th:only-of-type {\n",
       "        vertical-align: middle;\n",
       "    }\n",
       "\n",
       "    .dataframe tbody tr th {\n",
       "        vertical-align: top;\n",
       "    }\n",
       "\n",
       "    .dataframe thead th {\n",
       "        text-align: right;\n",
       "    }\n",
       "</style>\n",
       "<table border=\"1\" class=\"dataframe\">\n",
       "  <thead>\n",
       "    <tr style=\"text-align: right;\">\n",
       "      <th></th>\n",
       "      <th>original</th>\n",
       "      <th>first_clean</th>\n",
       "      <th>clean</th>\n",
       "      <th>lemmatized</th>\n",
       "      <th>sentiment</th>\n",
       "      <th>lem_length</th>\n",
       "      <th>original_length</th>\n",
       "      <th>length_diff</th>\n",
       "    </tr>\n",
       "  </thead>\n",
       "  <tbody>\n",
       "    <tr>\n",
       "      <th>271</th>\n",
       "      <td>[![Build Status](https://travis-ci.org/guardia...</td>\n",
       "      <td>[![Build Status</td>\n",
       "      <td>build status</td>\n",
       "      <td>build status</td>\n",
       "      <td>0.456904</td>\n",
       "      <td>0.000618</td>\n",
       "      <td>0.262251</td>\n",
       "      <td>0.262051</td>\n",
       "    </tr>\n",
       "  </tbody>\n",
       "</table>\n",
       "</div>"
      ],
      "text/plain": [
       "                                              original        first_clean  \\\n",
       "271  [![Build Status](https://travis-ci.org/guardia...  [![Build Status     \n",
       "\n",
       "            clean    lemmatized  sentiment  lem_length  original_length  \\\n",
       "271  build status  build status   0.456904    0.000618         0.262251   \n",
       "\n",
       "     length_diff  \n",
       "271     0.262051  "
      ]
     },
     "execution_count": 27,
     "metadata": {},
     "output_type": "execute_result"
    }
   ],
   "source": [
    "X_train.head(1)"
   ]
  },
  {
   "cell_type": "code",
   "execution_count": 47,
   "id": "045961d5",
   "metadata": {},
   "outputs": [
    {
     "data": {
      "text/plain": [
       "<module 'prepare' from '/Users/nadina/codeup-data-science/Codeup-Mirzakhani-GitHub-Scrape-NLP-Project/prepare.py'>"
      ]
     },
     "execution_count": 47,
     "metadata": {},
     "output_type": "execute_result"
    }
   ],
   "source": [
    "reload(pr)"
   ]
  },
  {
   "cell_type": "code",
   "execution_count": 7,
   "id": "5c8a31c0",
   "metadata": {},
   "outputs": [],
   "source": [
    "X_train, X_validate, X_test, y_train, y_validate, y_test = pr.split_data(df, explore=False)"
   ]
  },
  {
   "cell_type": "code",
   "execution_count": 8,
   "id": "a95c39d2",
   "metadata": {},
   "outputs": [
    {
     "data": {
      "text/html": [
       "<div>\n",
       "<style scoped>\n",
       "    .dataframe tbody tr th:only-of-type {\n",
       "        vertical-align: middle;\n",
       "    }\n",
       "\n",
       "    .dataframe tbody tr th {\n",
       "        vertical-align: top;\n",
       "    }\n",
       "\n",
       "    .dataframe thead th {\n",
       "        text-align: right;\n",
       "    }\n",
       "</style>\n",
       "<table border=\"1\" class=\"dataframe\">\n",
       "  <thead>\n",
       "    <tr style=\"text-align: right;\">\n",
       "      <th></th>\n",
       "      <th>lemmatized</th>\n",
       "      <th>sentiment</th>\n",
       "      <th>lem_length</th>\n",
       "      <th>original_length</th>\n",
       "      <th>length_diff</th>\n",
       "    </tr>\n",
       "  </thead>\n",
       "  <tbody>\n",
       "    <tr>\n",
       "      <th>271</th>\n",
       "      <td>build status</td>\n",
       "      <td>0.456904</td>\n",
       "      <td>0.000618</td>\n",
       "      <td>0.262251</td>\n",
       "      <td>0.262051</td>\n",
       "    </tr>\n",
       "  </tbody>\n",
       "</table>\n",
       "</div>"
      ],
      "text/plain": [
       "       lemmatized  sentiment  lem_length  original_length  length_diff\n",
       "271  build status   0.456904    0.000618         0.262251     0.262051"
      ]
     },
     "execution_count": 8,
     "metadata": {},
     "output_type": "execute_result"
    }
   ],
   "source": [
    "X_train.head(1)"
   ]
  },
  {
   "cell_type": "code",
   "execution_count": 9,
   "id": "3e37b889",
   "metadata": {},
   "outputs": [],
   "source": [
    "def get_additional_stopwords(ser: pd.Series) -> list:\n",
    "    '''\n",
    "    Vectorizes the Series, calculates IDF, creates a list of values where idf score is bigger than 5.65.\n",
    "    This list can be used as stopwords for creating Bag of Words\n",
    "    Parameters:\n",
    "        ser: pandas series or data frame column that contains text\n",
    "    Returns:\n",
    "        list of strings -> stopwords\n",
    "    '''\n",
    "    tv = TfidfVectorizer()\n",
    "    tv.fit(ser)\n",
    "    idf_values = pd.Series(\n",
    "        dict(\n",
    "            zip(\n",
    "                tv.get_feature_names_out(), tv.idf_)))\n",
    "    # get the list of stop words\n",
    "    # 5.65 -> sweet spot\n",
    "    return idf_values[idf_values > 5.65].index.tolist()"
   ]
  },
  {
   "cell_type": "code",
   "execution_count": 33,
   "id": "ceb34300",
   "metadata": {},
   "outputs": [],
   "source": [
    "# get_additional_stopwords(X_train.lemmatized) # works"
   ]
  },
  {
   "cell_type": "code",
   "execution_count": 27,
   "id": "b7e30923",
   "metadata": {},
   "outputs": [],
   "source": [
    "def vectorize(train_ser: pd.Series, validate_ser: pd.Series, test_ser: pd.Series, stopwords: list[str]):\n",
    "    '''\n",
    "    Applies TfidfVectorizer to text column from train, validate and test data sets.\n",
    "    Creates Bag of Words\n",
    "    \n",
    "    Parameters:\n",
    "        train_ser: train[column to vectorize]\n",
    "        validate_ser: validate[column to vectorize]\n",
    "        test_ser: test[column to vectorize]\n",
    "        stopwords: list of stopwords that should not be included in the bag of words\n",
    "    Returns:\n",
    "        3 data frames train/validate/test with bag of words \n",
    "    '''\n",
    "    # create a vectorizer with stop words\n",
    "    tv = TfidfVectorizer(stop_words=stopwords)\n",
    "    # fit transform train \n",
    "    train_tv = tv.fit_transform(train_ser)\n",
    "    # transform validate\n",
    "    validate_tv = tv.transform(validate_ser)\n",
    "    # transform test\n",
    "    test_tv = tv.transform(test_ser)\n",
    "    \n",
    "    # create Bag of Words data frames\n",
    "    # for column names extract features\n",
    "    # for index us series indexes\n",
    "    XF_train = pd.DataFrame(train_tv.todense(),\n",
    "                            columns=tv.get_feature_names_out(),\n",
    "                           index = train_ser.index)\n",
    "    XF_validate = pd.DataFrame(validate_tv.todense(), \n",
    "                               columns=tv.get_feature_names_out(),\n",
    "                              index=validate_ser.index)\n",
    "    XF_test = pd.DataFrame(test_tv.todense(), \n",
    "                           columns=tv.get_feature_names_out(),\n",
    "                          index=test_ser.index)\n",
    "    \n",
    "    \n",
    "    return XF_train, XF_validate, XF_test"
   ]
  },
  {
   "cell_type": "code",
   "execution_count": 28,
   "id": "1a8195af",
   "metadata": {},
   "outputs": [],
   "source": [
    "XF_train, XF_validate, XF_test = vectorize(X_train.lemmatized, X_validate.lemmatized, X_test.lemmatized, get_additional_stopwords(X_train.lemmatized))"
   ]
  },
  {
   "cell_type": "code",
   "execution_count": 31,
   "id": "706927e8",
   "metadata": {},
   "outputs": [
    {
     "data": {
      "text/plain": [
       "0"
      ]
     },
     "execution_count": 31,
     "metadata": {},
     "output_type": "execute_result"
    }
   ],
   "source": [
    "(XF_train.index != train_num.index).sum()"
   ]
  },
  {
   "cell_type": "markdown",
   "id": "026d5ab1",
   "metadata": {},
   "source": [
    "Try to separate `lemmatized` from numbers"
   ]
  },
  {
   "cell_type": "code",
   "execution_count": 13,
   "id": "cbd4d765",
   "metadata": {},
   "outputs": [],
   "source": [
    "train_ser = X_train.lemmatized\n",
    "validate_ser = X_validate.lemmatized\n",
    "test_ser = X_test.lemmatized"
   ]
  },
  {
   "cell_type": "code",
   "execution_count": 14,
   "id": "fb5e6358",
   "metadata": {},
   "outputs": [],
   "source": [
    "train_num = X_train.drop('lemmatized', axis = 1)\n",
    "validate_num = X_validate.drop('lemmatized', axis = 1)\n",
    "test_num = X_test.drop('lemmatized', axis = 1)"
   ]
  },
  {
   "cell_type": "code",
   "execution_count": 15,
   "id": "cf2b334d",
   "metadata": {},
   "outputs": [],
   "source": [
    "scores = pd.DataFrame(columns=['model_name', 'parameters', 'train_score', 'validate_score', 'difference'])"
   ]
  },
  {
   "cell_type": "code",
   "execution_count": 67,
   "id": "f9823726",
   "metadata": {},
   "outputs": [],
   "source": [
    "#scores.loc[len(scores)] = []"
   ]
  },
  {
   "cell_type": "code",
   "execution_count": 20,
   "id": "e0970da9",
   "metadata": {},
   "outputs": [
    {
     "name": "stderr",
     "output_type": "stream",
     "text": [
      "2023-01-12 19:00:49.641623: I tensorflow/core/platform/cpu_feature_guard.cc:193] This TensorFlow binary is optimized with oneAPI Deep Neural Network Library (oneDNN) to use the following CPU instructions in performance-critical operations:  AVX2 FMA\n",
      "To enable them in other operations, rebuild TensorFlow with the appropriate compiler flags.\n"
     ]
    }
   ],
   "source": [
    "import tensorflow as tf"
   ]
  },
  {
   "cell_type": "code",
   "execution_count": 32,
   "id": "175c5e0e",
   "metadata": {},
   "outputs": [],
   "source": [
    "def get_modeling_data(df):\n",
    "    '''\n",
    "    \n",
    "    '''\n",
    "    # get splitted data sets and target variables\n",
    "    X_train, X_validate, X_test, y_train, y_validate, y_test = pr.split_data(df, explore=False)\n",
    "    # create series from lemmatized text column\n",
    "    train_ser = X_train.lemmatized\n",
    "    validate_ser = X_validate.lemmatized\n",
    "    test_ser = X_test.lemmatized\n",
    "    # separate numerical columns\n",
    "    train_num = X_train.drop('lemmatized', axis = 1)\n",
    "    validate_num = X_validate.drop('lemmatized', axis = 1)\n",
    "    test_num = X_test.drop('lemmatized', axis = 1)\n",
    "    # create bag of words using vectorize function\n",
    "    XF_train, XF_validate, XF_test = vectorize(train_ser, \n",
    "                                               validate_ser, \n",
    "                                               test_ser, \n",
    "                                               get_additional_stopwords(train_ser))\n",
    "    # concatenate bag of words and numerical values \n",
    "    X_train_complete = pd.concat([XF_train, train_num], axis=1)                            \n",
    "    X_validate_complete = pd.concat([XF_validate, validate_num], axis=1)                             \n",
    "    X_test_complete = pd.concat([XF_test, test_num], axis=1)\n",
    "    \n",
    "    return X_train_complete, X_validate_complete, X_test_complete, y_train, y_validate, y_test"
   ]
  },
  {
   "cell_type": "code",
   "execution_count": 43,
   "id": "2f855362",
   "metadata": {},
   "outputs": [],
   "source": [
    "X_train, X_validate, X_test, y_train, y_validate, y_test = get_modeling_data(df)"
   ]
  },
  {
   "cell_type": "code",
   "execution_count": 45,
   "id": "d9e603ca",
   "metadata": {},
   "outputs": [
    {
     "data": {
      "text/plain": [
       "0"
      ]
     },
     "execution_count": 45,
     "metadata": {},
     "output_type": "execute_result"
    }
   ],
   "source": [
    "X_train.isnull().sum().sum()"
   ]
  },
  {
   "cell_type": "code",
   "execution_count": null,
   "id": "867f2db7",
   "metadata": {},
   "outputs": [],
   "source": [
    "X_train_complete = pd.concat([train_num, \n",
    "                                  pd.DataFrame(train_ser, columns=column_names, index=train_num.index)], \n",
    "                                  axis=1)\n",
    "    X_validate_complete = pd.concat([validate_num, \n",
    "                                     pd.DataFrame(validate_ser, columns=column_names, index=validate_num.index)], \n",
    "                                    axis=1)\n",
    "    X_test_complete = pd.concat([test_num, pd.DataFrame(test_ser, columns=column_names, index=test_num.index)], \n",
    "              axis=1)"
   ]
  },
  {
   "cell_type": "code",
   "execution_count": 46,
   "id": "b312ed76",
   "metadata": {},
   "outputs": [
    {
     "data": {
      "text/plain": [
       "<module 'prepare' from '/Users/nadina/codeup-data-science/Codeup-Mirzakhani-GitHub-Scrape-NLP-Project/prepare.py'>"
      ]
     },
     "execution_count": 46,
     "metadata": {},
     "output_type": "execute_result"
    }
   ],
   "source": [
    "reload(pr)"
   ]
  },
  {
   "cell_type": "markdown",
   "id": "61aeaa1c",
   "metadata": {},
   "source": [
    "### Actiual modeling part"
   ]
  },
  {
   "cell_type": "code",
   "execution_count": 45,
   "id": "a27c4810",
   "metadata": {},
   "outputs": [],
   "source": [
    "X_train, X_validate, X_test, y_train, y_validate, y_test = pr.get_modeling_data()"
   ]
  },
  {
   "cell_type": "code",
   "execution_count": 46,
   "id": "6fa5da2c",
   "metadata": {},
   "outputs": [
    {
     "data": {
      "text/plain": [
       "((241, 1621), (104, 1621), (87, 1621))"
      ]
     },
     "execution_count": 46,
     "metadata": {},
     "output_type": "execute_result"
    }
   ],
   "source": [
    "X_train.shape, X_validate.shape, X_test.shape"
   ]
  },
  {
   "cell_type": "code",
   "execution_count": 47,
   "id": "abfc405b",
   "metadata": {},
   "outputs": [
    {
     "data": {
      "text/html": [
       "<div>\n",
       "<style scoped>\n",
       "    .dataframe tbody tr th:only-of-type {\n",
       "        vertical-align: middle;\n",
       "    }\n",
       "\n",
       "    .dataframe tbody tr th {\n",
       "        vertical-align: top;\n",
       "    }\n",
       "\n",
       "    .dataframe thead th {\n",
       "        text-align: right;\n",
       "    }\n",
       "</style>\n",
       "<table border=\"1\" class=\"dataframe\">\n",
       "  <thead>\n",
       "    <tr style=\"text-align: right;\">\n",
       "      <th></th>\n",
       "      <th>ab</th>\n",
       "      <th>ability</th>\n",
       "      <th>able</th>\n",
       "      <th>access</th>\n",
       "      <th>accessed</th>\n",
       "      <th>accompanying</th>\n",
       "      <th>according</th>\n",
       "      <th>account</th>\n",
       "      <th>accuracy</th>\n",
       "      <th>accurate</th>\n",
       "      <th>...</th>\n",
       "      <th>yellow</th>\n",
       "      <th>yet</th>\n",
       "      <th>yield</th>\n",
       "      <th>youtube</th>\n",
       "      <th>zero</th>\n",
       "      <th>zip</th>\n",
       "      <th>sentiment</th>\n",
       "      <th>lem_length</th>\n",
       "      <th>original_length</th>\n",
       "      <th>length_diff</th>\n",
       "    </tr>\n",
       "  </thead>\n",
       "  <tbody>\n",
       "    <tr>\n",
       "      <th>271</th>\n",
       "      <td>0.0</td>\n",
       "      <td>0.0</td>\n",
       "      <td>0.0</td>\n",
       "      <td>0.000000</td>\n",
       "      <td>0.000000</td>\n",
       "      <td>0.0</td>\n",
       "      <td>0.0</td>\n",
       "      <td>0.0</td>\n",
       "      <td>0.0</td>\n",
       "      <td>0.0</td>\n",
       "      <td>...</td>\n",
       "      <td>0.0</td>\n",
       "      <td>0.0</td>\n",
       "      <td>0.0</td>\n",
       "      <td>0.0</td>\n",
       "      <td>0.0</td>\n",
       "      <td>0.0</td>\n",
       "      <td>0.456904</td>\n",
       "      <td>0.000618</td>\n",
       "      <td>0.262251</td>\n",
       "      <td>0.262051</td>\n",
       "    </tr>\n",
       "    <tr>\n",
       "      <th>344</th>\n",
       "      <td>0.0</td>\n",
       "      <td>0.0</td>\n",
       "      <td>0.0</td>\n",
       "      <td>0.000000</td>\n",
       "      <td>0.000000</td>\n",
       "      <td>0.0</td>\n",
       "      <td>0.0</td>\n",
       "      <td>0.0</td>\n",
       "      <td>0.0</td>\n",
       "      <td>0.0</td>\n",
       "      <td>...</td>\n",
       "      <td>0.0</td>\n",
       "      <td>0.0</td>\n",
       "      <td>0.0</td>\n",
       "      <td>0.0</td>\n",
       "      <td>0.0</td>\n",
       "      <td>0.0</td>\n",
       "      <td>0.540160</td>\n",
       "      <td>0.038384</td>\n",
       "      <td>0.027498</td>\n",
       "      <td>0.007324</td>\n",
       "    </tr>\n",
       "    <tr>\n",
       "      <th>23</th>\n",
       "      <td>0.0</td>\n",
       "      <td>0.0</td>\n",
       "      <td>0.0</td>\n",
       "      <td>0.000000</td>\n",
       "      <td>0.000000</td>\n",
       "      <td>0.0</td>\n",
       "      <td>0.0</td>\n",
       "      <td>0.0</td>\n",
       "      <td>0.0</td>\n",
       "      <td>0.0</td>\n",
       "      <td>...</td>\n",
       "      <td>0.0</td>\n",
       "      <td>0.0</td>\n",
       "      <td>0.0</td>\n",
       "      <td>0.0</td>\n",
       "      <td>0.0</td>\n",
       "      <td>0.0</td>\n",
       "      <td>0.456904</td>\n",
       "      <td>0.007368</td>\n",
       "      <td>0.075758</td>\n",
       "      <td>0.071957</td>\n",
       "    </tr>\n",
       "    <tr>\n",
       "      <th>190</th>\n",
       "      <td>0.0</td>\n",
       "      <td>0.0</td>\n",
       "      <td>0.0</td>\n",
       "      <td>0.000000</td>\n",
       "      <td>0.000000</td>\n",
       "      <td>0.0</td>\n",
       "      <td>0.0</td>\n",
       "      <td>0.0</td>\n",
       "      <td>0.0</td>\n",
       "      <td>0.0</td>\n",
       "      <td>...</td>\n",
       "      <td>0.0</td>\n",
       "      <td>0.0</td>\n",
       "      <td>0.0</td>\n",
       "      <td>0.0</td>\n",
       "      <td>0.0</td>\n",
       "      <td>0.0</td>\n",
       "      <td>0.498885</td>\n",
       "      <td>0.016951</td>\n",
       "      <td>0.172625</td>\n",
       "      <td>0.163941</td>\n",
       "    </tr>\n",
       "    <tr>\n",
       "      <th>22</th>\n",
       "      <td>0.0</td>\n",
       "      <td>0.0</td>\n",
       "      <td>0.0</td>\n",
       "      <td>0.000000</td>\n",
       "      <td>0.000000</td>\n",
       "      <td>0.0</td>\n",
       "      <td>0.0</td>\n",
       "      <td>0.0</td>\n",
       "      <td>0.0</td>\n",
       "      <td>0.0</td>\n",
       "      <td>...</td>\n",
       "      <td>0.0</td>\n",
       "      <td>0.0</td>\n",
       "      <td>0.0</td>\n",
       "      <td>0.0</td>\n",
       "      <td>0.0</td>\n",
       "      <td>0.0</td>\n",
       "      <td>0.456904</td>\n",
       "      <td>0.004276</td>\n",
       "      <td>0.006309</td>\n",
       "      <td>0.004021</td>\n",
       "    </tr>\n",
       "    <tr>\n",
       "      <th>...</th>\n",
       "      <td>...</td>\n",
       "      <td>...</td>\n",
       "      <td>...</td>\n",
       "      <td>...</td>\n",
       "      <td>...</td>\n",
       "      <td>...</td>\n",
       "      <td>...</td>\n",
       "      <td>...</td>\n",
       "      <td>...</td>\n",
       "      <td>...</td>\n",
       "      <td>...</td>\n",
       "      <td>...</td>\n",
       "      <td>...</td>\n",
       "      <td>...</td>\n",
       "      <td>...</td>\n",
       "      <td>...</td>\n",
       "      <td>...</td>\n",
       "      <td>...</td>\n",
       "      <td>...</td>\n",
       "      <td>...</td>\n",
       "      <td>...</td>\n",
       "    </tr>\n",
       "    <tr>\n",
       "      <th>220</th>\n",
       "      <td>0.0</td>\n",
       "      <td>0.0</td>\n",
       "      <td>0.0</td>\n",
       "      <td>0.000000</td>\n",
       "      <td>0.000000</td>\n",
       "      <td>0.0</td>\n",
       "      <td>0.0</td>\n",
       "      <td>0.0</td>\n",
       "      <td>0.0</td>\n",
       "      <td>0.0</td>\n",
       "      <td>...</td>\n",
       "      <td>0.0</td>\n",
       "      <td>0.0</td>\n",
       "      <td>0.0</td>\n",
       "      <td>0.0</td>\n",
       "      <td>0.0</td>\n",
       "      <td>0.0</td>\n",
       "      <td>0.048725</td>\n",
       "      <td>0.002422</td>\n",
       "      <td>0.114036</td>\n",
       "      <td>0.112836</td>\n",
       "    </tr>\n",
       "    <tr>\n",
       "      <th>123</th>\n",
       "      <td>0.0</td>\n",
       "      <td>0.0</td>\n",
       "      <td>0.0</td>\n",
       "      <td>0.000000</td>\n",
       "      <td>0.000000</td>\n",
       "      <td>0.0</td>\n",
       "      <td>0.0</td>\n",
       "      <td>0.0</td>\n",
       "      <td>0.0</td>\n",
       "      <td>0.0</td>\n",
       "      <td>...</td>\n",
       "      <td>0.0</td>\n",
       "      <td>0.0</td>\n",
       "      <td>0.0</td>\n",
       "      <td>0.0</td>\n",
       "      <td>0.0</td>\n",
       "      <td>0.0</td>\n",
       "      <td>0.238349</td>\n",
       "      <td>0.000361</td>\n",
       "      <td>0.094445</td>\n",
       "      <td>0.094301</td>\n",
       "    </tr>\n",
       "    <tr>\n",
       "      <th>242</th>\n",
       "      <td>0.0</td>\n",
       "      <td>0.0</td>\n",
       "      <td>0.0</td>\n",
       "      <td>0.000000</td>\n",
       "      <td>0.000000</td>\n",
       "      <td>0.0</td>\n",
       "      <td>0.0</td>\n",
       "      <td>0.0</td>\n",
       "      <td>0.0</td>\n",
       "      <td>0.0</td>\n",
       "      <td>...</td>\n",
       "      <td>0.0</td>\n",
       "      <td>0.0</td>\n",
       "      <td>0.0</td>\n",
       "      <td>0.0</td>\n",
       "      <td>0.0</td>\n",
       "      <td>0.0</td>\n",
       "      <td>0.456904</td>\n",
       "      <td>0.005049</td>\n",
       "      <td>0.467591</td>\n",
       "      <td>0.465166</td>\n",
       "    </tr>\n",
       "    <tr>\n",
       "      <th>183</th>\n",
       "      <td>0.0</td>\n",
       "      <td>0.0</td>\n",
       "      <td>0.0</td>\n",
       "      <td>0.009846</td>\n",
       "      <td>0.012366</td>\n",
       "      <td>0.0</td>\n",
       "      <td>0.0</td>\n",
       "      <td>0.0</td>\n",
       "      <td>0.0</td>\n",
       "      <td>0.0</td>\n",
       "      <td>...</td>\n",
       "      <td>0.0</td>\n",
       "      <td>0.0</td>\n",
       "      <td>0.0</td>\n",
       "      <td>0.0</td>\n",
       "      <td>0.0</td>\n",
       "      <td>0.0</td>\n",
       "      <td>0.999837</td>\n",
       "      <td>0.623474</td>\n",
       "      <td>0.633135</td>\n",
       "      <td>0.307696</td>\n",
       "    </tr>\n",
       "    <tr>\n",
       "      <th>234</th>\n",
       "      <td>0.0</td>\n",
       "      <td>0.0</td>\n",
       "      <td>0.0</td>\n",
       "      <td>0.000000</td>\n",
       "      <td>0.000000</td>\n",
       "      <td>0.0</td>\n",
       "      <td>0.0</td>\n",
       "      <td>0.0</td>\n",
       "      <td>0.0</td>\n",
       "      <td>0.0</td>\n",
       "      <td>...</td>\n",
       "      <td>0.0</td>\n",
       "      <td>0.0</td>\n",
       "      <td>0.0</td>\n",
       "      <td>0.0</td>\n",
       "      <td>0.0</td>\n",
       "      <td>0.0</td>\n",
       "      <td>0.227690</td>\n",
       "      <td>0.064506</td>\n",
       "      <td>0.084063</td>\n",
       "      <td>0.050546</td>\n",
       "    </tr>\n",
       "  </tbody>\n",
       "</table>\n",
       "<p>241 rows × 1621 columns</p>\n",
       "</div>"
      ],
      "text/plain": [
       "      ab  ability  able    access  accessed  accompanying  according  account  \\\n",
       "271  0.0      0.0   0.0  0.000000  0.000000           0.0        0.0      0.0   \n",
       "344  0.0      0.0   0.0  0.000000  0.000000           0.0        0.0      0.0   \n",
       "23   0.0      0.0   0.0  0.000000  0.000000           0.0        0.0      0.0   \n",
       "190  0.0      0.0   0.0  0.000000  0.000000           0.0        0.0      0.0   \n",
       "22   0.0      0.0   0.0  0.000000  0.000000           0.0        0.0      0.0   \n",
       "..   ...      ...   ...       ...       ...           ...        ...      ...   \n",
       "220  0.0      0.0   0.0  0.000000  0.000000           0.0        0.0      0.0   \n",
       "123  0.0      0.0   0.0  0.000000  0.000000           0.0        0.0      0.0   \n",
       "242  0.0      0.0   0.0  0.000000  0.000000           0.0        0.0      0.0   \n",
       "183  0.0      0.0   0.0  0.009846  0.012366           0.0        0.0      0.0   \n",
       "234  0.0      0.0   0.0  0.000000  0.000000           0.0        0.0      0.0   \n",
       "\n",
       "     accuracy  accurate  ...  yellow  yet  yield  youtube  zero  zip  \\\n",
       "271       0.0       0.0  ...     0.0  0.0    0.0      0.0   0.0  0.0   \n",
       "344       0.0       0.0  ...     0.0  0.0    0.0      0.0   0.0  0.0   \n",
       "23        0.0       0.0  ...     0.0  0.0    0.0      0.0   0.0  0.0   \n",
       "190       0.0       0.0  ...     0.0  0.0    0.0      0.0   0.0  0.0   \n",
       "22        0.0       0.0  ...     0.0  0.0    0.0      0.0   0.0  0.0   \n",
       "..        ...       ...  ...     ...  ...    ...      ...   ...  ...   \n",
       "220       0.0       0.0  ...     0.0  0.0    0.0      0.0   0.0  0.0   \n",
       "123       0.0       0.0  ...     0.0  0.0    0.0      0.0   0.0  0.0   \n",
       "242       0.0       0.0  ...     0.0  0.0    0.0      0.0   0.0  0.0   \n",
       "183       0.0       0.0  ...     0.0  0.0    0.0      0.0   0.0  0.0   \n",
       "234       0.0       0.0  ...     0.0  0.0    0.0      0.0   0.0  0.0   \n",
       "\n",
       "     sentiment  lem_length  original_length  length_diff  \n",
       "271   0.456904    0.000618         0.262251     0.262051  \n",
       "344   0.540160    0.038384         0.027498     0.007324  \n",
       "23    0.456904    0.007368         0.075758     0.071957  \n",
       "190   0.498885    0.016951         0.172625     0.163941  \n",
       "22    0.456904    0.004276         0.006309     0.004021  \n",
       "..         ...         ...              ...          ...  \n",
       "220   0.048725    0.002422         0.114036     0.112836  \n",
       "123   0.238349    0.000361         0.094445     0.094301  \n",
       "242   0.456904    0.005049         0.467591     0.465166  \n",
       "183   0.999837    0.623474         0.633135     0.307696  \n",
       "234   0.227690    0.064506         0.084063     0.050546  \n",
       "\n",
       "[241 rows x 1621 columns]"
      ]
     },
     "execution_count": 47,
     "metadata": {},
     "output_type": "execute_result"
    }
   ],
   "source": [
    "X_train"
   ]
  },
  {
   "cell_type": "code",
   "execution_count": 48,
   "id": "200bc3ab",
   "metadata": {},
   "outputs": [],
   "source": [
    "import pandas as pd\n",
    "import prepare as pr"
   ]
  },
  {
   "cell_type": "code",
   "execution_count": 49,
   "id": "f5f78009",
   "metadata": {},
   "outputs": [],
   "source": [
    "from sklearn.model_selection import GridSearchCV"
   ]
  },
  {
   "cell_type": "code",
   "execution_count": 50,
   "id": "cba7d7ab",
   "metadata": {},
   "outputs": [],
   "source": [
    "import xgboost as xgb\n",
    "from sklearn.tree import DecisionTreeClassifier\n",
    "from sklearn.ensemble import RandomForestClassifier, GradientBoostingClassifier\n",
    "from sklearn.naive_bayes import MultinomialNB, GaussianNB\n",
    "from sklearn.linear_model import LogisticRegression"
   ]
  },
  {
   "cell_type": "code",
   "execution_count": 51,
   "id": "80a4d2d6",
   "metadata": {},
   "outputs": [],
   "source": [
    "seed = 42"
   ]
  },
  {
   "cell_type": "code",
   "execution_count": 52,
   "id": "8a6126bc",
   "metadata": {},
   "outputs": [],
   "source": [
    "# create scores\n",
    "scores = pd.DataFrame(columns=['model_name', 'train_score', 'validate_score', 'score_difference'])"
   ]
  },
  {
   "cell_type": "markdown",
   "id": "a54e2958",
   "metadata": {},
   "source": [
    "##### Random Forest"
   ]
  },
  {
   "cell_type": "code",
   "execution_count": 65,
   "id": "d7d4b7d3",
   "metadata": {},
   "outputs": [],
   "source": [
    "rf_parameters = {'max_depth':[6,8,10],\n",
    "                  'min_samples_leaf':[2, 3, 5]\n",
    "             }"
   ]
  },
  {
   "cell_type": "code",
   "execution_count": 66,
   "id": "96c7856c",
   "metadata": {},
   "outputs": [],
   "source": [
    "rf = RandomForestClassifier(random_state=seed)"
   ]
  },
  {
   "cell_type": "code",
   "execution_count": 67,
   "id": "41138649",
   "metadata": {},
   "outputs": [],
   "source": [
    "grid_rf = GridSearchCV(estimator=rf, param_grid=rf_parameters, cv=3, n_jobs=-1)"
   ]
  },
  {
   "cell_type": "code",
   "execution_count": 68,
   "id": "ba76fc3d",
   "metadata": {},
   "outputs": [
    {
     "data": {
      "text/plain": [
       "GridSearchCV(cv=2, estimator=RandomForestClassifier(random_state=42), n_jobs=-1,\n",
       "             param_grid={'max_depth': [6, 8, 10],\n",
       "                         'min_samples_leaf': [2, 3, 5]})"
      ]
     },
     "execution_count": 68,
     "metadata": {},
     "output_type": "execute_result"
    }
   ],
   "source": [
    "grid_rf.fit(X_train, y_train)"
   ]
  },
  {
   "cell_type": "code",
   "execution_count": 69,
   "id": "66210f17",
   "metadata": {},
   "outputs": [
    {
     "data": {
      "text/plain": [
       "{'max_depth': 10, 'min_samples_leaf': 2}"
      ]
     },
     "execution_count": 69,
     "metadata": {},
     "output_type": "execute_result"
    }
   ],
   "source": [
    "grid_rf.best_params_"
   ]
  },
  {
   "cell_type": "code",
   "execution_count": 187,
   "id": "24a1a14f",
   "metadata": {},
   "outputs": [
    {
     "data": {
      "text/plain": [
       "RandomForestClassifier(max_depth=10, min_samples_leaf=2, random_state=42)"
      ]
     },
     "execution_count": 187,
     "metadata": {},
     "output_type": "execute_result"
    }
   ],
   "source": [
    "grid_rf.best_estimator_"
   ]
  },
  {
   "cell_type": "code",
   "execution_count": 72,
   "id": "ce750414",
   "metadata": {},
   "outputs": [
    {
     "data": {
      "text/plain": [
       "0.6970954356846473"
      ]
     },
     "execution_count": 72,
     "metadata": {},
     "output_type": "execute_result"
    }
   ],
   "source": [
    "rf = RandomForestClassifier(max_depth=10, min_samples_leaf=3, random_state=seed)\n",
    "rf.fit(X_train, y_train)\n",
    "rf.score(X_train, y_train)"
   ]
  },
  {
   "cell_type": "code",
   "execution_count": 73,
   "id": "c7d233d3",
   "metadata": {},
   "outputs": [
    {
     "data": {
      "text/plain": [
       "0.49038461538461536"
      ]
     },
     "execution_count": 73,
     "metadata": {},
     "output_type": "execute_result"
    }
   ],
   "source": [
    " rf.score(X_validate, y_validate)"
   ]
  },
  {
   "cell_type": "code",
   "execution_count": 191,
   "id": "4493fc54",
   "metadata": {},
   "outputs": [
    {
     "name": "stdout",
     "output_type": "stream",
     "text": [
      "Random Forest Parameters:  {'max_depth': 10, 'min_samples_leaf': 2}\n"
     ]
    }
   ],
   "source": [
    "print(f'Random Forest Parameters:  {grid_rf.best_params_}')"
   ]
  },
  {
   "cell_type": "code",
   "execution_count": 53,
   "id": "ed0e716e",
   "metadata": {},
   "outputs": [],
   "source": [
    "def run_random_forest(cv:int=3):\n",
    "    '''\n",
    "    Classifier: Random Forest algorithm\n",
    "    Creates a dictionary of parameters for the classifier \n",
    "    Uses GridSearchCV to find the best combination of parameters\n",
    "    Prints the selected parameters on the screen\n",
    "    Fits the classifier with best parameters to the training set using GridSearch\n",
    "    Calculates accuracy scores for the training and validate sets and saves them into scores dataframe\n",
    "    -----------\n",
    "    Parameters:\n",
    "        cv: integer, number of cross validation folds for the grid search\n",
    "    No returns\n",
    "    '''\n",
    "    # create a dictionary of parameters\n",
    "    rf_parameters = {'max_depth':[5, 6, 7],\n",
    "                  'min_samples_leaf':[2, 3, 5]\n",
    "             }\n",
    "    # create a classifier\n",
    "    rf = RandomForestClassifier(random_state=seed)\n",
    "    # creat a grid search\n",
    "    grid_rf = GridSearchCV(estimator=rf, param_grid=rf_parameters, cv=cv, n_jobs=-1)\n",
    "    # fit on train set\n",
    "    grid_rf.fit(X_train, y_train)\n",
    "    # print the best parameter's comination\n",
    "    print(f'Random Forest Parameters:  {grid_rf.best_params_}')\n",
    "    # calculate scores\n",
    "    train_score = grid_rf.best_estimator_.score(X_train, y_train)\n",
    "    validate_score = grid_rf.best_estimator_.score(X_validate, y_validate)\n",
    "    # save the scores into a dataframe\n",
    "    scores.loc[len(scores)] = ['Random Forest', train_score, validate_score, train_score - validate_score]"
   ]
  },
  {
   "cell_type": "code",
   "execution_count": 196,
   "id": "fdeb7fc9",
   "metadata": {},
   "outputs": [
    {
     "name": "stdout",
     "output_type": "stream",
     "text": [
      "Random Forest Parameters:  {'max_depth': 5, 'min_samples_leaf': 2}\n"
     ]
    }
   ],
   "source": [
    "run_random_forest(5)"
   ]
  },
  {
   "cell_type": "code",
   "execution_count": 197,
   "id": "7beda6cd",
   "metadata": {},
   "outputs": [
    {
     "data": {
      "text/html": [
       "<div>\n",
       "<style scoped>\n",
       "    .dataframe tbody tr th:only-of-type {\n",
       "        vertical-align: middle;\n",
       "    }\n",
       "\n",
       "    .dataframe tbody tr th {\n",
       "        vertical-align: top;\n",
       "    }\n",
       "\n",
       "    .dataframe thead th {\n",
       "        text-align: right;\n",
       "    }\n",
       "</style>\n",
       "<table border=\"1\" class=\"dataframe\">\n",
       "  <thead>\n",
       "    <tr style=\"text-align: right;\">\n",
       "      <th></th>\n",
       "      <th>model_name</th>\n",
       "      <th>train_score</th>\n",
       "      <th>validate_score</th>\n",
       "      <th>score_difference</th>\n",
       "    </tr>\n",
       "  </thead>\n",
       "  <tbody>\n",
       "    <tr>\n",
       "      <th>0</th>\n",
       "      <td>Random Forest</td>\n",
       "      <td>0.709544</td>\n",
       "      <td>0.490385</td>\n",
       "      <td>0.219159</td>\n",
       "    </tr>\n",
       "    <tr>\n",
       "      <th>1</th>\n",
       "      <td>Random Forest</td>\n",
       "      <td>0.634855</td>\n",
       "      <td>0.480769</td>\n",
       "      <td>0.154086</td>\n",
       "    </tr>\n",
       "  </tbody>\n",
       "</table>\n",
       "</div>"
      ],
      "text/plain": [
       "      model_name  train_score  validate_score  score_difference\n",
       "0  Random Forest     0.709544        0.490385          0.219159\n",
       "1  Random Forest     0.634855        0.480769          0.154086"
      ]
     },
     "execution_count": 197,
     "metadata": {},
     "output_type": "execute_result"
    }
   ],
   "source": [
    "scores"
   ]
  },
  {
   "cell_type": "markdown",
   "id": "689e1e06",
   "metadata": {},
   "source": [
    "##### Gradient Boosting"
   ]
  },
  {
   "cell_type": "code",
   "execution_count": 74,
   "id": "6bea2b07",
   "metadata": {},
   "outputs": [],
   "source": [
    "gb = GradientBoostingClassifier(random_state=seed)"
   ]
  },
  {
   "cell_type": "code",
   "execution_count": 75,
   "id": "c5f652b2",
   "metadata": {},
   "outputs": [],
   "source": [
    "GradientBoostingClassifier?"
   ]
  },
  {
   "cell_type": "code",
   "execution_count": 77,
   "id": "c75d0f88",
   "metadata": {},
   "outputs": [],
   "source": [
    "gb_parameters = {\n",
    "    'learning_rate': [0.1, 0.3, 0.5],\n",
    "    'n_estimators': [100, 150, 200],\n",
    "    'max_depth': [6, 8, 10],\n",
    "}\n",
    "grid_gb = GridSearchCV(estimator=gb, param_grid=gb_parameters, cv=2, n_jobs=-1)\n",
    "grid_gb.fit(X_train, y_train)"
   ]
  },
  {
   "cell_type": "code",
   "execution_count": 176,
   "id": "4a4a4512",
   "metadata": {},
   "outputs": [],
   "source": [
    "grid_gb = GridSearchCV(estimator=gb, param_grid=gb_parameters, cv=2, n_jobs=-1)"
   ]
  },
  {
   "cell_type": "code",
   "execution_count": 178,
   "id": "28fb32e2",
   "metadata": {
    "scrolled": true
   },
   "outputs": [
    {
     "data": {
      "text/plain": [
       "GridSearchCV(cv=5,\n",
       "             estimator=GradientBoostingClassifier(learning_rate=0.2,\n",
       "                                                  max_depth=6,\n",
       "                                                  random_state=42),\n",
       "             n_jobs=-1,\n",
       "             param_grid={'learning_rate': [0.1, 0.3, 0.5],\n",
       "                         'max_depth': [6, 8, 10], 'min_samples_leaf': [2, 3, 5],\n",
       "                         'n_estimators': [100, 150, 200]})"
      ]
     },
     "execution_count": 178,
     "metadata": {},
     "output_type": "execute_result"
    }
   ],
   "source": [
    "grid_gb.fit(X_train, y_train)"
   ]
  },
  {
   "cell_type": "code",
   "execution_count": 179,
   "id": "0727ce44",
   "metadata": {},
   "outputs": [
    {
     "data": {
      "text/plain": [
       "GradientBoostingClassifier(max_depth=6, min_samples_leaf=2, n_estimators=150,\n",
       "                           random_state=42)"
      ]
     },
     "execution_count": 179,
     "metadata": {},
     "output_type": "execute_result"
    }
   ],
   "source": [
    "grid_gb.best_estimator_"
   ]
  },
  {
   "cell_type": "code",
   "execution_count": 115,
   "id": "c5550c05",
   "metadata": {},
   "outputs": [],
   "source": [
    "gb = GradientBoostingClassifier(learning_rate=0.2, max_depth=6, min_samples_leaf=1, n_estimators=100, random_state=seed)"
   ]
  },
  {
   "cell_type": "code",
   "execution_count": 180,
   "id": "32b8ceba",
   "metadata": {},
   "outputs": [
    {
     "data": {
      "text/plain": [
       "0.983402489626556"
      ]
     },
     "execution_count": 180,
     "metadata": {},
     "output_type": "execute_result"
    }
   ],
   "source": [
    "#grid_gb.fit(X_train, y_train)\n",
    "grid_gb.best_estimator_.score(X_train, y_train)"
   ]
  },
  {
   "cell_type": "code",
   "execution_count": 181,
   "id": "eec62133",
   "metadata": {},
   "outputs": [
    {
     "data": {
      "text/plain": [
       "0.46153846153846156"
      ]
     },
     "execution_count": 181,
     "metadata": {},
     "output_type": "execute_result"
    }
   ],
   "source": [
    "grid_gb.best_estimator_.score(X_validate, y_validate)"
   ]
  },
  {
   "cell_type": "code",
   "execution_count": 54,
   "id": "d7da44da",
   "metadata": {},
   "outputs": [],
   "source": [
    "def run_gradient_boosting(cv=3):\n",
    "    '''\n",
    "    Classifier: Gradient Boosting\n",
    "    Creates a dictionary of parameters for the classifier \n",
    "    Uses GridSearchCV to find the best combination of parameters\n",
    "    Prints the selected parameters on the screen\n",
    "    Fits the classifier with best parameters to the training set using GridSearch\n",
    "    Calculates accuracy scores for the training and validate sets and saves them into scores dataframe\n",
    "    -----------\n",
    "    Parameters:\n",
    "        cv: integer, number of cross validation folds for the grid search\n",
    "    No returns\n",
    "    '''\n",
    "    # create a dictionary of parameters\n",
    "    gb_parameters = {\n",
    "        'learning_rate': [0.1, 0.2, 0.3],\n",
    "        'n_estimators': [100, 150, 200],\n",
    "        'max_depth': [5, 6, 7],\n",
    "    }\n",
    "    # create a classifier\n",
    "    gb = GradientBoostingClassifier(random_state=seed)\n",
    "    # create a grid search\n",
    "    grid_gb = GridSearchCV(estimator=gb, param_grid=gb_parameters, cv=cv, n_jobs=-1)\n",
    "    # fit on train set\n",
    "    grid_gb.fit(X_train, y_train)\n",
    "    # print the best parameter's comination\n",
    "    print(f'Gradient Boosting Parameters:  {grid_gb.best_params_}')\n",
    "    # calculate scores\n",
    "    train_score = grid_gb.best_estimator_.score(X_train, y_train)\n",
    "    validate_score = grid_gb.best_estimator_.score(X_validate, y_validate)\n",
    "    # save scores \n",
    "    scores.loc[len(scores)] = ['Gradient Boosting', train_score, validate_score, train_score - validate_score]"
   ]
  },
  {
   "cell_type": "code",
   "execution_count": 202,
   "id": "503adb88",
   "metadata": {},
   "outputs": [
    {
     "name": "stdout",
     "output_type": "stream",
     "text": [
      "Gradient Boosting Parameters:  {'learning_rate': 0.1, 'max_depth': 5, 'n_estimators': 150}\n"
     ]
    }
   ],
   "source": [
    "run_gradient_boosting()"
   ]
  },
  {
   "cell_type": "code",
   "execution_count": 203,
   "id": "d2ec107e",
   "metadata": {
    "scrolled": true
   },
   "outputs": [
    {
     "data": {
      "text/html": [
       "<div>\n",
       "<style scoped>\n",
       "    .dataframe tbody tr th:only-of-type {\n",
       "        vertical-align: middle;\n",
       "    }\n",
       "\n",
       "    .dataframe tbody tr th {\n",
       "        vertical-align: top;\n",
       "    }\n",
       "\n",
       "    .dataframe thead th {\n",
       "        text-align: right;\n",
       "    }\n",
       "</style>\n",
       "<table border=\"1\" class=\"dataframe\">\n",
       "  <thead>\n",
       "    <tr style=\"text-align: right;\">\n",
       "      <th></th>\n",
       "      <th>model_name</th>\n",
       "      <th>train_score</th>\n",
       "      <th>validate_score</th>\n",
       "      <th>score_difference</th>\n",
       "    </tr>\n",
       "  </thead>\n",
       "  <tbody>\n",
       "    <tr>\n",
       "      <th>0</th>\n",
       "      <td>Random Forest</td>\n",
       "      <td>0.709544</td>\n",
       "      <td>0.490385</td>\n",
       "      <td>0.219159</td>\n",
       "    </tr>\n",
       "    <tr>\n",
       "      <th>1</th>\n",
       "      <td>Random Forest</td>\n",
       "      <td>0.634855</td>\n",
       "      <td>0.480769</td>\n",
       "      <td>0.154086</td>\n",
       "    </tr>\n",
       "    <tr>\n",
       "      <th>2</th>\n",
       "      <td>Gradient Boosting</td>\n",
       "      <td>0.983402</td>\n",
       "      <td>0.471154</td>\n",
       "      <td>0.512249</td>\n",
       "    </tr>\n",
       "    <tr>\n",
       "      <th>3</th>\n",
       "      <td>Gradient Boosting</td>\n",
       "      <td>0.983402</td>\n",
       "      <td>0.509615</td>\n",
       "      <td>0.473787</td>\n",
       "    </tr>\n",
       "  </tbody>\n",
       "</table>\n",
       "</div>"
      ],
      "text/plain": [
       "          model_name  train_score  validate_score  score_difference\n",
       "0      Random Forest     0.709544        0.490385          0.219159\n",
       "1      Random Forest     0.634855        0.480769          0.154086\n",
       "2  Gradient Boosting     0.983402        0.471154          0.512249\n",
       "3  Gradient Boosting     0.983402        0.509615          0.473787"
      ]
     },
     "execution_count": 203,
     "metadata": {},
     "output_type": "execute_result"
    }
   ],
   "source": [
    "scores"
   ]
  },
  {
   "cell_type": "markdown",
   "id": "70a4c034",
   "metadata": {},
   "source": [
    "##### XGBoost"
   ]
  },
  {
   "cell_type": "code",
   "execution_count": 119,
   "id": "e43ebb21",
   "metadata": {},
   "outputs": [],
   "source": [
    "xb_parameters = {\n",
    "    'max_depth': [3, 4, 5, 6],\n",
    "    'gamma': [0.1, 0.2, 0.5]\n",
    "}"
   ]
  },
  {
   "cell_type": "code",
   "execution_count": 134,
   "id": "a875a5aa",
   "metadata": {},
   "outputs": [],
   "source": [
    "xb = xgb.XGBClassifier(n_estimators=100,eval_metric='merror',seed=seed)"
   ]
  },
  {
   "cell_type": "code",
   "execution_count": 129,
   "id": "9c090b25",
   "metadata": {},
   "outputs": [],
   "source": [
    "grid_xb = GridSearchCV(estimator=xb, param_grid=xb_parameters, cv=2, n_jobs=-1)"
   ]
  },
  {
   "cell_type": "code",
   "execution_count": 61,
   "id": "1e5df19e",
   "metadata": {},
   "outputs": [],
   "source": [
    "lang_map = {'Java':0, 'C#':1, 'JavaScript':2, 'Python':3}"
   ]
  },
  {
   "cell_type": "code",
   "execution_count": 62,
   "id": "c4cdbd7f",
   "metadata": {},
   "outputs": [],
   "source": [
    "y_train_numeric = y_train.map(lang_map)\n",
    "y_validate_numeric = y_validate.map(lang_map)\n",
    "y_test_numeric = y_test.map(lang_map)"
   ]
  },
  {
   "cell_type": "code",
   "execution_count": 132,
   "id": "89f1b3ad",
   "metadata": {},
   "outputs": [
    {
     "data": {
      "text/plain": [
       "GridSearchCV(cv=2,\n",
       "             estimator=XGBClassifier(base_score=None, booster=None,\n",
       "                                     callbacks=None, colsample_bylevel=None,\n",
       "                                     colsample_bynode=None,\n",
       "                                     colsample_bytree=None,\n",
       "                                     early_stopping_rounds=None,\n",
       "                                     enable_categorical=False,\n",
       "                                     eval_metric='merror', feature_types=None,\n",
       "                                     gamma=None, gpu_id=None, grow_policy=None,\n",
       "                                     importance_type=None,\n",
       "                                     interaction_constraints=None,\n",
       "                                     learning_rate=None, max_bin=None,\n",
       "                                     max_cat_threshold=None,\n",
       "                                     max_cat_to_onehot=None,\n",
       "                                     max_delta_step=None, max_depth=None,\n",
       "                                     max_leaves=None, min_child_weight=None,\n",
       "                                     missing=nan, monotone_constraints=None,\n",
       "                                     n_estimators=100, n_jobs=None,\n",
       "                                     num_parallel_tree=None, predictor=None,\n",
       "                                     random_state=42, ...),\n",
       "             n_jobs=-1,\n",
       "             param_grid={'gamma': [0.1, 0.2, 0.5], 'max_depth': [3, 4, 5, 6]})"
      ]
     },
     "execution_count": 132,
     "metadata": {},
     "output_type": "execute_result"
    }
   ],
   "source": [
    "grid_xb.fit(X_train, y_train_numeric)"
   ]
  },
  {
   "cell_type": "code",
   "execution_count": 150,
   "id": "8e4eff52",
   "metadata": {},
   "outputs": [
    {
     "data": {
      "text/plain": [
       "{'gamma': 0.5, 'max_depth': 3}"
      ]
     },
     "execution_count": 150,
     "metadata": {},
     "output_type": "execute_result"
    }
   ],
   "source": [
    "grid_xb.best_params_"
   ]
  },
  {
   "cell_type": "code",
   "execution_count": 147,
   "id": "5bbae18e",
   "metadata": {},
   "outputs": [],
   "source": [
    "xb = xgb.XGBClassifier(n_estimators=100,eval_metric='merror',gamma=0.5, max_depth=3, seed=seed)"
   ]
  },
  {
   "cell_type": "code",
   "execution_count": 148,
   "id": "f355bd51",
   "metadata": {},
   "outputs": [
    {
     "data": {
      "text/plain": [
       "0.9336099585062241"
      ]
     },
     "execution_count": 148,
     "metadata": {},
     "output_type": "execute_result"
    }
   ],
   "source": [
    "xb.fit(X_train, y_train_numeric)\n",
    "xb.score(X_train, y_train_numeric)"
   ]
  },
  {
   "cell_type": "code",
   "execution_count": 149,
   "id": "d6d54070",
   "metadata": {},
   "outputs": [
    {
     "data": {
      "text/plain": [
       "0.5288461538461539"
      ]
     },
     "execution_count": 149,
     "metadata": {},
     "output_type": "execute_result"
    }
   ],
   "source": [
    "xb.score(X_validate, y_validate_numeric)"
   ]
  },
  {
   "cell_type": "code",
   "execution_count": 161,
   "id": "30ebdf00",
   "metadata": {},
   "outputs": [],
   "source": [
    "def modelfit(alg, X_train, y_train, useTrainCV=True, cv_folds=5, early_stopping_rounds=50):\n",
    "    \n",
    "    if useTrainCV:\n",
    "        xgb_param = alg.get_xgb_params()\n",
    "        xgtrain = xgb.DMatrix(X_train.values, label=y_train_numeric.values)\n",
    "        cvresult = xgb.cv(xgb_param, xgtrain, num_boost_round=alg.get_params()['n_estimators'], nfold=cv_folds,\n",
    "            metrics='merror', early_stopping_rounds=early_stopping_rounds)\n",
    "        alg.set_params(n_estimators=cvresult.shape[0])\n",
    "    \n",
    "    #Fit the algorithm on the data\n",
    "    alg.fit(X_train, y_train_numeric,eval_metric='merror')\n",
    "        \n",
    "    #Predict training set:\n",
    "    dtrain_predictions = alg.predict(X_train)\n",
    "    dtrain_predprob = alg.predict_proba(X_train)[:,1]\n",
    "        \n",
    "    #Print model report:\n",
    "    print(\"\\nModel Report\")\n",
    "    print(\"Accuracy : %.4g\" % metrics.accuracy_score(dtrain['Disbursed'].values, dtrain_predictions))\n",
    "    print(\"AUC Score (Train): %f\" % metrics.roc_auc_score(dtrain['Disbursed'], dtrain_predprob))\n",
    "                    \n",
    "    feat_imp = pd.Series(alg.booster().get_fscore()).sort_values(ascending=False)\n",
    "    feat_imp.plot(kind='bar', title='Feature Importances')\n",
    "    plt.ylabel('Feature Importance Score')"
   ]
  },
  {
   "cell_type": "code",
   "execution_count": 163,
   "id": "2b2e2d0b",
   "metadata": {},
   "outputs": [],
   "source": [
    "#modelfit(xb, X_train, y_train_numeric)"
   ]
  },
  {
   "cell_type": "code",
   "execution_count": 168,
   "id": "f0b7e524",
   "metadata": {},
   "outputs": [],
   "source": [
    "xgb.plot_importance?"
   ]
  },
  {
   "cell_type": "code",
   "execution_count": 173,
   "id": "e189bcb4",
   "metadata": {},
   "outputs": [
    {
     "data": {
      "image/png": "[encoded data removed]",
      "text/plain": [
       "<Figure size 720x504 with 1 Axes>"
      ]
     },
     "metadata": {
      "needs_background": "light"
     },
     "output_type": "display_data"
    }
   ],
   "source": [
    "import matplotlib.pyplot as plt\n",
    "xgb.plot_importance(xb, max_num_features=7)\n",
    "plt.rcParams['figure.figsize'] = [10,7]\n",
    "plt.show()"
   ]
  },
  {
   "cell_type": "code",
   "execution_count": 67,
   "id": "f68d87c9",
   "metadata": {},
   "outputs": [],
   "source": [
    "def run_xgboost(cv=3):\n",
    "    '''\n",
    "    Classifier: XGBoost\n",
    "    Creates a dictionary of parameters for the classifier \n",
    "    Uses GridSearchCV to find the best combination of parameters\n",
    "    Prints the selected parameters on the screen\n",
    "    Fits the classifier with best parameters to the training set using GridSearch\n",
    "    Calculates accuracy scores for the training and validate sets and saves them into scores dataframe\n",
    "    Prints Feature Importance bar chart\n",
    "    -----------\n",
    "    Parameters:\n",
    "        cv: integer, number of cross validation folds for the grid search\n",
    "    No returns\n",
    "    '''\n",
    "    # create parameters\n",
    "    xb_parameters = {\n",
    "        'max_depth': [3, 4, 5, 6],\n",
    "        'gamma': [0.1, 0.2, 0.3]\n",
    "    }\n",
    "    # create a classifier\n",
    "    xb = xgb.XGBClassifier(n_estimators=100,eval_metric='merror',seed=seed)\n",
    "    # create a grid search\n",
    "    grid_xb = GridSearchCV(estimator=xb, param_grid=xb_parameters, cv=cv, n_jobs=-1)\n",
    "    # fit on the train set\n",
    "    grid_xb.fit(X_train, y_train_numeric)\n",
    "    # print parameters\n",
    "    print(f'XGBoost Parameters:  {grid_xb.best_params_}')\n",
    "    print()\n",
    "    # calculate scores\n",
    "    train_score = grid_xb.best_estimator_.score(X_train, y_train_numeric)\n",
    "    validate_score = grid_xb.best_estimator_.score(X_validate, y_validate_numeric)\n",
    "    # add scores to the dataframe\n",
    "    scores.loc[len(scores)] = ['XGBoost', train_score, validate_score, train_score - validate_score]\n",
    "    # create a braplot and display it\n",
    "    # because the plot needs the classifier to be fit first directly, not through the grid search\n",
    "    # we create the classifier again using the best parameters {'gamma': 0.2, 'max_depth': 4}\n",
    "    xb = xgb.XGBClassifier(gamma=0.2, max_depth=4 ,n_estimators=100,eval_metric='merror',seed=seed)\n",
    "    xb.fit(X_train, y_train_numeric)\n",
    "    xgb.plot_importance(xb, max_num_features=7)\n",
    "    plt.rcParams['figure.figsize'] = [10,7]\n",
    "    plt.show()"
   ]
  },
  {
   "cell_type": "code",
   "execution_count": 216,
   "id": "d62a4f31",
   "metadata": {},
   "outputs": [
    {
     "name": "stdout",
     "output_type": "stream",
     "text": [
      "XGBoost Parameters:  {'gamma': 0.2, 'max_depth': 4}\n",
      "\n"
     ]
    },
    {
     "data": {
      "image/png": "[encoded data removed]",
      "text/plain": [
       "<Figure size 720x504 with 1 Axes>"
      ]
     },
     "metadata": {
      "needs_background": "light"
     },
     "output_type": "display_data"
    }
   ],
   "source": [
    "run_xgboost()"
   ]
  },
  {
   "cell_type": "markdown",
   "id": "f9ed42d3",
   "metadata": {},
   "source": [
    "##### Logistic Regression"
   ]
  },
  {
   "cell_type": "code",
   "execution_count": 38,
   "id": "79ccf541",
   "metadata": {},
   "outputs": [],
   "source": [
    "lr = LogisticRegression(random_state=seed)\n",
    "lr.fit(X_train, y_train)\n",
    "train_score_lr = lr.score(X_train, y_train)\n",
    "validate_score_lr = lr.score(X_validate, y_validate)\n",
    "scores.loc[len(scores)] = \\\n",
    "    ['Logistic Regression', train_score_lr, validate_score_lr, train_score_lr - validate_score_lr]"
   ]
  },
  {
   "cell_type": "code",
   "execution_count": 39,
   "id": "f2d6fc14",
   "metadata": {},
   "outputs": [],
   "source": [
    "validate_score_lr = lr.score(X_validate, y_validate)"
   ]
  },
  {
   "cell_type": "code",
   "execution_count": 25,
   "id": "1b6f917b",
   "metadata": {},
   "outputs": [],
   "source": [
    "scores.loc[len(scores)] = \\\n",
    "    ['Logistic Regression', train_score_lr, validate_score_lr, train_score_lr - validate_score_lr]"
   ]
  },
  {
   "cell_type": "code",
   "execution_count": 26,
   "id": "235c4b6c",
   "metadata": {},
   "outputs": [
    {
     "data": {
      "text/html": [
       "<div>\n",
       "<style scoped>\n",
       "    .dataframe tbody tr th:only-of-type {\n",
       "        vertical-align: middle;\n",
       "    }\n",
       "\n",
       "    .dataframe tbody tr th {\n",
       "        vertical-align: top;\n",
       "    }\n",
       "\n",
       "    .dataframe thead th {\n",
       "        text-align: right;\n",
       "    }\n",
       "</style>\n",
       "<table border=\"1\" class=\"dataframe\">\n",
       "  <thead>\n",
       "    <tr style=\"text-align: right;\">\n",
       "      <th></th>\n",
       "      <th>model_name</th>\n",
       "      <th>train_score</th>\n",
       "      <th>validate_score</th>\n",
       "      <th>score_difference</th>\n",
       "    </tr>\n",
       "  </thead>\n",
       "  <tbody>\n",
       "    <tr>\n",
       "      <th>0</th>\n",
       "      <td>Logistic Regression</td>\n",
       "      <td>0.86722</td>\n",
       "      <td>0.548077</td>\n",
       "      <td>0.319143</td>\n",
       "    </tr>\n",
       "  </tbody>\n",
       "</table>\n",
       "</div>"
      ],
      "text/plain": [
       "            model_name  train_score  validate_score  score_difference\n",
       "0  Logistic Regression      0.86722        0.548077          0.319143"
      ]
     },
     "execution_count": 26,
     "metadata": {},
     "output_type": "execute_result"
    }
   ],
   "source": [
    "scores"
   ]
  },
  {
   "cell_type": "code",
   "execution_count": 28,
   "id": "5de68b11",
   "metadata": {},
   "outputs": [],
   "source": [
    "mnb = MultinomialNB(alpha=0.2)"
   ]
  },
  {
   "cell_type": "code",
   "execution_count": 68,
   "id": "b2a6d6a5",
   "metadata": {},
   "outputs": [],
   "source": [
    "def run_multinomial_nb(cv:int=3):\n",
    "    '''\n",
    "    Classifier: Multinomial Naive Bayes\n",
    "    Creates a dictionary of parameters for the classifier \n",
    "    Uses GridSearchCV to find the best combination of parameters\n",
    "    Prints the selected parameters on the screen\n",
    "    Fits the classifier with best parameters to the training set using GridSearch\n",
    "    Calculates accuracy scores for the training and validate sets and saves them into scores dataframe\n",
    "    -----------\n",
    "    Parameters:\n",
    "        cv: integer, number of cross validation folds for the grid search\n",
    "    No returns\n",
    "    '''\n",
    "    mnb_parameters = {'alpha': [0.2, 0.5, 1.0]}\n",
    "    mnb = MultinomialNB(alpha=0.2)\n",
    "    grid_mnb = GridSearchCV(estimator=mnb, param_grid=mnb_parameters, cv=cv, n_jobs=-1)\n",
    "    # fit on the train set\n",
    "    grid_mnb.fit(X_train, y_train)\n",
    "    # print parameters\n",
    "    print(f'Multinomial NB Parameters:  {grid_mnb.best_params_}')\n",
    "    # calculate scores\n",
    "    train_score = grid_mnb.best_estimator_.score(X_train, y_train)\n",
    "    validate_score = grid_mnb.best_estimator_.score(X_validate, y_validate)\n",
    "    # add scores to the dataframe\n",
    "    scores.loc[len(scores)] = ['Multinomail Naive Bayes', train_score, validate_score, train_score - validate_score]"
   ]
  },
  {
   "cell_type": "code",
   "execution_count": 41,
   "id": "820b0c58",
   "metadata": {},
   "outputs": [
    {
     "data": {
      "text/html": [
       "<div>\n",
       "<style scoped>\n",
       "    .dataframe tbody tr th:only-of-type {\n",
       "        vertical-align: middle;\n",
       "    }\n",
       "\n",
       "    .dataframe tbody tr th {\n",
       "        vertical-align: top;\n",
       "    }\n",
       "\n",
       "    .dataframe thead th {\n",
       "        text-align: right;\n",
       "    }\n",
       "</style>\n",
       "<table border=\"1\" class=\"dataframe\">\n",
       "  <thead>\n",
       "    <tr style=\"text-align: right;\">\n",
       "      <th></th>\n",
       "      <th>model_name</th>\n",
       "      <th>train_score</th>\n",
       "      <th>validate_score</th>\n",
       "      <th>score_difference</th>\n",
       "    </tr>\n",
       "  </thead>\n",
       "  <tbody>\n",
       "    <tr>\n",
       "      <th>0</th>\n",
       "      <td>Logistic Regression</td>\n",
       "      <td>0.867220</td>\n",
       "      <td>0.548077</td>\n",
       "      <td>0.319143</td>\n",
       "    </tr>\n",
       "    <tr>\n",
       "      <th>1</th>\n",
       "      <td>Multinomail Naive Bayes</td>\n",
       "      <td>0.892116</td>\n",
       "      <td>0.586538</td>\n",
       "      <td>0.305578</td>\n",
       "    </tr>\n",
       "    <tr>\n",
       "      <th>2</th>\n",
       "      <td>Multinomail Naive Bayes</td>\n",
       "      <td>0.892116</td>\n",
       "      <td>0.586538</td>\n",
       "      <td>0.305578</td>\n",
       "    </tr>\n",
       "    <tr>\n",
       "      <th>3</th>\n",
       "      <td>Gaussian Naive Bayes</td>\n",
       "      <td>0.879668</td>\n",
       "      <td>0.509615</td>\n",
       "      <td>0.370053</td>\n",
       "    </tr>\n",
       "  </tbody>\n",
       "</table>\n",
       "</div>"
      ],
      "text/plain": [
       "                model_name  train_score  validate_score  score_difference\n",
       "0      Logistic Regression     0.867220        0.548077          0.319143\n",
       "1  Multinomail Naive Bayes     0.892116        0.586538          0.305578\n",
       "2  Multinomail Naive Bayes     0.892116        0.586538          0.305578\n",
       "3     Gaussian Naive Bayes     0.879668        0.509615          0.370053"
      ]
     },
     "execution_count": 41,
     "metadata": {},
     "output_type": "execute_result"
    }
   ],
   "source": [
    "scores"
   ]
  },
  {
   "cell_type": "code",
   "execution_count": 33,
   "id": "556a2c1f",
   "metadata": {},
   "outputs": [
    {
     "name": "stdout",
     "output_type": "stream",
     "text": [
      "Multinomial NB Parameters:  {'alpha': 0.2}\n",
      "\n"
     ]
    }
   ],
   "source": [
    "run_multinomial_nb(5)"
   ]
  },
  {
   "cell_type": "code",
   "execution_count": 40,
   "id": "c094e633",
   "metadata": {},
   "outputs": [],
   "source": [
    "nb = GaussianNB()\n",
    "nb.fit(X_train, y_train)\n",
    "train_score_nb = nb.score(X_train, y_train)\n",
    "validate_score_nb = nb.score(X_validate, y_validate)\n",
    "scores.loc[len(scores)] = \\\n",
    "    ['Gaussian Naive Bayes', train_score_nb, validate_score_nb, train_score_nb - validate_score_nb]"
   ]
  },
  {
   "cell_type": "code",
   "execution_count": 36,
   "id": "268413f8",
   "metadata": {},
   "outputs": [],
   "source": [
    "MultinomialNB?"
   ]
  },
  {
   "cell_type": "code",
   "execution_count": 70,
   "id": "dc491080",
   "metadata": {},
   "outputs": [],
   "source": [
    "def run_other():\n",
    "    '''\n",
    "    Classifier #1: Logistic Regression\n",
    "    Classifier #2: Gaussian Naive Bayes\n",
    "    Creates Logistic Regression and Gaussian NB, fits them on the training set\n",
    "    Calculates accuracy scores for the training and validate sets and saves them into scores dataframe\n",
    "    -----------\n",
    "    No parameters\n",
    "    No returns\n",
    "    '''\n",
    "    ##### STEP 1\n",
    "    # create Logistic Regression\n",
    "    lr = LogisticRegression(random_state=seed)\n",
    "    # fit on the train set\n",
    "    lr.fit(X_train, y_train)\n",
    "    # calculate scores\n",
    "    train_score_lr = lr.score(X_train, y_train)\n",
    "    validate_score_lr = lr.score(X_validate, y_validate)\n",
    "    # print params\n",
    "    print('Logistic Regression: default paramters')\n",
    "    # save the scores\n",
    "    scores.loc[len(scores)] = \\\n",
    "        ['Logistic Regression', train_score_lr, validate_score_lr, train_score_lr - validate_score_lr]\n",
    "    \n",
    "    ##### STEP 2\n",
    "    # create Gaussian NB\n",
    "    nb = GaussianNB()\n",
    "    # fit on the train set\n",
    "    nb.fit(X_train, y_train)\n",
    "    # calculate scores\n",
    "    train_score_nb = nb.score(X_train, y_train)\n",
    "    validate_score_nb = nb.score(X_validate, y_validate)\n",
    "    # print params\n",
    "    print('Gaussian NB parameters: default paramters')\n",
    "    # save the scores\n",
    "    scores.loc[len(scores)] = \\\n",
    "        ['Gaussian Naive Bayes', train_score_nb, validate_score_nb, train_score_nb - validate_score_nb]"
   ]
  },
  {
   "cell_type": "code",
   "execution_count": 43,
   "id": "43c027a9",
   "metadata": {},
   "outputs": [],
   "source": [
    "run_other()"
   ]
  },
  {
   "cell_type": "code",
   "execution_count": 44,
   "id": "b687783d",
   "metadata": {},
   "outputs": [
    {
     "data": {
      "text/html": [
       "<div>\n",
       "<style scoped>\n",
       "    .dataframe tbody tr th:only-of-type {\n",
       "        vertical-align: middle;\n",
       "    }\n",
       "\n",
       "    .dataframe tbody tr th {\n",
       "        vertical-align: top;\n",
       "    }\n",
       "\n",
       "    .dataframe thead th {\n",
       "        text-align: right;\n",
       "    }\n",
       "</style>\n",
       "<table border=\"1\" class=\"dataframe\">\n",
       "  <thead>\n",
       "    <tr style=\"text-align: right;\">\n",
       "      <th></th>\n",
       "      <th>model_name</th>\n",
       "      <th>train_score</th>\n",
       "      <th>validate_score</th>\n",
       "      <th>score_difference</th>\n",
       "    </tr>\n",
       "  </thead>\n",
       "  <tbody>\n",
       "    <tr>\n",
       "      <th>0</th>\n",
       "      <td>Logistic Regression</td>\n",
       "      <td>0.867220</td>\n",
       "      <td>0.548077</td>\n",
       "      <td>0.319143</td>\n",
       "    </tr>\n",
       "    <tr>\n",
       "      <th>1</th>\n",
       "      <td>Multinomail Naive Bayes</td>\n",
       "      <td>0.892116</td>\n",
       "      <td>0.586538</td>\n",
       "      <td>0.305578</td>\n",
       "    </tr>\n",
       "    <tr>\n",
       "      <th>2</th>\n",
       "      <td>Multinomail Naive Bayes</td>\n",
       "      <td>0.892116</td>\n",
       "      <td>0.586538</td>\n",
       "      <td>0.305578</td>\n",
       "    </tr>\n",
       "    <tr>\n",
       "      <th>3</th>\n",
       "      <td>Gaussian Naive Bayes</td>\n",
       "      <td>0.879668</td>\n",
       "      <td>0.509615</td>\n",
       "      <td>0.370053</td>\n",
       "    </tr>\n",
       "    <tr>\n",
       "      <th>4</th>\n",
       "      <td>Logistic Regression</td>\n",
       "      <td>0.867220</td>\n",
       "      <td>0.548077</td>\n",
       "      <td>0.319143</td>\n",
       "    </tr>\n",
       "    <tr>\n",
       "      <th>5</th>\n",
       "      <td>Gaussian Naive Bayes</td>\n",
       "      <td>0.879668</td>\n",
       "      <td>0.509615</td>\n",
       "      <td>0.370053</td>\n",
       "    </tr>\n",
       "  </tbody>\n",
       "</table>\n",
       "</div>"
      ],
      "text/plain": [
       "                model_name  train_score  validate_score  score_difference\n",
       "0      Logistic Regression     0.867220        0.548077          0.319143\n",
       "1  Multinomail Naive Bayes     0.892116        0.586538          0.305578\n",
       "2  Multinomail Naive Bayes     0.892116        0.586538          0.305578\n",
       "3     Gaussian Naive Bayes     0.879668        0.509615          0.370053\n",
       "4      Logistic Regression     0.867220        0.548077          0.319143\n",
       "5     Gaussian Naive Bayes     0.879668        0.509615          0.370053"
      ]
     },
     "execution_count": 44,
     "metadata": {},
     "output_type": "execute_result"
    }
   ],
   "source": [
    "scores"
   ]
  },
  {
   "cell_type": "code",
   "execution_count": 58,
   "id": "91a5e902",
   "metadata": {},
   "outputs": [],
   "source": [
    "def run_decision_tree(cv:int=3):\n",
    "    '''\n",
    "    Classifier: Decision Tree algorithm\n",
    "    Creates a dictionary of parameters for the classifier\n",
    "        Uses GridSearchCV to find the best combination of parameters\n",
    "    Prints the selected parameters on the screen\n",
    "    Fits the classifier with best parameters to the training set using GridSearch\n",
    "    Calculates accuracy scores for the training and validate sets and saves them into scores dataframe\n",
    "    -----------\n",
    "    Parameters:\n",
    "        cv: integer, number of cross validation folds for the grid search\n",
    "    No returns\n",
    "    '''\n",
    "    # create a dictionary of parameters\n",
    "    DTC_parameters = {'max_depth':[ 1 , 2 , 3 , 4 , 5 , 6 , 7 , 8 , 9 , 10 ]\n",
    "                     }\n",
    "    # create a classifier\n",
    "    DTC = DecisionTreeClassifier(random_state=seed)\n",
    "    # creat a grid search\n",
    "    grid_DTC = GridSearchCV(estimator=DTC, param_grid=DTC_parameters, cv=cv, n_jobs=-1)\n",
    "    # fit on train set\n",
    "    grid_DTC.fit(X_train, y_train)\n",
    "    # print the best parameter's comination\n",
    "    print(f'Best parameters per algorithm:')\n",
    "    print('------------------------------------------------------------------------------------------------------------------------------------')\n",
    "    print(f'Decision Tree Parameters:  {grid_DTC.best_params_}')\n",
    "    # calculate scores\n",
    "    train_score = grid_DTC.best_estimator_.score(X_train, y_train)\n",
    "    validate_score = grid_DTC.best_estimator_.score(X_validate, y_validate)\n",
    "    # save the scores into a dataframe\n",
    "    scores.loc[len(scores)] = ['Decision Tree', train_score, validate_score, train_score - validate_score]"
   ]
  },
  {
   "cell_type": "code",
   "execution_count": 72,
   "id": "d99ec016",
   "metadata": {},
   "outputs": [],
   "source": [
    "def run_all_classifiers() -> pd.DataFrame:\n",
    "    '''\n",
    "    Runs all classifiers.\n",
    "    No returns\n",
    "    '''\n",
    "    run_decision_tree()\n",
    "    run_random_forest()\n",
    "    run_other() # 2 classifiers\n",
    "    run_multinomial_nb()\n",
    "    run_gradient_boosting()\n",
    "    run_xgboost()"
   ]
  },
  {
   "cell_type": "code",
   "execution_count": 77,
   "id": "5a893a76",
   "metadata": {},
   "outputs": [
    {
     "data": {
      "text/html": [
       "<div>\n",
       "<style scoped>\n",
       "    .dataframe tbody tr th:only-of-type {\n",
       "        vertical-align: middle;\n",
       "    }\n",
       "\n",
       "    .dataframe tbody tr th {\n",
       "        vertical-align: top;\n",
       "    }\n",
       "\n",
       "    .dataframe thead th {\n",
       "        text-align: right;\n",
       "    }\n",
       "</style>\n",
       "<table border=\"1\" class=\"dataframe\">\n",
       "  <thead>\n",
       "    <tr style=\"text-align: right;\">\n",
       "      <th></th>\n",
       "      <th>model_name</th>\n",
       "      <th>train_score</th>\n",
       "      <th>validate_score</th>\n",
       "      <th>score_difference</th>\n",
       "    </tr>\n",
       "  </thead>\n",
       "  <tbody>\n",
       "    <tr>\n",
       "      <th>1</th>\n",
       "      <td>Random Forest</td>\n",
       "      <td>0.634855</td>\n",
       "      <td>0.480769</td>\n",
       "      <td>0.154086</td>\n",
       "    </tr>\n",
       "    <tr>\n",
       "      <th>21</th>\n",
       "      <td>Random Forest</td>\n",
       "      <td>0.634855</td>\n",
       "      <td>0.480769</td>\n",
       "      <td>0.154086</td>\n",
       "    </tr>\n",
       "    <tr>\n",
       "      <th>14</th>\n",
       "      <td>Random Forest</td>\n",
       "      <td>0.634855</td>\n",
       "      <td>0.480769</td>\n",
       "      <td>0.154086</td>\n",
       "    </tr>\n",
       "    <tr>\n",
       "      <th>7</th>\n",
       "      <td>Random Forest</td>\n",
       "      <td>0.634855</td>\n",
       "      <td>0.480769</td>\n",
       "      <td>0.154086</td>\n",
       "    </tr>\n",
       "    <tr>\n",
       "      <th>0</th>\n",
       "      <td>Decision Tree</td>\n",
       "      <td>0.622407</td>\n",
       "      <td>0.461538</td>\n",
       "      <td>0.160868</td>\n",
       "    </tr>\n",
       "    <tr>\n",
       "      <th>20</th>\n",
       "      <td>Decision Tree</td>\n",
       "      <td>0.622407</td>\n",
       "      <td>0.461538</td>\n",
       "      <td>0.160868</td>\n",
       "    </tr>\n",
       "    <tr>\n",
       "      <th>13</th>\n",
       "      <td>Decision Tree</td>\n",
       "      <td>0.622407</td>\n",
       "      <td>0.461538</td>\n",
       "      <td>0.160868</td>\n",
       "    </tr>\n",
       "    <tr>\n",
       "      <th>6</th>\n",
       "      <td>Decision Tree</td>\n",
       "      <td>0.622407</td>\n",
       "      <td>0.461538</td>\n",
       "      <td>0.160868</td>\n",
       "    </tr>\n",
       "    <tr>\n",
       "      <th>8</th>\n",
       "      <td>Multinomail Naive Bayes</td>\n",
       "      <td>0.892116</td>\n",
       "      <td>0.586538</td>\n",
       "      <td>0.305578</td>\n",
       "    </tr>\n",
       "    <tr>\n",
       "      <th>24</th>\n",
       "      <td>Multinomail Naive Bayes</td>\n",
       "      <td>0.892116</td>\n",
       "      <td>0.586538</td>\n",
       "      <td>0.305578</td>\n",
       "    </tr>\n",
       "    <tr>\n",
       "      <th>15</th>\n",
       "      <td>Multinomail Naive Bayes</td>\n",
       "      <td>0.892116</td>\n",
       "      <td>0.586538</td>\n",
       "      <td>0.305578</td>\n",
       "    </tr>\n",
       "    <tr>\n",
       "      <th>2</th>\n",
       "      <td>Multinomail Naive Bayes</td>\n",
       "      <td>0.892116</td>\n",
       "      <td>0.586538</td>\n",
       "      <td>0.305578</td>\n",
       "    </tr>\n",
       "    <tr>\n",
       "      <th>16</th>\n",
       "      <td>Logistic Regression</td>\n",
       "      <td>0.867220</td>\n",
       "      <td>0.548077</td>\n",
       "      <td>0.319143</td>\n",
       "    </tr>\n",
       "    <tr>\n",
       "      <th>9</th>\n",
       "      <td>Logistic Regression</td>\n",
       "      <td>0.867220</td>\n",
       "      <td>0.548077</td>\n",
       "      <td>0.319143</td>\n",
       "    </tr>\n",
       "    <tr>\n",
       "      <th>22</th>\n",
       "      <td>Logistic Regression</td>\n",
       "      <td>0.867220</td>\n",
       "      <td>0.548077</td>\n",
       "      <td>0.319143</td>\n",
       "    </tr>\n",
       "    <tr>\n",
       "      <th>3</th>\n",
       "      <td>Logistic Regression</td>\n",
       "      <td>0.867220</td>\n",
       "      <td>0.548077</td>\n",
       "      <td>0.319143</td>\n",
       "    </tr>\n",
       "    <tr>\n",
       "      <th>10</th>\n",
       "      <td>Gaussian Naive Bayes</td>\n",
       "      <td>0.879668</td>\n",
       "      <td>0.509615</td>\n",
       "      <td>0.370053</td>\n",
       "    </tr>\n",
       "    <tr>\n",
       "      <th>23</th>\n",
       "      <td>Gaussian Naive Bayes</td>\n",
       "      <td>0.879668</td>\n",
       "      <td>0.509615</td>\n",
       "      <td>0.370053</td>\n",
       "    </tr>\n",
       "    <tr>\n",
       "      <th>4</th>\n",
       "      <td>Gaussian Naive Bayes</td>\n",
       "      <td>0.879668</td>\n",
       "      <td>0.509615</td>\n",
       "      <td>0.370053</td>\n",
       "    </tr>\n",
       "    <tr>\n",
       "      <th>17</th>\n",
       "      <td>Gaussian Naive Bayes</td>\n",
       "      <td>0.879668</td>\n",
       "      <td>0.509615</td>\n",
       "      <td>0.370053</td>\n",
       "    </tr>\n",
       "    <tr>\n",
       "      <th>5</th>\n",
       "      <td>Gradient Boosting</td>\n",
       "      <td>0.983402</td>\n",
       "      <td>0.548077</td>\n",
       "      <td>0.435326</td>\n",
       "    </tr>\n",
       "    <tr>\n",
       "      <th>18</th>\n",
       "      <td>Gradient Boosting</td>\n",
       "      <td>0.983402</td>\n",
       "      <td>0.548077</td>\n",
       "      <td>0.435326</td>\n",
       "    </tr>\n",
       "    <tr>\n",
       "      <th>25</th>\n",
       "      <td>Gradient Boosting</td>\n",
       "      <td>0.983402</td>\n",
       "      <td>0.548077</td>\n",
       "      <td>0.435326</td>\n",
       "    </tr>\n",
       "    <tr>\n",
       "      <th>11</th>\n",
       "      <td>Gradient Boosting</td>\n",
       "      <td>0.983402</td>\n",
       "      <td>0.548077</td>\n",
       "      <td>0.435326</td>\n",
       "    </tr>\n",
       "    <tr>\n",
       "      <th>12</th>\n",
       "      <td>XGBoost</td>\n",
       "      <td>0.979253</td>\n",
       "      <td>0.528846</td>\n",
       "      <td>0.450407</td>\n",
       "    </tr>\n",
       "    <tr>\n",
       "      <th>19</th>\n",
       "      <td>XGBoost</td>\n",
       "      <td>0.979253</td>\n",
       "      <td>0.528846</td>\n",
       "      <td>0.450407</td>\n",
       "    </tr>\n",
       "    <tr>\n",
       "      <th>26</th>\n",
       "      <td>XGBoost</td>\n",
       "      <td>0.979253</td>\n",
       "      <td>0.528846</td>\n",
       "      <td>0.450407</td>\n",
       "    </tr>\n",
       "  </tbody>\n",
       "</table>\n",
       "</div>"
      ],
      "text/plain": [
       "                 model_name  train_score  validate_score  score_difference\n",
       "1             Random Forest     0.634855        0.480769          0.154086\n",
       "21            Random Forest     0.634855        0.480769          0.154086\n",
       "14            Random Forest     0.634855        0.480769          0.154086\n",
       "7             Random Forest     0.634855        0.480769          0.154086\n",
       "0             Decision Tree     0.622407        0.461538          0.160868\n",
       "20            Decision Tree     0.622407        0.461538          0.160868\n",
       "13            Decision Tree     0.622407        0.461538          0.160868\n",
       "6             Decision Tree     0.622407        0.461538          0.160868\n",
       "8   Multinomail Naive Bayes     0.892116        0.586538          0.305578\n",
       "24  Multinomail Naive Bayes     0.892116        0.586538          0.305578\n",
       "15  Multinomail Naive Bayes     0.892116        0.586538          0.305578\n",
       "2   Multinomail Naive Bayes     0.892116        0.586538          0.305578\n",
       "16      Logistic Regression     0.867220        0.548077          0.319143\n",
       "9       Logistic Regression     0.867220        0.548077          0.319143\n",
       "22      Logistic Regression     0.867220        0.548077          0.319143\n",
       "3       Logistic Regression     0.867220        0.548077          0.319143\n",
       "10     Gaussian Naive Bayes     0.879668        0.509615          0.370053\n",
       "23     Gaussian Naive Bayes     0.879668        0.509615          0.370053\n",
       "4      Gaussian Naive Bayes     0.879668        0.509615          0.370053\n",
       "17     Gaussian Naive Bayes     0.879668        0.509615          0.370053\n",
       "5         Gradient Boosting     0.983402        0.548077          0.435326\n",
       "18        Gradient Boosting     0.983402        0.548077          0.435326\n",
       "25        Gradient Boosting     0.983402        0.548077          0.435326\n",
       "11        Gradient Boosting     0.983402        0.548077          0.435326\n",
       "12                  XGBoost     0.979253        0.528846          0.450407\n",
       "19                  XGBoost     0.979253        0.528846          0.450407\n",
       "26                  XGBoost     0.979253        0.528846          0.450407"
      ]
     },
     "execution_count": 77,
     "metadata": {},
     "output_type": "execute_result"
    }
   ],
   "source": [
    "scores.sort_values(by='score_difference')\n",
    "#scores"
   ]
  },
  {
   "cell_type": "code",
   "execution_count": 78,
   "id": "b293563f",
   "metadata": {},
   "outputs": [
    {
     "name": "stdout",
     "output_type": "stream",
     "text": [
      "Random Forest Parameters:  {'max_depth': 5, 'min_samples_leaf': 2}\n"
     ]
    }
   ],
   "source": [
    "run_random_forest(5)"
   ]
  },
  {
   "cell_type": "code",
   "execution_count": 81,
   "id": "a23c7e18",
   "metadata": {},
   "outputs": [],
   "source": [
    "def run_best_model():\n",
    "    rf = RandomForestClassifier(max_depth=5, min_samples_leaf=2, random_state=seed)\n",
    "    rf.fit(X_train, y_train)\n",
    "    #calculate scores\n",
    "    train_score = round(rf.score(X_train, y_train), 2)\n",
    "    validate_score = round(rf.score(X_validate, y_validate), 2)\n",
    "    test_score = round(rf.score(X_test, y_test), 2)\n",
    "    yhat=rf.predict(X_test)\n",
    "    return pd.DataFrame({'result':['Random Forest', train_score, validate_score, test_score]},\\\n",
    "                          index=['Model name', 'Train score', 'Validate score', 'Test score'])"
   ]
  },
  {
   "cell_type": "code",
   "execution_count": 82,
   "id": "b87e9dbe",
   "metadata": {},
   "outputs": [
    {
     "data": {
      "text/html": [
       "<div>\n",
       "<style scoped>\n",
       "    .dataframe tbody tr th:only-of-type {\n",
       "        vertical-align: middle;\n",
       "    }\n",
       "\n",
       "    .dataframe tbody tr th {\n",
       "        vertical-align: top;\n",
       "    }\n",
       "\n",
       "    .dataframe thead th {\n",
       "        text-align: right;\n",
       "    }\n",
       "</style>\n",
       "<table border=\"1\" class=\"dataframe\">\n",
       "  <thead>\n",
       "    <tr style=\"text-align: right;\">\n",
       "      <th></th>\n",
       "      <th>result</th>\n",
       "    </tr>\n",
       "  </thead>\n",
       "  <tbody>\n",
       "    <tr>\n",
       "      <th>Model name</th>\n",
       "      <td>Random Forest</td>\n",
       "    </tr>\n",
       "    <tr>\n",
       "      <th>Train score</th>\n",
       "      <td>0.63</td>\n",
       "    </tr>\n",
       "    <tr>\n",
       "      <th>Validate score</th>\n",
       "      <td>0.48</td>\n",
       "    </tr>\n",
       "    <tr>\n",
       "      <th>Test score</th>\n",
       "      <td>0.59</td>\n",
       "    </tr>\n",
       "  </tbody>\n",
       "</table>\n",
       "</div>"
      ],
      "text/plain": [
       "                       result\n",
       "Model name      Random Forest\n",
       "Train score              0.63\n",
       "Validate score           0.48\n",
       "Test score               0.59"
      ]
     },
     "execution_count": 82,
     "metadata": {},
     "output_type": "execute_result"
    }
   ],
   "source": [
    "run_best_model()"
   ]
  },
  {
   "cell_type": "code",
   "execution_count": 84,
   "id": "0252900e",
   "metadata": {
    "scrolled": true
   },
   "outputs": [
    {
     "data": {
      "text/html": [
       "<div>\n",
       "<style scoped>\n",
       "    .dataframe tbody tr th:only-of-type {\n",
       "        vertical-align: middle;\n",
       "    }\n",
       "\n",
       "    .dataframe tbody tr th {\n",
       "        vertical-align: top;\n",
       "    }\n",
       "\n",
       "    .dataframe thead th {\n",
       "        text-align: right;\n",
       "    }\n",
       "</style>\n",
       "<table border=\"1\" class=\"dataframe\">\n",
       "  <thead>\n",
       "    <tr style=\"text-align: right;\">\n",
       "      <th></th>\n",
       "      <th>result</th>\n",
       "    </tr>\n",
       "  </thead>\n",
       "  <tbody>\n",
       "    <tr>\n",
       "      <th>Model name</th>\n",
       "      <td>Random Forest</td>\n",
       "    </tr>\n",
       "    <tr>\n",
       "      <th>Train score</th>\n",
       "      <td>0.98</td>\n",
       "    </tr>\n",
       "    <tr>\n",
       "      <th>Validate score</th>\n",
       "      <td>0.53</td>\n",
       "    </tr>\n",
       "    <tr>\n",
       "      <th>Test score</th>\n",
       "      <td>0.55</td>\n",
       "    </tr>\n",
       "  </tbody>\n",
       "</table>\n",
       "</div>"
      ],
      "text/plain": [
       "                       result\n",
       "Model name      Random Forest\n",
       "Train score              0.98\n",
       "Validate score           0.53\n",
       "Test score               0.55"
      ]
     },
     "execution_count": 84,
     "metadata": {},
     "output_type": "execute_result"
    }
   ],
   "source": [
    "run_best_model()"
   ]
  },
  {
   "cell_type": "code",
   "execution_count": 87,
   "id": "bb55eb23",
   "metadata": {},
   "outputs": [],
   "source": [
    "from importlib import reload"
   ]
  },
  {
   "cell_type": "code",
   "execution_count": 90,
   "id": "191bfa2a",
   "metadata": {},
   "outputs": [
    {
     "data": {
      "text/plain": [
       "<module 'modeling' from '/Users/nadina/codeup-data-science/Codeup-Mirzakhani-GitHub-Scrape-NLP-Project/modeling.py'>"
      ]
     },
     "execution_count": 90,
     "metadata": {},
     "output_type": "execute_result"
    }
   ],
   "source": [
    "reload(md)"
   ]
  },
  {
   "cell_type": "code",
   "execution_count": 85,
   "id": "64cc218d",
   "metadata": {},
   "outputs": [],
   "source": [
    "import modeling as md"
   ]
  },
  {
   "cell_type": "code",
   "execution_count": 91,
   "id": "d818a40f",
   "metadata": {},
   "outputs": [
    {
     "name": "stdout",
     "output_type": "stream",
     "text": [
      "Best parameters per algorithm:\n",
      "----------------------------------------------------\n",
      "Decision Tree Parameters:  {'max_depth': 6}\n",
      "Random Forest Parameters:  {'max_depth': 5, 'min_samples_leaf': 2}\n",
      "Logistic Regression: default paramters\n",
      "Gaussian NB parameters: default paramters\n",
      "Multinomial NB Parameters:  {'alpha': 0.2}\n",
      "Gradient Boosting Parameters:  {'learning_rate': 0.2, 'max_depth': 6, 'n_estimators': 150}\n",
      "XGBoost Parameters:  {'gamma': 0.2, 'max_depth': 4}\n",
      "\n"
     ]
    }
   ],
   "source": [
    "md.run_all_classifiers()"
   ]
  },
  {
   "cell_type": "code",
   "execution_count": 92,
   "id": "2c25767c",
   "metadata": {},
   "outputs": [
    {
     "data": {
      "image/png": "[encoded data removed]",
      "text/plain": [
       "<Figure size 720x504 with 1 Axes>"
      ]
     },
     "metadata": {
      "needs_background": "light"
     },
     "output_type": "display_data"
    }
   ],
   "source": [
    "md.display_feature_importance()"
   ]
  },
  {
   "cell_type": "code",
   "execution_count": 93,
   "id": "a2a8eae2",
   "metadata": {},
   "outputs": [
    {
     "data": {
      "text/html": [
       "<div>\n",
       "<style scoped>\n",
       "    .dataframe tbody tr th:only-of-type {\n",
       "        vertical-align: middle;\n",
       "    }\n",
       "\n",
       "    .dataframe tbody tr th {\n",
       "        vertical-align: top;\n",
       "    }\n",
       "\n",
       "    .dataframe thead th {\n",
       "        text-align: right;\n",
       "    }\n",
       "</style>\n",
       "<table border=\"1\" class=\"dataframe\">\n",
       "  <thead>\n",
       "    <tr style=\"text-align: right;\">\n",
       "      <th></th>\n",
       "      <th>model_name</th>\n",
       "      <th>train_score</th>\n",
       "      <th>validate_score</th>\n",
       "      <th>score_difference</th>\n",
       "    </tr>\n",
       "  </thead>\n",
       "  <tbody>\n",
       "    <tr>\n",
       "      <th>1</th>\n",
       "      <td>Random Forest</td>\n",
       "      <td>0.634855</td>\n",
       "      <td>0.480769</td>\n",
       "      <td>0.154086</td>\n",
       "    </tr>\n",
       "    <tr>\n",
       "      <th>0</th>\n",
       "      <td>Decision Tree</td>\n",
       "      <td>0.622407</td>\n",
       "      <td>0.461538</td>\n",
       "      <td>0.160868</td>\n",
       "    </tr>\n",
       "    <tr>\n",
       "      <th>4</th>\n",
       "      <td>Multinomail Naive Bayes</td>\n",
       "      <td>0.892116</td>\n",
       "      <td>0.586538</td>\n",
       "      <td>0.305578</td>\n",
       "    </tr>\n",
       "    <tr>\n",
       "      <th>2</th>\n",
       "      <td>Logistic Regression</td>\n",
       "      <td>0.867220</td>\n",
       "      <td>0.548077</td>\n",
       "      <td>0.319143</td>\n",
       "    </tr>\n",
       "    <tr>\n",
       "      <th>3</th>\n",
       "      <td>Gaussian Naive Bayes</td>\n",
       "      <td>0.879668</td>\n",
       "      <td>0.509615</td>\n",
       "      <td>0.370053</td>\n",
       "    </tr>\n",
       "    <tr>\n",
       "      <th>5</th>\n",
       "      <td>Gradient Boosting</td>\n",
       "      <td>0.983402</td>\n",
       "      <td>0.548077</td>\n",
       "      <td>0.435326</td>\n",
       "    </tr>\n",
       "    <tr>\n",
       "      <th>6</th>\n",
       "      <td>XGBoost</td>\n",
       "      <td>0.979253</td>\n",
       "      <td>0.528846</td>\n",
       "      <td>0.450407</td>\n",
       "    </tr>\n",
       "  </tbody>\n",
       "</table>\n",
       "</div>"
      ],
      "text/plain": [
       "                model_name  train_score  validate_score  score_difference\n",
       "1            Random Forest     0.634855        0.480769          0.154086\n",
       "0            Decision Tree     0.622407        0.461538          0.160868\n",
       "4  Multinomail Naive Bayes     0.892116        0.586538          0.305578\n",
       "2      Logistic Regression     0.867220        0.548077          0.319143\n",
       "3     Gaussian Naive Bayes     0.879668        0.509615          0.370053\n",
       "5        Gradient Boosting     0.983402        0.548077          0.435326\n",
       "6                  XGBoost     0.979253        0.528846          0.450407"
      ]
     },
     "metadata": {},
     "output_type": "display_data"
    }
   ],
   "source": [
    "md.display_scores()"
   ]
  },
  {
   "cell_type": "code",
   "execution_count": 94,
   "id": "993b239d",
   "metadata": {},
   "outputs": [
    {
     "data": {
      "text/html": [
       "<div>\n",
       "<style scoped>\n",
       "    .dataframe tbody tr th:only-of-type {\n",
       "        vertical-align: middle;\n",
       "    }\n",
       "\n",
       "    .dataframe tbody tr th {\n",
       "        vertical-align: top;\n",
       "    }\n",
       "\n",
       "    .dataframe thead th {\n",
       "        text-align: right;\n",
       "    }\n",
       "</style>\n",
       "<table border=\"1\" class=\"dataframe\">\n",
       "  <thead>\n",
       "    <tr style=\"text-align: right;\">\n",
       "      <th></th>\n",
       "      <th>result</th>\n",
       "    </tr>\n",
       "  </thead>\n",
       "  <tbody>\n",
       "    <tr>\n",
       "      <th>Model name</th>\n",
       "      <td>Random Forest</td>\n",
       "    </tr>\n",
       "    <tr>\n",
       "      <th>Train score</th>\n",
       "      <td>0.63</td>\n",
       "    </tr>\n",
       "    <tr>\n",
       "      <th>Validate score</th>\n",
       "      <td>0.48</td>\n",
       "    </tr>\n",
       "    <tr>\n",
       "      <th>Test score</th>\n",
       "      <td>0.59</td>\n",
       "    </tr>\n",
       "  </tbody>\n",
       "</table>\n",
       "</div>"
      ],
      "text/plain": [
       "                       result\n",
       "Model name      Random Forest\n",
       "Train score              0.63\n",
       "Validate score           0.48\n",
       "Test score               0.59"
      ]
     },
     "execution_count": 94,
     "metadata": {},
     "output_type": "execute_result"
    }
   ],
   "source": [
    "md.run_best_model()"
   ]
  },
  {
   "cell_type": "code",
   "execution_count": 1,
   "id": "8c7f8c1f",
   "metadata": {},
   "outputs": [
    {
     "name": "stdout",
     "output_type": "stream",
     "text": [
      "Interactive namespace is empty.\n"
     ]
    }
   ],
   "source": [
    "%who"
   ]
  },
  {
   "cell_type": "code",
   "execution_count": null,
   "id": "0017c45c",
   "metadata": {},
   "outputs": [],
   "source": []
  }
 ],
 "metadata": {
  "kernelspec": {
   "display_name": "Python 3 (ipykernel)",
   "language": "python",
   "name": "python3"
  },
  "language_info": {
   "codemirror_mode": {
    "name": "ipython",
    "version": 3
   },
   "file_extension": ".py",
   "mimetype": "text/x-python",
   "name": "python",
   "nbconvert_exporter": "python",
   "pygments_lexer": "ipython3",
   "version": "3.9.12"
  }
 },
 "nbformat": 4,
 "nbformat_minor": 5
}
