{
 "cells": [
  {
   "cell_type": "code",
   "execution_count": 1,
   "id": "8b5e10a7",
   "metadata": {},
   "outputs": [],
   "source": [
    "!code acquire.py"
   ]
  },
  {
   "cell_type": "code",
   "execution_count": 91,
   "id": "c726a2ec",
   "metadata": {},
   "outputs": [],
   "source": [
    "import os\n",
    "import json\n",
    "from typing import Dict, List, Optional, Union, cast\n",
    "import requests\n",
    "from bs4 import BeautifulSoup\n",
    "import pandas as pd\n",
    "\n",
    "from env import github_token, github_username"
   ]
  },
  {
   "cell_type": "code",
   "execution_count": 81,
   "id": "c45a01dc",
   "metadata": {},
   "outputs": [],
   "source": [
    "start_link = 'https://github.com/search?q=space&type=Repositories'\n",
    "filename = 'repos.json'\n",
    "headers = {\"Authorization\": f\"token {github_token}\", \"User-Agent\": github_username}\n",
    "response = requests.get(start_link, headers=headers)\n",
    "soup = BeautifulSoup(response.content, 'html.parser')\n",
    "main_link = 'https://github.com'\n",
    "languages = ['JavaScript', 'Python', 'C#', 'Java']\n",
    "all_blocks = soup.find_all('li', class_='repo-list-item hx_hit-repo d-flex flex-justify-start py-4 public source')\n",
    "test_links = []\n",
    "start_link = 'https://github.com/search?q=space&type=Repositories'\n",
    "#filename = 'repos.json'\n",
    "headers = {\"Authorization\": f\"token {github_token}\", \"User-Agent\": github_username}\n",
    "response = requests.get(start_link, headers=headers)\n",
    "all_blocks = soup.find_all('li', class_='repo-list-item hx_hit-repo d-flex flex-justify-start py-4 public source')\n",
    "\n",
    "for block in all_blocks:\n",
    "    language = block.find('span', itemprop='programmingLanguage').text\n",
    "    link = block.find('a', class_='v-align-middle')['href'][1:]\n",
    "    \n",
    "    test_links.append(link)\n"
   ]
  },
  {
   "cell_type": "code",
   "execution_count": 96,
   "id": "b62ad36e",
   "metadata": {},
   "outputs": [],
   "source": [
    "import acquire"
   ]
  },
  {
   "cell_type": "code",
   "execution_count": 104,
   "id": "19baf50f",
   "metadata": {},
   "outputs": [
    {
     "data": {
      "text/html": [
       "<div>\n",
       "<style scoped>\n",
       "    .dataframe tbody tr th:only-of-type {\n",
       "        vertical-align: middle;\n",
       "    }\n",
       "\n",
       "    .dataframe tbody tr th {\n",
       "        vertical-align: top;\n",
       "    }\n",
       "\n",
       "    .dataframe thead th {\n",
       "        text-align: right;\n",
       "    }\n",
       "</style>\n",
       "<table border=\"1\" class=\"dataframe\">\n",
       "  <thead>\n",
       "    <tr style=\"text-align: right;\">\n",
       "      <th></th>\n",
       "      <th>repo</th>\n",
       "      <th>language</th>\n",
       "      <th>readme_contents</th>\n",
       "    </tr>\n",
       "  </thead>\n",
       "  <tbody>\n",
       "    <tr>\n",
       "      <th>0</th>\n",
       "      <td>gocodeup/codeup-setup-script</td>\n",
       "      <td>Shell</td>\n",
       "      <td># Codeup Setup Script\\n\\nSetup script for Code...</td>\n",
       "    </tr>\n",
       "    <tr>\n",
       "      <th>1</th>\n",
       "      <td>gocodeup/movies-application</td>\n",
       "      <td>JavaScript</td>\n",
       "      <td># Movies Application\\n\\nFor this project, we w...</td>\n",
       "    </tr>\n",
       "    <tr>\n",
       "      <th>2</th>\n",
       "      <td>torvalds/linux</td>\n",
       "      <td>C</td>\n",
       "      <td>Linux kernel\\n============\\n\\nThere are severa...</td>\n",
       "    </tr>\n",
       "  </tbody>\n",
       "</table>\n",
       "</div>"
      ],
      "text/plain": [
       "                           repo    language  \\\n",
       "0  gocodeup/codeup-setup-script       Shell   \n",
       "1   gocodeup/movies-application  JavaScript   \n",
       "2                torvalds/linux           C   \n",
       "\n",
       "                                     readme_contents  \n",
       "0  # Codeup Setup Script\\n\\nSetup script for Code...  \n",
       "1  # Movies Application\\n\\nFor this project, we w...  \n",
       "2  Linux kernel\\n============\\n\\nThere are severa...  "
      ]
     },
     "execution_count": 104,
     "metadata": {},
     "output_type": "execute_result"
    }
   ],
   "source": [
    "pd.DataFrame(acquire.scrape_github_data())"
   ]
  },
  {
   "cell_type": "code",
   "execution_count": 88,
   "id": "5ae637f8",
   "metadata": {},
   "outputs": [],
   "source": [
    "REPOS = test_links"
   ]
  },
  {
   "cell_type": "code",
   "execution_count": 41,
   "id": "5de28008",
   "metadata": {},
   "outputs": [],
   "source": [
    "all_blocks = soup.find_all('li', class_='repo-list-item hx_hit-repo d-flex flex-justify-start py-4 public source')"
   ]
  },
  {
   "cell_type": "code",
   "execution_count": 84,
   "id": "559a1b0b",
   "metadata": {},
   "outputs": [
    {
     "data": {
      "text/plain": [
       "'SpaceVim/SpaceVim'"
      ]
     },
     "execution_count": 84,
     "metadata": {},
     "output_type": "execute_result"
    }
   ],
   "source": [
    "all_blocks[0].find('a', class_='v-align-middle')['href'][1:]"
   ]
  },
  {
   "cell_type": "code",
   "execution_count": 67,
   "id": "b9e3ee08",
   "metadata": {},
   "outputs": [],
   "source": [
    "test_links = []"
   ]
  },
  {
   "cell_type": "code",
   "execution_count": 105,
   "id": "e1ad9af7",
   "metadata": {
    "scrolled": true
   },
   "outputs": [],
   "source": [
    "#get_repo_contents('SpaceVim/SpaceVim')"
   ]
  },
  {
   "cell_type": "code",
   "execution_count": 90,
   "id": "484f6aad",
   "metadata": {},
   "outputs": [],
   "source": [
    "d = scrape_github_data()"
   ]
  },
  {
   "cell_type": "code",
   "execution_count": 106,
   "id": "6174e891",
   "metadata": {},
   "outputs": [],
   "source": [
    "d = pd.DataFrame(d)"
   ]
  },
  {
   "cell_type": "code",
   "execution_count": 139,
   "id": "197fd781",
   "metadata": {},
   "outputs": [],
   "source": [
    "s = BeautifulSoup(d.iloc[1, 2])"
   ]
  },
  {
   "cell_type": "code",
   "execution_count": 140,
   "id": "dbb36648",
   "metadata": {},
   "outputs": [
    {
     "data": {
      "text/plain": [
       "'philosophy | for whom? | screenshots | documentation | contribute | achievements | FAQ - - -\\n\\n**Quick Start**\\n\\nIf you *don\\'t* have an existing Emacs setup and want to run Spacemacs as your\\nconfiguration, and if you have all [prerequisites](#prerequisites) installed,\\nyou can install Spacemacs with one line:\\n\\n* shell:\\n  ```sh\\n  git clone https://github.com/syl20bnr/spacemacs $HOME/.emacs.d\\n  ```\\n\\n* Windows PowerShell:\\n\\n  ```powershell\\n  git clone https://github.com/syl20bnr/spacemacs $HOME/.emacs.d\\n  ```\\n\\n  If `HOME` is not set in environment or in registry:\\n\\n  ```powershell\\n  git clone https://github.com/syl20bnr/spacemacs $env:APPDATA/.emacs.d\\n  ```\\n\\nIf you do have an existing Emacs configuration, look at the [full installation\\ninstructions](#install) for other options.\\n\\n# Introduction\\nSpacemacs is a new way of experiencing Emacs -- it\\'s a sophisticated and\\npolished set-up, focused on *ergonomics*, *mnemonics* and *consistency*.\\n\\nJust clone and launch it, then press the space bar to explore the interactive\\nlist of carefully-chosen key bindings. You can also press the home buffer\\'s\\n`[?]` button for some great first key bindings to try.\\n\\nSpacemacs can be used naturally by both Emacs and Vim users -- you can even mix\\nthe two editing styles. Being able to quickly switch between input styles, makes\\nSpacemacs a great tool for pair-programming.\\n\\nSpacemacs is currently in beta, and any contributions are very welcome.\\n\\n![spacemacs_python](doc/img/spacemacs-python.png)\\n\\n# Features\\n- **Great documentation:** access the Spacemacs documentation with SPC h SPC .\\n- **Beautiful GUI:** you\\'ll love the distraction free UI and its functional\\nmode-line.\\n- **Excellent ergonomics:** all the key bindings are accessible by pressing the SPC or Alt-m .\\n- **Mnemonic key bindings:** commands have mnemonic prefixes like SPC b for all the buffer commands or SPC p for the project\\ncommands.\\n- **Batteries included:** discover hundreds of ready-to-use packages nicely\\norganized in configuration layers following a set of [conventions\\n][CONVENTIONS.org].\\n\\n# Documentation\\nComprehensive documentation is available for each layer by pressing SPC h\\nSPC .\\n\\nYou can also check the [general documentation][DOCUMENTATION.org],\\n[quick start guide][QUICK_START.org] and the [FAQ][FAQ.org].\\n\\n# Getting Help\\nIf you need help, ask your questions in the [Gitter Chat][] and a member of the\\ncommunity will help you out.\\n\\nIf you prefer IRC, connect to the [Gitter Chat IRC server][] and join the\\n`#syl20bnr/spacemacs` channel.\\n\\nLast but not least there are a lot of high class tutorials available on YouTube:\\n* Jack of Some\\'s [Spacemacs tutorial videos][jack-of-some].\\n* GDQuest\\'s [Game Design oriented tutorials ][gdquest] to Spacemacs.\\n* Practicalli\\'s [Clojure tutorials based on Spacemacs][practicalli].\\n* Eivind Fonn\\'s classic [Spacemacs ABC][eivind-fonn].\\n\\n# Prerequisites\\n\\n1. A package manager if the OS doesn\\'t have one already.\\n\\n2. Spacemacs is an extension of a popular text editor called [Emacs][GNU Emacs].\\n   So you\\'ll need Emacs installed first.\\n\\n   Spacemacs requires Emacs 27.1 or above. The development version of Emacs is\\n   not *officially* supported, but it should nevertheless be expected to work.\\n\\n3. [git][Git] is required to download and update Spacemacs.\\n\\n4. Tar, in particular [GNU Tar][], is required to install and update Emacs\\n   packages used by Spacemacs.\\n\\n5. *(Optional)* The default font used by Spacemacs is [Source Code Pro][]. You\\n   may customize your own font settings and choose another font. If you want to\\n   use this default font, it must be installed.\\n\\n   Spacemacs also uses fallback fonts to ensure certain Unicode symbols it uses\\n   symbols appear correctly. The fonts used are determined by the OS:\\n\\n   - Linux: [Nanum Gothic][]\\n   - macOS: [Arial Unicode MS][]\\n   - Windows: [MS Gothic][] and [Lucida Sans Unicode][]\\n\\n   If the mode-line doesn\\'t look similar to the [picture at the top of this\\n   page](#introduction), make sure you have the correct fallback font installed.\\n\\n6. *(Optional)* Various commands in Spacemacs needs one of the following line\\n   searching program:\\n\\n   - [ripgrep (rg)][ripgrep]\\n   - [The silver searcher (ag)][ag]\\n   - [The platinum searcher (pt)][pt]\\n   - [ack][]\\n   - [GNU Grep][] or [BSD Grep][]\\n\\n   Grep is very slow but it\\'s widely available on most systems and is used as an\\n   fallback option.\\n\\n   We strongly recommend [ripgrep][] over other line searching programs, for its\\n   blazing fast speed. The following subsections helps you to install it.\\n\\n### Linux\\n\\n1. Most Linux distribution ships a package manager already and if this is the\\n   case you are all set for this step.\\n\\n   If it doesn\\'t, you may need to build the softwares mentioned below from their\\n   sources.\\n\\n2. In most distributions, Emacs is installed via an `emacs` package from the\\n   package manager.\\n\\n   **N.B.** DO not install [XEmacs][] because it\\'s not supported by Spacemacs.\\n   XEmacs is an old fork of Emacs with various [subtle\\n   differences][Emacs And XEmacs].\\n\\n   **N.B.** Some Linux distributions support only Emacs versions older than\\n   27.1. In this case you should\\n   [build it from source][Build Emacs from Source] instead.\\n\\n3. Very likely Git is already installed on your system. Otherwise, you should\\n   be able to install `git` from your system\\'s package manager.\\n\\n4. Very likely Tar is already installed on your system. Otherwise, you should\\n   be able to install `tar` from your system\\'s package manager.\\n\\n5. *(Optional)* If Nerd Fonts and Nanum Gothic are available from your\\n   distribution\\'s package manager, you should install it there.\\n\\n   Otherwise, the generic way to install it is:\\n\\n   1. Download the latest pre-built `TTF` font from and .\\n\\n   2. Extract the archive and move the font files to `~/.fonts`.\\n\\n   3. Refresh font cache with:\\n\\n   ```sh\\n   fc-cache -fv\\n   ```\\n\\n6. *(Optional)* If your distribution is listed [here][ripgrep-installation],\\n   follow the instructions. Otherwise, you can download its pre-built binary or\\n   build it from source.\\n\\n### macOS\\n\\n1. The most popular package manager on macOS is [Homebrew][], to install it:\\n\\n   ```sh\\n   /bin/bash -c \"$(curl -fsSL https://raw.githubusercontent.com/Homebrew/install/HEAD/install.sh)\"\\n   ```\\n\\n2. Several options exist for installing Emacs on macOS:\\n\\n   1. [Emacs Plus][] features [additional functionalities][Emacs Plus features]\\n      over base Emacs.\\n\\n      ```sh\\n      brew tap d12frosted/emacs-plus\\n\\n      # install latest stable release, with Spacemacs icon and native compilation\\n      brew install emacs-plus --with-spacemacs-icon --with-native-comp\\n      ```\\n\\n   2. [Emacs Mac Port][] adds native GUI support to Emacs 28. And the full list\\n      of features is available [here][Emacs Mac Port features].\\n\\n      ```sh\\n      brew tap railwaycat/emacsmacport\\n      brew install emacs-mac\\n      ```\\n\\n   3. [Emacs for Mac OS X][] is the binary build of GNU Emacs, *without* any\\n      extra feature.\\n\\n      ```sh\\n      brew install --cask emacs\\n      ```\\n\\n3. To install `git`:\\n\\n   ```sh\\n   brew install git\\n   ```\\n\\n4. macOS ships with [BSD Tar][], but there are reports of weird issues so we\\n   require [GNU Tar][] instead.\\n\\n   ```sh\\n   brew install gnu-tar\\n   ```\\n\\n5. *(Optional)* To install Source Code Pro Font:\\n\\n   ```sh\\n   brew tap homebrew/cask-fonts\\n   brew install --cask font-source-code-pro\\n   ```\\n\\n   Arial Unicode MS is shipped with macOS v10.5 and later so you don\\'t need to\\n   install it manually.\\n\\n6. *(Optional)* You can install `ripgrep` via `Homebrew`:\\n\\n   ```sh\\n   brew install ripgrep\\n   ```\\n\\n### Windows\\n\\n1. We recommend [Scoop][] as the package manager for Windows users. You can\\n   install it via PowerShell:\\n\\n   ```powershell\\n   Set-ExecutionPolicy RemoteSigned -Scope CurrentUser # Optional: Needed to run a remote script the first time\\n   irm get.scoop.sh | iex\\n   ```\\n\\n2. Emacs can be installed in PowerShell:\\n\\n   ```powershell\\n   scoop bucket add extras\\n   scoop install emacs\\n   ```\\n\\n3. To install `git` in PowerShell:\\n\\n   ```powershell\\n   scoop bucket add main\\n   scoop install git\\n   ```\\n\\n4. Windows 10 build 17063 and later ships with [BSD Tar][], but it\\'s required to\\n   install [GNU Tar][] instead to avoid possible issues. Alternatively, if\\n   you are running an earlier version of Windows, Tar isn\\'t installed. In either\\n   case, you can install GNU Tar via:\\n\\n   ```powershell\\n   scoop bucket add main\\n   scoop install tar\\n   ```\\n\\n5. To install Source Code Pro Font in PowerShell:\\n\\n   ```powershell\\n   scoop bucket add KnotUntied_scoop-fonts https://github.com/KnotUntied/scoop-fonts\\n   scoop install sourcecodepro\\n   ```\\n\\n   MS Gothic and Lucida Sans Unicode are shipped with Windows 2003 and later so\\n   you don\\'t need to install it manually.\\n\\n6. *(Optional)* You can install `ripgrep` in PowerShell:\\n\\n   ```powershell\\n   scoop bucket add main\\n   scoop install ripgrep\\n   ```\\n\\n# Install\\n\\n## Default Install\\n\\n1. The default installation downloads Spacemacs to the `.emacs.d` directory in\\n   your `HOME` directory.\\n\\n   But in the case of Windows, `HOME` is not set out-of-box. We recommend you to\\n   set it as an environment variable, with the same value as environment\\n   variable `HOMEPATH`, which usually looks like `C:\\\\Users\\\\ `.\\n\\n2. Since Spacemacs will now be downloaded at `$HOME/.emacs.d`, if it already\\n   exists it\\'ll be overridden.\\n\\n   Also, if you have either `$HOME/.emacs.el` or `$HOME/.emacs`, they will\\n   appear before Spacemacs in Emacs\\'s initialization steps. Thus they must be\\n   renamed in order for Spacemacs to load correctly.\\n\\n   To backup/rename the aforementioned files/directory, in shell:\\n\\n   ```sh\\n   [ -d $HOME/.emacs.d ] && mv $HOME/.emacs.d $HOME/.emacs.d.bak\\n   [ -f $HOME/.emacs.el ] && mv $HOME/.emacs.el .emacs.el.bak\\n   [ -f $HOME/.emacs ] && mv $HOME/.emacs $HOME/.emacs.bak\\n   ```\\n\\n    or in PowerShell:\\n\\n    ```powershell\\n    if( TestPath -Path $HOME/.emacs.d )\\n    {\\n        Rename-Item $HOME/.emacs.d $HOME/.emacs.d.bak\\n    }\\n    if( TestPath -Path $HOME/.emacs.el )\\n    {\\n        Rename-Item $HOME/.emacs.el $HOME/.emacs.el.bak\\n    }\\n    if( TestPath -Path $HOME/.emacs )\\n    {\\n        Rename-Item $HOME/.emacs $HOME/.emacs.bak\\n    }\\n    ```\\n\\n3. Now clone this repository with Git. The following work for both shell\\n   and PowerShell:\\n\\n   ```sh\\n   git clone https://github.com/syl20bnr/spacemacs $HOME/.emacs.d\\n   ```\\n\\n   In case you have a limited internet connection or limited speed:\\n\\n   ```sh\\n   git clone --depth 1 https://github.com/syl20bnr/spacemacs ~/.emacs.d\\n   ```\\n\\n4. Now you can launch Emacs and Spacemacs will be loaded.\\n\\n## Alternative Install Location\\n\\nTo install Spacemacs in a different location, we first need to introduce how\\nSpacemacs is loaded:\\n\\nWhen Emacs is started, it looks for the init file\\n[in a deterministic way][Emacs: Find Init]. The\\n[default installation](#default-install) exploits it by occupying\\n`$HOME/.emacs.d/init.el` and let Emacs use it as its init file.\\n\\nIn other word, in default installation, Emacs find and load\\n`$HOME/.emacs.d/init.el`, which is then responsible to load other files in\\n`$HOME/.emacs.d`.\\n\\nIf you want to install Spacemacs to a different location, you need to make\\nsure it\\'s loaded by Emacs in one of its [init file][Emacs: Find Init].\\n\\nFor example, if you\\'ve cloned Spacemacs to `$HOME/Spacemacs`, and if you use\\n`$HOME/.emacs.el` as Emacs init file, then the following lines in\\n`$HOME/.emacs.el`:\\n\\n```elisp\\n;; load Spacemacs\\'s initialization file, \"~\" is equivalent to \"$HOME\"\\n(load-file \"~/Spacemacs/init.el\")\\n```\\n\\n# First Launch and Configuration\\n\\n1. After cloning Spacemacs, the first time when you launch Emacs, Spacemacs will\\n   automatically install the essential packages it requires. This step is the\\n   bootstrap.\\n\\n2. Once the bootstrap packages are installed, Spacemacs checks whether you have\\n   an customization file `$HOME/.spacemacs`, known as `dotspacemacs`:\\n\\n   - If it already exists, Spacemacs loads it as the configuration.\\n   - Otherwise, you need to answer a few questions and Spacemacs will generate\\n     the `dotspacemacs` file for you.\\n\\n   If you are new to Emacs and/or Spacemacs, it\\'s fine to just accept the\\n   default choices. They can be changed in the `dotspacemacs` file later.\\n\\n3. Spacemacs will download and install remaining packages it will require,\\n   according to your `dotspacemacs`. When the all the packages have been\\n   installed, restart Emacs to complete the installation.\\n\\n4. `dotspacemacs` is the configuration file for Spacemacs, it\\'s self\\n   explanatory and is written in Emacs Lisp. Read\\n   [general documentation][DOCUMENTATION.org] and\\n   [quick start guide][QUICK_START.org] for more information.\\n\\n5. In case you want to store your `dotspacemacs` at another location, say\\n   under `$HOME/.spacemacs.d`:\\n\\n   - First set the environment variable `SPACEMACSDIR` to `$HOME/.spacemacs.d`.\\n   - Move `$HOME/.spacemacs` to `$HOME/.spacemacs.d/init.el`.\\n\\n   In other word, set `SPACEMACSDIR` to the parent directory of your\\n   `dotspacemacs`, and move `dotspacemacs` to the said directory.\\n\\n## Spacemacs logo\\n\\nFor Linux users, create `spacemacs.desktop` in `~/.local/share/applications/`\\nusing [this .desktop file][spacemacs-desktop] as a reference. Change the `Name`\\nparameter to `Name=Spacemacs` and the `Icon` parameter to\\n`Icon=/PATH/TO/EMACSD/core/banners/img/spacemacs.png` where `PATH/TO/EMACSD` is\\nthe path to your `.emacs.d` directory, by default `~/.emacs.d`.\\n\\nFor macOS users, you need to [download the .icns version of the\\nlogo][icon-repository] and simply [change the logo on the\\nDock][icon-mac-instructions].\\n\\n## Notes\\n\\n- Depending on the installed version of GnuTLS, securely installing Emacs\\n  packages may fail. It may also fail if you have a bad internet environment.\\n  In either case it is possible to install packages using `emacs --insecure`.\\n  However be aware that this means your packages will be transferred using HTTP,\\n  use at your own risk.\\n\\n- (*Windows)* If the following error occurs after starting Emacs:\\n\\n  ```\\n  The directory ~/.emacs.d/server is unsafe\\n  ```\\n\\n  Fix it by changing the owner of the directory `~/.emacs.d/server`:\\n    - From Properties select the Tab “Security”,\\n    - Select the button “Advanced”,\\n    - Select the Tab “Owner”\\n    - Change the owner to your account name\\n\\n  Source: [Stack Overflow][so-server-unsafe]\\n\\n- (*Windows*) The period (dot) before a file or folder name means that it\\'s a\\n  hidden file or folder. To show hidden files and folders:\\n  - Press the Windows key\\n  - Type `File explorer options`\\n  - Select the `View` tab at the top\\n  - Check `Show hidden files, folders and drives`\\n  - Click `OK`\\n\\n# Update\\n\\nSpacemacs supports two different update schemes, the default is a rolling update\\nscheme based on the latest version of packages available. This version can be\\nfound on the `develop` branch and is updated by a simple `git pull`.\\n\\nThe second method is deprecated. It was a fixed version scheme which was based\\non a stable set of packages. The latest fixed version can be found on the\\n`master` branch and would show a notification when a new version is available.\\nBe warned that this method has not been updated in a long time, so packages will\\nbe very old.\\n\\n## Rolling update (on develop)\\n1. Close Emacs and update the git repository:\\n\\n    ```sh\\n    git pull --rebase\\n    ```\\n\\n2. Restart Emacs to complete the upgrade.\\n\\n## Deprecated automatic update (on master branch)\\nWhen a new version is available, a little arrow will appear in the mode-line.\\n\\nIts color depends on the number of versions that have been released since the\\nlast update. Green means that you have a recent version, orange and red means\\nthat you have an older version.\\n\\n![powerline_update](doc/img/powerline-update.png)\\n\\nClick on the arrow to update Spacemacs to the latest version.\\n\\n## Manual update (on master branch)\\nRemove the `<` and `>` angle brackets when you\\'re typing the lines below into\\nyour shell. Make sure to also replace the text: \"tag version which you are\\nupdating to\" with a tagged version. This page lists the [latest tags][]\\n\\n```sh\\ngit fetch\\ngit reset --hard ```\\n\\n## Revert to a specific release version (on master branch)\\nTo revert to a specific release version, just checkout the corresponding branch.\\nFor instance, the following command reverts Spacemacs to version `0.200`:\\n\\n```sh\\ngit checkout origin/release-0.200\\n```\\n\\n**After updating Spacemacs (either manually or automatically), you should also\\ncheck if any updates are available for your packages. On the Spacemacs Home\\nBuffer SPC b h , click (press RET ) on the `[Update\\nPackages]` button, or use the convenient keybinding SPC f e U **\\n\\n# Quotes\\n[Quote][quote01] by [ashnur](https://github.com/ashnur):\\n\\n    «I feel that spacemacs is an aircraft carrier and I am playing table tennis\\n    on the deck as a freerider.»\\n\\n[Quote][quote02] by [deuill](https://github.com/deuill):\\n\\n    «I LOVE SPACEMACS AND MAGIT\\n\\n     That is all»\\n\\n# Contributions\\nSpacemacs is a community-driven project, it needs _you_ to keep it up to date\\nand to propose great and useful configurations for all the things!\\n\\nBefore contributing, be sure to consult the [contribution\\nguidelines][CONTRIBUTING.org] and [conventions][CONVENTIONS.org].\\n\\n# Communities\\n- [Gitter Chat][]\\n- [Stack Exchange][]\\n- [Reddit][]\\n\\n# Spacemacs Everywhere\\n\\nOnce you\\'ve learned the Spacemacs key bindings, you can use them in other\\nIDEs/tools, thanks to the following projects:\\n- [Intellimacs](https://github.com/MarcoIeni/intellimacs) - Spacemacs\\' like key\\n  bindings for IntelliJ platform\\n- [Spaceclipse](https://github.com/MarcoIeni/spaceclipse) - Spacemacs’ like key\\n  bindings for Eclipse\\n- [SpaceVim](https://github.com/SpaceVim/SpaceVim) - A community-driven modular\\n  vim distribution\\n- [VSpaceCode](https://github.com/VSpaceCode/VSpaceCode) - Spacemacs’ like key\\n  bindings for Visual Studio Code\\n\\n# License\\nThe license is GPLv3 for all parts specific to Spacemacs, this includes:\\n- the initialization and core files\\n- all the layer files\\n- the documentation\\n\\nFor the packages shipped in this repository, you can refer to the files header.\\n\\n[Spacemacs logo][] by [Nasser Alshammari][] released under a [Creative Commons\\nAttribution-ShareAlike 4.0 International\\nLicense.][creativecommons-4]\\n\\n# Supporting Spacemacs\\nThe best way to support Spacemacs is to contribute to it either by reporting\\nbugs, helping the community on the [Gitter Chat][] or sending pull requests.\\n\\nYou can show your love for the project by getting cool Spacemacs t-shirts, mugs\\nand more in the [Spacemacs Shop][].\\n\\nIf you want to show your support financially, then you can contribute to\\n[Bountysource][], or buy a drink for the maintainer by clicking on the [Paypal\\nbadge](#top).\\n\\nIf you used Spacemacs in a project, and you want to show that fact, you can use\\nthe Spacemacs badge: [![Built with\\nSpacemacs](https://cdn.rawgit.com/syl20bnr/spacemacs/442d025779da2f62fc86c2082703697714db6514/assets/spacemacs-badge.svg)](https://develop.spacemacs.org)\\n\\n- For Markdown:\\n\\n   ```markdown\\n   [![Built with Spacemacs](https://cdn.rawgit.com/syl20bnr/spacemacs/442d025779da2f62fc86c2082703697714db6514/assets/spacemacs-badge.svg)](https://develop.spacemacs.org)\\n   ```\\n\\n- For HTML:\\n\\n   ```html ```\\n\\n- For Org-mode:\\n\\n   ```org\\n   [[https://develop.spacemacs.org][file:https://cdn.rawgit.com/syl20bnr/spacemacs/442d025779da2f62fc86c2082703697714db6514/assets/spacemacs-badge.svg]]\\n   ```\\n\\nThank you!\\n\\n[CONTRIBUTING.org]: CONTRIBUTING.org\\n[CONVENTIONS.org]: doc/CONVENTIONS.org\\n[DOCUMENTATION.org]: doc/DOCUMENTATION.org\\n[FAQ.org]: doc/FAQ.org\\n[QUICK_START.org]: doc/QUICK_START.org\\n\\n[Gitter Chat]: https://gitter.im/syl20bnr/spacemacs\\n[Gitter Chat IRC server]: https://irc.gitter.im/\\n[Stack Exchange]: https://emacs.stackexchange.com/questions/tagged/spacemacs\\n[Reddit]: https://www.reddit.com/r/spacemacs\\n[jack-of-some]: https://www.youtube.com/watch?v=r-BHx7VNX5s&list=PLd_Oyt6lAQ8Rxb0HUnGbRrn6R4Cdt2yoI\\n[gdquest]: https://www.youtube.com/watch?v=hCNOB5jjtmc&list=PLhqJJNjsQ7KFkMVBunWWzFD8SlH714qm4\\n[practicalli]: https://www.youtube.com/watch?v=jMJ58Gcc1RI&list=PLpr9V-R8ZxiCHMl2_dn1Fovcd34Oz45su\\n[eivind-fonn]: https://www.youtube.com/watch?v=ZFV5EqpZ6_s&list=PLrJ2YN5y27KLhd3yNs2dR8_inqtEiEweE\\n\\n[GNU Emacs]: https://www.gnu.org/software/emacs/\\n[XEmacs]: https://www.xemacs.org\\n[Emacs And XEmacs]: https://www.emacswiki.org/emacs/EmacsAndXEmacs\\n[Build Emacs from Source]: https://www.gnu.org/software/emacs/manual/html_node/efaq/Installing-Emacs.html\\n[Emacs: Find Init]: https://www.gnu.org/software/emacs/manual/html_node/emacs/Find-Init.html\\n[Emacs Plus]: https://github.com/d12frosted/homebrew-emacs-plus\\n[Emacs Plus features]: https://github.com/d12frosted/homebrew-emacs-plus#features-explained\\n[Emacs Mac Port]: https://github.com/railwaycat/homebrew-emacsmacport\\n[Emacs Mac Port features]: https://bitbucket.org/mituharu/emacs-mac/src/master/README-mac\\n[Emacs for Mac OS X]: https://emacsformacosx.com/\\n[Git]: https://git-scm.com/downloads\\n[GNU Tar]: https://www.gnu.org/software/tar/\\n[BSD Tar]: https://man.openbsd.org/tar\\n[Source Code Pro]: https://adobe-fonts.github.io/source-code-pro/\\n[Nanum Gothic]: https://fonts.google.com/specimen/Nanum+Gothic\\n[Arial Unicode MS]: https://docs.microsoft.com/en-us/typography/font-list/arial-unicode-ms\\n[MS Gothic]: https://docs.microsoft.com/en-us/typography/font-list/ms-gothic\\n[Lucida Sans Unicode]: https://docs.microsoft.com/en-us/typography/font-list/lucida-sans-unicode\\n[ripgrep]: https://github.com/BurntSushi/ripgrep\\n[ripgrep-installation]: https://github.com/BurntSushi/ripgrep#installation=\\n[ag]: https://github.com/ggreer/the_silver_searcher\\n[pt]: https://github.com/monochromegane/the_platinum_searcher\\n[ack]: https://github.com/beyondgrep/ack3\\n[GNU Grep]: https://www.gnu.org/software/grep/\\n[BSD Grep]: https://man.openbsd.org/grep\\n[Homebrew]: https://brew.sh\\n[Scoop]: https://scoop.sh\\n\\n[spacemacs-desktop]: https://github.com/emacs-mirror/emacs/blob/master/etc/emacs.desktop\\n[icon-repository]: https://github.com/nashamri/spacemacs-logo\\n[icon-mac-instructions]: https://www.idownloadblog.com/2014/07/16/how-to-change-app-icon-mac/\\n\\n[so-server-unsafe]: https://stackoverflow.com/questions/885793/emacs-error-when-calling-server-start\\n\\n[latest tags]: https://github.com/syl20bnr/spacemacs/tags\\n\\n[quote01]: https://gitter.im/syl20bnr/spacemacs?at=568e627a0cdaaa62045a7df6\\n[quote02]: https://gitter.im/syl20bnr/spacemacs?at=5768456c6577f032450cfedb\\n\\n[Spacemacs logo]: https://github.com/nashamri/spacemacs-logo\\n[Nasser Alshammari]: https://github.com/nashamri\\n[creativecommons-4]: https://creativecommons.org/licenses/by-sa/4.0/\\n\\n[Spacemacs Shop]: https://shop.spreadshirt.com/spacemacs-shop\\n[Bountysource]: https://salt.bountysource.com/teams/spacemacs'"
      ]
     },
     "execution_count": 140,
     "metadata": {},
     "output_type": "execute_result"
    }
   ],
   "source": [
    "for data in s(['style', 'script']):\n",
    "    data.decompose()\n",
    "    \n",
    "' '.join(s.stripped_strings)"
   ]
  },
  {
   "cell_type": "code",
   "execution_count": 143,
   "id": "d78b7b9d",
   "metadata": {},
   "outputs": [
    {
     "data": {
      "text/plain": [
       "'\\n \\n \\n \\n  logo and links  \\n \\n \\n philosophy \\n|\\n for whom? \\n|\\n screenshots \\n|\\n documentation \\n|\\n contribute \\n|\\n achievements \\n|\\n FAQ \\n \\n  badges  \\n \\n \\n \\n \\n \\n \\n \\n \\n\\n- - -\\n\\n**Quick Start**\\n\\nIf you *don\\'t* have an existing Emacs setup and want to run Spacemacs as your\\nconfiguration, and if you have all [prerequisites](#prerequisites) installed,\\nyou can install Spacemacs with one line:\\n\\n* shell:\\n  ```sh\\n  git clone https://github.com/syl20bnr/spacemacs $HOME/.emacs.d\\n  ```\\n\\n* Windows PowerShell:\\n\\n  ```powershell\\n  git clone https://github.com/syl20bnr/spacemacs $HOME/.emacs.d\\n  ```\\n\\n  If `HOME` is not set in environment or in registry:\\n\\n  ```powershell\\n  git clone https://github.com/syl20bnr/spacemacs $env:APPDATA/.emacs.d\\n  ```\\n\\nIf you do have an existing Emacs configuration, look at the [full installation\\ninstructions](#install) for other options.\\n\\n# Introduction\\nSpacemacs is a new way of experiencing Emacs -- it\\'s a sophisticated and\\npolished set-up, focused on *ergonomics*, *mnemonics* and *consistency*.\\n\\nJust clone and launch it, then press the space bar to explore the interactive\\nlist of carefully-chosen key bindings. You can also press the home buffer\\'s\\n`[?]` button for some great first key bindings to try.\\n\\nSpacemacs can be used naturally by both Emacs and Vim users -- you can even mix\\nthe two editing styles. Being able to quickly switch between input styles, makes\\nSpacemacs a great tool for pair-programming.\\n\\nSpacemacs is currently in beta, and any contributions are very welcome.\\n\\n![spacemacs_python](doc/img/spacemacs-python.png)\\n\\n# Features\\n- **Great documentation:** access the Spacemacs documentation with\\n SPC h SPC .\\n- **Beautiful GUI:** you\\'ll love the distraction free UI and its functional\\nmode-line.\\n- **Excellent ergonomics:** all the key bindings are accessible by pressing the\\n SPC  or  Alt-m .\\n- **Mnemonic key bindings:** commands have mnemonic prefixes like\\n SPC b  for all the buffer commands or  SPC p  for the project\\ncommands.\\n- **Batteries included:** discover hundreds of ready-to-use packages nicely\\norganized in configuration layers following a set of [conventions\\n][CONVENTIONS.org].\\n\\n# Documentation\\nComprehensive documentation is available for each layer by pressing  SPC h\\nSPC .\\n\\nYou can also check the [general documentation][DOCUMENTATION.org],\\n[quick start guide][QUICK_START.org] and the [FAQ][FAQ.org].\\n\\n# Getting Help\\nIf you need help, ask your questions in the [Gitter Chat][] and a member of the\\ncommunity will help you out.\\n\\nIf you prefer IRC, connect to the [Gitter Chat IRC server][] and join the\\n`#syl20bnr/spacemacs` channel.\\n\\nLast but not least there are a lot of high class tutorials available on YouTube:\\n* Jack of Some\\'s [Spacemacs tutorial videos][jack-of-some].\\n* GDQuest\\'s [Game Design oriented tutorials ][gdquest] to Spacemacs.\\n* Practicalli\\'s [Clojure tutorials based on Spacemacs][practicalli].\\n* Eivind Fonn\\'s classic [Spacemacs ABC][eivind-fonn].\\n\\n# Prerequisites\\n\\n1. A package manager if the OS doesn\\'t have one already.\\n\\n2. Spacemacs is an extension of a popular text editor called [Emacs][GNU Emacs].\\n   So you\\'ll need Emacs installed first.\\n\\n   Spacemacs requires Emacs 27.1 or above. The development version of Emacs is\\n   not *officially* supported, but it should nevertheless be expected to work.\\n\\n3. [git][Git] is required to download and update Spacemacs.\\n\\n4. Tar, in particular [GNU Tar][], is required to install and update Emacs\\n   packages used by Spacemacs.\\n\\n5. *(Optional)* The default font used by Spacemacs is [Source Code Pro][]. You\\n   may customize your own font settings and choose another font. If you want to\\n   use this default font, it must be installed.\\n\\n   Spacemacs also uses fallback fonts to ensure certain Unicode symbols it uses\\n   symbols appear correctly. The fonts used are determined by the OS:\\n\\n   - Linux: [Nanum Gothic][]\\n   - macOS: [Arial Unicode MS][]\\n   - Windows: [MS Gothic][] and [Lucida Sans Unicode][]\\n\\n   If the mode-line doesn\\'t look similar to the [picture at the top of this\\n   page](#introduction), make sure you have the correct fallback font installed.\\n\\n6. *(Optional)* Various commands in Spacemacs needs one of the following line\\n   searching program:\\n\\n   - [ripgrep (rg)][ripgrep]\\n   - [The silver searcher (ag)][ag]\\n   - [The platinum searcher (pt)][pt]\\n   - [ack][]\\n   - [GNU Grep][] or [BSD Grep][]\\n\\n   Grep is very slow but it\\'s widely available on most systems and is used as an\\n   fallback option.\\n\\n   We strongly recommend [ripgrep][] over other line searching programs, for its\\n   blazing fast speed. The following subsections helps you to install it.\\n\\n### Linux\\n\\n1. Most Linux distribution ships a package manager already and if this is the\\n   case you are all set for this step.\\n\\n   If it doesn\\'t, you may need to build the softwares mentioned below from their\\n   sources.\\n\\n2. In most distributions, Emacs is installed via an `emacs` package from the\\n   package manager.\\n\\n   **N.B.** DO not install [XEmacs][] because it\\'s not supported by Spacemacs.\\n   XEmacs is an old fork of Emacs with various [subtle\\n   differences][Emacs And XEmacs].\\n\\n   **N.B.** Some Linux distributions support only Emacs versions older than\\n   27.1. In this case you should\\n   [build it from source][Build Emacs from Source] instead.\\n\\n3. Very likely Git is already installed on your system. Otherwise, you should\\n   be able to install `git` from your system\\'s package manager.\\n\\n4. Very likely Tar is already installed on your system. Otherwise, you should\\n   be able to install `tar` from your system\\'s package manager.\\n\\n5. *(Optional)* If Nerd Fonts and Nanum Gothic are available from your\\n   distribution\\'s package manager, you should install it there.\\n\\n   Otherwise, the generic way to install it is:\\n\\n   1. Download the latest pre-built `TTF` font from\\n        and\\n       .\\n\\n   2. Extract the archive and move the font files to `~/.fonts`.\\n\\n   3. Refresh font cache with:\\n\\n   ```sh\\n   fc-cache -fv\\n   ```\\n\\n6. *(Optional)* If your distribution is listed [here][ripgrep-installation],\\n   follow the instructions. Otherwise, you can download its pre-built binary or\\n   build it from source.\\n\\n### macOS\\n\\n1. The most popular package manager on macOS is [Homebrew][], to install it:\\n\\n   ```sh\\n   /bin/bash -c \"$(curl -fsSL https://raw.githubusercontent.com/Homebrew/install/HEAD/install.sh)\"\\n   ```\\n\\n2. Several options exist for installing Emacs on macOS:\\n\\n   1. [Emacs Plus][] features [additional functionalities][Emacs Plus features]\\n      over base Emacs.\\n\\n      ```sh\\n      brew tap d12frosted/emacs-plus\\n\\n      # install latest stable release, with Spacemacs icon and native compilation\\n      brew install emacs-plus --with-spacemacs-icon --with-native-comp\\n      ```\\n\\n   2. [Emacs Mac Port][] adds native GUI support to Emacs 28. And the full list\\n      of features is available [here][Emacs Mac Port features].\\n\\n      ```sh\\n      brew tap railwaycat/emacsmacport\\n      brew install emacs-mac\\n      ```\\n\\n   3. [Emacs for Mac OS X][] is the binary build of GNU Emacs, *without* any\\n      extra feature.\\n\\n      ```sh\\n      brew install --cask emacs\\n      ```\\n\\n3. To install `git`:\\n\\n   ```sh\\n   brew install git\\n   ```\\n\\n4. macOS ships with [BSD Tar][], but there are reports of weird issues so we\\n   require [GNU Tar][] instead.\\n\\n   ```sh\\n   brew install gnu-tar\\n   ```\\n\\n5. *(Optional)* To install Source Code Pro Font:\\n\\n   ```sh\\n   brew tap homebrew/cask-fonts\\n   brew install --cask font-source-code-pro\\n   ```\\n\\n   Arial Unicode MS is shipped with macOS v10.5 and later so you don\\'t need to\\n   install it manually.\\n\\n6. *(Optional)* You can install `ripgrep` via `Homebrew`:\\n\\n   ```sh\\n   brew install ripgrep\\n   ```\\n\\n### Windows\\n\\n1. We recommend [Scoop][] as the package manager for Windows users. You can\\n   install it via PowerShell:\\n\\n   ```powershell\\n   Set-ExecutionPolicy RemoteSigned -Scope CurrentUser # Optional: Needed to run a remote script the first time\\n   irm get.scoop.sh | iex\\n   ```\\n\\n2. Emacs can be installed in PowerShell:\\n\\n   ```powershell\\n   scoop bucket add extras\\n   scoop install emacs\\n   ```\\n\\n3. To install `git` in PowerShell:\\n\\n   ```powershell\\n   scoop bucket add main\\n   scoop install git\\n   ```\\n\\n4. Windows 10 build 17063 and later ships with [BSD Tar][], but it\\'s required to\\n   install [GNU Tar][] instead to avoid possible issues. Alternatively, if\\n   you are running an earlier version of Windows, Tar isn\\'t installed. In either\\n   case, you can install GNU Tar via:\\n\\n   ```powershell\\n   scoop bucket add main\\n   scoop install tar\\n   ```\\n\\n5. To install Source Code Pro Font in PowerShell:\\n\\n   ```powershell\\n   scoop bucket add KnotUntied_scoop-fonts https://github.com/KnotUntied/scoop-fonts\\n   scoop install sourcecodepro\\n   ```\\n\\n   MS Gothic and Lucida Sans Unicode are shipped with Windows 2003 and later so\\n   you don\\'t need to install it manually.\\n\\n6. *(Optional)* You can install `ripgrep` in PowerShell:\\n\\n   ```powershell\\n   scoop bucket add main\\n   scoop install ripgrep\\n   ```\\n\\n# Install\\n\\n## Default Install\\n\\n1. The default installation downloads Spacemacs to the `.emacs.d` directory in\\n   your `HOME` directory.\\n\\n   But in the case of Windows, `HOME` is not set out-of-box. We recommend you to\\n   set it as an environment variable, with the same value as environment\\n   variable `HOMEPATH`, which usually looks like `C:\\\\Users\\\\ `.\\n\\n2. Since Spacemacs will now be downloaded at `$HOME/.emacs.d`, if it already\\n   exists it\\'ll be overridden.\\n\\n   Also, if you have either `$HOME/.emacs.el` or `$HOME/.emacs`, they will\\n   appear before Spacemacs in Emacs\\'s initialization steps. Thus they must be\\n   renamed in order for Spacemacs to load correctly.\\n\\n   To backup/rename the aforementioned files/directory, in shell:\\n\\n   ```sh\\n   [ -d $HOME/.emacs.d ] && mv $HOME/.emacs.d $HOME/.emacs.d.bak\\n   [ -f $HOME/.emacs.el ] && mv $HOME/.emacs.el .emacs.el.bak\\n   [ -f $HOME/.emacs ] && mv $HOME/.emacs $HOME/.emacs.bak\\n   ```\\n\\n    or in PowerShell:\\n\\n    ```powershell\\n    if( TestPath -Path $HOME/.emacs.d )\\n    {\\n        Rename-Item $HOME/.emacs.d $HOME/.emacs.d.bak\\n    }\\n    if( TestPath -Path $HOME/.emacs.el )\\n    {\\n        Rename-Item $HOME/.emacs.el $HOME/.emacs.el.bak\\n    }\\n    if( TestPath -Path $HOME/.emacs )\\n    {\\n        Rename-Item $HOME/.emacs $HOME/.emacs.bak\\n    }\\n    ```\\n\\n3. Now clone this repository with Git. The following work for both shell\\n   and PowerShell:\\n\\n   ```sh\\n   git clone https://github.com/syl20bnr/spacemacs $HOME/.emacs.d\\n   ```\\n\\n   In case you have a limited internet connection or limited speed:\\n\\n   ```sh\\n   git clone --depth 1 https://github.com/syl20bnr/spacemacs ~/.emacs.d\\n   ```\\n\\n4. Now you can launch Emacs and Spacemacs will be loaded.\\n\\n## Alternative Install Location\\n\\nTo install Spacemacs in a different location, we first need to introduce how\\nSpacemacs is loaded:\\n\\nWhen Emacs is started, it looks for the init file\\n[in a deterministic way][Emacs: Find Init]. The\\n[default installation](#default-install) exploits it by occupying\\n`$HOME/.emacs.d/init.el` and let Emacs use it as its init file.\\n\\nIn other word, in default installation, Emacs find and load\\n`$HOME/.emacs.d/init.el`, which is then responsible to load other files in\\n`$HOME/.emacs.d`.\\n\\nIf you want to install Spacemacs to a different location, you need to make\\nsure it\\'s loaded by Emacs in one of its [init file][Emacs: Find Init].\\n\\nFor example, if you\\'ve cloned Spacemacs to `$HOME/Spacemacs`, and if you use\\n`$HOME/.emacs.el` as Emacs init file, then the following lines in\\n`$HOME/.emacs.el`:\\n\\n```elisp\\n;; load Spacemacs\\'s initialization file, \"~\" is equivalent to \"$HOME\"\\n(load-file \"~/Spacemacs/init.el\")\\n```\\n\\n# First Launch and Configuration\\n\\n1. After cloning Spacemacs, the first time when you launch Emacs, Spacemacs will\\n   automatically install the essential packages it requires. This step is the\\n   bootstrap.\\n\\n2. Once the bootstrap packages are installed, Spacemacs checks whether you have\\n   an customization file `$HOME/.spacemacs`, known as `dotspacemacs`:\\n\\n   - If it already exists, Spacemacs loads it as the configuration.\\n   - Otherwise, you need to answer a few questions and Spacemacs will generate\\n     the `dotspacemacs` file for you.\\n\\n   If you are new to Emacs and/or Spacemacs, it\\'s fine to just accept the\\n   default choices. They can be changed in the `dotspacemacs` file later.\\n\\n3. Spacemacs will download and install remaining packages it will require,\\n   according to your `dotspacemacs`. When the all the packages have been\\n   installed, restart Emacs to complete the installation.\\n\\n4. `dotspacemacs` is the configuration file for Spacemacs, it\\'s self\\n   explanatory and is written in Emacs Lisp. Read\\n   [general documentation][DOCUMENTATION.org] and\\n   [quick start guide][QUICK_START.org] for more information.\\n\\n5. In case you want to store your `dotspacemacs` at another location, say\\n   under `$HOME/.spacemacs.d`:\\n\\n   - First set the environment variable `SPACEMACSDIR` to `$HOME/.spacemacs.d`.\\n   - Move `$HOME/.spacemacs` to `$HOME/.spacemacs.d/init.el`.\\n\\n   In other word, set `SPACEMACSDIR` to the parent directory of your\\n   `dotspacemacs`, and move `dotspacemacs` to the said directory.\\n\\n## Spacemacs logo\\n\\nFor Linux users, create `spacemacs.desktop` in `~/.local/share/applications/`\\nusing [this .desktop file][spacemacs-desktop] as a reference. Change the `Name`\\nparameter to `Name=Spacemacs` and the `Icon` parameter to\\n`Icon=/PATH/TO/EMACSD/core/banners/img/spacemacs.png` where `PATH/TO/EMACSD` is\\nthe path to your `.emacs.d` directory, by default `~/.emacs.d`.\\n\\nFor macOS users, you need to [download the .icns version of the\\nlogo][icon-repository] and simply [change the logo on the\\nDock][icon-mac-instructions].\\n\\n## Notes\\n\\n- Depending on the installed version of GnuTLS, securely installing Emacs\\n  packages may fail. It may also fail if you have a bad internet environment.\\n  In either case it is possible to install packages using `emacs --insecure`.\\n  However be aware that this means your packages will be transferred using HTTP,\\n  use at your own risk.\\n\\n- (*Windows)* If the following error occurs after starting Emacs:\\n\\n  ```\\n  The directory ~/.emacs.d/server is unsafe\\n  ```\\n\\n  Fix it by changing the owner of the directory `~/.emacs.d/server`:\\n    - From Properties select the Tab “Security”,\\n    - Select the button “Advanced”,\\n    - Select the Tab “Owner”\\n    - Change the owner to your account name\\n\\n  Source: [Stack Overflow][so-server-unsafe]\\n\\n- (*Windows*) The period (dot) before a file or folder name means that it\\'s a\\n  hidden file or folder. To show hidden files and folders:\\n  - Press the Windows key\\n  - Type `File explorer options`\\n  - Select the `View` tab at the top\\n  - Check `Show hidden files, folders and drives`\\n  - Click `OK`\\n\\n# Update\\n\\nSpacemacs supports two different update schemes, the default is a rolling update\\nscheme based on the latest version of packages available. This version can be\\nfound on the `develop` branch and is updated by a simple `git pull`.\\n\\nThe second method is deprecated. It was a fixed version scheme which was based\\non a stable set of packages. The latest fixed version can be found on the\\n`master` branch and would show a notification when a new version is available.\\nBe warned that this method has not been updated in a long time, so packages will\\nbe very old.\\n\\n## Rolling update (on develop)\\n1. Close Emacs and update the git repository:\\n\\n    ```sh\\n    git pull --rebase\\n    ```\\n\\n2. Restart Emacs to complete the upgrade.\\n\\n## Deprecated automatic update (on master branch)\\nWhen a new version is available, a little arrow will appear in the mode-line.\\n\\nIts color depends on the number of versions that have been released since the\\nlast update. Green means that you have a recent version, orange and red means\\nthat you have an older version.\\n\\n![powerline_update](doc/img/powerline-update.png)\\n\\nClick on the arrow to update Spacemacs to the latest version.\\n\\n## Manual update (on master branch)\\nRemove the `<` and `>` angle brackets when you\\'re typing the lines below into\\nyour shell. Make sure to also replace the text: \"tag version which you are\\nupdating to\" with a tagged version. This page lists the [latest tags][]\\n\\n```sh\\ngit fetch\\ngit reset --hard  \\n```\\n\\n## Revert to a specific release version (on master branch)\\nTo revert to a specific release version, just checkout the corresponding branch.\\nFor instance, the following command reverts Spacemacs to version `0.200`:\\n\\n```sh\\ngit checkout origin/release-0.200\\n```\\n\\n**After updating Spacemacs (either manually or automatically), you should also\\ncheck if any updates are available for your packages. On the Spacemacs Home\\nBuffer  SPC b h , click (press  RET ) on the `[Update\\nPackages]` button, or use the convenient keybinding  SPC f e U **\\n\\n# Quotes\\n[Quote][quote01] by [ashnur](https://github.com/ashnur):\\n\\n    «I feel that spacemacs is an aircraft carrier and I am playing table tennis\\n    on the deck as a freerider.»\\n\\n[Quote][quote02] by [deuill](https://github.com/deuill):\\n\\n    «I LOVE SPACEMACS AND MAGIT\\n\\n     That is all»\\n\\n# Contributions\\nSpacemacs is a community-driven project, it needs _you_ to keep it up to date\\nand to propose great and useful configurations for all the things!\\n\\nBefore contributing, be sure to consult the [contribution\\nguidelines][CONTRIBUTING.org] and [conventions][CONVENTIONS.org].\\n\\n# Communities\\n- [Gitter Chat][]\\n- [Stack Exchange][]\\n- [Reddit][]\\n\\n# Spacemacs Everywhere\\n\\nOnce you\\'ve learned the Spacemacs key bindings, you can use them in other\\nIDEs/tools, thanks to the following projects:\\n- [Intellimacs](https://github.com/MarcoIeni/intellimacs) - Spacemacs\\' like key\\n  bindings for IntelliJ platform\\n- [Spaceclipse](https://github.com/MarcoIeni/spaceclipse) - Spacemacs’ like key\\n  bindings for Eclipse\\n- [SpaceVim](https://github.com/SpaceVim/SpaceVim) - A community-driven modular\\n  vim distribution\\n- [VSpaceCode](https://github.com/VSpaceCode/VSpaceCode) - Spacemacs’ like key\\n  bindings for Visual Studio Code\\n\\n# License\\nThe license is GPLv3 for all parts specific to Spacemacs, this includes:\\n- the initialization and core files\\n- all the layer files\\n- the documentation\\n\\nFor the packages shipped in this repository, you can refer to the files header.\\n\\n[Spacemacs logo][] by [Nasser Alshammari][] released under a [Creative Commons\\nAttribution-ShareAlike 4.0 International\\nLicense.][creativecommons-4]\\n\\n# Supporting Spacemacs\\nThe best way to support Spacemacs is to contribute to it either by reporting\\nbugs, helping the community on the [Gitter Chat][] or sending pull requests.\\n\\nYou can show your love for the project by getting cool Spacemacs t-shirts, mugs\\nand more in the [Spacemacs Shop][].\\n\\nIf you want to show your support financially, then you can contribute to\\n[Bountysource][], or buy a drink for the maintainer by clicking on the [Paypal\\nbadge](#top).\\n\\nIf you used Spacemacs in a project, and you want to show that fact, you can use\\nthe Spacemacs badge: [![Built with\\nSpacemacs](https://cdn.rawgit.com/syl20bnr/spacemacs/442d025779da2f62fc86c2082703697714db6514/assets/spacemacs-badge.svg)](https://develop.spacemacs.org)\\n\\n- For Markdown:\\n\\n   ```markdown\\n   [![Built with Spacemacs](https://cdn.rawgit.com/syl20bnr/spacemacs/442d025779da2f62fc86c2082703697714db6514/assets/spacemacs-badge.svg)](https://develop.spacemacs.org)\\n   ```\\n\\n- For HTML:\\n\\n   ```html\\n    \\n   ```\\n\\n- For Org-mode:\\n\\n   ```org\\n   [[https://develop.spacemacs.org][file:https://cdn.rawgit.com/syl20bnr/spacemacs/442d025779da2f62fc86c2082703697714db6514/assets/spacemacs-badge.svg]]\\n   ```\\n\\nThank you!\\n\\n[CONTRIBUTING.org]: CONTRIBUTING.org\\n[CONVENTIONS.org]: doc/CONVENTIONS.org\\n[DOCUMENTATION.org]: doc/DOCUMENTATION.org\\n[FAQ.org]: doc/FAQ.org\\n[QUICK_START.org]: doc/QUICK_START.org\\n\\n[Gitter Chat]: https://gitter.im/syl20bnr/spacemacs\\n[Gitter Chat IRC server]: https://irc.gitter.im/\\n[Stack Exchange]: https://emacs.stackexchange.com/questions/tagged/spacemacs\\n[Reddit]: https://www.reddit.com/r/spacemacs\\n[jack-of-some]: https://www.youtube.com/watch?v=r-BHx7VNX5s&list=PLd_Oyt6lAQ8Rxb0HUnGbRrn6R4Cdt2yoI\\n[gdquest]: https://www.youtube.com/watch?v=hCNOB5jjtmc&list=PLhqJJNjsQ7KFkMVBunWWzFD8SlH714qm4\\n[practicalli]: https://www.youtube.com/watch?v=jMJ58Gcc1RI&list=PLpr9V-R8ZxiCHMl2_dn1Fovcd34Oz45su\\n[eivind-fonn]: https://www.youtube.com/watch?v=ZFV5EqpZ6_s&list=PLrJ2YN5y27KLhd3yNs2dR8_inqtEiEweE\\n\\n[GNU Emacs]: https://www.gnu.org/software/emacs/\\n[XEmacs]: https://www.xemacs.org\\n[Emacs And XEmacs]: https://www.emacswiki.org/emacs/EmacsAndXEmacs\\n[Build Emacs from Source]: https://www.gnu.org/software/emacs/manual/html_node/efaq/Installing-Emacs.html\\n[Emacs: Find Init]: https://www.gnu.org/software/emacs/manual/html_node/emacs/Find-Init.html\\n[Emacs Plus]: https://github.com/d12frosted/homebrew-emacs-plus\\n[Emacs Plus features]: https://github.com/d12frosted/homebrew-emacs-plus#features-explained\\n[Emacs Mac Port]: https://github.com/railwaycat/homebrew-emacsmacport\\n[Emacs Mac Port features]: https://bitbucket.org/mituharu/emacs-mac/src/master/README-mac\\n[Emacs for Mac OS X]: https://emacsformacosx.com/\\n[Git]: https://git-scm.com/downloads\\n[GNU Tar]: https://www.gnu.org/software/tar/\\n[BSD Tar]: https://man.openbsd.org/tar\\n[Source Code Pro]: https://adobe-fonts.github.io/source-code-pro/\\n[Nanum Gothic]: https://fonts.google.com/specimen/Nanum+Gothic\\n[Arial Unicode MS]: https://docs.microsoft.com/en-us/typography/font-list/arial-unicode-ms\\n[MS Gothic]: https://docs.microsoft.com/en-us/typography/font-list/ms-gothic\\n[Lucida Sans Unicode]: https://docs.microsoft.com/en-us/typography/font-list/lucida-sans-unicode\\n[ripgrep]: https://github.com/BurntSushi/ripgrep\\n[ripgrep-installation]: https://github.com/BurntSushi/ripgrep#installation=\\n[ag]: https://github.com/ggreer/the_silver_searcher\\n[pt]: https://github.com/monochromegane/the_platinum_searcher\\n[ack]: https://github.com/beyondgrep/ack3\\n[GNU Grep]: https://www.gnu.org/software/grep/\\n[BSD Grep]: https://man.openbsd.org/grep\\n[Homebrew]: https://brew.sh\\n[Scoop]: https://scoop.sh\\n\\n[spacemacs-desktop]: https://github.com/emacs-mirror/emacs/blob/master/etc/emacs.desktop\\n[icon-repository]: https://github.com/nashamri/spacemacs-logo\\n[icon-mac-instructions]: https://www.idownloadblog.com/2014/07/16/how-to-change-app-icon-mac/\\n\\n[so-server-unsafe]: https://stackoverflow.com/questions/885793/emacs-error-when-calling-server-start\\n\\n[latest tags]: https://github.com/syl20bnr/spacemacs/tags\\n\\n[quote01]: https://gitter.im/syl20bnr/spacemacs?at=568e627a0cdaaa62045a7df6\\n[quote02]: https://gitter.im/syl20bnr/spacemacs?at=5768456c6577f032450cfedb\\n\\n[Spacemacs logo]: https://github.com/nashamri/spacemacs-logo\\n[Nasser Alshammari]: https://github.com/nashamri\\n[creativecommons-4]: https://creativecommons.org/licenses/by-sa/4.0/\\n\\n[Spacemacs Shop]: https://shop.spreadshirt.com/spacemacs-shop\\n[Bountysource]: https://salt.bountysource.com/teams/spacemacs\\n'"
      ]
     },
     "execution_count": 143,
     "metadata": {},
     "output_type": "execute_result"
    }
   ],
   "source": [
    "' '.join(s.findAll(text=True))"
   ]
  },
  {
   "cell_type": "markdown",
   "id": "1a19915d",
   "metadata": {},
   "source": [
    "[Hello](http://www.google.com)"
   ]
  },
  {
   "cell_type": "code",
   "execution_count": 130,
   "id": "7264ec57",
   "metadata": {
    "scrolled": true
   },
   "outputs": [
    {
     "data": {
      "text/plain": [
       "'<h1 align=\"center\">\\n  <a href=\"https://spacevim.org/cn/\">\\n  <img src=\"https://spacevim.org/logo.png\" width=\"600\" alt=\"SpaceVim\"/>\\n  </a>\\n</h1>\\n\\n[即时聊天](https://chat.mozilla.org/#/room/#spacevim-cn:matrix.org) \\\\|\\n[入门指南](https://spacevim.org/cn/quick-start-guide/) \\\\|\\n[推特](https://twitter.com/SpaceVim)\\n\\n[![build](https://img.shields.io/github/workflow/status/SpaceVim/SpaceVim/test)](https://github.com/SpaceVim/SpaceVim/actions/workflows/check.yml?query=branch%3Amaster)\\n[![Codecov coverage](https://img.shields.io/codecov/c/github/SpaceVim/SpaceVim.svg)](https://codecov.io/gh/SpaceVim/SpaceVim)\\n[![Release](https://img.shields.io/badge/Release-2.0.0-8700FF.svg)](https://spacevim.org/SpaceVim-release-v2.0.0/)\\n[![GPLv3 License](https://img.shields.io/badge/license-GPLv3-blue.svg)](https://github.com/SpaceVim/SpaceVim/blob/master/LICENSE)\\n[![Docker Pulls](https://img.shields.io/docker/pulls/spacevim/spacevim)](https://hub.docker.com/r/spacevim/spacevim)\\n\\n![welcome page](https://user-images.githubusercontent.com/13142418/176910121-8e7ca78f-8434-4ac7-9b02-08c4d15f8ad9.png)\\n\\n[SpaceVim](https://spacevim.org/cn/) 是一个社区驱动的模块化 Vim/Neovim 配置集合，以模块的方式组织管理插件以\\n及相关配置，为不同的语言开发量身定制了相关的开发模块，该模块提供代码自动补全，\\n语法检查、格式化、调试、REPL 等特性。用户仅需载入相关语言的模块即可得到一个开箱\\n即用的 Vim-IDE。\\n\\n当前最新的稳定版为[v2.0.0](https://spacevim.org/SpaceVim-release-v2.0.0/)，发布于2022年7月2日，[following-HEAD](https://github.com/SpaceVim/SpaceVim/wiki/Following-HEAD) 页面罗列了\\nmaster 分支最新的更新以及变动。\\n\\n## 支持 SpaceVim\\n\\n这个项目的存在需要要感谢所有[参与贡献](contribution .md)的人，\\n我们感谢社区的任何贡献。\\n\\n<a href=\"https://github.com/SpaceVim/SpaceVim/graphs/contributors\"><img src=\"https://opencollective.com/spacevim/contributors.svg?width=890&button=false\" /></a>\\n\\n想要了解更多信息，请查看我们的[开发者手册](https://spacevim.org/cn/development/)。\\n\\n如果你在日常工作中使用 SpaceVim，觉得它让你更轻松，\\n\\n请考虑偶尔请我喝杯咖啡!\\n\\n| 微信                                                     | 支付宝                                                     |\\n| -------------------------------------------------------- | ---------------------------------------------------------- |\\n| <img src=\"docs/img/weixin.png\" height=\"150\" width=\"150\"> | <img src=\"docs/img/zhifubao.png\" height=\"150\" width=\"150\"> |\\n\\n## 鸣谢\\n\\n- [@Gabirel](https://github.com/Gabirel) 的 [《Hack-SpaceVim》](https://github.com/Gabirel/Hack-SpaceVim)\\n- [@everettjf](https://github.com/everettjf) 的 [《SpaceVimTutorial》](https://everettjf.gitbooks.io/spacevimtutorial/content/)\\n- [vimdoc](https://github.com/google/vimdoc)：自动生成帮助文件\\n- SpaceVim 中所使用所有插件的作者\\n\\n<!-- vim:set nowrap: -->\\n'"
      ]
     },
     "execution_count": 130,
     "metadata": {},
     "output_type": "execute_result"
    }
   ],
   "source": [
    "d.iloc[0, 2]"
   ]
  },
  {
   "cell_type": "code",
   "execution_count": null,
   "id": "2e795994",
   "metadata": {},
   "outputs": [],
   "source": []
  },
  {
   "cell_type": "code",
   "execution_count": null,
   "id": "40d552f8",
   "metadata": {},
   "outputs": [],
   "source": []
  },
  {
   "cell_type": "code",
   "execution_count": null,
   "id": "a3045a33",
   "metadata": {},
   "outputs": [],
   "source": []
  },
  {
   "cell_type": "code",
   "execution_count": null,
   "id": "b2327207",
   "metadata": {},
   "outputs": [],
   "source": []
  },
  {
   "cell_type": "code",
   "execution_count": 87,
   "id": "26253afc",
   "metadata": {},
   "outputs": [
    {
     "data": {
      "text/plain": [
       "{'repo': 'syl20bnr/spacemacs',\n",
       " 'language': 'Emacs Lisp',\n",
       " 'readme_contents': '<a name=\"top\" id=\"fork-destination-box\"></a>\\n<a href=\"https://develop.spacemacs.org\"><img src=\"assets/spacemacs-badge.svg\" alt=\"Made with Spacemacs\" height=\"20\"></a>\\n<a href=\"https://www.gnu.org/licenses/gpl-3.0.en.html\"><img src=\"assets/gplv3.png\" alt=\"GPLv3 Software\" align=\"right\" height=\"20\"></a>\\n<a href=\"https://www.twitter.com/spacemacs\"><img src=\"https://i.imgur.com/tXSoThF.png\" alt=\"Twitter\" align=\"right\" height=\"20\"></a>\\n\\n<!-- logo and links -->\\n<p align=\"center\"><img src=\"doc/img/title2.png\" alt=\"Spacemacs\"/></p>\\n<p align=\"center\">\\n<b><a href=\"https://develop.spacemacs.org/doc/DOCUMENTATION#core-pillars\">philosophy</a></b>\\n|\\n<b><a href=\"https://develop.spacemacs.org/doc/DOCUMENTATION#who-can-benefit-from-this\">for whom?</a></b>\\n|\\n<b><a href=\"https://develop.spacemacs.org/doc/DOCUMENTATION#screenshots\">screenshots</a></b>\\n|\\n<b><a href=\"https://develop.spacemacs.org/doc/DOCUMENTATION.html\">documentation</a></b>\\n|\\n<b><a href=\"CONTRIBUTING.org\">contribute</a></b>\\n|\\n<b><a href=\"https://develop.spacemacs.org/doc/DOCUMENTATION#achievements\">achievements</a></b>\\n|\\n<b><a href=\"https://develop.spacemacs.org/doc/FAQ\">FAQ</a></b>\\n</p>\\n\\n\\n<!-- badges -->\\n<p align=\"center\">\\n<a href=\"https://gitter.im/syl20bnr/spacemacs?utm_source=badge&utm_medium=badge&utm_campaign=pr-badge&utm_content=badge\"><img src=\"https://badges.gitter.im/Join Chat.svg\" alt=\"Gitter\"></a>\\n<a href=\"https://discord.gg/p4MddFu6Ag\"><img src=\"https://img.shields.io/badge/chat-on%20discord-7289da.svg\" alt=\"Discord\"></a>\\n<a href=\"https://github.com/syl20bnr/spacemacs/actions/workflows/elisp_test.yml\"><img src=\"https://github.com/syl20bnr/spacemacs/actions/workflows/elisp_test.yml/badge.svg?branch=develop\" alt=\"elisp state\"></a>\\n<a href=\"https://www.paypal.com/cgi-bin/webscr?cmd=_s-xclick&hosted_button_id=ESFVNPKP4Y742\"><img src=\"https://img.shields.io/badge/Paypal-Donate-blue.svg\" alt=\"Donate\"></a>\\n<a href=\"https://shop.spreadshirt.com/spacemacs-shop\"><img src=\"https://img.shields.io/badge/Shop-T--Shirts-blue.svg\" alt=\"Merchandise\"></a>\\n<a href=\"https://www.slant.co/topics/12/~what-are-the-best-programming-text-editors\"><img src=\"https://img.shields.io/badge/Slant-Recommend-ff69b4.svg\" alt=\"Recommend it\"></a>\\n</p>\\n\\n- - -\\n\\n**Quick Start**\\n\\nIf you *don\\'t* have an existing Emacs setup and want to run Spacemacs as your\\nconfiguration, and if you have all [prerequisites](#prerequisites) installed,\\nyou can install Spacemacs with one line:\\n\\n* shell:\\n  ```sh\\n  git clone https://github.com/syl20bnr/spacemacs $HOME/.emacs.d\\n  ```\\n\\n* Windows PowerShell:\\n\\n  ```powershell\\n  git clone https://github.com/syl20bnr/spacemacs $HOME/.emacs.d\\n  ```\\n\\n  If `HOME` is not set in environment or in registry:\\n\\n  ```powershell\\n  git clone https://github.com/syl20bnr/spacemacs $env:APPDATA/.emacs.d\\n  ```\\n\\nIf you do have an existing Emacs configuration, look at the [full installation\\ninstructions](#install) for other options.\\n\\n# Introduction\\nSpacemacs is a new way of experiencing Emacs -- it\\'s a sophisticated and\\npolished set-up, focused on *ergonomics*, *mnemonics* and *consistency*.\\n\\nJust clone and launch it, then press the space bar to explore the interactive\\nlist of carefully-chosen key bindings. You can also press the home buffer\\'s\\n`[?]` button for some great first key bindings to try.\\n\\nSpacemacs can be used naturally by both Emacs and Vim users -- you can even mix\\nthe two editing styles. Being able to quickly switch between input styles, makes\\nSpacemacs a great tool for pair-programming.\\n\\nSpacemacs is currently in beta, and any contributions are very welcome.\\n\\n![spacemacs_python](doc/img/spacemacs-python.png)\\n\\n# Features\\n- **Great documentation:** access the Spacemacs documentation with\\n<kbd>SPC h SPC</kbd>.\\n- **Beautiful GUI:** you\\'ll love the distraction free UI and its functional\\nmode-line.\\n- **Excellent ergonomics:** all the key bindings are accessible by pressing the\\n<kbd>SPC</kbd> or <kbd>Alt-m</kbd>.\\n- **Mnemonic key bindings:** commands have mnemonic prefixes like\\n<kbd>SPC b</kbd> for all the buffer commands or <kbd>SPC p</kbd> for the project\\ncommands.\\n- **Batteries included:** discover hundreds of ready-to-use packages nicely\\norganized in configuration layers following a set of [conventions\\n][CONVENTIONS.org].\\n\\n# Documentation\\nComprehensive documentation is available for each layer by pressing <kbd>SPC h\\nSPC</kbd>.\\n\\nYou can also check the [general documentation][DOCUMENTATION.org],\\n[quick start guide][QUICK_START.org] and the [FAQ][FAQ.org].\\n\\n# Getting Help\\nIf you need help, ask your questions in the [Gitter Chat][] and a member of the\\ncommunity will help you out.\\n\\nIf you prefer IRC, connect to the [Gitter Chat IRC server][] and join the\\n`#syl20bnr/spacemacs` channel.\\n\\nLast but not least there are a lot of high class tutorials available on YouTube:\\n* Jack of Some\\'s [Spacemacs tutorial videos][jack-of-some].\\n* GDQuest\\'s [Game Design oriented tutorials ][gdquest] to Spacemacs.\\n* Practicalli\\'s [Clojure tutorials based on Spacemacs][practicalli].\\n* Eivind Fonn\\'s classic [Spacemacs ABC][eivind-fonn].\\n\\n# Prerequisites\\n\\n1. A package manager if the OS doesn\\'t have one already.\\n\\n2. Spacemacs is an extension of a popular text editor called [Emacs][GNU Emacs].\\n   So you\\'ll need Emacs installed first.\\n\\n   Spacemacs requires Emacs 27.1 or above. The development version of Emacs is\\n   not *officially* supported, but it should nevertheless be expected to work.\\n\\n3. [git][Git] is required to download and update Spacemacs.\\n\\n4. Tar, in particular [GNU Tar][], is required to install and update Emacs\\n   packages used by Spacemacs.\\n\\n5. *(Optional)* The default font used by Spacemacs is [Source Code Pro][]. You\\n   may customize your own font settings and choose another font. If you want to\\n   use this default font, it must be installed.\\n\\n   Spacemacs also uses fallback fonts to ensure certain Unicode symbols it uses\\n   symbols appear correctly. The fonts used are determined by the OS:\\n\\n   - Linux: [Nanum Gothic][]\\n   - macOS: [Arial Unicode MS][]\\n   - Windows: [MS Gothic][] and [Lucida Sans Unicode][]\\n\\n   If the mode-line doesn\\'t look similar to the [picture at the top of this\\n   page](#introduction), make sure you have the correct fallback font installed.\\n\\n6. *(Optional)* Various commands in Spacemacs needs one of the following line\\n   searching program:\\n\\n   - [ripgrep (rg)][ripgrep]\\n   - [The silver searcher (ag)][ag]\\n   - [The platinum searcher (pt)][pt]\\n   - [ack][]\\n   - [GNU Grep][] or [BSD Grep][]\\n\\n   Grep is very slow but it\\'s widely available on most systems and is used as an\\n   fallback option.\\n\\n   We strongly recommend [ripgrep][] over other line searching programs, for its\\n   blazing fast speed. The following subsections helps you to install it.\\n\\n### Linux\\n\\n1. Most Linux distribution ships a package manager already and if this is the\\n   case you are all set for this step.\\n\\n   If it doesn\\'t, you may need to build the softwares mentioned below from their\\n   sources.\\n\\n2. In most distributions, Emacs is installed via an `emacs` package from the\\n   package manager.\\n\\n   **N.B.** DO not install [XEmacs][] because it\\'s not supported by Spacemacs.\\n   XEmacs is an old fork of Emacs with various [subtle\\n   differences][Emacs And XEmacs].\\n\\n   **N.B.** Some Linux distributions support only Emacs versions older than\\n   27.1. In this case you should\\n   [build it from source][Build Emacs from Source] instead.\\n\\n3. Very likely Git is already installed on your system. Otherwise, you should\\n   be able to install `git` from your system\\'s package manager.\\n\\n4. Very likely Tar is already installed on your system. Otherwise, you should\\n   be able to install `tar` from your system\\'s package manager.\\n\\n5. *(Optional)* If Nerd Fonts and Nanum Gothic are available from your\\n   distribution\\'s package manager, you should install it there.\\n\\n   Otherwise, the generic way to install it is:\\n\\n   1. Download the latest pre-built `TTF` font from\\n      <https://github.com/adobe-fonts/source-code-pro/releases/latest> and\\n      <https://fonts.google.com/specimen/Nanum+Gothic>.\\n\\n   2. Extract the archive and move the font files to `~/.fonts`.\\n\\n   3. Refresh font cache with:\\n\\n   ```sh\\n   fc-cache -fv\\n   ```\\n\\n6. *(Optional)* If your distribution is listed [here][ripgrep-installation],\\n   follow the instructions. Otherwise, you can download its pre-built binary or\\n   build it from source.\\n\\n### macOS\\n\\n1. The most popular package manager on macOS is [Homebrew][], to install it:\\n\\n   ```sh\\n   /bin/bash -c \"$(curl -fsSL https://raw.githubusercontent.com/Homebrew/install/HEAD/install.sh)\"\\n   ```\\n\\n2. Several options exist for installing Emacs on macOS:\\n\\n   1. [Emacs Plus][] features [additional functionalities][Emacs Plus features]\\n      over base Emacs.\\n\\n      ```sh\\n      brew tap d12frosted/emacs-plus\\n\\n      # install latest stable release, with Spacemacs icon and native compilation\\n      brew install emacs-plus --with-spacemacs-icon --with-native-comp\\n      ```\\n\\n   2. [Emacs Mac Port][] adds native GUI support to Emacs 28. And the full list\\n      of features is available [here][Emacs Mac Port features].\\n\\n      ```sh\\n      brew tap railwaycat/emacsmacport\\n      brew install emacs-mac\\n      ```\\n\\n   3. [Emacs for Mac OS X][] is the binary build of GNU Emacs, *without* any\\n      extra feature.\\n\\n      ```sh\\n      brew install --cask emacs\\n      ```\\n\\n3. To install `git`:\\n\\n   ```sh\\n   brew install git\\n   ```\\n\\n4. macOS ships with [BSD Tar][], but there are reports of weird issues so we\\n   require [GNU Tar][] instead.\\n\\n   ```sh\\n   brew install gnu-tar\\n   ```\\n\\n5. *(Optional)* To install Source Code Pro Font:\\n\\n   ```sh\\n   brew tap homebrew/cask-fonts\\n   brew install --cask font-source-code-pro\\n   ```\\n\\n   Arial Unicode MS is shipped with macOS v10.5 and later so you don\\'t need to\\n   install it manually.\\n\\n6. *(Optional)* You can install `ripgrep` via `Homebrew`:\\n\\n   ```sh\\n   brew install ripgrep\\n   ```\\n\\n### Windows\\n\\n1. We recommend [Scoop][] as the package manager for Windows users. You can\\n   install it via PowerShell:\\n\\n   ```powershell\\n   Set-ExecutionPolicy RemoteSigned -Scope CurrentUser # Optional: Needed to run a remote script the first time\\n   irm get.scoop.sh | iex\\n   ```\\n\\n2. Emacs can be installed in PowerShell:\\n\\n   ```powershell\\n   scoop bucket add extras\\n   scoop install emacs\\n   ```\\n\\n3. To install `git` in PowerShell:\\n\\n   ```powershell\\n   scoop bucket add main\\n   scoop install git\\n   ```\\n\\n4. Windows 10 build 17063 and later ships with [BSD Tar][], but it\\'s required to\\n   install [GNU Tar][] instead to avoid possible issues. Alternatively, if\\n   you are running an earlier version of Windows, Tar isn\\'t installed. In either\\n   case, you can install GNU Tar via:\\n\\n   ```powershell\\n   scoop bucket add main\\n   scoop install tar\\n   ```\\n\\n5. To install Source Code Pro Font in PowerShell:\\n\\n   ```powershell\\n   scoop bucket add KnotUntied_scoop-fonts https://github.com/KnotUntied/scoop-fonts\\n   scoop install sourcecodepro\\n   ```\\n\\n   MS Gothic and Lucida Sans Unicode are shipped with Windows 2003 and later so\\n   you don\\'t need to install it manually.\\n\\n6. *(Optional)* You can install `ripgrep` in PowerShell:\\n\\n   ```powershell\\n   scoop bucket add main\\n   scoop install ripgrep\\n   ```\\n\\n# Install\\n\\n## Default Install\\n\\n1. The default installation downloads Spacemacs to the `.emacs.d` directory in\\n   your `HOME` directory.\\n\\n   But in the case of Windows, `HOME` is not set out-of-box. We recommend you to\\n   set it as an environment variable, with the same value as environment\\n   variable `HOMEPATH`, which usually looks like `C:\\\\Users\\\\<username>`.\\n\\n2. Since Spacemacs will now be downloaded at `$HOME/.emacs.d`, if it already\\n   exists it\\'ll be overridden.\\n\\n   Also, if you have either `$HOME/.emacs.el` or `$HOME/.emacs`, they will\\n   appear before Spacemacs in Emacs\\'s initialization steps. Thus they must be\\n   renamed in order for Spacemacs to load correctly.\\n\\n   To backup/rename the aforementioned files/directory, in shell:\\n\\n   ```sh\\n   [ -d $HOME/.emacs.d ] && mv $HOME/.emacs.d $HOME/.emacs.d.bak\\n   [ -f $HOME/.emacs.el ] && mv $HOME/.emacs.el .emacs.el.bak\\n   [ -f $HOME/.emacs ] && mv $HOME/.emacs $HOME/.emacs.bak\\n   ```\\n\\n    or in PowerShell:\\n\\n    ```powershell\\n    if( TestPath -Path $HOME/.emacs.d )\\n    {\\n        Rename-Item $HOME/.emacs.d $HOME/.emacs.d.bak\\n    }\\n    if( TestPath -Path $HOME/.emacs.el )\\n    {\\n        Rename-Item $HOME/.emacs.el $HOME/.emacs.el.bak\\n    }\\n    if( TestPath -Path $HOME/.emacs )\\n    {\\n        Rename-Item $HOME/.emacs $HOME/.emacs.bak\\n    }\\n    ```\\n\\n3. Now clone this repository with Git. The following work for both shell\\n   and PowerShell:\\n\\n   ```sh\\n   git clone https://github.com/syl20bnr/spacemacs $HOME/.emacs.d\\n   ```\\n\\n   In case you have a limited internet connection or limited speed:\\n\\n   ```sh\\n   git clone --depth 1 https://github.com/syl20bnr/spacemacs ~/.emacs.d\\n   ```\\n\\n4. Now you can launch Emacs and Spacemacs will be loaded.\\n\\n## Alternative Install Location\\n\\nTo install Spacemacs in a different location, we first need to introduce how\\nSpacemacs is loaded:\\n\\nWhen Emacs is started, it looks for the init file\\n[in a deterministic way][Emacs: Find Init]. The\\n[default installation](#default-install) exploits it by occupying\\n`$HOME/.emacs.d/init.el` and let Emacs use it as its init file.\\n\\nIn other word, in default installation, Emacs find and load\\n`$HOME/.emacs.d/init.el`, which is then responsible to load other files in\\n`$HOME/.emacs.d`.\\n\\nIf you want to install Spacemacs to a different location, you need to make\\nsure it\\'s loaded by Emacs in one of its [init file][Emacs: Find Init].\\n\\nFor example, if you\\'ve cloned Spacemacs to `$HOME/Spacemacs`, and if you use\\n`$HOME/.emacs.el` as Emacs init file, then the following lines in\\n`$HOME/.emacs.el`:\\n\\n```elisp\\n;; load Spacemacs\\'s initialization file, \"~\" is equivalent to \"$HOME\"\\n(load-file \"~/Spacemacs/init.el\")\\n```\\n\\n# First Launch and Configuration\\n\\n1. After cloning Spacemacs, the first time when you launch Emacs, Spacemacs will\\n   automatically install the essential packages it requires. This step is the\\n   bootstrap.\\n\\n2. Once the bootstrap packages are installed, Spacemacs checks whether you have\\n   an customization file `$HOME/.spacemacs`, known as `dotspacemacs`:\\n\\n   - If it already exists, Spacemacs loads it as the configuration.\\n   - Otherwise, you need to answer a few questions and Spacemacs will generate\\n     the `dotspacemacs` file for you.\\n\\n   If you are new to Emacs and/or Spacemacs, it\\'s fine to just accept the\\n   default choices. They can be changed in the `dotspacemacs` file later.\\n\\n3. Spacemacs will download and install remaining packages it will require,\\n   according to your `dotspacemacs`. When the all the packages have been\\n   installed, restart Emacs to complete the installation.\\n\\n4. `dotspacemacs` is the configuration file for Spacemacs, it\\'s self\\n   explanatory and is written in Emacs Lisp. Read\\n   [general documentation][DOCUMENTATION.org] and\\n   [quick start guide][QUICK_START.org] for more information.\\n\\n5. In case you want to store your `dotspacemacs` at another location, say\\n   under `$HOME/.spacemacs.d`:\\n\\n   - First set the environment variable `SPACEMACSDIR` to `$HOME/.spacemacs.d`.\\n   - Move `$HOME/.spacemacs` to `$HOME/.spacemacs.d/init.el`.\\n\\n   In other word, set `SPACEMACSDIR` to the parent directory of your\\n   `dotspacemacs`, and move `dotspacemacs` to the said directory.\\n\\n## Spacemacs logo\\n\\nFor Linux users, create `spacemacs.desktop` in `~/.local/share/applications/`\\nusing [this .desktop file][spacemacs-desktop] as a reference. Change the `Name`\\nparameter to `Name=Spacemacs` and the `Icon` parameter to\\n`Icon=/PATH/TO/EMACSD/core/banners/img/spacemacs.png` where `PATH/TO/EMACSD` is\\nthe path to your `.emacs.d` directory, by default `~/.emacs.d`.\\n\\nFor macOS users, you need to [download the .icns version of the\\nlogo][icon-repository] and simply [change the logo on the\\nDock][icon-mac-instructions].\\n\\n## Notes\\n\\n- Depending on the installed version of GnuTLS, securely installing Emacs\\n  packages may fail. It may also fail if you have a bad internet environment.\\n  In either case it is possible to install packages using `emacs --insecure`.\\n  However be aware that this means your packages will be transferred using HTTP,\\n  use at your own risk.\\n\\n- (*Windows)* If the following error occurs after starting Emacs:\\n\\n  ```\\n  The directory ~/.emacs.d/server is unsafe\\n  ```\\n\\n  Fix it by changing the owner of the directory `~/.emacs.d/server`:\\n    - From Properties select the Tab “Security”,\\n    - Select the button “Advanced”,\\n    - Select the Tab “Owner”\\n    - Change the owner to your account name\\n\\n  Source: [Stack Overflow][so-server-unsafe]\\n\\n- (*Windows*) The period (dot) before a file or folder name means that it\\'s a\\n  hidden file or folder. To show hidden files and folders:\\n  - Press the Windows key\\n  - Type `File explorer options`\\n  - Select the `View` tab at the top\\n  - Check `Show hidden files, folders and drives`\\n  - Click `OK`\\n\\n# Update\\n\\nSpacemacs supports two different update schemes, the default is a rolling update\\nscheme based on the latest version of packages available. This version can be\\nfound on the `develop` branch and is updated by a simple `git pull`.\\n\\nThe second method is deprecated. It was a fixed version scheme which was based\\non a stable set of packages. The latest fixed version can be found on the\\n`master` branch and would show a notification when a new version is available.\\nBe warned that this method has not been updated in a long time, so packages will\\nbe very old.\\n\\n## Rolling update (on develop)\\n1. Close Emacs and update the git repository:\\n\\n    ```sh\\n    git pull --rebase\\n    ```\\n\\n2. Restart Emacs to complete the upgrade.\\n\\n## Deprecated automatic update (on master branch)\\nWhen a new version is available, a little arrow will appear in the mode-line.\\n\\nIts color depends on the number of versions that have been released since the\\nlast update. Green means that you have a recent version, orange and red means\\nthat you have an older version.\\n\\n![powerline_update](doc/img/powerline-update.png)\\n\\nClick on the arrow to update Spacemacs to the latest version.\\n\\n## Manual update (on master branch)\\nRemove the `<` and `>` angle brackets when you\\'re typing the lines below into\\nyour shell. Make sure to also replace the text: \"tag version which you are\\nupdating to\" with a tagged version. This page lists the [latest tags][]\\n\\n```sh\\ngit fetch\\ngit reset --hard <tag version which you are updating to>\\n```\\n\\n## Revert to a specific release version (on master branch)\\nTo revert to a specific release version, just checkout the corresponding branch.\\nFor instance, the following command reverts Spacemacs to version `0.200`:\\n\\n```sh\\ngit checkout origin/release-0.200\\n```\\n\\n**After updating Spacemacs (either manually or automatically), you should also\\ncheck if any updates are available for your packages. On the Spacemacs Home\\nBuffer <kbd>SPC b h</kbd>, click (press <kbd>RET</kbd>) on the `[Update\\nPackages]` button, or use the convenient keybinding <kbd>SPC f e U</kbd>**\\n\\n# Quotes\\n[Quote][quote01] by [ashnur](https://github.com/ashnur):\\n\\n    «I feel that spacemacs is an aircraft carrier and I am playing table tennis\\n    on the deck as a freerider.»\\n\\n[Quote][quote02] by [deuill](https://github.com/deuill):\\n\\n    «I LOVE SPACEMACS AND MAGIT\\n\\n     That is all»\\n\\n# Contributions\\nSpacemacs is a community-driven project, it needs _you_ to keep it up to date\\nand to propose great and useful configurations for all the things!\\n\\nBefore contributing, be sure to consult the [contribution\\nguidelines][CONTRIBUTING.org] and [conventions][CONVENTIONS.org].\\n\\n# Communities\\n- [Gitter Chat][]\\n- [Stack Exchange][]\\n- [Reddit][]\\n\\n# Spacemacs Everywhere\\n\\nOnce you\\'ve learned the Spacemacs key bindings, you can use them in other\\nIDEs/tools, thanks to the following projects:\\n- [Intellimacs](https://github.com/MarcoIeni/intellimacs) - Spacemacs\\' like key\\n  bindings for IntelliJ platform\\n- [Spaceclipse](https://github.com/MarcoIeni/spaceclipse) - Spacemacs’ like key\\n  bindings for Eclipse\\n- [SpaceVim](https://github.com/SpaceVim/SpaceVim) - A community-driven modular\\n  vim distribution\\n- [VSpaceCode](https://github.com/VSpaceCode/VSpaceCode) - Spacemacs’ like key\\n  bindings for Visual Studio Code\\n\\n# License\\nThe license is GPLv3 for all parts specific to Spacemacs, this includes:\\n- the initialization and core files\\n- all the layer files\\n- the documentation\\n\\nFor the packages shipped in this repository, you can refer to the files header.\\n\\n[Spacemacs logo][] by [Nasser Alshammari][] released under a [Creative Commons\\nAttribution-ShareAlike 4.0 International\\nLicense.][creativecommons-4]\\n\\n# Supporting Spacemacs\\nThe best way to support Spacemacs is to contribute to it either by reporting\\nbugs, helping the community on the [Gitter Chat][] or sending pull requests.\\n\\nYou can show your love for the project by getting cool Spacemacs t-shirts, mugs\\nand more in the [Spacemacs Shop][].\\n\\nIf you want to show your support financially, then you can contribute to\\n[Bountysource][], or buy a drink for the maintainer by clicking on the [Paypal\\nbadge](#top).\\n\\nIf you used Spacemacs in a project, and you want to show that fact, you can use\\nthe Spacemacs badge: [![Built with\\nSpacemacs](https://cdn.rawgit.com/syl20bnr/spacemacs/442d025779da2f62fc86c2082703697714db6514/assets/spacemacs-badge.svg)](https://develop.spacemacs.org)\\n\\n- For Markdown:\\n\\n   ```markdown\\n   [![Built with Spacemacs](https://cdn.rawgit.com/syl20bnr/spacemacs/442d025779da2f62fc86c2082703697714db6514/assets/spacemacs-badge.svg)](https://develop.spacemacs.org)\\n   ```\\n\\n- For HTML:\\n\\n   ```html\\n   <a href=\"https://develop.spacemacs.org\"><img alt=\"Built with Spacemacs\" src=\"https://cdn.rawgit.com/syl20bnr/spacemacs/442d025779da2f62fc86c2082703697714db6514/assets/spacemacs-badge.svg\" /></a>\\n   ```\\n\\n- For Org-mode:\\n\\n   ```org\\n   [[https://develop.spacemacs.org][file:https://cdn.rawgit.com/syl20bnr/spacemacs/442d025779da2f62fc86c2082703697714db6514/assets/spacemacs-badge.svg]]\\n   ```\\n\\nThank you!\\n\\n[CONTRIBUTING.org]: CONTRIBUTING.org\\n[CONVENTIONS.org]: doc/CONVENTIONS.org\\n[DOCUMENTATION.org]: doc/DOCUMENTATION.org\\n[FAQ.org]: doc/FAQ.org\\n[QUICK_START.org]: doc/QUICK_START.org\\n\\n[Gitter Chat]: https://gitter.im/syl20bnr/spacemacs\\n[Gitter Chat IRC server]: https://irc.gitter.im/\\n[Stack Exchange]: https://emacs.stackexchange.com/questions/tagged/spacemacs\\n[Reddit]: https://www.reddit.com/r/spacemacs\\n[jack-of-some]: https://www.youtube.com/watch?v=r-BHx7VNX5s&list=PLd_Oyt6lAQ8Rxb0HUnGbRrn6R4Cdt2yoI\\n[gdquest]: https://www.youtube.com/watch?v=hCNOB5jjtmc&list=PLhqJJNjsQ7KFkMVBunWWzFD8SlH714qm4\\n[practicalli]: https://www.youtube.com/watch?v=jMJ58Gcc1RI&list=PLpr9V-R8ZxiCHMl2_dn1Fovcd34Oz45su\\n[eivind-fonn]: https://www.youtube.com/watch?v=ZFV5EqpZ6_s&list=PLrJ2YN5y27KLhd3yNs2dR8_inqtEiEweE\\n\\n[GNU Emacs]: https://www.gnu.org/software/emacs/\\n[XEmacs]: https://www.xemacs.org\\n[Emacs And XEmacs]: https://www.emacswiki.org/emacs/EmacsAndXEmacs\\n[Build Emacs from Source]: https://www.gnu.org/software/emacs/manual/html_node/efaq/Installing-Emacs.html\\n[Emacs: Find Init]: https://www.gnu.org/software/emacs/manual/html_node/emacs/Find-Init.html\\n[Emacs Plus]: https://github.com/d12frosted/homebrew-emacs-plus\\n[Emacs Plus features]: https://github.com/d12frosted/homebrew-emacs-plus#features-explained\\n[Emacs Mac Port]: https://github.com/railwaycat/homebrew-emacsmacport\\n[Emacs Mac Port features]: https://bitbucket.org/mituharu/emacs-mac/src/master/README-mac\\n[Emacs for Mac OS X]: https://emacsformacosx.com/\\n[Git]: https://git-scm.com/downloads\\n[GNU Tar]: https://www.gnu.org/software/tar/\\n[BSD Tar]: https://man.openbsd.org/tar\\n[Source Code Pro]: https://adobe-fonts.github.io/source-code-pro/\\n[Nanum Gothic]: https://fonts.google.com/specimen/Nanum+Gothic\\n[Arial Unicode MS]: https://docs.microsoft.com/en-us/typography/font-list/arial-unicode-ms\\n[MS Gothic]: https://docs.microsoft.com/en-us/typography/font-list/ms-gothic\\n[Lucida Sans Unicode]: https://docs.microsoft.com/en-us/typography/font-list/lucida-sans-unicode\\n[ripgrep]: https://github.com/BurntSushi/ripgrep\\n[ripgrep-installation]: https://github.com/BurntSushi/ripgrep#installation=\\n[ag]: https://github.com/ggreer/the_silver_searcher\\n[pt]: https://github.com/monochromegane/the_platinum_searcher\\n[ack]: https://github.com/beyondgrep/ack3\\n[GNU Grep]: https://www.gnu.org/software/grep/\\n[BSD Grep]: https://man.openbsd.org/grep\\n[Homebrew]: https://brew.sh\\n[Scoop]: https://scoop.sh\\n\\n[spacemacs-desktop]: https://github.com/emacs-mirror/emacs/blob/master/etc/emacs.desktop\\n[icon-repository]: https://github.com/nashamri/spacemacs-logo\\n[icon-mac-instructions]: https://www.idownloadblog.com/2014/07/16/how-to-change-app-icon-mac/\\n\\n[so-server-unsafe]: https://stackoverflow.com/questions/885793/emacs-error-when-calling-server-start\\n\\n[latest tags]: https://github.com/syl20bnr/spacemacs/tags\\n\\n[quote01]: https://gitter.im/syl20bnr/spacemacs?at=568e627a0cdaaa62045a7df6\\n[quote02]: https://gitter.im/syl20bnr/spacemacs?at=5768456c6577f032450cfedb\\n\\n[Spacemacs logo]: https://github.com/nashamri/spacemacs-logo\\n[Nasser Alshammari]: https://github.com/nashamri\\n[creativecommons-4]: https://creativecommons.org/licenses/by-sa/4.0/\\n\\n[Spacemacs Shop]: https://shop.spreadshirt.com/spacemacs-shop\\n[Bountysource]: https://salt.bountysource.com/teams/spacemacs\\n'}"
      ]
     },
     "execution_count": 87,
     "metadata": {},
     "output_type": "execute_result"
    }
   ],
   "source": [
    "process_repo(test_links[1])"
   ]
  },
  {
   "cell_type": "code",
   "execution_count": 68,
   "id": "453d206c",
   "metadata": {},
   "outputs": [
    {
     "name": "stdout",
     "output_type": "stream",
     "text": [
      "Lua\n",
      "https://github.com//SpaceVim/SpaceVim\n",
      "Emacs Lisp\n",
      "https://github.com//syl20bnr/spacemacs\n",
      "JavaScript\n",
      "https://github.com//r-spacex/SpaceX-API\n",
      "C#\n",
      "https://github.com//KeenSoftwareHouse/SpaceEngineers\n",
      "Python\n",
      "https://github.com//a1studmuffin/SpaceshipGenerator\n",
      "HTML\n",
      "https://github.com//MicrosoftDocs/mslearn-tailspin-spacegame-web\n",
      "Shell\n",
      "https://github.com//spaceship-prompt/spaceship-prompt\n",
      "Rust\n",
      "https://github.com//spacedriveapp/spacedrive\n",
      "JavaScript\n",
      "https://github.com//SublimeText/Spacegray\n",
      "JavaScript\n",
      "https://github.com//sar-gupta/space\n"
     ]
    }
   ],
   "source": [
    "start_link = 'https://github.com/search?q=space&type=Repositories'\n",
    "#filename = 'repos.json'\n",
    "headers = {\"Authorization\": f\"token {github_token}\", \"User-Agent\": github_username}\n",
    "response = requests.get(start_link, headers=headers)\n",
    "all_blocks = soup.find_all('li', class_='repo-list-item hx_hit-repo d-flex flex-justify-start py-4 public source')\n",
    "for block in all_blocks:\n",
    "    print(block.find('span', itemprop='programmingLanguage').text)\n",
    "    link = main_link + block.find('a', class_='v-align-middle')['href']\n",
    "    print(link)\n",
    "    test_links.append(link)\n",
    "page = 2\n"
   ]
  },
  {
   "cell_type": "code",
   "execution_count": 49,
   "id": "3cc4cb19",
   "metadata": {},
   "outputs": [
    {
     "data": {
      "text/plain": [
       "'Lua'"
      ]
     },
     "execution_count": 49,
     "metadata": {},
     "output_type": "execute_result"
    }
   ],
   "source": [
    "all_blocks[0].find('span', itemprop='programmingLanguage').text"
   ]
  },
  {
   "cell_type": "code",
   "execution_count": 52,
   "id": "6cc4bc16",
   "metadata": {},
   "outputs": [],
   "source": [
    "#all_blocks[0]"
   ]
  },
  {
   "cell_type": "code",
   "execution_count": 42,
   "id": "74675b87",
   "metadata": {},
   "outputs": [
    {
     "data": {
      "text/plain": [
       "10"
      ]
     },
     "execution_count": 42,
     "metadata": {},
     "output_type": "execute_result"
    }
   ],
   "source": [
    "for i in range(len(all_blocks)):"
   ]
  },
  {
   "cell_type": "code",
   "execution_count": 31,
   "id": "a2a527ca",
   "metadata": {},
   "outputs": [
    {
     "data": {
      "text/plain": [
       "'/SpaceVim/SpaceVim'"
      ]
     },
     "execution_count": 31,
     "metadata": {},
     "output_type": "execute_result"
    }
   ],
   "source": [
    "soup.find_all('a', class_='v-align-middle')[0]['href']"
   ]
  },
  {
   "cell_type": "code",
   "execution_count": 32,
   "id": "a71ed8bd",
   "metadata": {},
   "outputs": [
    {
     "data": {
      "text/plain": [
       "<a class=\"v-align-middle\" data-hydro-click='{\"event_type\":\"search_result.click\",\"payload\":{\"page_number\":1,\"per_page\":10,\"query\":\"space\",\"result_position\":1,\"click_id\":77358263,\"result\":{\"id\":77358263,\"global_relay_id\":\"MDEwOlJlcG9zaXRvcnk3NzM1ODI2Mw==\",\"model_name\":\"Repository\",\"url\":\"https://github.com/SpaceVim/SpaceVim\"},\"originating_url\":\"https://github.com/search?q=space&amp;type=Repositories\",\"user_id\":null}}' data-hydro-click-hmac=\"3f673f820eb918c884af06688d62e87ae116c5806ee48530a6f3ffcbdbbf76d8\" href=\"/SpaceVim/SpaceVim\">SpaceVim/<em>Space</em>Vim</a>"
      ]
     },
     "execution_count": 32,
     "metadata": {},
     "output_type": "execute_result"
    }
   ],
   "source": [
    "soup.find_all('a', class_='v-align-middle')[0]"
   ]
  },
  {
   "cell_type": "code",
   "execution_count": 7,
   "id": "73cd308f",
   "metadata": {},
   "outputs": [],
   "source": [
    "#github_api_request(start_link)"
   ]
  },
  {
   "cell_type": "code",
   "execution_count": 74,
   "id": "276e8731",
   "metadata": {},
   "outputs": [],
   "source": [
    "Union?"
   ]
  },
  {
   "cell_type": "code",
   "execution_count": 4,
   "id": "91b980f4",
   "metadata": {},
   "outputs": [],
   "source": [
    "REPOS = []"
   ]
  },
  {
   "cell_type": "code",
   "execution_count": 101,
   "id": "08db65c9",
   "metadata": {},
   "outputs": [],
   "source": [
    "headers = {\"Authorization\": f\"token {github_token}\", \"User-Agent\": github_username}\n",
    "\n",
    "if headers[\"Authorization\"] == \"token \" or headers[\"User-Agent\"] == \"\":\n",
    "    raise Exception(\n",
    "        \"You need to follow the instructions marked TODO in this script before trying to use it\"\n",
    "    )\n",
    "\n",
    "\n",
    "def github_api_request(url: str) -> Union[List, Dict]:\n",
    "    response = requests.get(url, headers=headers)\n",
    "    response_data = response.json()\n",
    "    if response.status_code != 200:\n",
    "        raise Exception(\n",
    "            f\"Error response from github api! status code: {response.status_code}, \"\n",
    "            f\"response: {json.dumps(response_data)}\"\n",
    "        )\n",
    "    return response_data\n",
    "\n",
    "\n",
    "def get_repo_language(repo: str) -> str:\n",
    "    url = f\"https://api.github.com/repos/{repo}\"\n",
    "    repo_info = github_api_request(url)\n",
    "    if type(repo_info) is dict:\n",
    "        repo_info = cast(Dict, repo_info)\n",
    "        if \"language\" not in repo_info:\n",
    "            raise Exception(\n",
    "                \"'language' key not round in response\\n{}\".format(json.dumps(repo_info))\n",
    "            )\n",
    "        return repo_info[\"language\"]\n",
    "    raise Exception(\n",
    "        f\"Expecting a dictionary response from {url}, instead got {json.dumps(repo_info)}\"\n",
    "    )\n",
    "\n",
    "\n",
    "def get_repo_contents(repo: str) -> List[Dict[str, str]]:\n",
    "    url = f\"https://api.github.com/repos/{repo}/contents/\"\n",
    "    contents = github_api_request(url)\n",
    "    if type(contents) is list:\n",
    "        contents = cast(List, contents)\n",
    "        return contents\n",
    "    raise Exception(\n",
    "        f\"Expecting a list response from {url}, instead got {json.dumps(contents)}\"\n",
    "    )\n",
    "\n",
    "\n",
    "def get_readme_download_url(files: List[Dict[str, str]]) -> str:\n",
    "    \"\"\"\n",
    "    Takes in a response from the github api that lists the files in a repo and\n",
    "    returns the url that can be used to download the repo's README file.\n",
    "    \"\"\"\n",
    "    for file in files:\n",
    "        if file[\"name\"].lower().startswith(\"readme\"):\n",
    "            return file[\"download_url\"]\n",
    "    return \"\"\n",
    "\n",
    "\n",
    "def process_repo(repo: str) -> Dict[str, str]:\n",
    "    \"\"\"\n",
    "    Takes a repo name like \"gocodeup/codeup-setup-script\" and returns a\n",
    "    dictionary with the language of the repo and the readme contents.\n",
    "    \"\"\"\n",
    "    contents = get_repo_contents(repo)\n",
    "    readme_download_url = get_readme_download_url(contents)\n",
    "    if readme_download_url == \"\":\n",
    "        readme_contents = \"\"\n",
    "    else:\n",
    "        readme_contents = requests.get(readme_download_url).text\n",
    "    return {\n",
    "        \"repo\": repo,\n",
    "        \"language\": get_repo_language(repo),\n",
    "        \"readme_contents\": readme_contents,\n",
    "    }\n",
    "\n",
    "\n",
    "def scrape_github_data() -> List[Dict[str, str]]:\n",
    "    \"\"\"\n",
    "    Loop through all of the repos and process them. Returns the processed data.\n",
    "    \"\"\"\n",
    "    return [process_repo(repo) for repo in REPOS]\n",
    "\n",
    "\n",
    "if __name__ == \"__main__\":\n",
    "    data = scrape_github_data()\n",
    "    json.dump(data, open(\"data.json\", \"w\"), indent=1)\n"
   ]
  },
  {
   "cell_type": "code",
   "execution_count": null,
   "id": "2e766132",
   "metadata": {},
   "outputs": [],
   "source": []
  },
  {
   "cell_type": "code",
   "execution_count": null,
   "id": "a1c068b4",
   "metadata": {},
   "outputs": [],
   "source": []
  },
  {
   "cell_type": "code",
   "execution_count": null,
   "id": "92b77400",
   "metadata": {},
   "outputs": [],
   "source": []
  },
  {
   "cell_type": "code",
   "execution_count": null,
   "id": "43afee3e",
   "metadata": {},
   "outputs": [],
   "source": []
  }
 ],
 "metadata": {
  "kernelspec": {
   "display_name": "Python 3 (ipykernel)",
   "language": "python",
   "name": "python3"
  },
  "language_info": {
   "codemirror_mode": {
    "name": "ipython",
    "version": 3
   },
   "file_extension": ".py",
   "mimetype": "text/x-python",
   "name": "python",
   "nbconvert_exporter": "python",
   "pygments_lexer": "ipython3",
   "version": "3.9.12"
  }
 },
 "nbformat": 4,
 "nbformat_minor": 5
}
