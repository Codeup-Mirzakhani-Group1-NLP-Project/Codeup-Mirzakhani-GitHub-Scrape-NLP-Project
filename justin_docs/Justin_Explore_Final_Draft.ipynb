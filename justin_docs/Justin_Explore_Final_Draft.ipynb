{
 "cells": [
  {
   "cell_type": "markdown",
   "id": "640cd9a7",
   "metadata": {},
   "source": [
    "# Justin Exploration Final Draft"
   ]
  },
  {
   "cell_type": "markdown",
   "id": "ce15791a",
   "metadata": {},
   "source": [
    "### Imports:"
   ]
  },
  {
   "cell_type": "code",
   "execution_count": null,
   "id": "ce690cca",
   "metadata": {},
   "outputs": [],
   "source": [
    "import unicodedata\n",
    "from wordcloud import WordCloud\n",
    "from sklearn.model_selection import train_test_split\n",
    "from sklearn.tree import DecisionTreeClassifier\n",
    "from sklearn.feature_extraction.text import CountVectorizer\n",
    "from sklearn.feature_extraction.text import TfidfVectorizer\n",
    "\n",
    "import os\n",
    "import re\n",
    "import json\n",
    "import nltk\n",
    "import requests\n",
    "import pandas as pd\n",
    "from bs4 import BeautifulSoup\n",
    "from typing import Dict, List, Optional, Union, cast\n",
    "\n",
    "## Plots, Graphs, & Visualization\n",
    "import seaborn as sns\n",
    "import matplotlib.pyplot as plt\n",
    "from matplotlib.ticker import StrMethodFormatter\n",
    "from matplotlib.dates import DateFormatter\n",
    "\n",
    "\n",
    "\n",
    "# ------------- #\n",
    "# Local Imports #\n",
    "# ------------- #\n",
    "\n",
    "## importing sys\n",
    "import sys\n",
    "\n",
    "## adding 00_helper_files to the system path as First Location to look\n",
    "sys.path.insert(0, '/Users/qmcbt/codeup-data-science/00_helper_files')\n",
    "## adding 03_projects Personal Work folder for current project to the system path as Second Location to look\n",
    "sys.path.insert(1, '/Users/qmcbt/codeup-data-science/03_projects/Codeup-Mirzakhani-GitHub-Scrape-NLP-Project/justin_docs')\n",
    "## adding 03_projects Root folder for current project to the system path as Third Location to look\n",
    "sys.path.insert(2, '/Users/qmcbt/codeup-data-science/03_projects/Codeup-Mirzakhani-GitHub-Scrape-NLP-Project')\n",
    "\n",
    "## env containing sensitive access credentials\n",
    "import env\n",
    "from env import github_token, github_username\n",
    "\n",
    "## Import Helper Modules\n",
    "import acquire as ac\n",
    "import prepare as pr\n",
    "import modeling as m"
   ]
  },
  {
   "cell_type": "code",
   "execution_count": null,
   "id": "c3f07374",
   "metadata": {},
   "outputs": [],
   "source": [
    "# ------------- #\n",
    "# Local Imports #\n",
    "# ------------- #\n",
    "\n",
    "## importing sys\n",
    "import sys\n",
    "\n",
    "## adding 00_helper_files to the system path as First Location to look\n",
    "sys.path.insert(0, '/Users/qmcbt/codeup-data-science/00_helper_files')\n",
    "## adding 03_projects Personal Work folder for current project to the system path as Second Location to look\n",
    "sys.path.insert(1, '/Users/qmcbt/codeup-data-science/03_projects/Codeup-Mirzakhani-GitHub-Scrape-NLP-Project/justin_docs')\n",
    "## adding 03_projects Root folder for current project to the system path as Third Location to look\n",
    "sys.path.insert(2, '/Users/qmcbt/codeup-data-science/03_projects/Codeup-Mirzakhani-GitHub-Scrape-NLP-Project')\n",
    "\n",
    "## env containing sensitive access credentials\n",
    "import env\n",
    "from env import github_token, github_username\n",
    "\n",
    "## Import Helper Modules\n",
    "import acquire as ac\n",
    "import prepare as pr\n",
    "import modeling as m"
   ]
  },
  {
   "cell_type": "markdown",
   "id": "fdaaf52d",
   "metadata": {},
   "source": [
    "### Project Plan:"
   ]
  },
  {
   "cell_type": "markdown",
   "id": "479a803b",
   "metadata": {},
   "source": [
    "##### Acquire:\n",
    "   - To Acquire the data we had to grab a github access token so that we could scrape their website using our new credentials.\n",
    "\n",
    "\n",
    "   - We then grabbed the readme files out of 100 pages of repositories that were 'space' and were either using Python, Java, Javascript, or C#.\n"
   ]
  },
  {
   "cell_type": "markdown",
   "id": "8ba4428b",
   "metadata": {},
   "source": [
    "##### Prepare:\n",
    " - The readme's we acquired are filled with links and metadata text which is not going to be useful for our models so in order to clean it we had to:\n",
    "    - Get rid of html and markdown links in the readme text using regex and beautiful soup.\n",
    "    - Get rid of all metadata throughout the text using regex and beautiful soup.\n",
    "    - Get rid of excess characters and filler words using lemmatize.\n",
    "\n"
   ]
  },
  {
   "cell_type": "markdown",
   "id": "56463749",
   "metadata": {},
   "source": [
    "##### Explore:"
   ]
  },
  {
   "cell_type": "markdown",
   "id": "d63dfdd5",
   "metadata": {},
   "source": [
    "##### Model:\n"
   ]
  },
  {
   "cell_type": "markdown",
   "id": "b98c2f46",
   "metadata": {},
   "source": [
    "##### Deliver:"
   ]
  },
  {
   "cell_type": "markdown",
   "id": "d2725982",
   "metadata": {},
   "source": [
    "### Project Summary:"
   ]
  },
  {
   "cell_type": "code",
   "execution_count": null,
   "id": "bc819d2e",
   "metadata": {},
   "outputs": [],
   "source": []
  },
  {
   "cell_type": "markdown",
   "id": "e9459c4c",
   "metadata": {},
   "source": [
    "### Acquisition and Prep:"
   ]
  },
  {
   "cell_type": "code",
   "execution_count": null,
   "id": "f850c7c6",
   "metadata": {},
   "outputs": [],
   "source": [
    "#Acquires the cleaned data with our feature engineering included. still missing bag of words and ngrams.\n",
    "df = pr.get_clean_df()"
   ]
  },
  {
   "cell_type": "markdown",
   "id": "18c814d0",
   "metadata": {},
   "source": [
    "### Explore:"
   ]
  },
  {
   "cell_type": "code",
   "execution_count": 1,
   "id": "0ea15846",
   "metadata": {},
   "outputs": [],
   "source": [
    "import justin_explore as ex"
   ]
  },
  {
   "cell_type": "code",
   "execution_count": 3,
   "id": "9ecce436",
   "metadata": {},
   "outputs": [
    {
     "data": {
      "text/html": [
       "<div>\n",
       "<style scoped>\n",
       "    .dataframe tbody tr th:only-of-type {\n",
       "        vertical-align: middle;\n",
       "    }\n",
       "\n",
       "    .dataframe tbody tr th {\n",
       "        vertical-align: top;\n",
       "    }\n",
       "\n",
       "    .dataframe thead th {\n",
       "        text-align: right;\n",
       "    }\n",
       "</style>\n",
       "<table border=\"1\" class=\"dataframe\">\n",
       "  <thead>\n",
       "    <tr style=\"text-align: right;\">\n",
       "      <th></th>\n",
       "      <th>original</th>\n",
       "      <th>first_clean</th>\n",
       "      <th>clean</th>\n",
       "      <th>lemmatized</th>\n",
       "      <th>sentiment</th>\n",
       "      <th>lem_length</th>\n",
       "      <th>original_length</th>\n",
       "      <th>length_diff</th>\n",
       "      <th>has_#9</th>\n",
       "      <th>has_tab</th>\n",
       "      <th>has_parts</th>\n",
       "      <th>has_fix</th>\n",
       "      <th>has_x</th>\n",
       "      <th>has_v</th>\n",
       "      <th>has_codeblock</th>\n",
       "      <th>has_image</th>\n",
       "      <th>language</th>\n",
       "    </tr>\n",
       "  </thead>\n",
       "  <tbody>\n",
       "    <tr>\n",
       "      <th>0</th>\n",
       "      <td>&lt;p align=\"center\"&gt;&lt;img src=\"https://live.stati...</td>\n",
       "      <td>SpaceX REST API  Open Source REST API for lau...</td>\n",
       "      <td>spacex rest api open source rest api launch ro...</td>\n",
       "      <td>spacex rest api open source rest api launch ro...</td>\n",
       "      <td>0.7717</td>\n",
       "      <td>475</td>\n",
       "      <td>7208</td>\n",
       "      <td>6713</td>\n",
       "      <td>0</td>\n",
       "      <td>0</td>\n",
       "      <td>0</td>\n",
       "      <td>0</td>\n",
       "      <td>0</td>\n",
       "      <td>0</td>\n",
       "      <td>0</td>\n",
       "      <td>1</td>\n",
       "      <td>JavaScript</td>\n",
       "    </tr>\n",
       "    <tr>\n",
       "      <th>1</th>\n",
       "      <td>\\nARCHIVED VERSION OF Space Engineers. This ve...</td>\n",
       "      <td>ARCHIVED VERSION OF Space Engineers. This vers...</td>\n",
       "      <td>archived version engineers version uptodate ve...</td>\n",
       "      <td>archived version engineer version uptodate ver...</td>\n",
       "      <td>0.9633</td>\n",
       "      <td>417</td>\n",
       "      <td>4943</td>\n",
       "      <td>4515</td>\n",
       "      <td>0</td>\n",
       "      <td>0</td>\n",
       "      <td>0</td>\n",
       "      <td>0</td>\n",
       "      <td>0</td>\n",
       "      <td>0</td>\n",
       "      <td>0</td>\n",
       "      <td>0</td>\n",
       "      <td>C#</td>\n",
       "    </tr>\n",
       "    <tr>\n",
       "      <th>2</th>\n",
       "      <td># Spaceship Generator\\n\\nA Blender script to p...</td>\n",
       "      <td># Spaceship Generator  A Blender script to pro...</td>\n",
       "      <td>spaceship generator blender script procedurall...</td>\n",
       "      <td>spaceship generator blender script procedurall...</td>\n",
       "      <td>0.0000</td>\n",
       "      <td>117</td>\n",
       "      <td>3587</td>\n",
       "      <td>3469</td>\n",
       "      <td>0</td>\n",
       "      <td>0</td>\n",
       "      <td>0</td>\n",
       "      <td>0</td>\n",
       "      <td>0</td>\n",
       "      <td>0</td>\n",
       "      <td>0</td>\n",
       "      <td>0</td>\n",
       "      <td>Python</td>\n",
       "    </tr>\n",
       "    <tr>\n",
       "      <th>3</th>\n",
       "      <td># Spacegray\\n\\nA set of custom UI themes for S...</td>\n",
       "      <td># Spacegray  A set of custom UI themes for Sub...</td>\n",
       "      <td>spacegray set custom ui themes sublime text hy...</td>\n",
       "      <td>spacegray set custom ui theme sublime text hyp...</td>\n",
       "      <td>0.0000</td>\n",
       "      <td>95</td>\n",
       "      <td>3964</td>\n",
       "      <td>3866</td>\n",
       "      <td>0</td>\n",
       "      <td>0</td>\n",
       "      <td>0</td>\n",
       "      <td>0</td>\n",
       "      <td>0</td>\n",
       "      <td>0</td>\n",
       "      <td>0</td>\n",
       "      <td>0</td>\n",
       "      <td>JavaScript</td>\n",
       "    </tr>\n",
       "    <tr>\n",
       "      <th>4</th>\n",
       "      <td># S P A C E\\n\\n![cover](resources/space-readme...</td>\n",
       "      <td># S P A C E  ![cover .  You can read it here: ...</td>\n",
       "      <td>p c e cover read</td>\n",
       "      <td>p c e cover read</td>\n",
       "      <td>0.0000</td>\n",
       "      <td>16</td>\n",
       "      <td>5705</td>\n",
       "      <td>5689</td>\n",
       "      <td>0</td>\n",
       "      <td>0</td>\n",
       "      <td>0</td>\n",
       "      <td>0</td>\n",
       "      <td>0</td>\n",
       "      <td>0</td>\n",
       "      <td>0</td>\n",
       "      <td>0</td>\n",
       "      <td>JavaScript</td>\n",
       "    </tr>\n",
       "    <tr>\n",
       "      <th>...</th>\n",
       "      <td>...</td>\n",
       "      <td>...</td>\n",
       "      <td>...</td>\n",
       "      <td>...</td>\n",
       "      <td>...</td>\n",
       "      <td>...</td>\n",
       "      <td>...</td>\n",
       "      <td>...</td>\n",
       "      <td>...</td>\n",
       "      <td>...</td>\n",
       "      <td>...</td>\n",
       "      <td>...</td>\n",
       "      <td>...</td>\n",
       "      <td>...</td>\n",
       "      <td>...</td>\n",
       "      <td>...</td>\n",
       "      <td>...</td>\n",
       "    </tr>\n",
       "    <tr>\n",
       "      <th>427</th>\n",
       "      <td># Simple multi-dataset detection\\nAn object de...</td>\n",
       "      <td># Simple multi-dataset detection An object det...</td>\n",
       "      <td>simple multidataset detection object detector ...</td>\n",
       "      <td>simple multidataset detection object detector ...</td>\n",
       "      <td>0.9451</td>\n",
       "      <td>374</td>\n",
       "      <td>4046</td>\n",
       "      <td>3671</td>\n",
       "      <td>0</td>\n",
       "      <td>0</td>\n",
       "      <td>0</td>\n",
       "      <td>0</td>\n",
       "      <td>0</td>\n",
       "      <td>0</td>\n",
       "      <td>0</td>\n",
       "      <td>0</td>\n",
       "      <td>Python</td>\n",
       "    </tr>\n",
       "    <tr>\n",
       "      <th>428</th>\n",
       "      <td>\\n![Python package](https://github.com/WagnerG...</td>\n",
       "      <td>![Python package .</td>\n",
       "      <td>python package</td>\n",
       "      <td>python package</td>\n",
       "      <td>0.0000</td>\n",
       "      <td>14</td>\n",
       "      <td>558</td>\n",
       "      <td>544</td>\n",
       "      <td>0</td>\n",
       "      <td>0</td>\n",
       "      <td>0</td>\n",
       "      <td>0</td>\n",
       "      <td>0</td>\n",
       "      <td>0</td>\n",
       "      <td>0</td>\n",
       "      <td>0</td>\n",
       "      <td>Python</td>\n",
       "    </tr>\n",
       "    <tr>\n",
       "      <th>429</th>\n",
       "      <td># UnityScreenSpaceMetaballs\\nScreenSpace Metab...</td>\n",
       "      <td># UnityScreenSpaceMetaballs ScreenSpace Metaba...</td>\n",
       "      <td>unityscreenspacemetaballs screenspace metaball...</td>\n",
       "      <td>unityscreenspacemetaballs screenspace metaball...</td>\n",
       "      <td>0.0000</td>\n",
       "      <td>126</td>\n",
       "      <td>488</td>\n",
       "      <td>357</td>\n",
       "      <td>0</td>\n",
       "      <td>0</td>\n",
       "      <td>0</td>\n",
       "      <td>0</td>\n",
       "      <td>0</td>\n",
       "      <td>0</td>\n",
       "      <td>0</td>\n",
       "      <td>0</td>\n",
       "      <td>C#</td>\n",
       "    </tr>\n",
       "    <tr>\n",
       "      <th>430</th>\n",
       "      <td>Caching for Analytic Computations\\n-----------...</td>\n",
       "      <td>Caching for Analytic Computations ------------...</td>\n",
       "      <td>caching analytic computations humans repeat st...</td>\n",
       "      <td>caching analytic computation human repeat stuf...</td>\n",
       "      <td>0.8225</td>\n",
       "      <td>239</td>\n",
       "      <td>1633</td>\n",
       "      <td>1387</td>\n",
       "      <td>0</td>\n",
       "      <td>0</td>\n",
       "      <td>0</td>\n",
       "      <td>0</td>\n",
       "      <td>0</td>\n",
       "      <td>0</td>\n",
       "      <td>0</td>\n",
       "      <td>0</td>\n",
       "      <td>Python</td>\n",
       "    </tr>\n",
       "    <tr>\n",
       "      <th>431</th>\n",
       "      <td>KCT\\n===\\n\\nKerbal Construction Time - An addo...</td>\n",
       "      <td>KCT ===  Kerbal Construction Time - An addon f...</td>\n",
       "      <td>kct kerbal construction time addon kerbal prog...</td>\n",
       "      <td>kct kerbal construction time addon kerbal prog...</td>\n",
       "      <td>0.2500</td>\n",
       "      <td>451</td>\n",
       "      <td>849</td>\n",
       "      <td>388</td>\n",
       "      <td>0</td>\n",
       "      <td>0</td>\n",
       "      <td>1</td>\n",
       "      <td>0</td>\n",
       "      <td>0</td>\n",
       "      <td>0</td>\n",
       "      <td>0</td>\n",
       "      <td>0</td>\n",
       "      <td>C#</td>\n",
       "    </tr>\n",
       "  </tbody>\n",
       "</table>\n",
       "<p>432 rows × 17 columns</p>\n",
       "</div>"
      ],
      "text/plain": [
       "                                              original  \\\n",
       "0    <p align=\"center\"><img src=\"https://live.stati...   \n",
       "1    \\nARCHIVED VERSION OF Space Engineers. This ve...   \n",
       "2    # Spaceship Generator\\n\\nA Blender script to p...   \n",
       "3    # Spacegray\\n\\nA set of custom UI themes for S...   \n",
       "4    # S P A C E\\n\\n![cover](resources/space-readme...   \n",
       "..                                                 ...   \n",
       "427  # Simple multi-dataset detection\\nAn object de...   \n",
       "428  \\n![Python package](https://github.com/WagnerG...   \n",
       "429  # UnityScreenSpaceMetaballs\\nScreenSpace Metab...   \n",
       "430  Caching for Analytic Computations\\n-----------...   \n",
       "431  KCT\\n===\\n\\nKerbal Construction Time - An addo...   \n",
       "\n",
       "                                           first_clean  \\\n",
       "0     SpaceX REST API  Open Source REST API for lau...   \n",
       "1    ARCHIVED VERSION OF Space Engineers. This vers...   \n",
       "2    # Spaceship Generator  A Blender script to pro...   \n",
       "3    # Spacegray  A set of custom UI themes for Sub...   \n",
       "4    # S P A C E  ![cover .  You can read it here: ...   \n",
       "..                                                 ...   \n",
       "427  # Simple multi-dataset detection An object det...   \n",
       "428                               ![Python package .     \n",
       "429  # UnityScreenSpaceMetaballs ScreenSpace Metaba...   \n",
       "430  Caching for Analytic Computations ------------...   \n",
       "431  KCT ===  Kerbal Construction Time - An addon f...   \n",
       "\n",
       "                                                 clean  \\\n",
       "0    spacex rest api open source rest api launch ro...   \n",
       "1    archived version engineers version uptodate ve...   \n",
       "2    spaceship generator blender script procedurall...   \n",
       "3    spacegray set custom ui themes sublime text hy...   \n",
       "4                                     p c e cover read   \n",
       "..                                                 ...   \n",
       "427  simple multidataset detection object detector ...   \n",
       "428                                     python package   \n",
       "429  unityscreenspacemetaballs screenspace metaball...   \n",
       "430  caching analytic computations humans repeat st...   \n",
       "431  kct kerbal construction time addon kerbal prog...   \n",
       "\n",
       "                                            lemmatized  sentiment  lem_length  \\\n",
       "0    spacex rest api open source rest api launch ro...     0.7717         475   \n",
       "1    archived version engineer version uptodate ver...     0.9633         417   \n",
       "2    spaceship generator blender script procedurall...     0.0000         117   \n",
       "3    spacegray set custom ui theme sublime text hyp...     0.0000          95   \n",
       "4                                     p c e cover read     0.0000          16   \n",
       "..                                                 ...        ...         ...   \n",
       "427  simple multidataset detection object detector ...     0.9451         374   \n",
       "428                                     python package     0.0000          14   \n",
       "429  unityscreenspacemetaballs screenspace metaball...     0.0000         126   \n",
       "430  caching analytic computation human repeat stuf...     0.8225         239   \n",
       "431  kct kerbal construction time addon kerbal prog...     0.2500         451   \n",
       "\n",
       "     original_length  length_diff  has_#9  has_tab  has_parts  has_fix  has_x  \\\n",
       "0               7208         6713       0        0          0        0      0   \n",
       "1               4943         4515       0        0          0        0      0   \n",
       "2               3587         3469       0        0          0        0      0   \n",
       "3               3964         3866       0        0          0        0      0   \n",
       "4               5705         5689       0        0          0        0      0   \n",
       "..               ...          ...     ...      ...        ...      ...    ...   \n",
       "427             4046         3671       0        0          0        0      0   \n",
       "428              558          544       0        0          0        0      0   \n",
       "429              488          357       0        0          0        0      0   \n",
       "430             1633         1387       0        0          0        0      0   \n",
       "431              849          388       0        0          1        0      0   \n",
       "\n",
       "     has_v  has_codeblock  has_image    language  \n",
       "0        0              0          1  JavaScript  \n",
       "1        0              0          0          C#  \n",
       "2        0              0          0      Python  \n",
       "3        0              0          0  JavaScript  \n",
       "4        0              0          0  JavaScript  \n",
       "..     ...            ...        ...         ...  \n",
       "427      0              0          0      Python  \n",
       "428      0              0          0      Python  \n",
       "429      0              0          0          C#  \n",
       "430      0              0          0      Python  \n",
       "431      0              0          0          C#  \n",
       "\n",
       "[432 rows x 17 columns]"
      ]
     },
     "execution_count": 3,
     "metadata": {},
     "output_type": "execute_result"
    }
   ],
   "source": [
    "ex.df"
   ]
  },
  {
   "cell_type": "code",
   "execution_count": null,
   "id": "a8e79cbe",
   "metadata": {},
   "outputs": [],
   "source": [
    "ex.exp_prep(ex.train, 'language')"
   ]
  },
  {
   "cell_type": "code",
   "execution_count": null,
   "id": "02a903cb",
   "metadata": {},
   "outputs": [],
   "source": []
  },
  {
   "cell_type": "code",
   "execution_count": null,
   "id": "6695bd23",
   "metadata": {},
   "outputs": [],
   "source": []
  },
  {
   "cell_type": "code",
   "execution_count": null,
   "id": "aab57db3",
   "metadata": {},
   "outputs": [],
   "source": []
  },
  {
   "cell_type": "code",
   "execution_count": null,
   "id": "9987a0fb",
   "metadata": {},
   "outputs": [],
   "source": []
  },
  {
   "cell_type": "code",
   "execution_count": null,
   "id": "046cf3dd",
   "metadata": {},
   "outputs": [],
   "source": []
  },
  {
   "cell_type": "code",
   "execution_count": null,
   "id": "fea99629",
   "metadata": {},
   "outputs": [],
   "source": []
  },
  {
   "cell_type": "code",
   "execution_count": null,
   "id": "34dc3b92",
   "metadata": {},
   "outputs": [],
   "source": []
  },
  {
   "cell_type": "code",
   "execution_count": null,
   "id": "e74c6c37",
   "metadata": {},
   "outputs": [],
   "source": []
  },
  {
   "cell_type": "code",
   "execution_count": null,
   "id": "d7c394f6",
   "metadata": {},
   "outputs": [],
   "source": []
  },
  {
   "cell_type": "code",
   "execution_count": null,
   "id": "eb9c6ba3",
   "metadata": {},
   "outputs": [],
   "source": []
  },
  {
   "cell_type": "code",
   "execution_count": null,
   "id": "8596404a",
   "metadata": {},
   "outputs": [],
   "source": []
  },
  {
   "cell_type": "markdown",
   "id": "233d4a6e",
   "metadata": {},
   "source": [
    "#### SPLIT"
   ]
  },
  {
   "cell_type": "code",
   "execution_count": null,
   "id": "f2c64ed6",
   "metadata": {},
   "outputs": [],
   "source": [
    "# Split ~50/30/20\n",
    "train, validate, test = pr.split_data(df, explore=True)"
   ]
  },
  {
   "cell_type": "code",
   "execution_count": null,
   "id": "f12a0e08",
   "metadata": {},
   "outputs": [],
   "source": [
    "# Check split\n",
    "train.shape[0]/df.shape[0], validate.shape[0]/df.shape[0], test.shape[0]/df.shape[0]"
   ]
  },
  {
   "cell_type": "code",
   "execution_count": null,
   "id": "94424be3",
   "metadata": {},
   "outputs": [],
   "source": [
    "# Create word lists by language\n",
    "def word_groups(df, target):\n",
    "    \"\"\"\n",
    "    DESCRIPTION:\n",
    "    This function creates DataFrames for each language,\n",
    "    then creates word groups by breaking the lemmatized and clean columns into word lists by language.\n",
    "    ___________________________________\n",
    "    REQUIRED IMPORTS:\n",
    "    import pandas as pd\n",
    "    ___________________________________\n",
    "    ARGUMENTS:\n",
    "        df = DataFrame\n",
    "    target = 'col_name' that you want to target\n",
    "    ___________________________________\n",
    "    RETURN:\n",
    "               DataFrame by language - js_lang, cs_lang, jv_lang, py_lang, \n",
    "    Lemmatized word list by language - js_lem, cs_lem, jv_lem, py_lem, all_lem, \n",
    "         Clean word list by language - js_clean, cs_clean, jv_clean, py_clean, all_clean\n",
    "    \"\"\"\n",
    "    # split languages into seperate DataFrames\n",
    "    js_lang = df[df[target] == 'JavaScript']\n",
    "    cs_lang = df[df[target] == 'C#']\n",
    "    jv_lang = df[df[target] == 'Java']\n",
    "    py_lang = df[df[target] == 'Python']\n",
    "    \n",
    "    # create word groups on lemmatized column \n",
    "    js_lem = (' '.join(js_lang[js_lang[target] == 'JavaScript']['lemmatized'])).split()\n",
    "    cs_lem = (' '.join(cs_lang[cs_lang[target] == 'C#']['lemmatized'])).split()\n",
    "    jv_lem = (' '.join(jv_lang[jv_lang[target] == 'Java']['lemmatized'])).split()\n",
    "    py_lem = (' '.join(py_lang[py_lang[target] == 'Python']['lemmatized'])).split()\n",
    "    all_lem = (' '.join(df['lemmatized'])).split()\n",
    "    \n",
    "    # create word groups on clean column\n",
    "    js_clean = (' '.join(js_lang[js_lang[target] == 'JavaScript']['clean'])).split()\n",
    "    cs_clean = (' '.join(cs_lang[cs_lang[target] == 'C#']['clean'])).split()\n",
    "    jv_clean = (' '.join(jv_lang[jv_lang[target] == 'Java']['clean'])).split()\n",
    "    py_clean = (' '.join(py_lang[py_lang[target] == 'Python']['clean'])).split()\n",
    "    all_clean = (' '.join(df['clean'])).split()\n",
    "    \n",
    "    return js_lang, cs_lang, jv_lang, py_lang, js_lem, cs_lem, jv_lem, py_lem, all_lem, js_clean, cs_clean, jv_clean, py_clean, all_clean"
   ]
  },
  {
   "cell_type": "code",
   "execution_count": null,
   "id": "78124e25",
   "metadata": {},
   "outputs": [],
   "source": [
    "# Assign the returned variables from the word_groups Function\n",
    "js_lang,cs_lang,jv_lang,py_lang,js_lem,cs_lem,jv_lem,py_lem,all_lem,js_clean,cs_clean,jv_clean,py_clean,all_clean = word_groups(train, 'language')"
   ]
  },
  {
   "cell_type": "code",
   "execution_count": null,
   "id": "926ee706",
   "metadata": {},
   "outputs": [],
   "source": [
    "def lem_freq():\n",
    "    \"\"\"\n",
    "    DESCRIPTION:\n",
    "    This function creates Series Lemmatized value counts for each language\n",
    "    ___________________________________\n",
    "    REQUIRED IMPORTS:\n",
    "    import pandas as pd\n",
    "    ___________________________________\n",
    "    ARGUMENTS:\n",
    "    None\n",
    "    ___________________________________\n",
    "    RETURN:\n",
    "    Lemmatized Series by language - js_lem_freq, cs_lem_freq, jv_lem_freq, py_lem_freq, all_lem_freq\n",
    "    \"\"\"\n",
    "    # Create frequency Series for lem\n",
    "    js_lem_freq = pd.Series(js_lem).value_counts()\n",
    "    cs_lem_freq = pd.Series(cs_lem).value_counts()\n",
    "    jv_lem_freq = pd.Series(jv_lem).value_counts()\n",
    "    py_lem_freq = pd.Series(py_lem).value_counts()\n",
    "    all_lem_freq = pd.Series(all_lem).value_counts()\n",
    "    \n",
    "    return js_lem_freq, cs_lem_freq, jv_lem_freq, py_lem_freq, all_lem_freq"
   ]
  },
  {
   "cell_type": "code",
   "execution_count": null,
   "id": "bd61fcde",
   "metadata": {},
   "outputs": [],
   "source": [
    "# Assign the Series of Lemmatized value counts for each language  \n",
    "js_lem_freq, cs_lem_freq, jv_lem_freq, py_lem_freq, all_lem_freq = lem_freq()"
   ]
  },
  {
   "cell_type": "code",
   "execution_count": null,
   "id": "de223367",
   "metadata": {},
   "outputs": [],
   "source": [
    "def lem_word_counts():\n",
    "\n",
    "    # Display lemmatized word count frequency by language\n",
    "    lem_word_counts = pd.concat([js_lem_freq, cs_lem_freq, jv_lem_freq, py_lem_freq, all_lem_freq], \n",
    "                                axis=1).fillna(0).astype(int)\n",
    "    lem_word_counts.columns = ['JavaScript','C#','Java', 'Python', 'All']\n",
    "    return lem_word_counts"
   ]
  },
  {
   "cell_type": "code",
   "execution_count": null,
   "id": "d077e12a",
   "metadata": {},
   "outputs": [],
   "source": [
    "# Assign Lemmatized word count\n",
    "lem_word_counts = lem_word_counts()"
   ]
  },
  {
   "cell_type": "code",
   "execution_count": null,
   "id": "ee6c5f01",
   "metadata": {},
   "outputs": [],
   "source": [
    "def lang_bi_gram():\n",
    "    # Create Bi-Grams for each language\n",
    "    js_2_gram = list(nltk.ngrams(js_lem, 2))\n",
    "    cs_2_gram = list(nltk.ngrams(cs_lem, 2))\n",
    "    jv_2_gram = list(nltk.ngrams(jv_lem, 2))\n",
    "    py_2_gram = list(nltk.ngrams(py_lem, 2))\n",
    "    all_2_gram = list(nltk.ngrams(all_lem, 2))\n",
    "    \n",
    "    return js_2_gram, cs_2_gram, jv_2_gram, py_2_gram, all_2_gram"
   ]
  },
  {
   "cell_type": "code",
   "execution_count": null,
   "id": "b3fe9c83",
   "metadata": {},
   "outputs": [],
   "source": [
    "# Assign Bi-Grams for each language\n",
    "js_2_gram, cs_2_gram, jv_2_gram, py_2_gram, all_2_gram = lang_bi_gram()"
   ]
  },
  {
   "cell_type": "code",
   "execution_count": null,
   "id": "461bc805",
   "metadata": {},
   "outputs": [],
   "source": [
    "def lang_3_gram():\n",
    "    \n",
    "    # Create N-Grams of 3N for each language\n",
    "    js_3_gram = list(nltk.ngrams(js_lem, 3))\n",
    "    cs_3_gram = list(nltk.ngrams(cs_lem, 3))\n",
    "    jv_3_gram = list(nltk.ngrams(jv_lem, 3))\n",
    "    py_3_gram = list(nltk.ngrams(py_lem, 3))\n",
    "    all_3_gram = list(nltk.ngrams(all_lem, 3))\n",
    "    \n",
    "    return js_3_gram, cs_3_gram, jv_3_gram, py_3_gram, all_3_gram    "
   ]
  },
  {
   "cell_type": "code",
   "execution_count": null,
   "id": "eb77f8e4",
   "metadata": {},
   "outputs": [],
   "source": [
    "# Assign Tri-Grams for each language\n",
    "js_3_gram, cs_3_gram, jv_3_gram, py_3_gram, all_3_gram = lang_3_gram()"
   ]
  },
  {
   "cell_type": "code",
   "execution_count": null,
   "id": "a3bb31f3",
   "metadata": {},
   "outputs": [],
   "source": [
    "def len_and_sentiment(df, target):\n",
    "\n",
    "    # Create Variables for lemmatized length and sentiment for each language\n",
    "\n",
    "    # JavaScript\n",
    "    js_lem_length = df[df[target] == 'JavaScript'].lem_length\n",
    "    js_sentiment = df[df[target] == 'JavaScript'].sentiment\n",
    "    # C#\n",
    "    cs_lem_length = df[df[target] == 'C#'].lem_length\n",
    "    cs_sentiment = df[df[target] == 'C#'].sentiment\n",
    "    # C#\n",
    "    jv_lem_length = df[df[target] == 'Java'].lem_length\n",
    "    jv_sentiment = df[df[target] == 'Java'].sentiment\n",
    "    # C#\n",
    "    py_lem_length = df[df[target] == 'Python'].lem_length\n",
    "    py_sentiment = df[df[target] == 'Python'].sentiment\n",
    "    # All\n",
    "    all_lem_length = df.lem_length\n",
    "    all_sentiment = df.sentiment\n",
    "\n",
    "    return js_lem_length, js_sentiment, cs_lem_length, cs_sentiment, jv_lem_length, jv_sentiment, py_lem_length, py_sentiment, all_lem_length, all_sentiment"
   ]
  },
  {
   "cell_type": "code",
   "execution_count": null,
   "id": "2324ee9f",
   "metadata": {},
   "outputs": [],
   "source": [
    "# Assign Lemmatized Readme Length and Sentiment scores\n",
    "js_lem_length, js_sentiment, cs_lem_length, cs_sentiment, jv_lem_length, jv_sentiment, py_lem_length, py_sentiment, all_lem_length, all_sentiment = len_and_sentiment(train, 'language')"
   ]
  },
  {
   "cell_type": "markdown",
   "id": "a3442587",
   "metadata": {},
   "source": [
    "<div class=\"alert alert-success\">\n",
    "\n",
    "\n",
    "# Q1. Are there any specific words or word groups that can assist with identifying the Language JavaScript or Java over the other languages?"
   ]
  },
  {
   "cell_type": "markdown",
   "id": "d13d8f2a",
   "metadata": {},
   "source": [
    "## A simple word count reveals that the word ```x``` is more prevalent in JavaScript than any other language."
   ]
  },
  {
   "cell_type": "code",
   "execution_count": 5,
   "id": "d90e02af",
   "metadata": {
    "scrolled": true
   },
   "outputs": [
    {
     "data": {
      "text/html": [
       "<div>\n",
       "<style scoped>\n",
       "    .dataframe tbody tr th:only-of-type {\n",
       "        vertical-align: middle;\n",
       "    }\n",
       "\n",
       "    .dataframe tbody tr th {\n",
       "        vertical-align: top;\n",
       "    }\n",
       "\n",
       "    .dataframe thead th {\n",
       "        text-align: right;\n",
       "    }\n",
       "</style>\n",
       "<table border=\"1\" class=\"dataframe\">\n",
       "  <thead>\n",
       "    <tr style=\"text-align: right;\">\n",
       "      <th></th>\n",
       "      <th>JavaScript</th>\n",
       "      <th>C#</th>\n",
       "      <th>Java</th>\n",
       "      <th>Python</th>\n",
       "      <th>All</th>\n",
       "    </tr>\n",
       "  </thead>\n",
       "  <tbody>\n",
       "    <tr>\n",
       "      <th>x</th>\n",
       "      <td>50</td>\n",
       "      <td>3</td>\n",
       "      <td>0</td>\n",
       "      <td>4</td>\n",
       "      <td>65</td>\n",
       "    </tr>\n",
       "  </tbody>\n",
       "</table>\n",
       "</div>"
      ],
      "text/plain": [
       "   JavaScript  C#  Java  Python  All\n",
       "x          50   3     0       4   65"
      ]
     },
     "execution_count": 5,
     "metadata": {},
     "output_type": "execute_result"
    }
   ],
   "source": [
    "# sort by one language\n",
    "ex.lem_word_counts.sort_values(['JavaScript'], ascending=False)[1:2]"
   ]
  },
  {
   "cell_type": "code",
   "execution_count": 7,
   "id": "39aeef94",
   "metadata": {},
   "outputs": [
    {
     "data": {
      "text/plain": [
       "<matplotlib.legend.Legend at 0x14e85bd30>"
      ]
     },
     "execution_count": 7,
     "metadata": {},
     "output_type": "execute_result"
    },
    {
     "data": {
      "image/png": "[encoded data removed]",
      "text/plain": [
       "<Figure size 432x288 with 1 Axes>"
      ]
     },
     "metadata": {
      "needs_background": "light"
     },
     "output_type": "display_data"
    }
   ],
   "source": [
    "# show highest over 'All' word count campared by language\n",
    "ex.plt.rc('font', size=18)\n",
    "ex.lem_word_counts.sort_values('JavaScript', \n",
    "                            ascending=False)[['JavaScript',\n",
    "                                              'C#',\n",
    "                                              'Java', \n",
    "                                              'Python']][1:2].plot.barh()\n",
    "ex.plt.legend(bbox_to_anchor=(1.02, 1), loc='upper left', borderaxespad=0)"
   ]
  },
  {
   "cell_type": "markdown",
   "id": "a076996d",
   "metadata": {},
   "source": [
    "## A simple word count reveals that the word ```planet``` is more prevalent in Java than any other language."
   ]
  },
  {
   "cell_type": "code",
   "execution_count": null,
   "id": "1acc1cdf",
   "metadata": {
    "scrolled": true
   },
   "outputs": [],
   "source": [
    "# sort by one language\n",
    "lem_word_counts.sort_values(['Java'], ascending=False).head(1)"
   ]
  },
  {
   "cell_type": "code",
   "execution_count": null,
   "id": "99d1a1ec",
   "metadata": {},
   "outputs": [],
   "source": [
    "# show highest over 'All' word count campared by language\n",
    "plt.rc('font', size=18)\n",
    "lem_word_counts.sort_values('Java', \n",
    "                            ascending=False)[['JavaScript',\n",
    "                                              'C#',\n",
    "                                              'Java', \n",
    "                                              'Python']][0:1].plot.barh()\n",
    "plt.legend(bbox_to_anchor=(1.02, 1), loc='upper left', borderaxespad=0)"
   ]
  },
  {
   "cell_type": "markdown",
   "id": "9a9df469",
   "metadata": {},
   "source": [
    "## Using an Bi-Gram function reveals that the word pair ```bug, fixed``` has the highest occurance in the Readme files for JavaScript, this Bi-Gram does not appear in the top 20 of any other languages."
   ]
  },
  {
   "cell_type": "code",
   "execution_count": null,
   "id": "d019ec7e",
   "metadata": {
    "scrolled": true
   },
   "outputs": [],
   "source": [
    "# Display top 5 bigram pairs for JavaScript lemmatized\n",
    "pd.Series(js_2_gram).value_counts().head(5).plot.barh()\n",
    "plt.title('JavaScript Bi-Grams')"
   ]
  },
  {
   "cell_type": "markdown",
   "id": "c246c4fa",
   "metadata": {},
   "source": [
    "<div class=\"alert alert-success\">\n",
    "\n",
    "\n",
    "# Q4. Is there a significant difference in Sentiment across all four languages? "
   ]
  },
  {
   "cell_type": "markdown",
   "id": "98d29ce4",
   "metadata": {},
   "source": [
    "## Hypothesis"
   ]
  },
  {
   "cell_type": "markdown",
   "id": "cdb91bcc",
   "metadata": {},
   "source": [
    "* two_tail\n",
    "* four_sample\n",
    "* **Anova Test**\n",
    "\n",
    "\n",
    "* $𝐻_0$: The opposite of what I am trying to prove  \n",
    "    * $H_{0}$: Sentiment **is NOT** ```significantly different``` across languages  \n",
    "    * ```sentiment``` != ```language```  \n",
    "\n",
    "\n",
    "* $𝐻_𝑎$: What am I trying to prove  \n",
    "    * $H_{a}$: Sentiment **is** ```significantly different``` across languages  \n",
    "    * ```sentiment``` == ```language```  "
   ]
  },
  {
   "cell_type": "markdown",
   "id": "6e22235e",
   "metadata": {},
   "source": [
    "## Visualization"
   ]
  },
  {
   "cell_type": "code",
   "execution_count": null,
   "id": "b6c4f285",
   "metadata": {},
   "outputs": [],
   "source": [
    "# is the distribution for sentiment different for any of the languages\n",
    "\n",
    "## setting basic style parameters for matplotlib\n",
    "#plt.rc('figure', figsize=(13, 7))\n",
    "plt.figsize=(13, 7)\n",
    "plt.style.use('seaborn-darkgrid')\n",
    "\n",
    "sns.kdeplot(js_sentiment, label = 'JavaScript')\n",
    "sns.kdeplot(cs_sentiment, label = 'C#')\n",
    "sns.kdeplot(jv_sentiment, label = 'Java')\n",
    "sns.kdeplot(py_sentiment, label = 'Python')\n",
    "plt.legend(['JavaScript', 'C#', 'Java', 'Python'])\n",
    "plt.legend(bbox_to_anchor=(1.02, 1), loc='upper left', borderaxespad=0)"
   ]
  },
  {
   "cell_type": "markdown",
   "id": "8e0e5871",
   "metadata": {},
   "source": [
    "## Statistical Test of Hypothesis"
   ]
  },
  {
   "cell_type": "markdown",
   "id": "e881bd2f",
   "metadata": {},
   "source": [
    "<div class=\"alert alert-warning\">\n",
    "\n",
    "# ANOVA $latex y_i = b_0+b_1X_{1,i} +…+b_{j-1,i} + e_i&s=2$\n",
    "* ANOVA is a means of comparing the ratio of systematic variance to unsystematic variance in an experimental study. \n",
    "* Variance in the ANOVA is partitioned into total variance, variance due to groups, and variance due to individual differences.\n",
    "* The ratio obtained when doing this comparison is known as the F-ratio. \n",
    "* A one-way ANOVA can be seen as a regression model with a single categorical predictor. This predictor usually has two plus categories. A one-way ANOVA has a single factor with J levels. Each level corresponds to the groups in the independent measures design.\n",
    "\n",
    "    \n",
    "* As for all parametric tests the data need to be normally distributed (each group’s data should be roughly normally distributed) for the F-statistic to be reliable. \n",
    "* Each experimental condition should have roughly the same variance (i.e., homogeneity of variance), the observations (e.g., each group) should be independent, and the dependent variable should be measured on, at least,  an interval scale.\n",
    "\n",
    "#### Assumptions:\n",
    "As with all parametric tests also ANOVA has a number of assumptions. \n",
    "1. First of all, the groups have to be independent of each other. \n",
    "2. Second, the data needs to be normally distributed (within each group). \n",
    "3. Third, there have to be equal variances between all groups. \n",
    "\n",
    "Homogeneity of variances can be tested with [Bartlett’s and Levene’s test](https://www.marsja.se/levenes-bartletts-test-of-equality-homogeneity-of-variance-in-python/) in Python (e.g., using SciPy) and the normality assumption can be tested using the Shapiro-Wilks test or by examining the distribution. Note, if your data is skewed you can transform it using e.g. the [log transformation](https://www.marsja.se/transform-skewed-data-using-square-root-log-box-cox-methods-in-python/) in Python.\n",
    "\n"
   ]
  },
  {
   "cell_type": "markdown",
   "id": "d8c5eefd",
   "metadata": {},
   "source": [
    "#### All Languages"
   ]
  },
  {
   "cell_type": "code",
   "execution_count": null,
   "id": "04b77ae7",
   "metadata": {},
   "outputs": [],
   "source": [
    "import scipy.stats as stats\n",
    "alpha = α = 0.05\n",
    "\n",
    "## stats f_oneway functions takes the groups as input and returns ANOVA F and p value\n",
    "## Leammatized Length\n",
    "f_val, p_val = stats.f_oneway(js_sentiment, cs_sentiment, jv_sentiment, py_sentiment)\n",
    "\n",
    "print(f'f_val: {f_val}')\n",
    "print(f'p_val: {p_val}')\n",
    "print('------------------------------')\n",
    "\n",
    "if p_val < α:\n",
    "    print('Reject the null hypothesis')\n",
    "else:\n",
    "    print('Fail to reject the null hypothesis')"
   ]
  },
  {
   "cell_type": "markdown",
   "id": "fbb227df",
   "metadata": {},
   "source": [
    "#### JavaScript"
   ]
  },
  {
   "cell_type": "code",
   "execution_count": null,
   "id": "6a166cf1",
   "metadata": {},
   "outputs": [],
   "source": [
    "import scipy.stats as stats\n",
    "alpha = α = 0.05\n",
    "\n",
    "## stats f_oneway functions takes the groups as input and returns ANOVA F and p value\n",
    "## Leammatized Length\n",
    "f_val, p_val = stats.f_oneway(js_sentiment, all_sentiment)\n",
    "\n",
    "print(f'f_val: {f_val}')\n",
    "print(f'p_val: {p_val}')\n",
    "print('------------------------------')\n",
    "\n",
    "if p_val < α:\n",
    "    print('Reject the null hypothesis')\n",
    "else:\n",
    "    print('Fail to reject the null hypothesis')"
   ]
  },
  {
   "cell_type": "markdown",
   "id": "4ca2b4f7",
   "metadata": {},
   "source": [
    "#### C#"
   ]
  },
  {
   "cell_type": "code",
   "execution_count": null,
   "id": "c1790b5a",
   "metadata": {},
   "outputs": [],
   "source": [
    "import scipy.stats as stats\n",
    "alpha = α = 0.05\n",
    "\n",
    "## stats f_oneway functions takes the groups as input and returns ANOVA F and p value\n",
    "## Leammatized Length\n",
    "f_val, p_val = stats.f_oneway(cs_sentiment, all_sentiment)\n",
    "\n",
    "print(f'f_val: {f_val}')\n",
    "print(f'p_val: {p_val}')\n",
    "print('------------------------------')\n",
    "\n",
    "if p_val < α:\n",
    "    print('Reject the null hypothesis')\n",
    "else:\n",
    "    print('Fail to reject the null hypothesis')"
   ]
  },
  {
   "cell_type": "markdown",
   "id": "adec3e56",
   "metadata": {},
   "source": [
    "#### Java"
   ]
  },
  {
   "cell_type": "code",
   "execution_count": null,
   "id": "4c9566d7",
   "metadata": {},
   "outputs": [],
   "source": [
    "import scipy.stats as stats\n",
    "alpha = α = 0.05\n",
    "\n",
    "## stats f_oneway functions takes the groups as input and returns ANOVA F and p value\n",
    "## Leammatized Length\n",
    "f_val, p_val = stats.f_oneway(jv_sentiment, all_sentiment)\n",
    "\n",
    "print(f'f_val: {f_val}')\n",
    "print(f'p_val: {p_val}')\n",
    "print('------------------------------')\n",
    "\n",
    "if p_val < α:\n",
    "    print('Reject the null hypothesis')\n",
    "else:\n",
    "    print('Fail to reject the null hypothesis')"
   ]
  },
  {
   "cell_type": "markdown",
   "id": "d753bc4f",
   "metadata": {},
   "source": [
    "#### Python"
   ]
  },
  {
   "cell_type": "code",
   "execution_count": null,
   "id": "45457bc2",
   "metadata": {},
   "outputs": [],
   "source": [
    "import scipy.stats as stats\n",
    "alpha = α = 0.05\n",
    "\n",
    "## stats f_oneway functions takes the groups as input and returns ANOVA F and p value\n",
    "## Leammatized Length\n",
    "f_val, p_val = stats.f_oneway(py_sentiment, all_sentiment)\n",
    "\n",
    "print(f'f_val: {f_val}')\n",
    "print(f'p_val: {p_val}')\n",
    "print('------------------------------')\n",
    "\n",
    "if p_val < α:\n",
    "    print('Reject the null hypothesis')\n",
    "else:\n",
    "    print('Fail to reject the null hypothesis')"
   ]
  },
  {
   "cell_type": "markdown",
   "id": "2733e521",
   "metadata": {},
   "source": [
    "#### Java vs Python"
   ]
  },
  {
   "cell_type": "code",
   "execution_count": null,
   "id": "f6fb1fbc",
   "metadata": {
    "scrolled": false
   },
   "outputs": [],
   "source": [
    "import scipy.stats as stats\n",
    "alpha = α = 0.05\n",
    "\n",
    "## stats f_oneway functions takes the groups as input and returns ANOVA F and p value\n",
    "## Leammatized Length\n",
    "f_val, p_val = stats.f_oneway(jv_sentiment, py_sentiment)\n",
    "\n",
    "print(f'f_val: {f_val}')\n",
    "print(f'p_val: {p_val}')\n",
    "print('------------------------------')\n",
    "\n",
    "if p_val < α:\n",
    "    print('Reject the null hypothesis')\n",
    "else:\n",
    "    print('Fail to reject the null hypothesis')"
   ]
  },
  {
   "cell_type": "markdown",
   "id": "ae83a484",
   "metadata": {},
   "source": [
    "<div class=\"alert alert-info\">\n",
    "    \n",
    "# Q4.\n",
    "    \n",
    "### NO\n",
    "### The Sentiment **is NOT** ```significantly different``` across the four program languages.\n",
    "    \n",
    "    \n",
    "### **There is no evidence to support that the Sentiment of each program language Readme file is significantly different and will have an impact in determinng the program language.**  \n",
    "    \n",
    "* Based on this statistical finding we believe that Sentiment would not be an integral feature and should not be included in any machine learning efforts going forward."
   ]
  },
  {
   "cell_type": "code",
   "execution_count": null,
   "id": "729d8a8e",
   "metadata": {},
   "outputs": [],
   "source": []
  },
  {
   "cell_type": "code",
   "execution_count": null,
   "id": "4f1de71c",
   "metadata": {},
   "outputs": [],
   "source": []
  },
  {
   "cell_type": "code",
   "execution_count": null,
   "id": "8083de9f",
   "metadata": {},
   "outputs": [],
   "source": []
  },
  {
   "cell_type": "code",
   "execution_count": null,
   "id": "118e0ce9",
   "metadata": {},
   "outputs": [],
   "source": []
  },
  {
   "cell_type": "code",
   "execution_count": null,
   "id": "128dbaa3",
   "metadata": {},
   "outputs": [],
   "source": []
  },
  {
   "cell_type": "markdown",
   "id": "01c3ad3b",
   "metadata": {},
   "source": [
    "### Modeling:"
   ]
  },
  {
   "cell_type": "markdown",
   "id": "6d8a164d",
   "metadata": {},
   "source": [
    "### Test:"
   ]
  },
  {
   "cell_type": "markdown",
   "id": "c25106c7",
   "metadata": {},
   "source": [
    "### Conclusion:"
   ]
  },
  {
   "cell_type": "markdown",
   "id": "a1360f53",
   "metadata": {},
   "source": [
    "### Reccomendations:"
   ]
  },
  {
   "cell_type": "code",
   "execution_count": null,
   "id": "f2375dab",
   "metadata": {},
   "outputs": [],
   "source": []
  },
  {
   "cell_type": "code",
   "execution_count": null,
   "id": "25178d98",
   "metadata": {},
   "outputs": [],
   "source": []
  }
 ],
 "metadata": {
  "kernelspec": {
   "display_name": "Python 3 (ipykernel)",
   "language": "python",
   "name": "python3"
  },
  "language_info": {
   "codemirror_mode": {
    "name": "ipython",
    "version": 3
   },
   "file_extension": ".py",
   "mimetype": "text/x-python",
   "name": "python",
   "nbconvert_exporter": "python",
   "pygments_lexer": "ipython3",
   "version": "3.9.12"
  }
 },
 "nbformat": 4,
 "nbformat_minor": 5
}
