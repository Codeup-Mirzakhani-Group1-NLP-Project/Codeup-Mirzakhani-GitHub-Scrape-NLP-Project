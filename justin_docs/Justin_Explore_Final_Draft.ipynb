{
 "cells": [
  {
   "cell_type": "markdown",
   "id": "ea61474f",
   "metadata": {},
   "source": [
    "# Justin Exploration Final Draft"
   ]
  },
  {
   "cell_type": "markdown",
   "id": "876b177b",
   "metadata": {},
   "source": [
    "# TEST EXPLORE.py"
   ]
  },
  {
   "cell_type": "code",
   "execution_count": 9,
   "id": "a2f4904b",
   "metadata": {},
   "outputs": [],
   "source": [
    "import justin_explore as ex"
   ]
  },
  {
   "cell_type": "markdown",
   "id": "12e7d334",
   "metadata": {},
   "source": [
    "<div class=\"alert alert-success\">\n",
    "\n",
    "\n",
    "# Q1. Are there any specific words or word groups that can assist with identifying the Language JavaScript or Java over the other languages?"
   ]
  },
  {
   "cell_type": "markdown",
   "id": "f172b39b",
   "metadata": {},
   "source": [
    "## A simple word count reveals that the word ```x``` is more prevalent in JavaScript than any other language."
   ]
  },
  {
   "cell_type": "code",
   "execution_count": 10,
   "id": "5223c2a9",
   "metadata": {},
   "outputs": [
    {
     "data": {
      "text/html": [
       "<div>\n",
       "<style scoped>\n",
       "    .dataframe tbody tr th:only-of-type {\n",
       "        vertical-align: middle;\n",
       "    }\n",
       "\n",
       "    .dataframe tbody tr th {\n",
       "        vertical-align: top;\n",
       "    }\n",
       "\n",
       "    .dataframe thead th {\n",
       "        text-align: right;\n",
       "    }\n",
       "</style>\n",
       "<table border=\"1\" class=\"dataframe\">\n",
       "  <thead>\n",
       "    <tr style=\"text-align: right;\">\n",
       "      <th></th>\n",
       "      <th>JavaScript</th>\n",
       "      <th>C#</th>\n",
       "      <th>Java</th>\n",
       "      <th>Python</th>\n",
       "      <th>All</th>\n",
       "    </tr>\n",
       "  </thead>\n",
       "  <tbody>\n",
       "    <tr>\n",
       "      <th>x</th>\n",
       "      <td>50</td>\n",
       "      <td>3</td>\n",
       "      <td>0</td>\n",
       "      <td>4</td>\n",
       "      <td>65</td>\n",
       "    </tr>\n",
       "  </tbody>\n",
       "</table>\n",
       "</div>"
      ],
      "text/plain": [
       "   JavaScript  C#  Java  Python  All\n",
       "x          50   3     0       4   65"
      ]
     },
     "execution_count": 10,
     "metadata": {},
     "output_type": "execute_result"
    }
   ],
   "source": [
    "ex.qmcbt_viz_01()"
   ]
  },
  {
   "cell_type": "code",
   "execution_count": 11,
   "id": "f461d3f1",
   "metadata": {},
   "outputs": [
    {
     "data": {
      "image/png": "[encoded data removed]",
      "text/plain": [
       "<Figure size 432x288 with 1 Axes>"
      ]
     },
     "metadata": {},
     "output_type": "display_data"
    }
   ],
   "source": [
    "ex.qmcbt_viz_02()"
   ]
  },
  {
   "cell_type": "markdown",
   "id": "bcd34fb9",
   "metadata": {},
   "source": [
    "## A simple word count reveals that the word ```planet``` is more prevalent in Java than any other language."
   ]
  },
  {
   "cell_type": "code",
   "execution_count": 12,
   "id": "8d319ee9",
   "metadata": {},
   "outputs": [
    {
     "data": {
      "text/html": [
       "<div>\n",
       "<style scoped>\n",
       "    .dataframe tbody tr th:only-of-type {\n",
       "        vertical-align: middle;\n",
       "    }\n",
       "\n",
       "    .dataframe tbody tr th {\n",
       "        vertical-align: top;\n",
       "    }\n",
       "\n",
       "    .dataframe thead th {\n",
       "        text-align: right;\n",
       "    }\n",
       "</style>\n",
       "<table border=\"1\" class=\"dataframe\">\n",
       "  <thead>\n",
       "    <tr style=\"text-align: right;\">\n",
       "      <th></th>\n",
       "      <th>JavaScript</th>\n",
       "      <th>C#</th>\n",
       "      <th>Java</th>\n",
       "      <th>Python</th>\n",
       "      <th>All</th>\n",
       "    </tr>\n",
       "  </thead>\n",
       "  <tbody>\n",
       "    <tr>\n",
       "      <th>planet</th>\n",
       "      <td>4</td>\n",
       "      <td>5</td>\n",
       "      <td>19</td>\n",
       "      <td>3</td>\n",
       "      <td>61</td>\n",
       "    </tr>\n",
       "  </tbody>\n",
       "</table>\n",
       "</div>"
      ],
      "text/plain": [
       "        JavaScript  C#  Java  Python  All\n",
       "planet           4   5    19       3   61"
      ]
     },
     "execution_count": 12,
     "metadata": {},
     "output_type": "execute_result"
    }
   ],
   "source": [
    "ex.qmcbt_viz_03()"
   ]
  },
  {
   "cell_type": "code",
   "execution_count": 13,
   "id": "91f3b7bc",
   "metadata": {
    "scrolled": true
   },
   "outputs": [
    {
     "data": {
      "image/png": "[encoded data removed]",
      "text/plain": [
       "<Figure size 432x288 with 1 Axes>"
      ]
     },
     "metadata": {},
     "output_type": "display_data"
    }
   ],
   "source": [
    "ex.qmcbt_viz_04()"
   ]
  },
  {
   "cell_type": "markdown",
   "id": "252fc1e5",
   "metadata": {},
   "source": [
    "## Using an Bi-Gram function reveals that the word pair ```bug, fixed``` has the highest occurance in the Readme files for JavaScript, this Bi-Gram does not appear in the top 20 of any other languages."
   ]
  },
  {
   "cell_type": "code",
   "execution_count": 14,
   "id": "3dc65e1f",
   "metadata": {
    "scrolled": true
   },
   "outputs": [
    {
     "data": {
      "image/png": "[encoded data removed]",
      "text/plain": [
       "<Figure size 432x288 with 1 Axes>"
      ]
     },
     "metadata": {},
     "output_type": "display_data"
    }
   ],
   "source": [
    "ex.qmcbt_viz_05()"
   ]
  },
  {
   "cell_type": "markdown",
   "id": "cb9d8a85",
   "metadata": {},
   "source": [
    "<div class=\"alert alert-info\">\n",
    "    \n",
    "# Q1. Are there any specific words or word groups that can assist with identifying the Language JavaScript or Java over the other languages?\n",
    "    \n",
    "### YES\n",
    "* JavaScript\n",
    "    * Single Word: ```'x'```\n",
    "    * Bi-Gram: ```'bug, fixed'```\n",
    "    * Tri-Gram: **NONE**\n",
    "    \n",
    "* Java\n",
    "    * Single Word: ```'planet'```\n",
    "    * Bi-Gram: **NONE**\n",
    "    * Tri-Gram: **NONE**\n",
    "\n",
    "    \n",
    "### **The specific words and word-groups shown above appear to be good candidates for prediction of our target program language.** \n",
    "    * NOTE: There were no Bi-Gram or Tri-Gram groupings for Java that were used significantly more than all of the other languages."
   ]
  },
  {
   "cell_type": "markdown",
   "id": "c7f58525",
   "metadata": {},
   "source": [
    "<div class=\"alert alert-success\">\n",
    "\n",
    "\n",
    "# Q2. Is there a significant difference in Sentiment across all four languages? "
   ]
  },
  {
   "cell_type": "markdown",
   "id": "0b78cf29",
   "metadata": {},
   "source": [
    "## Hypothesis"
   ]
  },
  {
   "cell_type": "markdown",
   "id": "29876165",
   "metadata": {},
   "source": [
    "* two_tail\n",
    "* four_sample\n",
    "* **Anova Test**\n",
    "\n",
    "\n",
    "* $𝐻_0$: The opposite of what I am trying to prove  \n",
    "    * $H_{0}$: Sentiment **is NOT** ```significantly different``` across languages  \n",
    "    * ```sentiment``` != ```language```  \n",
    "\n",
    "\n",
    "* $𝐻_𝑎$: What am I trying to prove  \n",
    "    * $H_{a}$: Sentiment **is** ```significantly different``` across languages  \n",
    "    * ```sentiment``` == ```language```  "
   ]
  },
  {
   "cell_type": "markdown",
   "id": "d75348d2",
   "metadata": {},
   "source": [
    "## Visualization"
   ]
  },
  {
   "cell_type": "code",
   "execution_count": 15,
   "id": "b3eb58bb",
   "metadata": {
    "scrolled": true
   },
   "outputs": [
    {
     "data": {
      "image/png": "[encoded data removed]",
      "text/plain": [
       "<Figure size 432x288 with 1 Axes>"
      ]
     },
     "metadata": {},
     "output_type": "display_data"
    }
   ],
   "source": [
    "ex.qmcbt_viz_06()"
   ]
  },
  {
   "cell_type": "markdown",
   "id": "8da7e478",
   "metadata": {},
   "source": [
    "## Statistical Test of Hypothesis"
   ]
  },
  {
   "cell_type": "markdown",
   "id": "d59776da",
   "metadata": {},
   "source": [
    "#### All Languages"
   ]
  },
  {
   "cell_type": "code",
   "execution_count": 16,
   "id": "50da6073",
   "metadata": {},
   "outputs": [
    {
     "name": "stdout",
     "output_type": "stream",
     "text": [
      "f_val: 0.4013359085711304\n",
      "p_val: 0.7521678915596715\n",
      "------------------------------\n",
      "Fail to reject the null hypothesis\n"
     ]
    }
   ],
   "source": [
    "ex.qmcbt_stat_01()"
   ]
  },
  {
   "cell_type": "markdown",
   "id": "201ea9e1",
   "metadata": {},
   "source": [
    "<div class=\"alert alert-info\">\n",
    "    \n",
    "# Q2. Is there a significant difference in Sentiment across all four languages?\n",
    "    \n",
    "### NO\n",
    "### The Sentiment **is NOT** ```significantly different``` across the four program languages.\n",
    "    \n",
    "    \n",
    "### **There is no evidence to support that the Sentiment of each program language Readme file is significantly different and will have an impact in determinng the program language.**  \n",
    "    \n",
    "* Based on this statistical finding we believe that Sentiment would not be an integral feature and should not be included in any machine learning efforts going forward."
   ]
  },
  {
   "cell_type": "markdown",
   "id": "80513fe2",
   "metadata": {},
   "source": [
    "<div class=\"alert alert-danger\">\n",
    "    \n",
    "# STOP\n",
    "--- EXPORT ALL CELLS ABOVE FOR FINAL NOTEBOOK ---\n"
   ]
  },
  {
   "cell_type": "markdown",
   "id": "aa27989c",
   "metadata": {},
   "source": [
    "### Imports:"
   ]
  },
  {
   "cell_type": "code",
   "execution_count": 17,
   "id": "fa403581",
   "metadata": {},
   "outputs": [],
   "source": [
    "import unicodedata\n",
    "from wordcloud import WordCloud\n",
    "from sklearn.model_selection import train_test_split\n",
    "from sklearn.tree import DecisionTreeClassifier\n",
    "from sklearn.feature_extraction.text import CountVectorizer\n",
    "from sklearn.feature_extraction.text import TfidfVectorizer\n",
    "\n",
    "import os\n",
    "import re\n",
    "import json\n",
    "import nltk\n",
    "import requests\n",
    "import pandas as pd\n",
    "from bs4 import BeautifulSoup\n",
    "from typing import Dict, List, Optional, Union, cast\n",
    "\n",
    "## Plots, Graphs, & Visualization\n",
    "import seaborn as sns\n",
    "import matplotlib.pyplot as plt\n",
    "from matplotlib.ticker import StrMethodFormatter\n",
    "from matplotlib.dates import DateFormatter\n",
    "\n",
    "\n",
    "\n",
    "# ------------- #\n",
    "# Local Imports #\n",
    "# ------------- #\n",
    "\n",
    "## importing sys\n",
    "import sys\n",
    "\n",
    "## adding 00_helper_files to the system path as First Location to look\n",
    "sys.path.insert(0, '/Users/qmcbt/codeup-data-science/00_helper_files')\n",
    "## adding 03_projects Personal Work folder for current project to the system path as Second Location to look\n",
    "sys.path.insert(1, '/Users/qmcbt/codeup-data-science/03_projects/Codeup-Mirzakhani-GitHub-Scrape-NLP-Project/justin_docs')\n",
    "## adding 03_projects Root folder for current project to the system path as Third Location to look\n",
    "sys.path.insert(2, '/Users/qmcbt/codeup-data-science/03_projects/Codeup-Mirzakhani-GitHub-Scrape-NLP-Project')\n",
    "\n",
    "## env containing sensitive access credentials\n",
    "import env\n",
    "from env import github_token, github_username\n",
    "\n",
    "## Import Helper Modules\n",
    "import acquire as ac\n",
    "import prepare as pr\n",
    "import modeling as m"
   ]
  },
  {
   "cell_type": "code",
   "execution_count": 18,
   "id": "3267b8b1",
   "metadata": {},
   "outputs": [],
   "source": [
    "# ------------- #\n",
    "# Local Imports #\n",
    "# ------------- #\n",
    "\n",
    "## importing sys\n",
    "import sys\n",
    "\n",
    "## adding 00_helper_files to the system path as First Location to look\n",
    "sys.path.insert(0, '/Users/qmcbt/codeup-data-science/00_helper_files')\n",
    "## adding 03_projects Personal Work folder for current project to the system path as Second Location to look\n",
    "sys.path.insert(1, '/Users/qmcbt/codeup-data-science/03_projects/Codeup-Mirzakhani-GitHub-Scrape-NLP-Project/justin_docs')\n",
    "## adding 03_projects Root folder for current project to the system path as Third Location to look\n",
    "sys.path.insert(2, '/Users/qmcbt/codeup-data-science/03_projects/Codeup-Mirzakhani-GitHub-Scrape-NLP-Project')\n",
    "\n",
    "## env containing sensitive access credentials\n",
    "import env\n",
    "from env import github_token, github_username\n",
    "\n",
    "## Import Helper Modules\n",
    "import acquire as ac\n",
    "import prepare as pr\n",
    "import modeling as m"
   ]
  },
  {
   "cell_type": "markdown",
   "id": "830bc6b5",
   "metadata": {},
   "source": [
    "### Acquisition and Prep:"
   ]
  },
  {
   "cell_type": "code",
   "execution_count": null,
   "id": "216279b5",
   "metadata": {},
   "outputs": [],
   "source": [
    "#Acquires the cleaned data with our feature engineering included. still missing bag of words and ngrams.\n",
    "df = pr.get_clean_df()"
   ]
  },
  {
   "cell_type": "markdown",
   "id": "9e284730",
   "metadata": {},
   "source": [
    "### Explore:"
   ]
  },
  {
   "cell_type": "markdown",
   "id": "900ee019",
   "metadata": {},
   "source": [
    "#### SPLIT"
   ]
  },
  {
   "cell_type": "code",
   "execution_count": null,
   "id": "4aff2274",
   "metadata": {},
   "outputs": [],
   "source": [
    "# Split ~50/30/20\n",
    "train, validate, test = pr.split_data(df, explore=True)"
   ]
  },
  {
   "cell_type": "code",
   "execution_count": null,
   "id": "7b82864d",
   "metadata": {},
   "outputs": [],
   "source": [
    "# Check split\n",
    "train.shape[0]/df.shape[0], validate.shape[0]/df.shape[0], test.shape[0]/df.shape[0]"
   ]
  },
  {
   "cell_type": "code",
   "execution_count": null,
   "id": "2c3d4719",
   "metadata": {},
   "outputs": [],
   "source": [
    "# Create word lists by language\n",
    "def word_groups(df, target):\n",
    "    \"\"\"\n",
    "    DESCRIPTION:\n",
    "    This function creates DataFrames for each language,\n",
    "    then creates word groups by breaking the lemmatized and clean columns into word lists by language.\n",
    "    ___________________________________\n",
    "    REQUIRED IMPORTS:\n",
    "    import pandas as pd\n",
    "    ___________________________________\n",
    "    ARGUMENTS:\n",
    "        df = DataFrame\n",
    "    target = 'col_name' that you want to target\n",
    "    ___________________________________\n",
    "    RETURN:\n",
    "               DataFrame by language - js_lang, cs_lang, jv_lang, py_lang, \n",
    "    Lemmatized word list by language - js_lem, cs_lem, jv_lem, py_lem, all_lem, \n",
    "         Clean word list by language - js_clean, cs_clean, jv_clean, py_clean, all_clean\n",
    "    \"\"\"\n",
    "    # split languages into seperate DataFrames\n",
    "    js_lang = df[df[target] == 'JavaScript']\n",
    "    cs_lang = df[df[target] == 'C#']\n",
    "    jv_lang = df[df[target] == 'Java']\n",
    "    py_lang = df[df[target] == 'Python']\n",
    "    \n",
    "    # create word groups on lemmatized column \n",
    "    js_lem = (' '.join(js_lang[js_lang[target] == 'JavaScript']['lemmatized'])).split()\n",
    "    cs_lem = (' '.join(cs_lang[cs_lang[target] == 'C#']['lemmatized'])).split()\n",
    "    jv_lem = (' '.join(jv_lang[jv_lang[target] == 'Java']['lemmatized'])).split()\n",
    "    py_lem = (' '.join(py_lang[py_lang[target] == 'Python']['lemmatized'])).split()\n",
    "    all_lem = (' '.join(df['lemmatized'])).split()\n",
    "    \n",
    "    # create word groups on clean column\n",
    "    js_clean = (' '.join(js_lang[js_lang[target] == 'JavaScript']['clean'])).split()\n",
    "    cs_clean = (' '.join(cs_lang[cs_lang[target] == 'C#']['clean'])).split()\n",
    "    jv_clean = (' '.join(jv_lang[jv_lang[target] == 'Java']['clean'])).split()\n",
    "    py_clean = (' '.join(py_lang[py_lang[target] == 'Python']['clean'])).split()\n",
    "    all_clean = (' '.join(df['clean'])).split()\n",
    "    \n",
    "    return js_lang, cs_lang, jv_lang, py_lang, js_lem, cs_lem, jv_lem, py_lem, all_lem, js_clean, cs_clean, jv_clean, py_clean, all_clean"
   ]
  },
  {
   "cell_type": "code",
   "execution_count": null,
   "id": "6fae5e7e",
   "metadata": {},
   "outputs": [],
   "source": [
    "# Assign the returned variables from the word_groups Function\n",
    "js_lang,cs_lang,jv_lang,py_lang,js_lem,cs_lem,jv_lem,py_lem,all_lem,js_clean,cs_clean,jv_clean,py_clean,all_clean = word_groups(train, 'language')"
   ]
  },
  {
   "cell_type": "code",
   "execution_count": null,
   "id": "2be99ad6",
   "metadata": {},
   "outputs": [],
   "source": [
    "def lem_freq():\n",
    "    \"\"\"\n",
    "    DESCRIPTION:\n",
    "    This function creates Series Lemmatized value counts for each language\n",
    "    ___________________________________\n",
    "    REQUIRED IMPORTS:\n",
    "    import pandas as pd\n",
    "    ___________________________________\n",
    "    ARGUMENTS:\n",
    "    None\n",
    "    ___________________________________\n",
    "    RETURN:\n",
    "    Lemmatized Series by language - js_lem_freq, cs_lem_freq, jv_lem_freq, py_lem_freq, all_lem_freq\n",
    "    \"\"\"\n",
    "    # Create frequency Series for lem\n",
    "    js_lem_freq = pd.Series(js_lem).value_counts()\n",
    "    cs_lem_freq = pd.Series(cs_lem).value_counts()\n",
    "    jv_lem_freq = pd.Series(jv_lem).value_counts()\n",
    "    py_lem_freq = pd.Series(py_lem).value_counts()\n",
    "    all_lem_freq = pd.Series(all_lem).value_counts()\n",
    "    \n",
    "    return js_lem_freq, cs_lem_freq, jv_lem_freq, py_lem_freq, all_lem_freq"
   ]
  },
  {
   "cell_type": "code",
   "execution_count": null,
   "id": "5b472311",
   "metadata": {},
   "outputs": [],
   "source": [
    "# Assign the Series of Lemmatized value counts for each language  \n",
    "js_lem_freq, cs_lem_freq, jv_lem_freq, py_lem_freq, all_lem_freq = lem_freq()"
   ]
  },
  {
   "cell_type": "code",
   "execution_count": null,
   "id": "374c60bf",
   "metadata": {},
   "outputs": [],
   "source": [
    "def lem_word_counts():\n",
    "\n",
    "    # Display lemmatized word count frequency by language\n",
    "    lem_word_counts = pd.concat([js_lem_freq, cs_lem_freq, jv_lem_freq, py_lem_freq, all_lem_freq], \n",
    "                                axis=1).fillna(0).astype(int)\n",
    "    lem_word_counts.columns = ['JavaScript','C#','Java', 'Python', 'All']\n",
    "    return lem_word_counts"
   ]
  },
  {
   "cell_type": "code",
   "execution_count": null,
   "id": "de586a34",
   "metadata": {},
   "outputs": [],
   "source": [
    "# Assign Lemmatized word count\n",
    "lem_word_counts = lem_word_counts()"
   ]
  },
  {
   "cell_type": "code",
   "execution_count": null,
   "id": "1745a211",
   "metadata": {},
   "outputs": [],
   "source": [
    "def lang_bi_gram():\n",
    "    # Create Bi-Grams for each language\n",
    "    js_2_gram = list(nltk.ngrams(js_lem, 2))\n",
    "    cs_2_gram = list(nltk.ngrams(cs_lem, 2))\n",
    "    jv_2_gram = list(nltk.ngrams(jv_lem, 2))\n",
    "    py_2_gram = list(nltk.ngrams(py_lem, 2))\n",
    "    all_2_gram = list(nltk.ngrams(all_lem, 2))\n",
    "    \n",
    "    return js_2_gram, cs_2_gram, jv_2_gram, py_2_gram, all_2_gram"
   ]
  },
  {
   "cell_type": "code",
   "execution_count": null,
   "id": "7e21bf51",
   "metadata": {},
   "outputs": [],
   "source": [
    "# Assign Bi-Grams for each language\n",
    "js_2_gram, cs_2_gram, jv_2_gram, py_2_gram, all_2_gram = lang_bi_gram()"
   ]
  },
  {
   "cell_type": "code",
   "execution_count": null,
   "id": "d6ddbc8a",
   "metadata": {},
   "outputs": [],
   "source": [
    "def lang_3_gram():\n",
    "    \n",
    "    # Create N-Grams of 3N for each language\n",
    "    js_3_gram = list(nltk.ngrams(js_lem, 3))\n",
    "    cs_3_gram = list(nltk.ngrams(cs_lem, 3))\n",
    "    jv_3_gram = list(nltk.ngrams(jv_lem, 3))\n",
    "    py_3_gram = list(nltk.ngrams(py_lem, 3))\n",
    "    all_3_gram = list(nltk.ngrams(all_lem, 3))\n",
    "    \n",
    "    return js_3_gram, cs_3_gram, jv_3_gram, py_3_gram, all_3_gram    "
   ]
  },
  {
   "cell_type": "code",
   "execution_count": null,
   "id": "7c7cf6ad",
   "metadata": {},
   "outputs": [],
   "source": [
    "# Assign Tri-Grams for each language\n",
    "js_3_gram, cs_3_gram, jv_3_gram, py_3_gram, all_3_gram = lang_3_gram()"
   ]
  },
  {
   "cell_type": "code",
   "execution_count": null,
   "id": "739b87f2",
   "metadata": {},
   "outputs": [],
   "source": [
    "def len_and_sentiment(df, target):\n",
    "\n",
    "    # Create Variables for lemmatized length and sentiment for each language\n",
    "\n",
    "    # JavaScript\n",
    "    js_lem_length = df[df[target] == 'JavaScript'].lem_length\n",
    "    js_sentiment = df[df[target] == 'JavaScript'].sentiment\n",
    "    # C#\n",
    "    cs_lem_length = df[df[target] == 'C#'].lem_length\n",
    "    cs_sentiment = df[df[target] == 'C#'].sentiment\n",
    "    # C#\n",
    "    jv_lem_length = df[df[target] == 'Java'].lem_length\n",
    "    jv_sentiment = df[df[target] == 'Java'].sentiment\n",
    "    # C#\n",
    "    py_lem_length = df[df[target] == 'Python'].lem_length\n",
    "    py_sentiment = df[df[target] == 'Python'].sentiment\n",
    "    # All\n",
    "    all_lem_length = df.lem_length\n",
    "    all_sentiment = df.sentiment\n",
    "\n",
    "    return js_lem_length, js_sentiment, cs_lem_length, cs_sentiment, jv_lem_length, jv_sentiment, py_lem_length, py_sentiment, all_lem_length, all_sentiment"
   ]
  },
  {
   "cell_type": "code",
   "execution_count": null,
   "id": "94813ffb",
   "metadata": {},
   "outputs": [],
   "source": [
    "# Assign Lemmatized Readme Length and Sentiment scores\n",
    "js_lem_length, js_sentiment, cs_lem_length, cs_sentiment, jv_lem_length, jv_sentiment, py_lem_length, py_sentiment, all_lem_length, all_sentiment = len_and_sentiment(train, 'language')"
   ]
  },
  {
   "cell_type": "markdown",
   "id": "cd5ec64a",
   "metadata": {},
   "source": [
    "<div class=\"alert alert-success\">\n",
    "\n",
    "\n",
    "# Q1. Are there any specific words or word groups that can assist with identifying the Language JavaScript or Java over the other languages?"
   ]
  },
  {
   "cell_type": "markdown",
   "id": "ee4ba5cc",
   "metadata": {},
   "source": [
    "## A simple word count reveals that the word ```x``` is more prevalent in JavaScript than any other language."
   ]
  },
  {
   "cell_type": "code",
   "execution_count": null,
   "id": "43e06f7f",
   "metadata": {
    "scrolled": true
   },
   "outputs": [],
   "source": [
    "# sort by one language\n",
    "ex.lem_word_counts.sort_values(['JavaScript'], ascending=False)[1:2]"
   ]
  },
  {
   "cell_type": "code",
   "execution_count": null,
   "id": "76c0d496",
   "metadata": {},
   "outputs": [],
   "source": [
    "# show highest over 'All' word count campared by language\n",
    "plt.rc('font', size=18)\n",
    "lem_word_counts.sort_values('JavaScript', \n",
    "                            ascending=False)[['JavaScript',\n",
    "                                              'C#',\n",
    "                                              'Java', \n",
    "                                              'Python']][1:2].plot.barh()\n",
    "plt.legend(bbox_to_anchor=(1.02, 1), loc='upper left', borderaxespad=0)"
   ]
  },
  {
   "cell_type": "markdown",
   "id": "2c9d80c3",
   "metadata": {},
   "source": [
    "## A simple word count reveals that the word ```planet``` is more prevalent in Java than any other language."
   ]
  },
  {
   "cell_type": "code",
   "execution_count": null,
   "id": "50990292",
   "metadata": {
    "scrolled": true
   },
   "outputs": [],
   "source": [
    "# sort by one language\n",
    "lem_word_counts.sort_values(['Java'], ascending=False).head(1)"
   ]
  },
  {
   "cell_type": "code",
   "execution_count": null,
   "id": "ae17ea1a",
   "metadata": {},
   "outputs": [],
   "source": [
    "# show highest over 'All' word count campared by language\n",
    "plt.rc('font', size=18)\n",
    "lem_word_counts.sort_values('Java', \n",
    "                            ascending=False)[['JavaScript',\n",
    "                                              'C#',\n",
    "                                              'Java', \n",
    "                                              'Python']][0:1].plot.barh()\n",
    "plt.legend(bbox_to_anchor=(1.02, 1), loc='upper left', borderaxespad=0)"
   ]
  },
  {
   "cell_type": "markdown",
   "id": "c30b9b85",
   "metadata": {},
   "source": [
    "## Using an Bi-Gram function reveals that the word pair ```bug, fixed``` has the highest occurance in the Readme files for JavaScript, this Bi-Gram does not appear in the top 20 of any other languages."
   ]
  },
  {
   "cell_type": "code",
   "execution_count": null,
   "id": "05e6767b",
   "metadata": {
    "scrolled": true
   },
   "outputs": [],
   "source": [
    "# Display top 5 bigram pairs for JavaScript lemmatized\n",
    "pd.Series(js_2_gram).value_counts().head(5).plot.barh()\n",
    "plt.title('JavaScript Bi-Grams')"
   ]
  },
  {
   "cell_type": "markdown",
   "id": "895b8884",
   "metadata": {},
   "source": [
    "<div class=\"alert alert-success\">\n",
    "\n",
    "\n",
    "# Q4. Is there a significant difference in Sentiment across all four languages? "
   ]
  },
  {
   "cell_type": "markdown",
   "id": "032cd81d",
   "metadata": {},
   "source": [
    "## Hypothesis"
   ]
  },
  {
   "cell_type": "markdown",
   "id": "4a8b0e1a",
   "metadata": {},
   "source": [
    "* two_tail\n",
    "* four_sample\n",
    "* **Anova Test**\n",
    "\n",
    "\n",
    "* $𝐻_0$: The opposite of what I am trying to prove  \n",
    "    * $H_{0}$: Sentiment **is NOT** ```significantly different``` across languages  \n",
    "    * ```sentiment``` != ```language```  \n",
    "\n",
    "\n",
    "* $𝐻_𝑎$: What am I trying to prove  \n",
    "    * $H_{a}$: Sentiment **is** ```significantly different``` across languages  \n",
    "    * ```sentiment``` == ```language```  "
   ]
  },
  {
   "cell_type": "markdown",
   "id": "42dd2147",
   "metadata": {},
   "source": [
    "## Visualization"
   ]
  },
  {
   "cell_type": "code",
   "execution_count": null,
   "id": "8c7a436e",
   "metadata": {},
   "outputs": [],
   "source": [
    "# is the distribution for sentiment different for any of the languages\n",
    "\n",
    "## setting basic style parameters for matplotlib\n",
    "#plt.rc('figure', figsize=(13, 7))\n",
    "plt.figsize=(13, 7)\n",
    "plt.style.use('seaborn-darkgrid')\n",
    "\n",
    "sns.kdeplot(js_sentiment, label = 'JavaScript')\n",
    "sns.kdeplot(cs_sentiment, label = 'C#')\n",
    "sns.kdeplot(jv_sentiment, label = 'Java')\n",
    "sns.kdeplot(py_sentiment, label = 'Python')\n",
    "plt.legend(['JavaScript', 'C#', 'Java', 'Python'])\n",
    "plt.legend(bbox_to_anchor=(1.02, 1), loc='upper left', borderaxespad=0)"
   ]
  },
  {
   "cell_type": "markdown",
   "id": "efcfff92",
   "metadata": {},
   "source": [
    "## Statistical Test of Hypothesis"
   ]
  },
  {
   "cell_type": "markdown",
   "id": "e881bd2f",
   "metadata": {},
   "source": [
    "<div class=\"alert alert-warning\">\n",
    "\n",
    "# ANOVA $latex y_i = b_0+b_1X_{1,i} +…+b_{j-1,i} + e_i&s=2$\n",
    "* ANOVA is a means of comparing the ratio of systematic variance to unsystematic variance in an experimental study. \n",
    "* Variance in the ANOVA is partitioned into total variance, variance due to groups, and variance due to individual differences.\n",
    "* The ratio obtained when doing this comparison is known as the F-ratio. \n",
    "* A one-way ANOVA can be seen as a regression model with a single categorical predictor. This predictor usually has two plus categories. A one-way ANOVA has a single factor with J levels. Each level corresponds to the groups in the independent measures design.\n",
    "\n",
    "    \n",
    "* As for all parametric tests the data need to be normally distributed (each group’s data should be roughly normally distributed) for the F-statistic to be reliable. \n",
    "* Each experimental condition should have roughly the same variance (i.e., homogeneity of variance), the observations (e.g., each group) should be independent, and the dependent variable should be measured on, at least,  an interval scale.\n",
    "\n",
    "#### Assumptions:\n",
    "As with all parametric tests also ANOVA has a number of assumptions. \n",
    "1. First of all, the groups have to be independent of each other. \n",
    "2. Second, the data needs to be normally distributed (within each group). \n",
    "3. Third, there have to be equal variances between all groups. \n",
    "\n",
    "Homogeneity of variances can be tested with [Bartlett’s and Levene’s test](https://www.marsja.se/levenes-bartletts-test-of-equality-homogeneity-of-variance-in-python/) in Python (e.g., using SciPy) and the normality assumption can be tested using the Shapiro-Wilks test or by examining the distribution. Note, if your data is skewed you can transform it using e.g. the [log transformation](https://www.marsja.se/transform-skewed-data-using-square-root-log-box-cox-methods-in-python/) in Python.\n",
    "\n"
   ]
  },
  {
   "cell_type": "markdown",
   "id": "9408d4f2",
   "metadata": {},
   "source": [
    "#### All Languages"
   ]
  },
  {
   "cell_type": "code",
   "execution_count": null,
   "id": "04b77ae7",
   "metadata": {},
   "outputs": [],
   "source": [
    "import scipy.stats as stats\n",
    "alpha = α = 0.05\n",
    "\n",
    "## stats f_oneway functions takes the groups as input and returns ANOVA F and p value\n",
    "## Leammatized Length\n",
    "f_val, p_val = stats.f_oneway(js_sentiment, cs_sentiment, jv_sentiment, py_sentiment)\n",
    "\n",
    "print(f'f_val: {f_val}')\n",
    "print(f'p_val: {p_val}')\n",
    "print('------------------------------')\n",
    "\n",
    "if p_val < α:\n",
    "    print('Reject the null hypothesis')\n",
    "else:\n",
    "    print('Fail to reject the null hypothesis')"
   ]
  },
  {
   "cell_type": "markdown",
   "id": "f941b4ce",
   "metadata": {},
   "source": [
    "#### JavaScript"
   ]
  },
  {
   "cell_type": "code",
   "execution_count": null,
   "id": "5f49a9e0",
   "metadata": {},
   "outputs": [],
   "source": [
    "import scipy.stats as stats\n",
    "alpha = α = 0.05\n",
    "\n",
    "## stats f_oneway functions takes the groups as input and returns ANOVA F and p value\n",
    "## Leammatized Length\n",
    "f_val, p_val = stats.f_oneway(js_sentiment, all_sentiment)\n",
    "\n",
    "print(f'f_val: {f_val}')\n",
    "print(f'p_val: {p_val}')\n",
    "print('------------------------------')\n",
    "\n",
    "if p_val < α:\n",
    "    print('Reject the null hypothesis')\n",
    "else:\n",
    "    print('Fail to reject the null hypothesis')"
   ]
  },
  {
   "cell_type": "markdown",
   "id": "999b7941",
   "metadata": {},
   "source": [
    "#### C#"
   ]
  },
  {
   "cell_type": "code",
   "execution_count": null,
   "id": "19bcf04f",
   "metadata": {},
   "outputs": [],
   "source": [
    "import scipy.stats as stats\n",
    "alpha = α = 0.05\n",
    "\n",
    "## stats f_oneway functions takes the groups as input and returns ANOVA F and p value\n",
    "## Leammatized Length\n",
    "f_val, p_val = stats.f_oneway(cs_sentiment, all_sentiment)\n",
    "\n",
    "print(f'f_val: {f_val}')\n",
    "print(f'p_val: {p_val}')\n",
    "print('------------------------------')\n",
    "\n",
    "if p_val < α:\n",
    "    print('Reject the null hypothesis')\n",
    "else:\n",
    "    print('Fail to reject the null hypothesis')"
   ]
  },
  {
   "cell_type": "markdown",
   "id": "cfb173b9",
   "metadata": {},
   "source": [
    "#### Java"
   ]
  },
  {
   "cell_type": "code",
   "execution_count": null,
   "id": "74442947",
   "metadata": {},
   "outputs": [],
   "source": [
    "import scipy.stats as stats\n",
    "alpha = α = 0.05\n",
    "\n",
    "## stats f_oneway functions takes the groups as input and returns ANOVA F and p value\n",
    "## Leammatized Length\n",
    "f_val, p_val = stats.f_oneway(jv_sentiment, all_sentiment)\n",
    "\n",
    "print(f'f_val: {f_val}')\n",
    "print(f'p_val: {p_val}')\n",
    "print('------------------------------')\n",
    "\n",
    "if p_val < α:\n",
    "    print('Reject the null hypothesis')\n",
    "else:\n",
    "    print('Fail to reject the null hypothesis')"
   ]
  },
  {
   "cell_type": "markdown",
   "id": "a29eb79e",
   "metadata": {},
   "source": [
    "#### Python"
   ]
  },
  {
   "cell_type": "code",
   "execution_count": null,
   "id": "00b62ad4",
   "metadata": {},
   "outputs": [],
   "source": [
    "import scipy.stats as stats\n",
    "alpha = α = 0.05\n",
    "\n",
    "## stats f_oneway functions takes the groups as input and returns ANOVA F and p value\n",
    "## Leammatized Length\n",
    "f_val, p_val = stats.f_oneway(py_sentiment, all_sentiment)\n",
    "\n",
    "print(f'f_val: {f_val}')\n",
    "print(f'p_val: {p_val}')\n",
    "print('------------------------------')\n",
    "\n",
    "if p_val < α:\n",
    "    print('Reject the null hypothesis')\n",
    "else:\n",
    "    print('Fail to reject the null hypothesis')"
   ]
  },
  {
   "cell_type": "markdown",
   "id": "274ae1aa",
   "metadata": {},
   "source": [
    "#### Java vs Python"
   ]
  },
  {
   "cell_type": "code",
   "execution_count": null,
   "id": "1fd47015",
   "metadata": {
    "scrolled": false
   },
   "outputs": [],
   "source": [
    "import scipy.stats as stats\n",
    "alpha = α = 0.05\n",
    "\n",
    "## stats f_oneway functions takes the groups as input and returns ANOVA F and p value\n",
    "## Leammatized Length\n",
    "f_val, p_val = stats.f_oneway(jv_sentiment, py_sentiment)\n",
    "\n",
    "print(f'f_val: {f_val}')\n",
    "print(f'p_val: {p_val}')\n",
    "print('------------------------------')\n",
    "\n",
    "if p_val < α:\n",
    "    print('Reject the null hypothesis')\n",
    "else:\n",
    "    print('Fail to reject the null hypothesis')"
   ]
  },
  {
   "cell_type": "markdown",
   "id": "ae83a484",
   "metadata": {},
   "source": [
    "<div class=\"alert alert-info\">\n",
    "    \n",
    "# Q4.\n",
    "    \n",
    "### NO\n",
    "### The Sentiment **is NOT** ```significantly different``` across the four program languages.\n",
    "    \n",
    "    \n",
    "### **There is no evidence to support that the Sentiment of each program language Readme file is significantly different and will have an impact in determinng the program language.**  \n",
    "    \n",
    "* Based on this statistical finding we believe that Sentiment would not be an integral feature and should not be included in any machine learning efforts going forward."
   ]
  },
  {
   "cell_type": "code",
   "execution_count": null,
   "id": "be3e7f1a",
   "metadata": {},
   "outputs": [],
   "source": []
  }
 ],
 "metadata": {
  "kernelspec": {
   "display_name": "Python 3 (ipykernel)",
   "language": "python",
   "name": "python3"
  },
  "language_info": {
   "codemirror_mode": {
    "name": "ipython",
    "version": 3
   },
   "file_extension": ".py",
   "mimetype": "text/x-python",
   "name": "python",
   "nbconvert_exporter": "python",
   "pygments_lexer": "ipython3",
   "version": "3.9.12"
  }
 },
 "nbformat": 4,
 "nbformat_minor": 5
}
