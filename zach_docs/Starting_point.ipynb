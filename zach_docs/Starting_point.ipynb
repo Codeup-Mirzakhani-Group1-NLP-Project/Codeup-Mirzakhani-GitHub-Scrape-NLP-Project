{
 "cells": [
  {
   "cell_type": "code",
   "execution_count": 1,
   "metadata": {
    "collapsed": true
   },
   "outputs": [],
   "source": [
    "import acquire as a\n",
    "import prepare as p\n",
    "import modeling as m\n",
    "import os\n",
    "import json\n",
    "from typing import Dict, List, Optional, Union, cast\n",
    "\n",
    "from bs4 import BeautifulSoup\n",
    "import pandas as pd\n",
    "from sklearn.model_selection import train_test_split\n",
    "import nltk\n",
    "from sklearn.feature_extraction.text import CountVectorizer\n",
    "\n",
    "from env import github_token, github_username"
   ]
  },
  {
   "cell_type": "code",
   "execution_count": 2,
   "outputs": [],
   "source": [
    "df = p.get_clean_df()"
   ],
   "metadata": {
    "collapsed": false
   }
  },
  {
   "cell_type": "code",
   "execution_count": 3,
   "outputs": [],
   "source": [
    "X_train, X_validate, X_test, y_train, y_validate, y_test = p.split_data(df, explore=False)"
   ],
   "metadata": {
    "collapsed": false
   }
  },
  {
   "cell_type": "markdown",
   "source": [
    "# Making bag of words"
   ],
   "metadata": {
    "collapsed": false
   }
  },
  {
   "cell_type": "code",
   "execution_count": 4,
   "outputs": [],
   "source": [
    "cv = CountVectorizer()\n",
    "bag_of_words = cv.fit_transform(X_train.lemmatized)\n"
   ],
   "metadata": {
    "collapsed": false
   }
  },
  {
   "cell_type": "code",
   "execution_count": 6,
   "outputs": [
    {
     "data": {
      "text/plain": "<241x4926 sparse matrix of type '<class 'numpy.int64'>'\n\twith 11514 stored elements in Compressed Sparse Row format>"
     },
     "execution_count": 6,
     "metadata": {},
     "output_type": "execute_result"
    }
   ],
   "source": [
    "bag_of_words"
   ],
   "metadata": {
    "collapsed": false
   }
  },
  {
   "cell_type": "code",
   "execution_count": 7,
   "outputs": [],
   "source": [
    "bow = pd.DataFrame(bag_of_words.todense())\n",
    "bow.columns = cv.get_feature_names()"
   ],
   "metadata": {
    "collapsed": false
   }
  },
  {
   "cell_type": "code",
   "execution_count": 8,
   "outputs": [
    {
     "data": {
      "text/plain": "     aabb  aaro  ab  ability  abis  able  abramov  absence  absorb  abuild  \\\n0       0     0   0        0     0     0        0        0       0       0   \n1       0     1   0        0     0     0        0        0       0       0   \n2       0     0   0        0     0     0        0        0       0       0   \n3       0     0   0        0     0     0        0        0       0       0   \n4       0     0   0        0     0     0        0        0       0       0   \n..    ...   ...  ..      ...   ...   ...      ...      ...     ...     ...   \n236     0     0   0        0     0     0        0        0       0       0   \n237     0     0   0        0     0     0        0        0       0       0   \n238     0     0   0        0     0     0        0        0       0       0   \n239     0     0   0        0     0     0        0        0       0       0   \n240     0     0   0        0     0     0        0        0       0       0   \n\n     ...  york  youtube  yum  zdepth  zero  zip  ziptar  zodiusinfuser  zoom  \\\n0    ...     0        0    0       0     0    0       0              0     0   \n1    ...     0        0    0       0     0    0       0              0     0   \n2    ...     0        0    0       0     0    0       0              0     0   \n3    ...     0        0    0       0     0    0       0              0     0   \n4    ...     0        0    0       0     0    0       0              0     0   \n..   ...   ...      ...  ...     ...   ...  ...     ...            ...   ...   \n236  ...     0        0    0       0     0    0       0              0     0   \n237  ...     0        0    0       0     0    0       0              0     0   \n238  ...     0        0    0       0     0    0       0              0     0   \n239  ...     0        0    0       0     0    0       0              0     0   \n240  ...     0        0    0       0     0    0       0              0     0   \n\n     zoomrotate  \n0             0  \n1             1  \n2             0  \n3             0  \n4             0  \n..          ...  \n236           0  \n237           0  \n238           0  \n239           0  \n240           0  \n\n[241 rows x 4926 columns]",
      "text/html": "<div>\n<style scoped>\n    .dataframe tbody tr th:only-of-type {\n        vertical-align: middle;\n    }\n\n    .dataframe tbody tr th {\n        vertical-align: top;\n    }\n\n    .dataframe thead th {\n        text-align: right;\n    }\n</style>\n<table border=\"1\" class=\"dataframe\">\n  <thead>\n    <tr style=\"text-align: right;\">\n      <th></th>\n      <th>aabb</th>\n      <th>aaro</th>\n      <th>ab</th>\n      <th>ability</th>\n      <th>abis</th>\n      <th>able</th>\n      <th>abramov</th>\n      <th>absence</th>\n      <th>absorb</th>\n      <th>abuild</th>\n      <th>...</th>\n      <th>york</th>\n      <th>youtube</th>\n      <th>yum</th>\n      <th>zdepth</th>\n      <th>zero</th>\n      <th>zip</th>\n      <th>ziptar</th>\n      <th>zodiusinfuser</th>\n      <th>zoom</th>\n      <th>zoomrotate</th>\n    </tr>\n  </thead>\n  <tbody>\n    <tr>\n      <th>0</th>\n      <td>0</td>\n      <td>0</td>\n      <td>0</td>\n      <td>0</td>\n      <td>0</td>\n      <td>0</td>\n      <td>0</td>\n      <td>0</td>\n      <td>0</td>\n      <td>0</td>\n      <td>...</td>\n      <td>0</td>\n      <td>0</td>\n      <td>0</td>\n      <td>0</td>\n      <td>0</td>\n      <td>0</td>\n      <td>0</td>\n      <td>0</td>\n      <td>0</td>\n      <td>0</td>\n    </tr>\n    <tr>\n      <th>1</th>\n      <td>0</td>\n      <td>1</td>\n      <td>0</td>\n      <td>0</td>\n      <td>0</td>\n      <td>0</td>\n      <td>0</td>\n      <td>0</td>\n      <td>0</td>\n      <td>0</td>\n      <td>...</td>\n      <td>0</td>\n      <td>0</td>\n      <td>0</td>\n      <td>0</td>\n      <td>0</td>\n      <td>0</td>\n      <td>0</td>\n      <td>0</td>\n      <td>0</td>\n      <td>1</td>\n    </tr>\n    <tr>\n      <th>2</th>\n      <td>0</td>\n      <td>0</td>\n      <td>0</td>\n      <td>0</td>\n      <td>0</td>\n      <td>0</td>\n      <td>0</td>\n      <td>0</td>\n      <td>0</td>\n      <td>0</td>\n      <td>...</td>\n      <td>0</td>\n      <td>0</td>\n      <td>0</td>\n      <td>0</td>\n      <td>0</td>\n      <td>0</td>\n      <td>0</td>\n      <td>0</td>\n      <td>0</td>\n      <td>0</td>\n    </tr>\n    <tr>\n      <th>3</th>\n      <td>0</td>\n      <td>0</td>\n      <td>0</td>\n      <td>0</td>\n      <td>0</td>\n      <td>0</td>\n      <td>0</td>\n      <td>0</td>\n      <td>0</td>\n      <td>0</td>\n      <td>...</td>\n      <td>0</td>\n      <td>0</td>\n      <td>0</td>\n      <td>0</td>\n      <td>0</td>\n      <td>0</td>\n      <td>0</td>\n      <td>0</td>\n      <td>0</td>\n      <td>0</td>\n    </tr>\n    <tr>\n      <th>4</th>\n      <td>0</td>\n      <td>0</td>\n      <td>0</td>\n      <td>0</td>\n      <td>0</td>\n      <td>0</td>\n      <td>0</td>\n      <td>0</td>\n      <td>0</td>\n      <td>0</td>\n      <td>...</td>\n      <td>0</td>\n      <td>0</td>\n      <td>0</td>\n      <td>0</td>\n      <td>0</td>\n      <td>0</td>\n      <td>0</td>\n      <td>0</td>\n      <td>0</td>\n      <td>0</td>\n    </tr>\n    <tr>\n      <th>...</th>\n      <td>...</td>\n      <td>...</td>\n      <td>...</td>\n      <td>...</td>\n      <td>...</td>\n      <td>...</td>\n      <td>...</td>\n      <td>...</td>\n      <td>...</td>\n      <td>...</td>\n      <td>...</td>\n      <td>...</td>\n      <td>...</td>\n      <td>...</td>\n      <td>...</td>\n      <td>...</td>\n      <td>...</td>\n      <td>...</td>\n      <td>...</td>\n      <td>...</td>\n      <td>...</td>\n    </tr>\n    <tr>\n      <th>236</th>\n      <td>0</td>\n      <td>0</td>\n      <td>0</td>\n      <td>0</td>\n      <td>0</td>\n      <td>0</td>\n      <td>0</td>\n      <td>0</td>\n      <td>0</td>\n      <td>0</td>\n      <td>...</td>\n      <td>0</td>\n      <td>0</td>\n      <td>0</td>\n      <td>0</td>\n      <td>0</td>\n      <td>0</td>\n      <td>0</td>\n      <td>0</td>\n      <td>0</td>\n      <td>0</td>\n    </tr>\n    <tr>\n      <th>237</th>\n      <td>0</td>\n      <td>0</td>\n      <td>0</td>\n      <td>0</td>\n      <td>0</td>\n      <td>0</td>\n      <td>0</td>\n      <td>0</td>\n      <td>0</td>\n      <td>0</td>\n      <td>...</td>\n      <td>0</td>\n      <td>0</td>\n      <td>0</td>\n      <td>0</td>\n      <td>0</td>\n      <td>0</td>\n      <td>0</td>\n      <td>0</td>\n      <td>0</td>\n      <td>0</td>\n    </tr>\n    <tr>\n      <th>238</th>\n      <td>0</td>\n      <td>0</td>\n      <td>0</td>\n      <td>0</td>\n      <td>0</td>\n      <td>0</td>\n      <td>0</td>\n      <td>0</td>\n      <td>0</td>\n      <td>0</td>\n      <td>...</td>\n      <td>0</td>\n      <td>0</td>\n      <td>0</td>\n      <td>0</td>\n      <td>0</td>\n      <td>0</td>\n      <td>0</td>\n      <td>0</td>\n      <td>0</td>\n      <td>0</td>\n    </tr>\n    <tr>\n      <th>239</th>\n      <td>0</td>\n      <td>0</td>\n      <td>0</td>\n      <td>0</td>\n      <td>0</td>\n      <td>0</td>\n      <td>0</td>\n      <td>0</td>\n      <td>0</td>\n      <td>0</td>\n      <td>...</td>\n      <td>0</td>\n      <td>0</td>\n      <td>0</td>\n      <td>0</td>\n      <td>0</td>\n      <td>0</td>\n      <td>0</td>\n      <td>0</td>\n      <td>0</td>\n      <td>0</td>\n    </tr>\n    <tr>\n      <th>240</th>\n      <td>0</td>\n      <td>0</td>\n      <td>0</td>\n      <td>0</td>\n      <td>0</td>\n      <td>0</td>\n      <td>0</td>\n      <td>0</td>\n      <td>0</td>\n      <td>0</td>\n      <td>...</td>\n      <td>0</td>\n      <td>0</td>\n      <td>0</td>\n      <td>0</td>\n      <td>0</td>\n      <td>0</td>\n      <td>0</td>\n      <td>0</td>\n      <td>0</td>\n      <td>0</td>\n    </tr>\n  </tbody>\n</table>\n<p>241 rows × 4926 columns</p>\n</div>"
     },
     "execution_count": 8,
     "metadata": {},
     "output_type": "execute_result"
    }
   ],
   "source": [
    "bow"
   ],
   "metadata": {
    "collapsed": false
   }
  },
  {
   "cell_type": "code",
   "execution_count": 9,
   "outputs": [
    {
     "data": {
      "text/plain": "['aabb',\n 'aaro',\n 'ab',\n 'ability',\n 'abis',\n 'able',\n 'abramov',\n 'absence',\n 'absorb',\n 'abuild',\n 'ac',\n 'accelerated',\n 'accepted',\n 'accepting',\n 'access',\n 'accessed',\n 'accessing',\n 'accidentally',\n 'accompanies',\n 'accompanying',\n 'according',\n 'accordingly',\n 'account',\n 'accounted',\n 'accounting',\n 'accuracy',\n 'accurate',\n 'ace',\n 'achievement',\n 'acm',\n 'across',\n 'acting',\n 'action',\n 'actiongroups',\n 'activate',\n 'activated',\n 'activatednot',\n 'activation',\n 'active',\n 'actively',\n 'activity',\n 'actual',\n 'actually',\n 'ad',\n 'adapt',\n 'adapter',\n 'adapting',\n 'add',\n 'added',\n 'addedby',\n 'addedimproved',\n 'adding',\n 'addingremoving',\n 'addition',\n 'additional',\n 'additionally',\n 'addon',\n 'addremove',\n 'address',\n 'adecouplerstiffeningextensiontype',\n 'adhered',\n 'adjacency',\n 'adji',\n 'adjust',\n 'adjustable',\n 'adjusted',\n 'adjustment',\n 'adjusts',\n 'admin',\n 'adminautofilters',\n 'administering',\n 'administrating',\n 'administration',\n 'administrative',\n 'adminpy',\n 'adminregisteripaddress',\n 'adminregistersubnet',\n 'adminsiteunregisteripaddress',\n 'adminsiteunregistersubnet',\n 'adminsiteurls',\n 'adopted',\n 'adopting',\n 'adrian',\n 'advance',\n 'advanced',\n 'advancedrocketry',\n 'advantage',\n 'adventure',\n 'advise',\n 'advised',\n 'advisory',\n 'aec',\n 'aero',\n 'aerodynamic',\n 'aerodynamics',\n 'aerospace',\n 'aerospline',\n 'aerostructural',\n 'affect',\n 'affected',\n 'affero',\n 'affiliated',\n 'ag',\n 'age',\n 'agent',\n 'ago',\n 'agpl',\n 'agree',\n 'agreed',\n 'agreement',\n 'ahead',\n 'ai',\n 'aiforearth',\n 'aim',\n 'aimed',\n 'aiming',\n 'aiplayer',\n 'air',\n 'airbreather',\n 'airbreathing',\n 'airflow',\n 'airspeed',\n 'aje',\n 'al',\n 'alcubierre',\n 'alexa',\n 'alexaenabled',\n 'alexander',\n 'algorithm',\n 'algorithmic',\n 'alias',\n 'alien',\n 'allauth',\n 'allauthaccount',\n 'allauthsocialaccount',\n 'allegretto',\n 'allocated',\n 'allow',\n 'allowed',\n 'allows',\n 'almost',\n 'alone',\n 'along',\n 'alpha',\n 'already',\n 'also',\n 'alt',\n 'alter',\n 'altered',\n 'alternating',\n 'alternative',\n 'alternatively',\n 'alternativeto',\n 'alternativetonetsoftwarememcodeabout',\n 'although',\n 'altitude',\n 'always',\n 'amap',\n 'amazon',\n 'amount',\n 'analysis',\n 'analytic',\n 'analytics',\n 'analyze',\n 'analyzing',\n 'andor',\n 'android',\n 'angle',\n 'angular',\n 'angulardrivedamper',\n 'angulardrivespring',\n 'angularmaxforcefactor',\n 'animal',\n 'animatable',\n 'animated',\n 'animating',\n 'animation',\n 'animationloadmanager',\n 'anki',\n 'ankiapkgexport',\n 'annotation',\n 'announcement',\n 'annoying',\n 'anomaly',\n 'another',\n 'answer',\n 'antarctica',\n 'antariano',\n 'antimatter',\n 'antonia',\n 'anyone',\n 'anything',\n 'anywhere',\n 'aoa',\n 'aoas',\n 'aoi',\n 'aoiannotationspreppedcleanedbuildingscleanedxyidgeojson',\n 'aoiannotationspreppedcleanedbuildingsxyidshp',\n 'aoiannotationspreppedcleanedroadscleanedxyidgeojson',\n 'aoiannotationspreppedcleanedroadsspeedxyidgeojson',\n 'aoiannotationspreppedcleanedroadsspeedxyidshp',\n 'aoidirs',\n 'aopenwispipamcibuild',\n 'apache',\n 'api',\n 'apiendpoint',\n 'apis',\n 'apiv',\n 'apivdocs',\n 'apiviews',\n 'apivipamimportsubnet',\n 'apivipamipaddress',\n 'apivipamsubnet',\n 'apivipamsubnetexport',\n 'apivipamsubnetgetnextavailableip',\n 'apivipamsubnetipaddress',\n 'apivipamsubnetrequestip',\n 'apivpagesize',\n 'apivpagesizepage',\n 'apk',\n 'apl',\n 'apoapsis',\n 'apoapsisperiapsis',\n 'app',\n 'appcache',\n 'appconfig',\n 'appealing',\n 'appear',\n 'appearing',\n 'appears',\n 'append',\n 'appending',\n 'applabel',\n 'applauncher',\n 'applicable',\n 'application',\n 'applied',\n 'apply',\n 'applying',\n 'appname',\n 'appreciably',\n 'appreciated',\n 'approach',\n 'approamdepotdeveloperspageuqscwvkx',\n 'appropriate',\n 'appropriately',\n 'approval',\n 'approved',\n 'approving',\n 'approximately',\n 'approximates',\n 'approximation',\n 'apps',\n 'april',\n 'apsis',\n 'apt',\n 'ar',\n 'arbitrary',\n 'arc',\n 'arcade',\n 'architect',\n 'architecture',\n 'archive',\n 'archived',\n 'area',\n 'arg',\n 'argentina',\n 'argisvisibleposition',\n 'argisvisiblepositiondelta',\n 'argument',\n 'arised',\n 'arising',\n 'arm',\n 'around',\n 'arrange',\n 'array',\n 'arrives',\n 'arrow',\n 'arsenal',\n 'arspaceshooter',\n 'art',\n 'articlehedges',\n 'artifact',\n 'artist',\n 'artistic',\n 'arxiv',\n 'arzexplorer',\n 'asap',\n 'ascending',\n 'ascensioncallback',\n 'ascentdescent',\n 'ascii',\n 'ask',\n 'asking',\n 'asks',\n 'aspect',\n 'assemblycsharpdll',\n 'assessment',\n 'asset',\n 'assetsjavascriptbuilt',\n 'assetsjavascriptmodule',\n 'assetsjavascriptstate',\n 'assetsrdpartyspacepuppyunityframework',\n 'assetsrdpartyspaceuppyunityframework',\n 'assetsrdpartyspaceuppyunityframeworkeditor',\n 'assetsresourcestagdata',\n 'assetsspacepuppyunityframeworkeditor',\n 'assetsspaceuppyunityframework',\n 'assign',\n 'assigned',\n 'assistance',\n 'associated',\n 'assume',\n 'assuming',\n 'assumption',\n 'asteroid',\n 'astrogator',\n 'astronomical',\n 'asymmetric',\n 'asyncawait',\n 'atari',\n 'atmosphere',\n 'atmospheric',\n 'attach',\n 'attached',\n 'attachment',\n 'attachnode',\n 'attack',\n 'attempt',\n 'attention',\n 'attractive',\n 'attribute',\n 'auction',\n 'audio',\n 'augmented',\n 'aura',\n 'authenticating',\n 'authentication',\n 'author',\n 'authoring',\n 'authorized',\n 'authusermodel',\n 'auto',\n 'autocomplete',\n 'autodetect',\n 'autoemc',\n 'autoencoder',\n 'autogenerated',\n 'automated',\n 'automatic',\n 'automatically',\n 'automaton',\n 'autonomous',\n 'autoresponse',\n 'autosave',\n 'autosaving',\n 'auxilary',\n 'av',\n 'available',\n 'avalanche',\n 'avg',\n 'avoid',\n 'avoided',\n 'avoiding',\n 'avunaos',\n 'aware',\n 'away',\n 'awesome',\n 'awesomeness',\n 'axiom',\n 'axis',\n 'axisaligned',\n 'axisymmetric',\n 'azure',\n 'back',\n 'backbone',\n 'backend',\n 'backendwebpack',\n 'background',\n 'backlinks',\n 'backup',\n 'backwards',\n 'bad',\n 'bake',\n 'balance',\n 'balanced',\n 'ball',\n 'bamblehorsetiny',\n 'ban',\n 'bandcamp',\n 'bank',\n 'banner',\n 'bar',\n 'barrera',\n 'base',\n 'basecardsjson',\n 'based',\n 'baseipaddressadmin',\n 'baseline',\n 'baselinedataprepcreatemaskspy',\n 'baselinedataprepgeneratetrainvaltestcsvspy',\n 'baselinedataprepgeojsonpreppy',\n 'baselinefloodevalpy',\n 'baselinefoundationevalpy',\n 'baselinepostprocessingbuildingsbuildingpostprocessingpy',\n 'baselinepostprocessingroadscreatesubmissionpy',\n 'baselinepostprocessingroadsinferspeedpy',\n 'baselinepostprocessingroadsroadpostsh',\n 'baselinepostprocessingroadsvectorizeroadspy',\n 'baselinepostprocessingroadswkttogpy',\n 'baselinetrainfloodpy',\n 'baselinetrainfoundationfeaturespy',\n 'basesubnetadmin',\n 'bash',\n 'basic',\n 'basically',\n 'basis',\n 'basisevalpy',\n 'basispreparepy',\n 'basistrainpy',\n 'bat',\n 'batchsize',\n 'battery',\n 'battle',\n 'bay',\n 'bbrightgreensvgstyleflatsquare',\n 'bdarmory',\n 'beacon',\n 'bearer',\n 'beautiful',\n 'become',\n 'becomes',\n 'beethoven',\n 'beginner',\n 'beginning',\n 'behave',\n 'behavior',\n 'behind',\n 'believe',\n 'belt',\n 'benefit',\n 'bep',\n 'best',\n 'beta',\n 'better',\n 'betterbuoyancy',\n 'beyond',\n 'bezier',\n 'big',\n 'biggan',\n 'bigger',\n 'billion',\n 'binance',\n 'binary',\n 'binaryheap',\n 'bind',\n 'binding',\n 'biological',\n 'biome',\n 'biomolecular',\n 'biosimspace',\n 'biosimspacedev',\n 'biosimspacepython',\n 'bipedalwalkerhardcorev',\n 'bipedalwalkerv',\n 'bipropellant',\n 'bit',\n 'bitcoin',\n 'bitronic',\n 'black',\n 'blaze',\n 'bleeding',\n 'blei',\n 'blender',\n 'blenderblender',\n 'blind',\n 'blitzableiter',\n 'blizzy',\n 'block',\n 'blocking',\n 'blockstamp',\n 'blog',\n 'blogpost',\n 'bloom',\n 'blowfish',\n 'blue',\n 'blueprint',\n 'blunt',\n 'blur',\n 'bman',\n 'boat',\n 'body',\n 'boilerplate',\n 'bold',\n 'bomb',\n 'bookmark',\n 'bool',\n 'boolean',\n 'boost',\n 'booster',\n 'bootstrap',\n 'borrowed',\n 'bos',\n 'boston',\n 'bot',\n 'bottom',\n 'bouncing',\n 'bound',\n 'boundary',\n 'bounded',\n 'bounding',\n 'bouwel',\n 'box',\n 'brain',\n 'braintree',\n 'brake',\n 'branch',\n 'brandin',\n 'brandon',\n 'break',\n 'breakdown',\n 'breakforce',\n 'breakforcemultiplier',\n 'breakforces',\n 'breaking',\n 'breakstrengthperarea',\n 'breakstrengthperunitarea',\n 'breakthrough',\n 'breaktorque',\n 'breaktorquemultiplier',\n 'breaktorquepermoi',\n 'brett',\n 'brew',\n 'bridging',\n 'brightly',\n 'bring',\n 'broken',\n 'browsable',\n 'browsablewebinterface',\n 'browser',\n 'browsing',\n 'bs',\n 'bsd',\n 'bubble',\n 'buffed',\n 'buffer',\n 'bug',\n 'bugfix',\n 'bugfixes',\n 'build',\n 'builder',\n 'building',\n 'buildsopensource',\n 'built',\n 'builtin',\n 'bukget',\n 'bukkit',\n 'bulge',\n 'bullet',\n 'bunch',\n 'bundle',\n 'burn',\n 'burner',\n 'business',\n 'button',\n 'buy',\n 'buying',\n 'bvh',\n 'byte',\n 'cache',\n 'cached',\n 'cachey',\n 'caching',\n 'calcs',\n 'calculated',\n 'calculating',\n 'calculation',\n 'calculator',\n 'calhoun',\n 'california',\n 'call',\n 'callback',\n 'called',\n 'calling',\n 'camel',\n 'camelcase',\n 'camera',\n 'campaign',\n 'cancelled',\n 'cannot',\n 'cap',\n 'capability',\n 'capable',\n 'capital',\n 'capsctrlspace',\n 'capslock',\n 'capslockctrlspace',\n 'capstone',\n 'capsule',\n 'card',\n 'cardano',\n 'carden',\n 'care',\n 'carefully',\n 'cargo',\n 'carlos',\n 'case',\n 'cash',\n 'casting',\n 'catalogue',\n 'catalyst',\n 'catch',\n 'categorical',\n 'category',\n 'catmullrom',\n 'cause',\n 'caused',\n 'causing',\n 'caution',\n 'cave',\n 'ccbync',\n 'cccedict',\n 'cchain',\n 'cd',\n 'cdflib',\n 'cdn',\n 'celeba',\n 'celestial',\n 'celestrak',\n 'cell',\n 'cellular',\n 'centauri',\n 'center',\n 'central',\n 'centrifugal',\n 'certain',\n 'chai',\n 'chain',\n 'challenge',\n 'chance',\n 'change',\n 'changed',\n 'changelog',\n 'changing',\n 'channel',\n 'chaos',\n 'character',\n 'charactercontroller',\n 'characterization',\n 'charcoal',\n 'charge',\n 'charles',\n 'chart',\n 'chat',\n 'cheaper',\n 'cheatingly',\n 'check',\n 'checking',\n 'checkout',\n 'chemical',\n 'child',\n 'chinese',\n 'chineseenglish',\n 'choose',\n 'choosing',\n 'choreographing',\n 'chose',\n 'christopher',\n 'chrome',\n 'chunk',\n 'chunkster',\n 'chute',\n 'ci',\n 'cidr',\n 'circle',\n 'circlescontracts',\n 'circumstance',\n 'citation',\n 'cite',\n 'citing',\n 'city',\n 'ckan',\n 'ckpt',\n 'cla',\n 'clabot',\n 'claim',\n 'clamp',\n 'clamped',\n 'clan',\n 'clarity',\n 'class',\n 'classic',\n 'classification',\n 'claudia',\n 'claus',\n 'clause',\n 'clean',\n 'cleaned',\n 'cleaner',\n 'cleaning',\n 'cleanreturnnew',\n 'cleanup',\n 'clear',\n 'cleared',\n 'clearer',\n 'cli',\n 'click',\n 'clicked',\n 'clicking',\n 'client',\n 'clip',\n 'clipboard',\n 'clipping',\n 'clockwise',\n 'clone',\n 'close',\n 'closed',\n 'closer',\n 'closest',\n 'closestpointtovec',\n 'cloth',\n 'cloud',\n 'cluster',\n 'clustered',\n 'clutter',\n 'cm',\n 'cmd',\n 'cmwcrng',\n 'cnn',\n 'cntk',\n 'coast',\n 'coastal',\n 'coauthor',\n 'cockpit',\n 'code',\n 'codebase',\n 'codeblock',\n 'coded',\n 'codepoetbowden',\n 'coder',\n 'coderefactorings',\n 'coding',\n 'codingspace',\n 'coefficient',\n 'cognitive',\n 'coin',\n 'col',\n 'colab',\n 'cold',\n 'colibri',\n 'collaboration',\n 'collaborative',\n 'collapse',\n 'collapsibility',\n 'collect',\n 'collection',\n 'collective',\n 'collider',\n 'collumns',\n 'colonising',\n 'color',\n 'coloration',\n 'colorblind',\n 'colored',\n 'coloring',\n 'colour',\n 'coloured',\n 'column',\n 'com',\n 'combination',\n 'combined',\n 'combining',\n 'come',\n 'coming',\n 'comma',\n 'command',\n 'commandline',\n 'commaseparated',\n 'comment',\n 'commented',\n 'commenting',\n 'commercial',\n 'commiseration',\n 'commit',\n 'commits',\n 'committed',\n 'commom',\n 'common',\n 'comms',\n 'communicate',\n 'communicating',\n 'communication',\n 'community',\n 'compact',\n 'company',\n 'compare',\n 'compatability',\n 'compatchecker',\n 'compatibility',\n 'compatibilitychecker',\n 'compatible',\n 'compatiblity',\n 'compatilibility',\n 'competitor',\n 'compilable',\n 'compiled',\n 'compiler',\n 'compiles',\n 'compiling',\n 'complaint',\n 'complete',\n 'completed',\n 'completely',\n 'complex',\n 'complexity',\n 'compliance',\n 'compliant',\n 'complicated',\n 'component',\n 'composition',\n 'comprehensive',\n 'compressed',\n 'compression',\n 'comprise',\n 'computation',\n 'computationally',\n 'compute',\n 'computed',\n 'computer',\n 'computergraphics',\n 'computerized',\n 'computes',\n 'computing',\n 'comspacepuppygameloopentry',\n 'comspacepuppyhooksearlyexecutionupdateeventhooks',\n 'comspacepuppyhookstardyexecutionupdateeventhooks',\n 'comspacepuppyspentity',\n 'comspacepuppyutilsspecializedcoponentsearlyparentsetter',\n 'concentrated',\n 'concept',\n 'concern',\n 'concerning',\n 'conda',\n 'condaforge',\n 'condition',\n 'conduct',\n 'conducted',\n 'conduction',\n 'conference',\n 'config',\n 'configs',\n 'configspace',\n 'configspacenx',\n 'configuration',\n 'configure',\n 'configured',\n 'configures',\n 'configxml',\n 'confusion',\n 'conic',\n 'conjunction',\n 'connected',\n 'connectedlivingspace',\n 'connecting',\n 'connection',\n 'connects',\n 'consequential',\n 'consider',\n 'considered',\n 'consistency',\n 'consistent',\n 'consisting',\n 'consists',\n 'console',\n 'consolelogpersonget',\n 'consolelogpersontostring',\n 'constant',\n 'constellation',\n 'constraint',\n 'construction',\n 'constructor',\n 'consult',\n 'consumer',\n 'consuming',\n 'consumption',\n 'contact',\n 'contactmemcodecom',\n 'contain',\n 'contained',\n 'container',\n 'containing',\n 'contains',\n 'containspointvec',\n 'containspolygonpoly',\n 'containsthing',\n 'content',\n 'contentful',\n 'context',\n 'contextprocessors',\n 'contiguous',\n 'continue',\n 'continued',\n 'continueed',\n 'continuous',\n 'contract',\n 'contribute',\n 'contributed',\n 'contributing',\n 'contributingmd',\n 'contribution',\n 'contributor',\n 'control',\n 'controlled',\n 'controlling',\n 'contstantly',\n 'convective',\n 'convenience',\n 'conversion',\n 'convert',\n 'convoluted',\n 'convolutional',\n 'cookie',\n 'cookiecutter',\n 'cookiecutterdatascience',\n 'coordinate',\n 'copied',\n 'copy',\n 'copypaste',\n 'copyright',\n 'cordova',\n 'core',\n 'coriolis',\n 'coroutine',\n 'coroutines',\n 'corporate',\n 'corpus',\n 'correct',\n 'correcting',\n 'correctly',\n 'correlated',\n 'corresponding',\n 'cosmiq',\n 'cosmonium',\n 'cost',\n 'costlier',\n 'could',\n 'count',\n 'counter',\n 'counteract',\n 'counterpart',\n 'country',\n 'course',\n 'cover',\n 'coverage',\n 'covering',\n 'coverity',\n 'cp',\n 'cprogram',\n 'cpu',\n 'craft',\n 'craftbukkit',\n 'crafting',\n 'crash',\n 'crashing',\n 'crawler',\n 'create',\n 'created',\n 'createreactapp',\n 'creates',\n 'createsuperuser',\n 'creating',\n 'creation',\n 'creative',\n 'creativity',\n 'creator',\n 'credit',\n 'critical',\n 'crosshair',\n 'crosssection',\n 'crosswalk',\n 'crud',\n 'crypto',\n 'cryptographically',\n 'crysis',\n 'cs',\n 'cspeed',\n 'csprng',\n 'csproj',\n 'csv',\n 'csvs',\n 'ctrl',\n 'ctrlmousescroll',\n 'ctypes',\n 'cup',\n 'currency',\n 'current',\n 'currently',\n 'custom',\n 'customdefined',\n 'customizable',\n ...]"
     },
     "execution_count": 9,
     "metadata": {},
     "output_type": "execute_result"
    }
   ],
   "source": [
    "cv.get_feature_names()"
   ],
   "metadata": {
    "collapsed": false
   }
  },
  {
   "cell_type": "code",
   "execution_count": 10,
   "outputs": [
    {
     "data": {
      "text/plain": "     aabb      aaro   ab  ability  abis  able  abramov  absence  absorb  \\\n0     0.0  0.000000  0.0      0.0   0.0   0.0      0.0      0.0     0.0   \n1     0.0  0.009174  0.0      0.0   0.0   0.0      0.0      0.0     0.0   \n2     0.0  0.000000  0.0      0.0   0.0   0.0      0.0      0.0     0.0   \n3     0.0  0.000000  0.0      0.0   0.0   0.0      0.0      0.0     0.0   \n4     0.0  0.000000  0.0      0.0   0.0   0.0      0.0      0.0     0.0   \n..    ...       ...  ...      ...   ...   ...      ...      ...     ...   \n236   0.0  0.000000  0.0      0.0   0.0   0.0      0.0      0.0     0.0   \n237   0.0  0.000000  0.0      0.0   0.0   0.0      0.0      0.0     0.0   \n238   0.0  0.000000  0.0      0.0   0.0   0.0      0.0      0.0     0.0   \n239   0.0  0.000000  0.0      0.0   0.0   0.0      0.0      0.0     0.0   \n240   0.0  0.000000  0.0      0.0   0.0   0.0      0.0      0.0     0.0   \n\n     abuild  ...  york  youtube  yum  zdepth  zero  zip  ziptar  \\\n0       0.0  ...   0.0      0.0  0.0     0.0   0.0  0.0     0.0   \n1       0.0  ...   0.0      0.0  0.0     0.0   0.0  0.0     0.0   \n2       0.0  ...   0.0      0.0  0.0     0.0   0.0  0.0     0.0   \n3       0.0  ...   0.0      0.0  0.0     0.0   0.0  0.0     0.0   \n4       0.0  ...   0.0      0.0  0.0     0.0   0.0  0.0     0.0   \n..      ...  ...   ...      ...  ...     ...   ...  ...     ...   \n236     0.0  ...   0.0      0.0  0.0     0.0   0.0  0.0     0.0   \n237     0.0  ...   0.0      0.0  0.0     0.0   0.0  0.0     0.0   \n238     0.0  ...   0.0      0.0  0.0     0.0   0.0  0.0     0.0   \n239     0.0  ...   0.0      0.0  0.0     0.0   0.0  0.0     0.0   \n240     0.0  ...   0.0      0.0  0.0     0.0   0.0  0.0     0.0   \n\n     zodiusinfuser  zoom  zoomrotate  \n0              0.0   0.0    0.000000  \n1              0.0   0.0    0.009174  \n2              0.0   0.0    0.000000  \n3              0.0   0.0    0.000000  \n4              0.0   0.0    0.000000  \n..             ...   ...         ...  \n236            0.0   0.0    0.000000  \n237            0.0   0.0    0.000000  \n238            0.0   0.0    0.000000  \n239            0.0   0.0    0.000000  \n240            0.0   0.0    0.000000  \n\n[241 rows x 4926 columns]",
      "text/html": "<div>\n<style scoped>\n    .dataframe tbody tr th:only-of-type {\n        vertical-align: middle;\n    }\n\n    .dataframe tbody tr th {\n        vertical-align: top;\n    }\n\n    .dataframe thead th {\n        text-align: right;\n    }\n</style>\n<table border=\"1\" class=\"dataframe\">\n  <thead>\n    <tr style=\"text-align: right;\">\n      <th></th>\n      <th>aabb</th>\n      <th>aaro</th>\n      <th>ab</th>\n      <th>ability</th>\n      <th>abis</th>\n      <th>able</th>\n      <th>abramov</th>\n      <th>absence</th>\n      <th>absorb</th>\n      <th>abuild</th>\n      <th>...</th>\n      <th>york</th>\n      <th>youtube</th>\n      <th>yum</th>\n      <th>zdepth</th>\n      <th>zero</th>\n      <th>zip</th>\n      <th>ziptar</th>\n      <th>zodiusinfuser</th>\n      <th>zoom</th>\n      <th>zoomrotate</th>\n    </tr>\n  </thead>\n  <tbody>\n    <tr>\n      <th>0</th>\n      <td>0.0</td>\n      <td>0.000000</td>\n      <td>0.0</td>\n      <td>0.0</td>\n      <td>0.0</td>\n      <td>0.0</td>\n      <td>0.0</td>\n      <td>0.0</td>\n      <td>0.0</td>\n      <td>0.0</td>\n      <td>...</td>\n      <td>0.0</td>\n      <td>0.0</td>\n      <td>0.0</td>\n      <td>0.0</td>\n      <td>0.0</td>\n      <td>0.0</td>\n      <td>0.0</td>\n      <td>0.0</td>\n      <td>0.0</td>\n      <td>0.000000</td>\n    </tr>\n    <tr>\n      <th>1</th>\n      <td>0.0</td>\n      <td>0.009174</td>\n      <td>0.0</td>\n      <td>0.0</td>\n      <td>0.0</td>\n      <td>0.0</td>\n      <td>0.0</td>\n      <td>0.0</td>\n      <td>0.0</td>\n      <td>0.0</td>\n      <td>...</td>\n      <td>0.0</td>\n      <td>0.0</td>\n      <td>0.0</td>\n      <td>0.0</td>\n      <td>0.0</td>\n      <td>0.0</td>\n      <td>0.0</td>\n      <td>0.0</td>\n      <td>0.0</td>\n      <td>0.009174</td>\n    </tr>\n    <tr>\n      <th>2</th>\n      <td>0.0</td>\n      <td>0.000000</td>\n      <td>0.0</td>\n      <td>0.0</td>\n      <td>0.0</td>\n      <td>0.0</td>\n      <td>0.0</td>\n      <td>0.0</td>\n      <td>0.0</td>\n      <td>0.0</td>\n      <td>...</td>\n      <td>0.0</td>\n      <td>0.0</td>\n      <td>0.0</td>\n      <td>0.0</td>\n      <td>0.0</td>\n      <td>0.0</td>\n      <td>0.0</td>\n      <td>0.0</td>\n      <td>0.0</td>\n      <td>0.000000</td>\n    </tr>\n    <tr>\n      <th>3</th>\n      <td>0.0</td>\n      <td>0.000000</td>\n      <td>0.0</td>\n      <td>0.0</td>\n      <td>0.0</td>\n      <td>0.0</td>\n      <td>0.0</td>\n      <td>0.0</td>\n      <td>0.0</td>\n      <td>0.0</td>\n      <td>...</td>\n      <td>0.0</td>\n      <td>0.0</td>\n      <td>0.0</td>\n      <td>0.0</td>\n      <td>0.0</td>\n      <td>0.0</td>\n      <td>0.0</td>\n      <td>0.0</td>\n      <td>0.0</td>\n      <td>0.000000</td>\n    </tr>\n    <tr>\n      <th>4</th>\n      <td>0.0</td>\n      <td>0.000000</td>\n      <td>0.0</td>\n      <td>0.0</td>\n      <td>0.0</td>\n      <td>0.0</td>\n      <td>0.0</td>\n      <td>0.0</td>\n      <td>0.0</td>\n      <td>0.0</td>\n      <td>...</td>\n      <td>0.0</td>\n      <td>0.0</td>\n      <td>0.0</td>\n      <td>0.0</td>\n      <td>0.0</td>\n      <td>0.0</td>\n      <td>0.0</td>\n      <td>0.0</td>\n      <td>0.0</td>\n      <td>0.000000</td>\n    </tr>\n    <tr>\n      <th>...</th>\n      <td>...</td>\n      <td>...</td>\n      <td>...</td>\n      <td>...</td>\n      <td>...</td>\n      <td>...</td>\n      <td>...</td>\n      <td>...</td>\n      <td>...</td>\n      <td>...</td>\n      <td>...</td>\n      <td>...</td>\n      <td>...</td>\n      <td>...</td>\n      <td>...</td>\n      <td>...</td>\n      <td>...</td>\n      <td>...</td>\n      <td>...</td>\n      <td>...</td>\n      <td>...</td>\n    </tr>\n    <tr>\n      <th>236</th>\n      <td>0.0</td>\n      <td>0.000000</td>\n      <td>0.0</td>\n      <td>0.0</td>\n      <td>0.0</td>\n      <td>0.0</td>\n      <td>0.0</td>\n      <td>0.0</td>\n      <td>0.0</td>\n      <td>0.0</td>\n      <td>...</td>\n      <td>0.0</td>\n      <td>0.0</td>\n      <td>0.0</td>\n      <td>0.0</td>\n      <td>0.0</td>\n      <td>0.0</td>\n      <td>0.0</td>\n      <td>0.0</td>\n      <td>0.0</td>\n      <td>0.000000</td>\n    </tr>\n    <tr>\n      <th>237</th>\n      <td>0.0</td>\n      <td>0.000000</td>\n      <td>0.0</td>\n      <td>0.0</td>\n      <td>0.0</td>\n      <td>0.0</td>\n      <td>0.0</td>\n      <td>0.0</td>\n      <td>0.0</td>\n      <td>0.0</td>\n      <td>...</td>\n      <td>0.0</td>\n      <td>0.0</td>\n      <td>0.0</td>\n      <td>0.0</td>\n      <td>0.0</td>\n      <td>0.0</td>\n      <td>0.0</td>\n      <td>0.0</td>\n      <td>0.0</td>\n      <td>0.000000</td>\n    </tr>\n    <tr>\n      <th>238</th>\n      <td>0.0</td>\n      <td>0.000000</td>\n      <td>0.0</td>\n      <td>0.0</td>\n      <td>0.0</td>\n      <td>0.0</td>\n      <td>0.0</td>\n      <td>0.0</td>\n      <td>0.0</td>\n      <td>0.0</td>\n      <td>...</td>\n      <td>0.0</td>\n      <td>0.0</td>\n      <td>0.0</td>\n      <td>0.0</td>\n      <td>0.0</td>\n      <td>0.0</td>\n      <td>0.0</td>\n      <td>0.0</td>\n      <td>0.0</td>\n      <td>0.000000</td>\n    </tr>\n    <tr>\n      <th>239</th>\n      <td>0.0</td>\n      <td>0.000000</td>\n      <td>0.0</td>\n      <td>0.0</td>\n      <td>0.0</td>\n      <td>0.0</td>\n      <td>0.0</td>\n      <td>0.0</td>\n      <td>0.0</td>\n      <td>0.0</td>\n      <td>...</td>\n      <td>0.0</td>\n      <td>0.0</td>\n      <td>0.0</td>\n      <td>0.0</td>\n      <td>0.0</td>\n      <td>0.0</td>\n      <td>0.0</td>\n      <td>0.0</td>\n      <td>0.0</td>\n      <td>0.000000</td>\n    </tr>\n    <tr>\n      <th>240</th>\n      <td>0.0</td>\n      <td>0.000000</td>\n      <td>0.0</td>\n      <td>0.0</td>\n      <td>0.0</td>\n      <td>0.0</td>\n      <td>0.0</td>\n      <td>0.0</td>\n      <td>0.0</td>\n      <td>0.0</td>\n      <td>...</td>\n      <td>0.0</td>\n      <td>0.0</td>\n      <td>0.0</td>\n      <td>0.0</td>\n      <td>0.0</td>\n      <td>0.0</td>\n      <td>0.0</td>\n      <td>0.0</td>\n      <td>0.0</td>\n      <td>0.000000</td>\n    </tr>\n  </tbody>\n</table>\n<p>241 rows × 4926 columns</p>\n</div>"
     },
     "execution_count": 10,
     "metadata": {},
     "output_type": "execute_result"
    }
   ],
   "source": [
    "bow.apply(lambda row: row / row.sum(), axis=1)"
   ],
   "metadata": {
    "collapsed": false
   }
  },
  {
   "cell_type": "markdown",
   "source": [
    "# Making bag of bigrams"
   ],
   "metadata": {
    "collapsed": false
   }
  },
  {
   "cell_type": "code",
   "execution_count": 11,
   "outputs": [],
   "source": [
    "cv2 = CountVectorizer(ngram_range=(1, 2))\n",
    "bag_of_grams = cv2.fit_transform(X_train.lemmatized)\n"
   ],
   "metadata": {
    "collapsed": false
   }
  },
  {
   "cell_type": "code",
   "execution_count": 12,
   "outputs": [
    {
     "data": {
      "text/plain": "     aabb  aabb return  aabb scaleamount  aaro  aaro sky  ab  \\\n0       0            0                 0     0         0   0   \n1       0            0                 0     1         1   0   \n2       0            0                 0     0         0   0   \n3       0            0                 0     0         0   0   \n4       0            0                 0     0         0   0   \n..    ...          ...               ...   ...       ...  ..   \n236     0            0                 0     0         0   0   \n237     0            0                 0     0         0   0   \n238     0            0                 0     0         0   0   \n239     0            0                 0     0         0   0   \n240     0            0                 0     0         0   0   \n\n     ab noncommercial  ab testing  ability  ability create  ...  zip file  \\\n0                   0           0        0               0  ...         0   \n1                   0           0        0               0  ...         0   \n2                   0           0        0               0  ...         0   \n3                   0           0        0               0  ...         0   \n4                   0           0        0               0  ...         0   \n..                ...         ...      ...             ...  ...       ...   \n236                 0           0        0               0  ...         0   \n237                 0           0        0               0  ...         0   \n238                 0           0        0               0  ...         0   \n239                 0           0        0               0  ...         0   \n240                 0           0        0               0  ...         0   \n\n     zip gamedata  zip tar  ziptar  ziptar file  zodiusinfuser  zoom  \\\n0               0        0       0            0              0     0   \n1               0        0       0            0              0     0   \n2               0        0       0            0              0     0   \n3               0        0       0            0              0     0   \n4               0        0       0            0              0     0   \n..            ...      ...     ...          ...            ...   ...   \n236             0        0       0            0              0     0   \n237             0        0       0            0              0     0   \n238             0        0       0            0              0     0   \n239             0        0       0            0              0     0   \n240             0        0       0            0              0     0   \n\n     zoom inout  zoomrotate  zoomrotate entire  \n0             0           0                  0  \n1             0           1                  1  \n2             0           0                  0  \n3             0           0                  0  \n4             0           0                  0  \n..          ...         ...                ...  \n236           0           0                  0  \n237           0           0                  0  \n238           0           0                  0  \n239           0           0                  0  \n240           0           0                  0  \n\n[241 rows x 20505 columns]",
      "text/html": "<div>\n<style scoped>\n    .dataframe tbody tr th:only-of-type {\n        vertical-align: middle;\n    }\n\n    .dataframe tbody tr th {\n        vertical-align: top;\n    }\n\n    .dataframe thead th {\n        text-align: right;\n    }\n</style>\n<table border=\"1\" class=\"dataframe\">\n  <thead>\n    <tr style=\"text-align: right;\">\n      <th></th>\n      <th>aabb</th>\n      <th>aabb return</th>\n      <th>aabb scaleamount</th>\n      <th>aaro</th>\n      <th>aaro sky</th>\n      <th>ab</th>\n      <th>ab noncommercial</th>\n      <th>ab testing</th>\n      <th>ability</th>\n      <th>ability create</th>\n      <th>...</th>\n      <th>zip file</th>\n      <th>zip gamedata</th>\n      <th>zip tar</th>\n      <th>ziptar</th>\n      <th>ziptar file</th>\n      <th>zodiusinfuser</th>\n      <th>zoom</th>\n      <th>zoom inout</th>\n      <th>zoomrotate</th>\n      <th>zoomrotate entire</th>\n    </tr>\n  </thead>\n  <tbody>\n    <tr>\n      <th>0</th>\n      <td>0</td>\n      <td>0</td>\n      <td>0</td>\n      <td>0</td>\n      <td>0</td>\n      <td>0</td>\n      <td>0</td>\n      <td>0</td>\n      <td>0</td>\n      <td>0</td>\n      <td>...</td>\n      <td>0</td>\n      <td>0</td>\n      <td>0</td>\n      <td>0</td>\n      <td>0</td>\n      <td>0</td>\n      <td>0</td>\n      <td>0</td>\n      <td>0</td>\n      <td>0</td>\n    </tr>\n    <tr>\n      <th>1</th>\n      <td>0</td>\n      <td>0</td>\n      <td>0</td>\n      <td>1</td>\n      <td>1</td>\n      <td>0</td>\n      <td>0</td>\n      <td>0</td>\n      <td>0</td>\n      <td>0</td>\n      <td>...</td>\n      <td>0</td>\n      <td>0</td>\n      <td>0</td>\n      <td>0</td>\n      <td>0</td>\n      <td>0</td>\n      <td>0</td>\n      <td>0</td>\n      <td>1</td>\n      <td>1</td>\n    </tr>\n    <tr>\n      <th>2</th>\n      <td>0</td>\n      <td>0</td>\n      <td>0</td>\n      <td>0</td>\n      <td>0</td>\n      <td>0</td>\n      <td>0</td>\n      <td>0</td>\n      <td>0</td>\n      <td>0</td>\n      <td>...</td>\n      <td>0</td>\n      <td>0</td>\n      <td>0</td>\n      <td>0</td>\n      <td>0</td>\n      <td>0</td>\n      <td>0</td>\n      <td>0</td>\n      <td>0</td>\n      <td>0</td>\n    </tr>\n    <tr>\n      <th>3</th>\n      <td>0</td>\n      <td>0</td>\n      <td>0</td>\n      <td>0</td>\n      <td>0</td>\n      <td>0</td>\n      <td>0</td>\n      <td>0</td>\n      <td>0</td>\n      <td>0</td>\n      <td>...</td>\n      <td>0</td>\n      <td>0</td>\n      <td>0</td>\n      <td>0</td>\n      <td>0</td>\n      <td>0</td>\n      <td>0</td>\n      <td>0</td>\n      <td>0</td>\n      <td>0</td>\n    </tr>\n    <tr>\n      <th>4</th>\n      <td>0</td>\n      <td>0</td>\n      <td>0</td>\n      <td>0</td>\n      <td>0</td>\n      <td>0</td>\n      <td>0</td>\n      <td>0</td>\n      <td>0</td>\n      <td>0</td>\n      <td>...</td>\n      <td>0</td>\n      <td>0</td>\n      <td>0</td>\n      <td>0</td>\n      <td>0</td>\n      <td>0</td>\n      <td>0</td>\n      <td>0</td>\n      <td>0</td>\n      <td>0</td>\n    </tr>\n    <tr>\n      <th>...</th>\n      <td>...</td>\n      <td>...</td>\n      <td>...</td>\n      <td>...</td>\n      <td>...</td>\n      <td>...</td>\n      <td>...</td>\n      <td>...</td>\n      <td>...</td>\n      <td>...</td>\n      <td>...</td>\n      <td>...</td>\n      <td>...</td>\n      <td>...</td>\n      <td>...</td>\n      <td>...</td>\n      <td>...</td>\n      <td>...</td>\n      <td>...</td>\n      <td>...</td>\n      <td>...</td>\n    </tr>\n    <tr>\n      <th>236</th>\n      <td>0</td>\n      <td>0</td>\n      <td>0</td>\n      <td>0</td>\n      <td>0</td>\n      <td>0</td>\n      <td>0</td>\n      <td>0</td>\n      <td>0</td>\n      <td>0</td>\n      <td>...</td>\n      <td>0</td>\n      <td>0</td>\n      <td>0</td>\n      <td>0</td>\n      <td>0</td>\n      <td>0</td>\n      <td>0</td>\n      <td>0</td>\n      <td>0</td>\n      <td>0</td>\n    </tr>\n    <tr>\n      <th>237</th>\n      <td>0</td>\n      <td>0</td>\n      <td>0</td>\n      <td>0</td>\n      <td>0</td>\n      <td>0</td>\n      <td>0</td>\n      <td>0</td>\n      <td>0</td>\n      <td>0</td>\n      <td>...</td>\n      <td>0</td>\n      <td>0</td>\n      <td>0</td>\n      <td>0</td>\n      <td>0</td>\n      <td>0</td>\n      <td>0</td>\n      <td>0</td>\n      <td>0</td>\n      <td>0</td>\n    </tr>\n    <tr>\n      <th>238</th>\n      <td>0</td>\n      <td>0</td>\n      <td>0</td>\n      <td>0</td>\n      <td>0</td>\n      <td>0</td>\n      <td>0</td>\n      <td>0</td>\n      <td>0</td>\n      <td>0</td>\n      <td>...</td>\n      <td>0</td>\n      <td>0</td>\n      <td>0</td>\n      <td>0</td>\n      <td>0</td>\n      <td>0</td>\n      <td>0</td>\n      <td>0</td>\n      <td>0</td>\n      <td>0</td>\n    </tr>\n    <tr>\n      <th>239</th>\n      <td>0</td>\n      <td>0</td>\n      <td>0</td>\n      <td>0</td>\n      <td>0</td>\n      <td>0</td>\n      <td>0</td>\n      <td>0</td>\n      <td>0</td>\n      <td>0</td>\n      <td>...</td>\n      <td>0</td>\n      <td>0</td>\n      <td>0</td>\n      <td>0</td>\n      <td>0</td>\n      <td>0</td>\n      <td>0</td>\n      <td>0</td>\n      <td>0</td>\n      <td>0</td>\n    </tr>\n    <tr>\n      <th>240</th>\n      <td>0</td>\n      <td>0</td>\n      <td>0</td>\n      <td>0</td>\n      <td>0</td>\n      <td>0</td>\n      <td>0</td>\n      <td>0</td>\n      <td>0</td>\n      <td>0</td>\n      <td>...</td>\n      <td>0</td>\n      <td>0</td>\n      <td>0</td>\n      <td>0</td>\n      <td>0</td>\n      <td>0</td>\n      <td>0</td>\n      <td>0</td>\n      <td>0</td>\n      <td>0</td>\n    </tr>\n  </tbody>\n</table>\n<p>241 rows × 20505 columns</p>\n</div>"
     },
     "execution_count": 12,
     "metadata": {},
     "output_type": "execute_result"
    }
   ],
   "source": [
    "pd.DataFrame(bag_of_grams.todense(),\n",
    "            columns=cv2.get_feature_names())"
   ],
   "metadata": {
    "collapsed": false
   }
  },
  {
   "cell_type": "code",
   "execution_count": 13,
   "outputs": [],
   "source": [
    "\n",
    "from sklearn.model_selection import train_test_split\n",
    "from sklearn.tree import DecisionTreeClassifier\n",
    "from sklearn.ensemble import RandomForestClassifier\n",
    "\n"
   ],
   "metadata": {
    "collapsed": false
   }
  },
  {
   "cell_type": "markdown",
   "source": [
    "# Count Vectorizer with DecisionTree"
   ],
   "metadata": {
    "collapsed": false
   }
  },
  {
   "cell_type": "markdown",
   "source": [
    "Bag Of Words"
   ],
   "metadata": {
    "collapsed": false
   }
  },
  {
   "cell_type": "code",
   "execution_count": 14,
   "outputs": [
    {
     "name": "stdout",
     "output_type": "stream",
     "text": [
      "0.6763485477178424 0.5\n"
     ]
    }
   ],
   "source": [
    "cvword = CountVectorizer()\n",
    "X_bowT = cvword.fit_transform(X_train.lemmatized)\n",
    "X_bowV = cvword.transform(X_validate.lemmatized)\n",
    "tree1 = DecisionTreeClassifier(max_depth=9,random_state= 42)\n",
    "tree1.fit(X_bowT, y_train)\n",
    "print(tree1.score(X_bowT, y_train),\n",
    "tree1.score(X_bowV,y_validate))"
   ],
   "metadata": {
    "collapsed": false
   }
  },
  {
   "cell_type": "markdown",
   "source": [
    "Bag Of Bigrams"
   ],
   "metadata": {
    "collapsed": false
   }
  },
  {
   "cell_type": "code",
   "execution_count": 15,
   "outputs": [
    {
     "ename": "SyntaxError",
     "evalue": "unexpected EOF while parsing (941332556.py, line 5)",
     "output_type": "error",
     "traceback": [
      "\u001B[0;36m  Input \u001B[0;32mIn [15]\u001B[0;36m\u001B[0m\n\u001B[0;31m    print(tree2.score(X_bog, y_train),\u001B[0m\n\u001B[0m                                      ^\u001B[0m\n\u001B[0;31mSyntaxError\u001B[0m\u001B[0;31m:\u001B[0m unexpected EOF while parsing\n"
     ]
    }
   ],
   "source": [
    "cvgram = CountVectorizer()git\n",
    "X_bogT = cvgram.fit_transform(X_train.lemmatized)\n",
    "x_bogV = cvgram.transform((X_validate.lemmatized))\n",
    "tree2 = DecisionTreeClassifier(max_depth=3, random_state= 42)\n",
    "tree2.fit(X_bog, y_train)\n",
    "print(tree2.score(X_bog, y_train),tree2.score(x_bog,y_validate)"
   ],
   "metadata": {
    "collapsed": false
   }
  },
  {
   "cell_type": "markdown",
   "source": [
    "# Count Vectorizer with random Forest"
   ],
   "metadata": {
    "collapsed": false
   }
  },
  {
   "cell_type": "markdown",
   "source": [
    "Bag of Words"
   ],
   "metadata": {
    "collapsed": false
   }
  },
  {
   "cell_type": "code",
   "execution_count": null,
   "outputs": [],
   "source": [
    "cvword = CountVectorizer()\n",
    "X_bow = cvword.fit_transform(X_train.lemmatized)\n",
    "Forest1 = RandomForestClassifier(max_depth=5, min_samples_leaf= 5,random_state= 42)\n",
    "Forest1.fit(X_bow, y_train)\n",
    "Forest1.score(X_bow, y_train)"
   ],
   "metadata": {
    "collapsed": false
   }
  },
  {
   "cell_type": "code",
   "execution_count": null,
   "outputs": [],
   "source": [
    "cvgram = CountVectorizer(ngram_range=(1,2))\n",
    "X_bow = cvgram.fit_transform(X_train.lemmatized)\n",
    "Forest2 = RandomForestClassifier(max_depth=5, min_samples_leaf= 5, random_state= 42)\n",
    "Forest2.fit(X_bow, y_train)\n",
    "Forest2.score(X_bow, y_train)"
   ],
   "metadata": {
    "collapsed": false
   }
  },
  {
   "cell_type": "markdown",
   "source": [
    "# Bigram loop"
   ],
   "metadata": {
    "collapsed": false
   }
  },
  {
   "cell_type": "code",
   "execution_count": null,
   "outputs": [],
   "source": [
    "'''for x in range(2,10):\n",
    "    cv = CountVectorizer(ngram_range=(1,x ))\n",
    "    hold = cv.fit_transform(X_train.lemmatized)\n",
    "    Forest = RandomForestClassifier(max_depth=5, min_samples_leaf= 5)\n",
    "    Forest.fit(hold, y_train)\n",
    "    print(Forest2.score(hold, y_train))'''\n",
    "\n"
   ],
   "metadata": {
    "collapsed": false
   }
  },
  {
   "cell_type": "markdown",
   "source": [
    "REGRESSION"
   ],
   "metadata": {
    "collapsed": false
   }
  },
  {
   "cell_type": "code",
   "execution_count": null,
   "outputs": [],
   "source": [
    "from sklearn.linear_model import LogisticRegression"
   ],
   "metadata": {
    "collapsed": false
   }
  },
  {
   "cell_type": "markdown",
   "source": [
    "Word"
   ],
   "metadata": {
    "collapsed": false
   }
  },
  {
   "cell_type": "code",
   "execution_count": null,
   "outputs": [],
   "source": [
    "cvword = CountVectorizer()\n",
    "X_bow = cvword.fit_transform(X_train.lemmatized)\n",
    "logreg = LogisticRegression(C = .3,random_state = 42)\n",
    "logreg.fit(X_bow,y_train)\n",
    "logreg.score(X_bow,y_train) * 100"
   ],
   "metadata": {
    "collapsed": false
   }
  },
  {
   "cell_type": "code",
   "execution_count": null,
   "outputs": [],
   "source": [],
   "metadata": {
    "collapsed": false
   }
  },
  {
   "cell_type": "markdown",
   "source": [
    "Bigram"
   ],
   "metadata": {
    "collapsed": false
   }
  },
  {
   "cell_type": "code",
   "execution_count": null,
   "outputs": [],
   "source": [],
   "metadata": {
    "collapsed": false
   }
  },
  {
   "cell_type": "code",
   "execution_count": null,
   "outputs": [],
   "source": [
    "cvword.get_feature_names_out()"
   ],
   "metadata": {
    "collapsed": false
   }
  },
  {
   "cell_type": "code",
   "execution_count": null,
   "outputs": [],
   "source": [
    "cvword1 = CountVectorizer(vocabulary=cvword.get_feature_names_out())\n",
    "X_bow1 = cvword.transform(X_validate.lemmatized)\n",
    "logreg.score(X_bow1,y_validate) * 100"
   ],
   "metadata": {
    "collapsed": false
   }
  },
  {
   "cell_type": "code",
   "execution_count": null,
   "outputs": [],
   "source": [
    "import nltk.sentiment\n",
    "# we call nltk.sentiment.SentimentIntensityAnalyser()\n",
    "# use polarity_scores from that object\n",
    "sia = nltk.sentiment.SentimentIntensityAnalyzer()\n",
    "df['sentiment'] = df['lemmatized'].apply(lambda doc: sia.polarity_scores(doc)['compound'])\n"
   ],
   "metadata": {
    "collapsed": false
   }
  },
  {
   "cell_type": "code",
   "execution_count": null,
   "outputs": [],
   "source": [
    "df['lem_length'] = df['lemmatized'].str.len()\n",
    "Python = df[df.language == 'Python']\n",
    "JavaScript = df[df.language == 'JavaScript']\n",
    "C = df[df.language == 'C#']\n",
    "Java = df[df.language == 'Java']\n",
    "print('python = ' , Python.lem_length.mean(), 'Javascript = ', JavaScript.lem_length.mean(), 'C# =', C.lem_length.mean(), 'Java =', Java.lem_length.mean())\n",
    "\n",
    "\n"
   ],
   "metadata": {
    "collapsed": false
   }
  },
  {
   "cell_type": "code",
   "execution_count": null,
   "outputs": [],
   "source": [
    "df['lem_length']"
   ],
   "metadata": {
    "collapsed": false
   }
  },
  {
   "cell_type": "code",
   "execution_count": null,
   "outputs": [],
   "source": [
    "df.lemmatized"
   ],
   "metadata": {
    "collapsed": false
   }
  },
  {
   "cell_type": "code",
   "execution_count": null,
   "outputs": [],
   "source": [
    "len(Python.clean).mean()"
   ],
   "metadata": {
    "collapsed": false
   }
  },
  {
   "cell_type": "code",
   "execution_count": null,
   "outputs": [],
   "source": [
    "df"
   ],
   "metadata": {
    "collapsed": false
   }
  },
  {
   "cell_type": "code",
   "execution_count": 6,
   "outputs": [
    {
     "name": "stdout",
     "output_type": "stream",
     "text": [
      "Best parameters per algorithm:\n",
      "------------------------------------------------------------------------------------------------------------\n",
      "Decision Tree Parameters:  {'max_depth': 6}\n"
     ]
    }
   ],
   "source": [
    "m.run_decision_tree(4)"
   ],
   "metadata": {
    "collapsed": false
   }
  },
  {
   "cell_type": "code",
   "execution_count": null,
   "outputs": [],
   "source": [],
   "metadata": {
    "collapsed": false
   }
  }
 ],
 "metadata": {
  "kernelspec": {
   "display_name": "Python 3",
   "language": "python",
   "name": "python3"
  },
  "language_info": {
   "codemirror_mode": {
    "name": "ipython",
    "version": 2
   },
   "file_extension": ".py",
   "mimetype": "text/x-python",
   "name": "python",
   "nbconvert_exporter": "python",
   "pygments_lexer": "ipython2",
   "version": "2.7.6"
  }
 },
 "nbformat": 4,
 "nbformat_minor": 0
}
