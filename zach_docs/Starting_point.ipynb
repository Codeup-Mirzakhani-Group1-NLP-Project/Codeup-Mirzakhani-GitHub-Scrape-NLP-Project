{
 "cells": [
  {
   "cell_type": "code",
   "execution_count": 8,
   "metadata": {
    "collapsed": true
   },
   "outputs": [],
   "source": [
    "import Acquire as a\n",
    "import os\n",
    "import json\n",
    "from typing import Dict, List, Optional, Union, cast\n",
    "import requests\n",
    "from bs4 import BeautifulSoup\n",
    "import pandas as pd\n",
    "\n",
    "from env import github_token, github_username"
   ]
  },
  {
   "cell_type": "code",
   "execution_count": 9,
   "outputs": [],
   "source": [
    "REPOS = a.get_repo_links()"
   ],
   "metadata": {
    "collapsed": false
   }
  },
  {
   "cell_type": "code",
   "execution_count": 10,
   "outputs": [
    {
     "data": {
      "text/plain": "['SpaceVim/SpaceVim',\n 'syl20bnr/spacemacs',\n 'r-spacex/SpaceX-API',\n 'KeenSoftwareHouse/SpaceEngineers',\n 'a1studmuffin/SpaceshipGenerator',\n 'MicrosoftDocs/mslearn-tailspin-spacegame-web',\n 'spaceship-prompt/spaceship-prompt',\n 'spacedriveapp/spacedrive',\n 'SublimeText/Spacegray',\n 'sar-gupta/space']"
     },
     "execution_count": 10,
     "metadata": {},
     "output_type": "execute_result"
    }
   ],
   "source": [
    "REPOS"
   ],
   "metadata": {
    "collapsed": false
   }
  },
  {
   "cell_type": "code",
   "execution_count": 11,
   "outputs": [],
   "source": [
    "d = a.scrape_github_data(REPOS)"
   ],
   "metadata": {
    "collapsed": false
   }
  },
  {
   "cell_type": "code",
   "execution_count": 12,
   "outputs": [],
   "source": [
    "d = pd.DataFrame(d)"
   ],
   "metadata": {
    "collapsed": false
   }
  },
  {
   "cell_type": "code",
   "execution_count": 13,
   "outputs": [
    {
     "data": {
      "text/plain": "                                           repo    language  \\\n0                             SpaceVim/SpaceVim         Lua   \n1                            syl20bnr/spacemacs  Emacs Lisp   \n2                           r-spacex/SpaceX-API  JavaScript   \n3              KeenSoftwareHouse/SpaceEngineers          C#   \n4               a1studmuffin/SpaceshipGenerator      Python   \n5  MicrosoftDocs/mslearn-tailspin-spacegame-web        HTML   \n6             spaceship-prompt/spaceship-prompt       Shell   \n7                      spacedriveapp/spacedrive        Rust   \n8                         SublimeText/Spacegray  JavaScript   \n9                               sar-gupta/space  JavaScript   \n\n                                     readme_contents  \n0  <h1 align=\"center\">\\n  <a href=\"https://spacev...  \n1  <a name=\"top\" id=\"fork-destination-box\"></a>\\n...  \n2  <p align=\"center\"><img src=\"https://live.stati...  \n3  \\nARCHIVED VERSION OF Space Engineers. This ve...  \n4  # Spaceship Generator\\n\\nA Blender script to p...  \n5  \\r\\n# Contributing\\r\\n\\r\\nThis project welcome...  \n6  [![SWUbanner](https://raw.githubusercontent.co...  \n7  <p align=\"center\">\\n  <a href=\"#\">\\n    \\n  </...  \n8  # Spacegray\\n\\nA set of custom UI themes for S...  \n9  # S P A C E\\n\\n![cover](resources/space-readme...  ",
      "text/html": "<div>\n<style scoped>\n    .dataframe tbody tr th:only-of-type {\n        vertical-align: middle;\n    }\n\n    .dataframe tbody tr th {\n        vertical-align: top;\n    }\n\n    .dataframe thead th {\n        text-align: right;\n    }\n</style>\n<table border=\"1\" class=\"dataframe\">\n  <thead>\n    <tr style=\"text-align: right;\">\n      <th></th>\n      <th>repo</th>\n      <th>language</th>\n      <th>readme_contents</th>\n    </tr>\n  </thead>\n  <tbody>\n    <tr>\n      <th>0</th>\n      <td>SpaceVim/SpaceVim</td>\n      <td>Lua</td>\n      <td>&lt;h1 align=\"center\"&gt;\\n  &lt;a href=\"https://spacev...</td>\n    </tr>\n    <tr>\n      <th>1</th>\n      <td>syl20bnr/spacemacs</td>\n      <td>Emacs Lisp</td>\n      <td>&lt;a name=\"top\" id=\"fork-destination-box\"&gt;&lt;/a&gt;\\n...</td>\n    </tr>\n    <tr>\n      <th>2</th>\n      <td>r-spacex/SpaceX-API</td>\n      <td>JavaScript</td>\n      <td>&lt;p align=\"center\"&gt;&lt;img src=\"https://live.stati...</td>\n    </tr>\n    <tr>\n      <th>3</th>\n      <td>KeenSoftwareHouse/SpaceEngineers</td>\n      <td>C#</td>\n      <td>\\nARCHIVED VERSION OF Space Engineers. This ve...</td>\n    </tr>\n    <tr>\n      <th>4</th>\n      <td>a1studmuffin/SpaceshipGenerator</td>\n      <td>Python</td>\n      <td># Spaceship Generator\\n\\nA Blender script to p...</td>\n    </tr>\n    <tr>\n      <th>5</th>\n      <td>MicrosoftDocs/mslearn-tailspin-spacegame-web</td>\n      <td>HTML</td>\n      <td>\\r\\n# Contributing\\r\\n\\r\\nThis project welcome...</td>\n    </tr>\n    <tr>\n      <th>6</th>\n      <td>spaceship-prompt/spaceship-prompt</td>\n      <td>Shell</td>\n      <td>[![SWUbanner](https://raw.githubusercontent.co...</td>\n    </tr>\n    <tr>\n      <th>7</th>\n      <td>spacedriveapp/spacedrive</td>\n      <td>Rust</td>\n      <td>&lt;p align=\"center\"&gt;\\n  &lt;a href=\"#\"&gt;\\n    \\n  &lt;/...</td>\n    </tr>\n    <tr>\n      <th>8</th>\n      <td>SublimeText/Spacegray</td>\n      <td>JavaScript</td>\n      <td># Spacegray\\n\\nA set of custom UI themes for S...</td>\n    </tr>\n    <tr>\n      <th>9</th>\n      <td>sar-gupta/space</td>\n      <td>JavaScript</td>\n      <td># S P A C E\\n\\n![cover](resources/space-readme...</td>\n    </tr>\n  </tbody>\n</table>\n</div>"
     },
     "execution_count": 13,
     "metadata": {},
     "output_type": "execute_result"
    }
   ],
   "source": [
    "d"
   ],
   "metadata": {
    "collapsed": false
   }
  },
  {
   "cell_type": "code",
   "execution_count": 14,
   "outputs": [],
   "source": [
    "s = BeautifulSoup(d.iloc[1, 2])"
   ],
   "metadata": {
    "collapsed": false
   }
  },
  {
   "cell_type": "code",
   "execution_count": null,
   "outputs": [],
   "source": [
    "for data in s(['style', 'script']):\n",
    "    data.decompose()\n",
    "\n",
    "' '.join(s.stripped_strings)"
   ],
   "metadata": {
    "collapsed": false
   }
  },
  {
   "cell_type": "code",
   "execution_count": null,
   "outputs": [],
   "source": [
    "' '.join(s.findAll(text=True))"
   ],
   "metadata": {
    "collapsed": false
   }
  }
 ],
 "metadata": {
  "kernelspec": {
   "display_name": "Python 3",
   "language": "python",
   "name": "python3"
  },
  "language_info": {
   "codemirror_mode": {
    "name": "ipython",
    "version": 2
   },
   "file_extension": ".py",
   "mimetype": "text/x-python",
   "name": "python",
   "nbconvert_exporter": "python",
   "pygments_lexer": "ipython2",
   "version": "2.7.6"
  }
 },
 "nbformat": 4,
 "nbformat_minor": 0
}
