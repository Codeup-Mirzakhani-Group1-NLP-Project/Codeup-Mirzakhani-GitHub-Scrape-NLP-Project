{
 "cells": [
  {
   "cell_type": "code",
   "execution_count": 1,
   "id": "c8fd4049",
   "metadata": {},
   "outputs": [],
   "source": [
    "import pandas as pd\n",
    "import prepare as pr\n",
    "import modeling as m"
   ]
  },
  {
   "cell_type": "code",
   "execution_count": 2,
   "id": "bc6ed385",
   "metadata": {},
   "outputs": [],
   "source": [
    "from importlib import reload"
   ]
  },
  {
   "cell_type": "markdown",
   "id": "4ab3dd75",
   "metadata": {},
   "source": [
    "Imports for some quick exploration and pulling bigrams"
   ]
  },
  {
   "cell_type": "code",
   "execution_count": 3,
   "id": "9dd3e7ba",
   "metadata": {},
   "outputs": [],
   "source": [
    "import matplotlib.pyplot as plt\n",
    "import seaborn as sns\n",
    "import pandas as pd\n",
    "import nltk\n",
    "import unicodedata\n",
    "import re\n",
    "# import modules\n",
    "import env\n",
    "from wordcloud import WordCloud"
   ]
  },
  {
   "cell_type": "markdown",
   "id": "60d90cf5",
   "metadata": {},
   "source": [
    "Imports for modeling"
   ]
  },
  {
   "cell_type": "code",
   "execution_count": 4,
   "id": "b0a96c73",
   "metadata": {},
   "outputs": [],
   "source": [
    "from sklearn.model_selection import train_test_split\n",
    "from sklearn.tree import DecisionTreeClassifier\n",
    "from sklearn.feature_extraction.text import CountVectorizer\n",
    "from sklearn.feature_extraction.text import TfidfVectorizer"
   ]
  },
  {
   "cell_type": "code",
   "execution_count": 5,
   "id": "fe7979aa",
   "metadata": {},
   "outputs": [],
   "source": [
    "seed = 42\n",
    "target = 'language'"
   ]
  },
  {
   "cell_type": "code",
   "execution_count": 6,
   "id": "47e7d317",
   "metadata": {},
   "outputs": [
    {
     "data": {
      "text/plain": "<module 'prepare' from '/Users/zacharystufflebeme/codeup-data-science/NLP/NLP/NLP-Project/Codeup-Mirzakhani-GitHub-Scrape-NLP-Project/zach_docs/prepare.py'>"
     },
     "execution_count": 6,
     "metadata": {},
     "output_type": "execute_result"
    }
   ],
   "source": [
    "reload(pr)"
   ]
  },
  {
   "cell_type": "code",
   "execution_count": 7,
   "id": "6c75a694",
   "metadata": {},
   "outputs": [],
   "source": [
    "df = pr.get_clean_df()"
   ]
  },
  {
   "cell_type": "code",
   "execution_count": 8,
   "id": "8a973262",
   "metadata": {},
   "outputs": [
    {
     "name": "stdout",
     "output_type": "stream",
     "text": [
      "<class 'pandas.core.frame.DataFrame'>\n",
      "RangeIndex: 432 entries, 0 to 431\n",
      "Data columns (total 17 columns):\n",
      " #   Column           Non-Null Count  Dtype   \n",
      "---  ------           --------------  -----   \n",
      " 0   original         432 non-null    object  \n",
      " 1   first_clean      432 non-null    object  \n",
      " 2   clean            432 non-null    object  \n",
      " 3   lemmatized       432 non-null    object  \n",
      " 4   sentiment        432 non-null    float64 \n",
      " 5   lem_length       432 non-null    int64   \n",
      " 6   original_length  432 non-null    int64   \n",
      " 7   length_diff      432 non-null    int64   \n",
      " 8   has_#9           432 non-null    int64   \n",
      " 9   has_tab          432 non-null    int64   \n",
      " 10  has_parts        432 non-null    int64   \n",
      " 11  has_fix          432 non-null    int64   \n",
      " 12  has_x            432 non-null    int64   \n",
      " 13  has_v            432 non-null    int64   \n",
      " 14  has_codeblock    432 non-null    int64   \n",
      " 15  has_image        432 non-null    int64   \n",
      " 16  language         432 non-null    category\n",
      "dtypes: category(1), float64(1), int64(11), object(4)\n",
      "memory usage: 54.7+ KB\n"
     ]
    }
   ],
   "source": [
    "df.info()"
   ]
  },
  {
   "cell_type": "code",
   "execution_count": 9,
   "id": "9261f653",
   "metadata": {},
   "outputs": [],
   "source": [
    "X_train, X_validate, X_test, y_train, y_validate, y_test = pr.split_data(df, explore=False)"
   ]
  },
  {
   "cell_type": "code",
   "execution_count": 10,
   "id": "4bf4537f",
   "metadata": {},
   "outputs": [
    {
     "data": {
      "text/plain": "                                            lemmatized  sentiment  lem_length  \\\n271                                       build status   0.456904    0.000618   \n344  designspace designspace prototype design tool ...   0.540160    0.038384   \n23   photoshop design build status file root reposi...   0.456904    0.007368   \n190  learning adapt structured output semantic segm...   0.498885    0.016951   \n22   pyspace glsl fractal ray marcher python instal...   0.456904    0.004276   \n..                                                 ...        ...         ...   \n220    spacetextwatcher android spacetextwatcher qq qq   0.048725    0.002422   \n123                                            discord   0.238349    0.000361   \n242  dljtutorials deeplearningj deeplearningj java ...   0.456904    0.005049   \n183  openwispipam image target aopenwispipamcibuild...   0.999837    0.623474   \n234  spacetrack pypi version documentation ci statu...   0.227690    0.064506   \n\n     original_length  length_diff  \n271         0.262251     0.262051  \n344         0.027498     0.007324  \n23          0.075758     0.071957  \n190         0.172625     0.163941  \n22          0.006309     0.004021  \n..               ...          ...  \n220         0.114036     0.112836  \n123         0.094445     0.094301  \n242         0.467591     0.465166  \n183         0.633135     0.307696  \n234         0.084063     0.050546  \n\n[241 rows x 5 columns]",
      "text/html": "<div>\n<style scoped>\n    .dataframe tbody tr th:only-of-type {\n        vertical-align: middle;\n    }\n\n    .dataframe tbody tr th {\n        vertical-align: top;\n    }\n\n    .dataframe thead th {\n        text-align: right;\n    }\n</style>\n<table border=\"1\" class=\"dataframe\">\n  <thead>\n    <tr style=\"text-align: right;\">\n      <th></th>\n      <th>lemmatized</th>\n      <th>sentiment</th>\n      <th>lem_length</th>\n      <th>original_length</th>\n      <th>length_diff</th>\n    </tr>\n  </thead>\n  <tbody>\n    <tr>\n      <th>271</th>\n      <td>build status</td>\n      <td>0.456904</td>\n      <td>0.000618</td>\n      <td>0.262251</td>\n      <td>0.262051</td>\n    </tr>\n    <tr>\n      <th>344</th>\n      <td>designspace designspace prototype design tool ...</td>\n      <td>0.540160</td>\n      <td>0.038384</td>\n      <td>0.027498</td>\n      <td>0.007324</td>\n    </tr>\n    <tr>\n      <th>23</th>\n      <td>photoshop design build status file root reposi...</td>\n      <td>0.456904</td>\n      <td>0.007368</td>\n      <td>0.075758</td>\n      <td>0.071957</td>\n    </tr>\n    <tr>\n      <th>190</th>\n      <td>learning adapt structured output semantic segm...</td>\n      <td>0.498885</td>\n      <td>0.016951</td>\n      <td>0.172625</td>\n      <td>0.163941</td>\n    </tr>\n    <tr>\n      <th>22</th>\n      <td>pyspace glsl fractal ray marcher python instal...</td>\n      <td>0.456904</td>\n      <td>0.004276</td>\n      <td>0.006309</td>\n      <td>0.004021</td>\n    </tr>\n    <tr>\n      <th>...</th>\n      <td>...</td>\n      <td>...</td>\n      <td>...</td>\n      <td>...</td>\n      <td>...</td>\n    </tr>\n    <tr>\n      <th>220</th>\n      <td>spacetextwatcher android spacetextwatcher qq qq</td>\n      <td>0.048725</td>\n      <td>0.002422</td>\n      <td>0.114036</td>\n      <td>0.112836</td>\n    </tr>\n    <tr>\n      <th>123</th>\n      <td>discord</td>\n      <td>0.238349</td>\n      <td>0.000361</td>\n      <td>0.094445</td>\n      <td>0.094301</td>\n    </tr>\n    <tr>\n      <th>242</th>\n      <td>dljtutorials deeplearningj deeplearningj java ...</td>\n      <td>0.456904</td>\n      <td>0.005049</td>\n      <td>0.467591</td>\n      <td>0.465166</td>\n    </tr>\n    <tr>\n      <th>183</th>\n      <td>openwispipam image target aopenwispipamcibuild...</td>\n      <td>0.999837</td>\n      <td>0.623474</td>\n      <td>0.633135</td>\n      <td>0.307696</td>\n    </tr>\n    <tr>\n      <th>234</th>\n      <td>spacetrack pypi version documentation ci statu...</td>\n      <td>0.227690</td>\n      <td>0.064506</td>\n      <td>0.084063</td>\n      <td>0.050546</td>\n    </tr>\n  </tbody>\n</table>\n<p>241 rows × 5 columns</p>\n</div>"
     },
     "execution_count": 10,
     "metadata": {},
     "output_type": "execute_result"
    }
   ],
   "source": [
    "X_train"
   ]
  },
  {
   "cell_type": "code",
   "execution_count": 11,
   "id": "bda93e50",
   "metadata": {},
   "outputs": [
    {
     "data": {
      "text/plain": "     aabb      aaro   ab  ability  abis  able  abramov  absence  absorb  \\\n0     0.0  0.000000  0.0      0.0   0.0   0.0      0.0      0.0     0.0   \n1     0.0  0.098916  0.0      0.0   0.0   0.0      0.0      0.0     0.0   \n2     0.0  0.000000  0.0      0.0   0.0   0.0      0.0      0.0     0.0   \n3     0.0  0.000000  0.0      0.0   0.0   0.0      0.0      0.0     0.0   \n4     0.0  0.000000  0.0      0.0   0.0   0.0      0.0      0.0     0.0   \n..    ...       ...  ...      ...   ...   ...      ...      ...     ...   \n236   0.0  0.000000  0.0      0.0   0.0   0.0      0.0      0.0     0.0   \n237   0.0  0.000000  0.0      0.0   0.0   0.0      0.0      0.0     0.0   \n238   0.0  0.000000  0.0      0.0   0.0   0.0      0.0      0.0     0.0   \n239   0.0  0.000000  0.0      0.0   0.0   0.0      0.0      0.0     0.0   \n240   0.0  0.000000  0.0      0.0   0.0   0.0      0.0      0.0     0.0   \n\n     abuild  ...  york  youtube  yum  zdepth  zero  zip  ziptar  \\\n0       0.0  ...   0.0      0.0  0.0     0.0   0.0  0.0     0.0   \n1       0.0  ...   0.0      0.0  0.0     0.0   0.0  0.0     0.0   \n2       0.0  ...   0.0      0.0  0.0     0.0   0.0  0.0     0.0   \n3       0.0  ...   0.0      0.0  0.0     0.0   0.0  0.0     0.0   \n4       0.0  ...   0.0      0.0  0.0     0.0   0.0  0.0     0.0   \n..      ...  ...   ...      ...  ...     ...   ...  ...     ...   \n236     0.0  ...   0.0      0.0  0.0     0.0   0.0  0.0     0.0   \n237     0.0  ...   0.0      0.0  0.0     0.0   0.0  0.0     0.0   \n238     0.0  ...   0.0      0.0  0.0     0.0   0.0  0.0     0.0   \n239     0.0  ...   0.0      0.0  0.0     0.0   0.0  0.0     0.0   \n240     0.0  ...   0.0      0.0  0.0     0.0   0.0  0.0     0.0   \n\n     zodiusinfuser  zoom  zoomrotate  \n0              0.0   0.0    0.000000  \n1              0.0   0.0    0.098916  \n2              0.0   0.0    0.000000  \n3              0.0   0.0    0.000000  \n4              0.0   0.0    0.000000  \n..             ...   ...         ...  \n236            0.0   0.0    0.000000  \n237            0.0   0.0    0.000000  \n238            0.0   0.0    0.000000  \n239            0.0   0.0    0.000000  \n240            0.0   0.0    0.000000  \n\n[241 rows x 4926 columns]",
      "text/html": "<div>\n<style scoped>\n    .dataframe tbody tr th:only-of-type {\n        vertical-align: middle;\n    }\n\n    .dataframe tbody tr th {\n        vertical-align: top;\n    }\n\n    .dataframe thead th {\n        text-align: right;\n    }\n</style>\n<table border=\"1\" class=\"dataframe\">\n  <thead>\n    <tr style=\"text-align: right;\">\n      <th></th>\n      <th>aabb</th>\n      <th>aaro</th>\n      <th>ab</th>\n      <th>ability</th>\n      <th>abis</th>\n      <th>able</th>\n      <th>abramov</th>\n      <th>absence</th>\n      <th>absorb</th>\n      <th>abuild</th>\n      <th>...</th>\n      <th>york</th>\n      <th>youtube</th>\n      <th>yum</th>\n      <th>zdepth</th>\n      <th>zero</th>\n      <th>zip</th>\n      <th>ziptar</th>\n      <th>zodiusinfuser</th>\n      <th>zoom</th>\n      <th>zoomrotate</th>\n    </tr>\n  </thead>\n  <tbody>\n    <tr>\n      <th>0</th>\n      <td>0.0</td>\n      <td>0.000000</td>\n      <td>0.0</td>\n      <td>0.0</td>\n      <td>0.0</td>\n      <td>0.0</td>\n      <td>0.0</td>\n      <td>0.0</td>\n      <td>0.0</td>\n      <td>0.0</td>\n      <td>...</td>\n      <td>0.0</td>\n      <td>0.0</td>\n      <td>0.0</td>\n      <td>0.0</td>\n      <td>0.0</td>\n      <td>0.0</td>\n      <td>0.0</td>\n      <td>0.0</td>\n      <td>0.0</td>\n      <td>0.000000</td>\n    </tr>\n    <tr>\n      <th>1</th>\n      <td>0.0</td>\n      <td>0.098916</td>\n      <td>0.0</td>\n      <td>0.0</td>\n      <td>0.0</td>\n      <td>0.0</td>\n      <td>0.0</td>\n      <td>0.0</td>\n      <td>0.0</td>\n      <td>0.0</td>\n      <td>...</td>\n      <td>0.0</td>\n      <td>0.0</td>\n      <td>0.0</td>\n      <td>0.0</td>\n      <td>0.0</td>\n      <td>0.0</td>\n      <td>0.0</td>\n      <td>0.0</td>\n      <td>0.0</td>\n      <td>0.098916</td>\n    </tr>\n    <tr>\n      <th>2</th>\n      <td>0.0</td>\n      <td>0.000000</td>\n      <td>0.0</td>\n      <td>0.0</td>\n      <td>0.0</td>\n      <td>0.0</td>\n      <td>0.0</td>\n      <td>0.0</td>\n      <td>0.0</td>\n      <td>0.0</td>\n      <td>...</td>\n      <td>0.0</td>\n      <td>0.0</td>\n      <td>0.0</td>\n      <td>0.0</td>\n      <td>0.0</td>\n      <td>0.0</td>\n      <td>0.0</td>\n      <td>0.0</td>\n      <td>0.0</td>\n      <td>0.000000</td>\n    </tr>\n    <tr>\n      <th>3</th>\n      <td>0.0</td>\n      <td>0.000000</td>\n      <td>0.0</td>\n      <td>0.0</td>\n      <td>0.0</td>\n      <td>0.0</td>\n      <td>0.0</td>\n      <td>0.0</td>\n      <td>0.0</td>\n      <td>0.0</td>\n      <td>...</td>\n      <td>0.0</td>\n      <td>0.0</td>\n      <td>0.0</td>\n      <td>0.0</td>\n      <td>0.0</td>\n      <td>0.0</td>\n      <td>0.0</td>\n      <td>0.0</td>\n      <td>0.0</td>\n      <td>0.000000</td>\n    </tr>\n    <tr>\n      <th>4</th>\n      <td>0.0</td>\n      <td>0.000000</td>\n      <td>0.0</td>\n      <td>0.0</td>\n      <td>0.0</td>\n      <td>0.0</td>\n      <td>0.0</td>\n      <td>0.0</td>\n      <td>0.0</td>\n      <td>0.0</td>\n      <td>...</td>\n      <td>0.0</td>\n      <td>0.0</td>\n      <td>0.0</td>\n      <td>0.0</td>\n      <td>0.0</td>\n      <td>0.0</td>\n      <td>0.0</td>\n      <td>0.0</td>\n      <td>0.0</td>\n      <td>0.000000</td>\n    </tr>\n    <tr>\n      <th>...</th>\n      <td>...</td>\n      <td>...</td>\n      <td>...</td>\n      <td>...</td>\n      <td>...</td>\n      <td>...</td>\n      <td>...</td>\n      <td>...</td>\n      <td>...</td>\n      <td>...</td>\n      <td>...</td>\n      <td>...</td>\n      <td>...</td>\n      <td>...</td>\n      <td>...</td>\n      <td>...</td>\n      <td>...</td>\n      <td>...</td>\n      <td>...</td>\n      <td>...</td>\n      <td>...</td>\n    </tr>\n    <tr>\n      <th>236</th>\n      <td>0.0</td>\n      <td>0.000000</td>\n      <td>0.0</td>\n      <td>0.0</td>\n      <td>0.0</td>\n      <td>0.0</td>\n      <td>0.0</td>\n      <td>0.0</td>\n      <td>0.0</td>\n      <td>0.0</td>\n      <td>...</td>\n      <td>0.0</td>\n      <td>0.0</td>\n      <td>0.0</td>\n      <td>0.0</td>\n      <td>0.0</td>\n      <td>0.0</td>\n      <td>0.0</td>\n      <td>0.0</td>\n      <td>0.0</td>\n      <td>0.000000</td>\n    </tr>\n    <tr>\n      <th>237</th>\n      <td>0.0</td>\n      <td>0.000000</td>\n      <td>0.0</td>\n      <td>0.0</td>\n      <td>0.0</td>\n      <td>0.0</td>\n      <td>0.0</td>\n      <td>0.0</td>\n      <td>0.0</td>\n      <td>0.0</td>\n      <td>...</td>\n      <td>0.0</td>\n      <td>0.0</td>\n      <td>0.0</td>\n      <td>0.0</td>\n      <td>0.0</td>\n      <td>0.0</td>\n      <td>0.0</td>\n      <td>0.0</td>\n      <td>0.0</td>\n      <td>0.000000</td>\n    </tr>\n    <tr>\n      <th>238</th>\n      <td>0.0</td>\n      <td>0.000000</td>\n      <td>0.0</td>\n      <td>0.0</td>\n      <td>0.0</td>\n      <td>0.0</td>\n      <td>0.0</td>\n      <td>0.0</td>\n      <td>0.0</td>\n      <td>0.0</td>\n      <td>...</td>\n      <td>0.0</td>\n      <td>0.0</td>\n      <td>0.0</td>\n      <td>0.0</td>\n      <td>0.0</td>\n      <td>0.0</td>\n      <td>0.0</td>\n      <td>0.0</td>\n      <td>0.0</td>\n      <td>0.000000</td>\n    </tr>\n    <tr>\n      <th>239</th>\n      <td>0.0</td>\n      <td>0.000000</td>\n      <td>0.0</td>\n      <td>0.0</td>\n      <td>0.0</td>\n      <td>0.0</td>\n      <td>0.0</td>\n      <td>0.0</td>\n      <td>0.0</td>\n      <td>0.0</td>\n      <td>...</td>\n      <td>0.0</td>\n      <td>0.0</td>\n      <td>0.0</td>\n      <td>0.0</td>\n      <td>0.0</td>\n      <td>0.0</td>\n      <td>0.0</td>\n      <td>0.0</td>\n      <td>0.0</td>\n      <td>0.000000</td>\n    </tr>\n    <tr>\n      <th>240</th>\n      <td>0.0</td>\n      <td>0.000000</td>\n      <td>0.0</td>\n      <td>0.0</td>\n      <td>0.0</td>\n      <td>0.0</td>\n      <td>0.0</td>\n      <td>0.0</td>\n      <td>0.0</td>\n      <td>0.0</td>\n      <td>...</td>\n      <td>0.0</td>\n      <td>0.0</td>\n      <td>0.0</td>\n      <td>0.0</td>\n      <td>0.0</td>\n      <td>0.0</td>\n      <td>0.0</td>\n      <td>0.0</td>\n      <td>0.0</td>\n      <td>0.000000</td>\n    </tr>\n  </tbody>\n</table>\n<p>241 rows × 4926 columns</p>\n</div>"
     },
     "execution_count": 11,
     "metadata": {},
     "output_type": "execute_result"
    }
   ],
   "source": [
    "tfidf = TfidfVectorizer()\n",
    "X_tfid = tfidf.fit_transform(X_train.lemmatized)\n",
    "X_tfid_val = tfidf.transform(X_validate.lemmatized)\n",
    "X_tfid_test = tfidf.transform(X_test.lemmatized)\n",
    "pd.DataFrame(X_tfid.todense(), \n",
    "             columns=tfidf.get_feature_names_out())"
   ]
  },
  {
   "cell_type": "code",
   "execution_count": 12,
   "id": "3add51e0",
   "metadata": {},
   "outputs": [],
   "source": [
    "idf_values = pd.Series(\n",
    "    dict(\n",
    "        zip(\n",
    "            tfidf.get_feature_names_out(), tfidf.idf_)))"
   ]
  },
  {
   "cell_type": "code",
   "execution_count": 13,
   "id": "332b47e2",
   "metadata": {
    "scrolled": true
   },
   "outputs": [
    {
     "data": {
      "text/plain": "count    4926.000000\nmean        5.502317\nstd         0.537511\nmin         2.299283\n25%         5.390325\n50%         5.795791\n75%         5.795791\nmax         5.795791\ndtype: float64"
     },
     "execution_count": 13,
     "metadata": {},
     "output_type": "execute_result"
    }
   ],
   "source": [
    "idf_values.describe()"
   ]
  },
  {
   "cell_type": "markdown",
   "id": "d6731323",
   "metadata": {},
   "source": [
    "Decision Tree"
   ]
  },
  {
   "cell_type": "code",
   "execution_count": 14,
   "id": "b2287beb",
   "metadata": {},
   "outputs": [
    {
     "data": {
      "text/plain": "0.6431535269709544"
     },
     "execution_count": 14,
     "metadata": {},
     "output_type": "execute_result"
    }
   ],
   "source": [
    "tree = DecisionTreeClassifier(max_depth=7, random_state=42)\n",
    "tree.fit(X_tfid, y_train)\n",
    "tree.score(X_tfid, y_train)"
   ]
  },
  {
   "cell_type": "code",
   "execution_count": 15,
   "id": "541bd178",
   "metadata": {},
   "outputs": [
    {
     "data": {
      "text/plain": "action     3.849880\nadd        3.444415\nalso       3.270062\nandor      3.780888\napi        3.598566\n             ...   \nwhether    3.780888\nwithout    2.878020\nwork       3.087740\nworking    3.544499\nwould      3.923988\nLength: 141, dtype: float64"
     },
     "execution_count": 15,
     "metadata": {},
     "output_type": "execute_result"
    }
   ],
   "source": [
    "idf_values[idf_values < 4]"
   ]
  },
  {
   "cell_type": "code",
   "execution_count": 16,
   "id": "300066da",
   "metadata": {},
   "outputs": [],
   "source": [
    "import xgboost as xgb"
   ]
  },
  {
   "cell_type": "code",
   "execution_count": 17,
   "id": "90bb5c05",
   "metadata": {},
   "outputs": [
    {
     "data": {
      "text/plain": "     aabb  aabb return  aabb scaleamount      aaro  aaro sky   ab  \\\n0     0.0          0.0               0.0  0.000000  0.000000  0.0   \n1     0.0          0.0               0.0  0.068501  0.068501  0.0   \n2     0.0          0.0               0.0  0.000000  0.000000  0.0   \n3     0.0          0.0               0.0  0.000000  0.000000  0.0   \n4     0.0          0.0               0.0  0.000000  0.000000  0.0   \n..    ...          ...               ...       ...       ...  ...   \n236   0.0          0.0               0.0  0.000000  0.000000  0.0   \n237   0.0          0.0               0.0  0.000000  0.000000  0.0   \n238   0.0          0.0               0.0  0.000000  0.000000  0.0   \n239   0.0          0.0               0.0  0.000000  0.000000  0.0   \n240   0.0          0.0               0.0  0.000000  0.000000  0.0   \n\n     ab noncommercial  ab testing  ability  ability create  ...  zip file  \\\n0                 0.0         0.0      0.0             0.0  ...       0.0   \n1                 0.0         0.0      0.0             0.0  ...       0.0   \n2                 0.0         0.0      0.0             0.0  ...       0.0   \n3                 0.0         0.0      0.0             0.0  ...       0.0   \n4                 0.0         0.0      0.0             0.0  ...       0.0   \n..                ...         ...      ...             ...  ...       ...   \n236               0.0         0.0      0.0             0.0  ...       0.0   \n237               0.0         0.0      0.0             0.0  ...       0.0   \n238               0.0         0.0      0.0             0.0  ...       0.0   \n239               0.0         0.0      0.0             0.0  ...       0.0   \n240               0.0         0.0      0.0             0.0  ...       0.0   \n\n     zip gamedata  zip tar  ziptar  ziptar file  zodiusinfuser  zoom  \\\n0             0.0      0.0     0.0          0.0            0.0   0.0   \n1             0.0      0.0     0.0          0.0            0.0   0.0   \n2             0.0      0.0     0.0          0.0            0.0   0.0   \n3             0.0      0.0     0.0          0.0            0.0   0.0   \n4             0.0      0.0     0.0          0.0            0.0   0.0   \n..            ...      ...     ...          ...            ...   ...   \n236           0.0      0.0     0.0          0.0            0.0   0.0   \n237           0.0      0.0     0.0          0.0            0.0   0.0   \n238           0.0      0.0     0.0          0.0            0.0   0.0   \n239           0.0      0.0     0.0          0.0            0.0   0.0   \n240           0.0      0.0     0.0          0.0            0.0   0.0   \n\n     zoom inout  zoomrotate  zoomrotate entire  \n0           0.0    0.000000           0.000000  \n1           0.0    0.068501           0.068501  \n2           0.0    0.000000           0.000000  \n3           0.0    0.000000           0.000000  \n4           0.0    0.000000           0.000000  \n..          ...         ...                ...  \n236         0.0    0.000000           0.000000  \n237         0.0    0.000000           0.000000  \n238         0.0    0.000000           0.000000  \n239         0.0    0.000000           0.000000  \n240         0.0    0.000000           0.000000  \n\n[241 rows x 20505 columns]",
      "text/html": "<div>\n<style scoped>\n    .dataframe tbody tr th:only-of-type {\n        vertical-align: middle;\n    }\n\n    .dataframe tbody tr th {\n        vertical-align: top;\n    }\n\n    .dataframe thead th {\n        text-align: right;\n    }\n</style>\n<table border=\"1\" class=\"dataframe\">\n  <thead>\n    <tr style=\"text-align: right;\">\n      <th></th>\n      <th>aabb</th>\n      <th>aabb return</th>\n      <th>aabb scaleamount</th>\n      <th>aaro</th>\n      <th>aaro sky</th>\n      <th>ab</th>\n      <th>ab noncommercial</th>\n      <th>ab testing</th>\n      <th>ability</th>\n      <th>ability create</th>\n      <th>...</th>\n      <th>zip file</th>\n      <th>zip gamedata</th>\n      <th>zip tar</th>\n      <th>ziptar</th>\n      <th>ziptar file</th>\n      <th>zodiusinfuser</th>\n      <th>zoom</th>\n      <th>zoom inout</th>\n      <th>zoomrotate</th>\n      <th>zoomrotate entire</th>\n    </tr>\n  </thead>\n  <tbody>\n    <tr>\n      <th>0</th>\n      <td>0.0</td>\n      <td>0.0</td>\n      <td>0.0</td>\n      <td>0.000000</td>\n      <td>0.000000</td>\n      <td>0.0</td>\n      <td>0.0</td>\n      <td>0.0</td>\n      <td>0.0</td>\n      <td>0.0</td>\n      <td>...</td>\n      <td>0.0</td>\n      <td>0.0</td>\n      <td>0.0</td>\n      <td>0.0</td>\n      <td>0.0</td>\n      <td>0.0</td>\n      <td>0.0</td>\n      <td>0.0</td>\n      <td>0.000000</td>\n      <td>0.000000</td>\n    </tr>\n    <tr>\n      <th>1</th>\n      <td>0.0</td>\n      <td>0.0</td>\n      <td>0.0</td>\n      <td>0.068501</td>\n      <td>0.068501</td>\n      <td>0.0</td>\n      <td>0.0</td>\n      <td>0.0</td>\n      <td>0.0</td>\n      <td>0.0</td>\n      <td>...</td>\n      <td>0.0</td>\n      <td>0.0</td>\n      <td>0.0</td>\n      <td>0.0</td>\n      <td>0.0</td>\n      <td>0.0</td>\n      <td>0.0</td>\n      <td>0.0</td>\n      <td>0.068501</td>\n      <td>0.068501</td>\n    </tr>\n    <tr>\n      <th>2</th>\n      <td>0.0</td>\n      <td>0.0</td>\n      <td>0.0</td>\n      <td>0.000000</td>\n      <td>0.000000</td>\n      <td>0.0</td>\n      <td>0.0</td>\n      <td>0.0</td>\n      <td>0.0</td>\n      <td>0.0</td>\n      <td>...</td>\n      <td>0.0</td>\n      <td>0.0</td>\n      <td>0.0</td>\n      <td>0.0</td>\n      <td>0.0</td>\n      <td>0.0</td>\n      <td>0.0</td>\n      <td>0.0</td>\n      <td>0.000000</td>\n      <td>0.000000</td>\n    </tr>\n    <tr>\n      <th>3</th>\n      <td>0.0</td>\n      <td>0.0</td>\n      <td>0.0</td>\n      <td>0.000000</td>\n      <td>0.000000</td>\n      <td>0.0</td>\n      <td>0.0</td>\n      <td>0.0</td>\n      <td>0.0</td>\n      <td>0.0</td>\n      <td>...</td>\n      <td>0.0</td>\n      <td>0.0</td>\n      <td>0.0</td>\n      <td>0.0</td>\n      <td>0.0</td>\n      <td>0.0</td>\n      <td>0.0</td>\n      <td>0.0</td>\n      <td>0.000000</td>\n      <td>0.000000</td>\n    </tr>\n    <tr>\n      <th>4</th>\n      <td>0.0</td>\n      <td>0.0</td>\n      <td>0.0</td>\n      <td>0.000000</td>\n      <td>0.000000</td>\n      <td>0.0</td>\n      <td>0.0</td>\n      <td>0.0</td>\n      <td>0.0</td>\n      <td>0.0</td>\n      <td>...</td>\n      <td>0.0</td>\n      <td>0.0</td>\n      <td>0.0</td>\n      <td>0.0</td>\n      <td>0.0</td>\n      <td>0.0</td>\n      <td>0.0</td>\n      <td>0.0</td>\n      <td>0.000000</td>\n      <td>0.000000</td>\n    </tr>\n    <tr>\n      <th>...</th>\n      <td>...</td>\n      <td>...</td>\n      <td>...</td>\n      <td>...</td>\n      <td>...</td>\n      <td>...</td>\n      <td>...</td>\n      <td>...</td>\n      <td>...</td>\n      <td>...</td>\n      <td>...</td>\n      <td>...</td>\n      <td>...</td>\n      <td>...</td>\n      <td>...</td>\n      <td>...</td>\n      <td>...</td>\n      <td>...</td>\n      <td>...</td>\n      <td>...</td>\n      <td>...</td>\n    </tr>\n    <tr>\n      <th>236</th>\n      <td>0.0</td>\n      <td>0.0</td>\n      <td>0.0</td>\n      <td>0.000000</td>\n      <td>0.000000</td>\n      <td>0.0</td>\n      <td>0.0</td>\n      <td>0.0</td>\n      <td>0.0</td>\n      <td>0.0</td>\n      <td>...</td>\n      <td>0.0</td>\n      <td>0.0</td>\n      <td>0.0</td>\n      <td>0.0</td>\n      <td>0.0</td>\n      <td>0.0</td>\n      <td>0.0</td>\n      <td>0.0</td>\n      <td>0.000000</td>\n      <td>0.000000</td>\n    </tr>\n    <tr>\n      <th>237</th>\n      <td>0.0</td>\n      <td>0.0</td>\n      <td>0.0</td>\n      <td>0.000000</td>\n      <td>0.000000</td>\n      <td>0.0</td>\n      <td>0.0</td>\n      <td>0.0</td>\n      <td>0.0</td>\n      <td>0.0</td>\n      <td>...</td>\n      <td>0.0</td>\n      <td>0.0</td>\n      <td>0.0</td>\n      <td>0.0</td>\n      <td>0.0</td>\n      <td>0.0</td>\n      <td>0.0</td>\n      <td>0.0</td>\n      <td>0.000000</td>\n      <td>0.000000</td>\n    </tr>\n    <tr>\n      <th>238</th>\n      <td>0.0</td>\n      <td>0.0</td>\n      <td>0.0</td>\n      <td>0.000000</td>\n      <td>0.000000</td>\n      <td>0.0</td>\n      <td>0.0</td>\n      <td>0.0</td>\n      <td>0.0</td>\n      <td>0.0</td>\n      <td>...</td>\n      <td>0.0</td>\n      <td>0.0</td>\n      <td>0.0</td>\n      <td>0.0</td>\n      <td>0.0</td>\n      <td>0.0</td>\n      <td>0.0</td>\n      <td>0.0</td>\n      <td>0.000000</td>\n      <td>0.000000</td>\n    </tr>\n    <tr>\n      <th>239</th>\n      <td>0.0</td>\n      <td>0.0</td>\n      <td>0.0</td>\n      <td>0.000000</td>\n      <td>0.000000</td>\n      <td>0.0</td>\n      <td>0.0</td>\n      <td>0.0</td>\n      <td>0.0</td>\n      <td>0.0</td>\n      <td>...</td>\n      <td>0.0</td>\n      <td>0.0</td>\n      <td>0.0</td>\n      <td>0.0</td>\n      <td>0.0</td>\n      <td>0.0</td>\n      <td>0.0</td>\n      <td>0.0</td>\n      <td>0.000000</td>\n      <td>0.000000</td>\n    </tr>\n    <tr>\n      <th>240</th>\n      <td>0.0</td>\n      <td>0.0</td>\n      <td>0.0</td>\n      <td>0.000000</td>\n      <td>0.000000</td>\n      <td>0.0</td>\n      <td>0.0</td>\n      <td>0.0</td>\n      <td>0.0</td>\n      <td>0.0</td>\n      <td>...</td>\n      <td>0.0</td>\n      <td>0.0</td>\n      <td>0.0</td>\n      <td>0.0</td>\n      <td>0.0</td>\n      <td>0.0</td>\n      <td>0.0</td>\n      <td>0.0</td>\n      <td>0.000000</td>\n      <td>0.000000</td>\n    </tr>\n  </tbody>\n</table>\n<p>241 rows × 20505 columns</p>\n</div>"
     },
     "execution_count": 17,
     "metadata": {},
     "output_type": "execute_result"
    }
   ],
   "source": [
    "tfidf_bigrams = TfidfVectorizer(ngram_range=(1, 2))\n",
    "X_tfid_bigrams = tfidf_bigrams.fit_transform(X_train.lemmatized)\n",
    "pd.DataFrame(X_tfid_bigrams.todense(), \n",
    "             columns=tfidf_bigrams.get_feature_names_out())"
   ]
  },
  {
   "cell_type": "code",
   "execution_count": 18,
   "id": "d57062a9",
   "metadata": {},
   "outputs": [],
   "source": [
    "idf_bigrams_values = pd.Series(\n",
    "    dict(\n",
    "        zip(\n",
    "            tfidf.get_feature_names_out(), tfidf_bigrams.idf_)))"
   ]
  },
  {
   "cell_type": "code",
   "execution_count": 19,
   "id": "09ebcf9c",
   "metadata": {},
   "outputs": [
    {
     "data": {
      "text/plain": "count    4926.000000\nmean        5.701240\nstd         0.315042\nmin         2.597117\n25%         5.795791\n50%         5.795791\n75%         5.795791\nmax         5.795791\ndtype: float64"
     },
     "execution_count": 19,
     "metadata": {},
     "output_type": "execute_result"
    }
   ],
   "source": [
    "idf_bigrams_values.describe()"
   ]
  },
  {
   "cell_type": "code",
   "execution_count": 20,
   "id": "ecec7bc4",
   "metadata": {},
   "outputs": [
    {
     "data": {
      "text/plain": "0.6431535269709544"
     },
     "execution_count": 20,
     "metadata": {},
     "output_type": "execute_result"
    }
   ],
   "source": [
    "tree1 = DecisionTreeClassifier(max_depth=7, random_state=42)\n",
    "tree1.fit(X_tfid_bigrams, y_train)\n",
    "tree1.score(X_tfid_bigrams, y_train)"
   ]
  },
  {
   "cell_type": "code",
   "execution_count": 21,
   "id": "f7e2d66c",
   "metadata": {},
   "outputs": [
    {
     "ename": "AttributeError",
     "evalue": "drop not found",
     "output_type": "error",
     "traceback": [
      "\u001B[0;31m---------------------------------------------------------------------------\u001B[0m",
      "\u001B[0;31mAttributeError\u001B[0m                            Traceback (most recent call last)",
      "Input \u001B[0;32mIn [21]\u001B[0m, in \u001B[0;36m<cell line: 1>\u001B[0;34m()\u001B[0m\n\u001B[0;32m----> 1\u001B[0m \u001B[43mX_tfid\u001B[49m\u001B[38;5;241;43m.\u001B[39;49m\u001B[43mdrop\u001B[49m(values_to_remove, axis\u001B[38;5;241m=\u001B[39m\u001B[38;5;241m1\u001B[39m)\n",
      "File \u001B[0;32m/usr/local/anaconda3/lib/python3.9/site-packages/scipy/sparse/base.py:687\u001B[0m, in \u001B[0;36mspmatrix.__getattr__\u001B[0;34m(self, attr)\u001B[0m\n\u001B[1;32m    685\u001B[0m     \u001B[38;5;28;01mreturn\u001B[39;00m \u001B[38;5;28mself\u001B[39m\u001B[38;5;241m.\u001B[39mgetnnz()\n\u001B[1;32m    686\u001B[0m \u001B[38;5;28;01melse\u001B[39;00m:\n\u001B[0;32m--> 687\u001B[0m     \u001B[38;5;28;01mraise\u001B[39;00m \u001B[38;5;167;01mAttributeError\u001B[39;00m(attr \u001B[38;5;241m+\u001B[39m \u001B[38;5;124m\"\u001B[39m\u001B[38;5;124m not found\u001B[39m\u001B[38;5;124m\"\u001B[39m)\n",
      "\u001B[0;31mAttributeError\u001B[0m: drop not found"
     ]
    }
   ],
   "source": [
    "X_tfid.drop(values_to_remove, axis=1)"
   ]
  },
  {
   "cell_type": "code",
   "execution_count": null,
   "id": "e140f653",
   "metadata": {},
   "outputs": [],
   "source": [
    "xg = xgb.XGBClassifier(colsample_bytree = 0.3, learning_rate = 0.2,\n",
    "                max_depth = 9, alpha = 9, n_estimators = 10, random_state=seed)\n",
    "xg.fit(X_tfid, y_train_numbers)\n",
    "xg.score(X_tfid, y_train_numbers)"
   ]
  },
  {
   "cell_type": "code",
   "execution_count": null,
   "id": "a899af2d",
   "metadata": {},
   "outputs": [],
   "source": [
    "xg.score(X_tfid_val, y_validate_numbers)"
   ]
  },
  {
   "cell_type": "code",
   "execution_count": null,
   "id": "b0027819",
   "metadata": {},
   "outputs": [],
   "source": [
    "## lang_map = {'Java':0, 'C#':1, 'JavaScript':2, 'Python':3}"
   ]
  },
  {
   "cell_type": "code",
   "execution_count": null,
   "id": "45413d51",
   "metadata": {},
   "outputs": [],
   "source": [
    "y_train_numbers = y_train.map(lang_map)\n",
    "y_validate_numbers = y_validate.map(lang_map)\n",
    "y_test_numbers = y_test.map(lang_map)"
   ]
  },
  {
   "cell_type": "code",
   "execution_count": 22,
   "id": "fbfbb254",
   "metadata": {},
   "outputs": [
    {
     "data": {
      "text/plain": "aabb             5.795791\naaro             5.795791\nab               5.390325\nability          4.697178\nabis             5.795791\n                   ...   \nzip              5.102643\nziptar           5.795791\nzodiusinfuser    5.795791\nzoom             5.795791\nzoomrotate       5.795791\nLength: 4914, dtype: float64"
     },
     "execution_count": 22,
     "metadata": {},
     "output_type": "execute_result"
    }
   ],
   "source": [
    "idf_values[idf_values > 3]"
   ]
  },
  {
   "cell_type": "code",
   "execution_count": 23,
   "id": "c57c6925",
   "metadata": {},
   "outputs": [],
   "source": [
    "values_to_remove = idf_values[idf_values > 3].index.tolist()"
   ]
  },
  {
   "cell_type": "code",
   "execution_count": 24,
   "id": "0b759b5a",
   "metadata": {},
   "outputs": [
    {
     "data": {
      "text/plain": "        build      code      file   license      make       new   project  \\\n0    1.000000  0.000000  0.000000  0.000000  0.000000  0.000000  0.000000   \n1    0.000000  0.000000  0.255694  0.534194  0.000000  0.000000  0.754474   \n2    0.307461  0.855530  0.296995  0.000000  0.000000  0.000000  0.292114   \n3    0.000000  1.000000  0.000000  0.000000  0.000000  0.000000  0.000000   \n4    0.000000  0.000000  0.000000  0.000000  0.000000  0.000000  0.000000   \n..        ...       ...       ...       ...       ...       ...       ...   \n236  0.000000  0.000000  0.000000  0.000000  0.000000  0.000000  0.000000   \n237  0.000000  0.000000  0.000000  0.000000  0.000000  0.000000  0.000000   \n238  0.000000  0.000000  0.000000  0.000000  0.000000  0.000000  0.000000   \n239  0.052272  0.145450  0.555419  0.052745  0.111726  0.219059  0.595954   \n240  0.000000  0.352331  0.183466  0.383297  0.000000  0.000000  0.000000   \n\n          see      use     using   version   without  \n0    0.000000  0.00000  0.000000  0.000000  0.000000  \n1    0.000000  0.00000  0.000000  0.282890  0.000000  \n2    0.000000  0.00000  0.000000  0.000000  0.000000  \n3    0.000000  0.00000  0.000000  0.000000  0.000000  \n4    0.000000  0.00000  0.000000  0.000000  0.000000  \n..        ...      ...       ...       ...       ...  \n236  0.000000  0.00000  0.000000  0.000000  0.000000  \n237  0.000000  0.00000  0.000000  0.000000  0.000000  \n238  0.000000  0.00000  0.000000  0.000000  0.000000  \n239  0.101844  0.12877  0.313631  0.335179  0.107455  \n240  0.000000  0.00000  0.189931  0.811919  0.000000  \n\n[241 rows x 12 columns]",
      "text/html": "<div>\n<style scoped>\n    .dataframe tbody tr th:only-of-type {\n        vertical-align: middle;\n    }\n\n    .dataframe tbody tr th {\n        vertical-align: top;\n    }\n\n    .dataframe thead th {\n        text-align: right;\n    }\n</style>\n<table border=\"1\" class=\"dataframe\">\n  <thead>\n    <tr style=\"text-align: right;\">\n      <th></th>\n      <th>build</th>\n      <th>code</th>\n      <th>file</th>\n      <th>license</th>\n      <th>make</th>\n      <th>new</th>\n      <th>project</th>\n      <th>see</th>\n      <th>use</th>\n      <th>using</th>\n      <th>version</th>\n      <th>without</th>\n    </tr>\n  </thead>\n  <tbody>\n    <tr>\n      <th>0</th>\n      <td>1.000000</td>\n      <td>0.000000</td>\n      <td>0.000000</td>\n      <td>0.000000</td>\n      <td>0.000000</td>\n      <td>0.000000</td>\n      <td>0.000000</td>\n      <td>0.000000</td>\n      <td>0.00000</td>\n      <td>0.000000</td>\n      <td>0.000000</td>\n      <td>0.000000</td>\n    </tr>\n    <tr>\n      <th>1</th>\n      <td>0.000000</td>\n      <td>0.000000</td>\n      <td>0.255694</td>\n      <td>0.534194</td>\n      <td>0.000000</td>\n      <td>0.000000</td>\n      <td>0.754474</td>\n      <td>0.000000</td>\n      <td>0.00000</td>\n      <td>0.000000</td>\n      <td>0.282890</td>\n      <td>0.000000</td>\n    </tr>\n    <tr>\n      <th>2</th>\n      <td>0.307461</td>\n      <td>0.855530</td>\n      <td>0.296995</td>\n      <td>0.000000</td>\n      <td>0.000000</td>\n      <td>0.000000</td>\n      <td>0.292114</td>\n      <td>0.000000</td>\n      <td>0.00000</td>\n      <td>0.000000</td>\n      <td>0.000000</td>\n      <td>0.000000</td>\n    </tr>\n    <tr>\n      <th>3</th>\n      <td>0.000000</td>\n      <td>1.000000</td>\n      <td>0.000000</td>\n      <td>0.000000</td>\n      <td>0.000000</td>\n      <td>0.000000</td>\n      <td>0.000000</td>\n      <td>0.000000</td>\n      <td>0.00000</td>\n      <td>0.000000</td>\n      <td>0.000000</td>\n      <td>0.000000</td>\n    </tr>\n    <tr>\n      <th>4</th>\n      <td>0.000000</td>\n      <td>0.000000</td>\n      <td>0.000000</td>\n      <td>0.000000</td>\n      <td>0.000000</td>\n      <td>0.000000</td>\n      <td>0.000000</td>\n      <td>0.000000</td>\n      <td>0.00000</td>\n      <td>0.000000</td>\n      <td>0.000000</td>\n      <td>0.000000</td>\n    </tr>\n    <tr>\n      <th>...</th>\n      <td>...</td>\n      <td>...</td>\n      <td>...</td>\n      <td>...</td>\n      <td>...</td>\n      <td>...</td>\n      <td>...</td>\n      <td>...</td>\n      <td>...</td>\n      <td>...</td>\n      <td>...</td>\n      <td>...</td>\n    </tr>\n    <tr>\n      <th>236</th>\n      <td>0.000000</td>\n      <td>0.000000</td>\n      <td>0.000000</td>\n      <td>0.000000</td>\n      <td>0.000000</td>\n      <td>0.000000</td>\n      <td>0.000000</td>\n      <td>0.000000</td>\n      <td>0.00000</td>\n      <td>0.000000</td>\n      <td>0.000000</td>\n      <td>0.000000</td>\n    </tr>\n    <tr>\n      <th>237</th>\n      <td>0.000000</td>\n      <td>0.000000</td>\n      <td>0.000000</td>\n      <td>0.000000</td>\n      <td>0.000000</td>\n      <td>0.000000</td>\n      <td>0.000000</td>\n      <td>0.000000</td>\n      <td>0.00000</td>\n      <td>0.000000</td>\n      <td>0.000000</td>\n      <td>0.000000</td>\n    </tr>\n    <tr>\n      <th>238</th>\n      <td>0.000000</td>\n      <td>0.000000</td>\n      <td>0.000000</td>\n      <td>0.000000</td>\n      <td>0.000000</td>\n      <td>0.000000</td>\n      <td>0.000000</td>\n      <td>0.000000</td>\n      <td>0.00000</td>\n      <td>0.000000</td>\n      <td>0.000000</td>\n      <td>0.000000</td>\n    </tr>\n    <tr>\n      <th>239</th>\n      <td>0.052272</td>\n      <td>0.145450</td>\n      <td>0.555419</td>\n      <td>0.052745</td>\n      <td>0.111726</td>\n      <td>0.219059</td>\n      <td>0.595954</td>\n      <td>0.101844</td>\n      <td>0.12877</td>\n      <td>0.313631</td>\n      <td>0.335179</td>\n      <td>0.107455</td>\n    </tr>\n    <tr>\n      <th>240</th>\n      <td>0.000000</td>\n      <td>0.352331</td>\n      <td>0.183466</td>\n      <td>0.383297</td>\n      <td>0.000000</td>\n      <td>0.000000</td>\n      <td>0.000000</td>\n      <td>0.000000</td>\n      <td>0.00000</td>\n      <td>0.189931</td>\n      <td>0.811919</td>\n      <td>0.000000</td>\n    </tr>\n  </tbody>\n</table>\n<p>241 rows × 12 columns</p>\n</div>"
     },
     "execution_count": 24,
     "metadata": {},
     "output_type": "execute_result"
    }
   ],
   "source": [
    "tfidf1 = TfidfVectorizer(stop_words=values_to_remove)\n",
    "X_tfid1 = tfidf1.fit_transform(X_train.lemmatized)\n",
    "X_tfid_val1 = tfidf1.transform(X_validate.lemmatized)\n",
    "X_tfid_test1 = tfidf1.transform(X_test.lemmatized)\n",
    "pd.DataFrame(X_tfid1.todense(), \n",
    "             columns=tfidf1.get_feature_names_out())"
   ]
  },
  {
   "cell_type": "code",
   "execution_count": 25,
   "id": "9d7e9902",
   "metadata": {},
   "outputs": [
    {
     "data": {
      "text/plain": "build      2.800058\ncode       2.597117\nfile       2.704748\nlicense    2.825376\nmake       2.992430\nnew        2.933590\nproject    2.660296\nsee        2.727738\nuse        2.299283\nusing      2.800058\nversion    2.992430\nwithout    2.878020\ndtype: float64"
     },
     "execution_count": 25,
     "metadata": {},
     "output_type": "execute_result"
    }
   ],
   "source": [
    "pd.Series(\n",
    "    dict(\n",
    "        zip(\n",
    "            tfidf1.get_feature_names_out(), tfidf1.idf_)))"
   ]
  },
  {
   "cell_type": "code",
   "execution_count": 26,
   "id": "758b1cf2",
   "metadata": {},
   "outputs": [
    {
     "data": {
      "text/plain": "0.5809128630705395"
     },
     "execution_count": 26,
     "metadata": {},
     "output_type": "execute_result"
    }
   ],
   "source": [
    "tree2 = DecisionTreeClassifier(max_depth=7, random_state=42)\n",
    "tree2.fit(X_tfid1, y_train)\n",
    "tree2.score(X_tfid1, y_train)"
   ]
  },
  {
   "cell_type": "code",
   "execution_count": 27,
   "id": "c9f65ab5",
   "metadata": {},
   "outputs": [
    {
     "data": {
      "text/plain": "0.38461538461538464"
     },
     "execution_count": 27,
     "metadata": {},
     "output_type": "execute_result"
    }
   ],
   "source": [
    "tree2.score(X_tfid_val1, y_validate)"
   ]
  },
  {
   "cell_type": "code",
   "execution_count": 28,
   "id": "fc431613",
   "metadata": {},
   "outputs": [
    {
     "data": {
      "text/plain": "0.941908713692946"
     },
     "execution_count": 28,
     "metadata": {},
     "output_type": "execute_result"
    }
   ],
   "source": [
    "from sklearn.naive_bayes import GaussianNB\n",
    "classifier1 = GaussianNB()\n",
    "classifier1.fit(X_tfid.toarray(), y_train)\n",
    "classifier1.score(X_tfid.toarray(), y_train)"
   ]
  },
  {
   "cell_type": "code",
   "execution_count": 29,
   "id": "e5276864",
   "metadata": {},
   "outputs": [
    {
     "data": {
      "text/plain": "0.5288461538461539"
     },
     "execution_count": 29,
     "metadata": {},
     "output_type": "execute_result"
    }
   ],
   "source": [
    "classifier1.score(X_tfid_val.toarray(), y_validate)"
   ]
  },
  {
   "cell_type": "code",
   "execution_count": 30,
   "id": "bdb6dfa5",
   "metadata": {},
   "outputs": [
    {
     "data": {
      "text/plain": "                                              original  \\\n0    <p align=\"center\"><img src=\"https://live.stati...   \n1    \\nARCHIVED VERSION OF Space Engineers. This ve...   \n2    # Spaceship Generator\\n\\nA Blender script to p...   \n3    # Spacegray\\n\\nA set of custom UI themes for S...   \n4    # S P A C E\\n\\n![cover](resources/space-readme...   \n..                                                 ...   \n427  # Simple multi-dataset detection\\nAn object de...   \n428  \\n![Python package](https://github.com/WagnerG...   \n429  # UnityScreenSpaceMetaballs\\nScreenSpace Metab...   \n430  Caching for Analytic Computations\\n-----------...   \n431  KCT\\n===\\n\\nKerbal Construction Time - An addo...   \n\n                                           first_clean  \\\n0     SpaceX REST API  Open Source REST API for lau...   \n1    ARCHIVED VERSION OF Space Engineers. This vers...   \n2    # Spaceship Generator  A Blender script to pro...   \n3    # Spacegray  A set of custom UI themes for Sub...   \n4    # S P A C E  ![cover .  You can read it here: ...   \n..                                                 ...   \n427  # Simple multi-dataset detection An object det...   \n428                               ![Python package .     \n429  # UnityScreenSpaceMetaballs ScreenSpace Metaba...   \n430  Caching for Analytic Computations ------------...   \n431  KCT ===  Kerbal Construction Time - An addon f...   \n\n                                                 clean  \\\n0    spacex rest api open source rest api launch ro...   \n1    archived version engineers version uptodate ve...   \n2    spaceship generator blender script procedurall...   \n3    spacegray set custom ui themes sublime text hy...   \n4                                     p c e cover read   \n..                                                 ...   \n427  simple multidataset detection object detector ...   \n428                                     python package   \n429  unityscreenspacemetaballs screenspace metaball...   \n430  caching analytic computations humans repeat st...   \n431  kct kerbal construction time addon kerbal prog...   \n\n                                            lemmatized  sentiment  lem_length  \\\n0    spacex rest api open source rest api launch ro...     0.7717         475   \n1    archived version engineer version uptodate ver...     0.9633         417   \n2    spaceship generator blender script procedurall...     0.0000         117   \n3    spacegray set custom ui theme sublime text hyp...     0.0000          95   \n4                                     p c e cover read     0.0000          16   \n..                                                 ...        ...         ...   \n427  simple multidataset detection object detector ...     0.9451         374   \n428                                     python package     0.0000          14   \n429  unityscreenspacemetaballs screenspace metaball...     0.0000         126   \n430  caching analytic computation human repeat stuf...     0.8225         239   \n431  kct kerbal construction time addon kerbal prog...     0.2500         451   \n\n     original_length  length_diff  has_#9  has_tab  has_parts  has_fix  has_x  \\\n0               7208         6713       0        0          0        0      0   \n1               4943         4515       0        0          0        0      0   \n2               3587         3469       0        0          0        0      0   \n3               3964         3866       0        0          0        0      0   \n4               5705         5689       0        0          0        0      0   \n..               ...          ...     ...      ...        ...      ...    ...   \n427             4046         3671       0        0          0        0      0   \n428              558          544       0        0          0        0      0   \n429              488          357       0        0          0        0      0   \n430             1633         1387       0        0          0        0      0   \n431              849          388       0        0          1        0      0   \n\n     has_v  has_codeblock  has_image    language  \n0        0              0          1  JavaScript  \n1        0              0          0          C#  \n2        0              0          0      Python  \n3        0              0          0  JavaScript  \n4        0              0          0  JavaScript  \n..     ...            ...        ...         ...  \n427      0              0          0      Python  \n428      0              0          0      Python  \n429      0              0          0          C#  \n430      0              0          0      Python  \n431      0              0          0          C#  \n\n[432 rows x 17 columns]",
      "text/html": "<div>\n<style scoped>\n    .dataframe tbody tr th:only-of-type {\n        vertical-align: middle;\n    }\n\n    .dataframe tbody tr th {\n        vertical-align: top;\n    }\n\n    .dataframe thead th {\n        text-align: right;\n    }\n</style>\n<table border=\"1\" class=\"dataframe\">\n  <thead>\n    <tr style=\"text-align: right;\">\n      <th></th>\n      <th>original</th>\n      <th>first_clean</th>\n      <th>clean</th>\n      <th>lemmatized</th>\n      <th>sentiment</th>\n      <th>lem_length</th>\n      <th>original_length</th>\n      <th>length_diff</th>\n      <th>has_#9</th>\n      <th>has_tab</th>\n      <th>has_parts</th>\n      <th>has_fix</th>\n      <th>has_x</th>\n      <th>has_v</th>\n      <th>has_codeblock</th>\n      <th>has_image</th>\n      <th>language</th>\n    </tr>\n  </thead>\n  <tbody>\n    <tr>\n      <th>0</th>\n      <td>&lt;p align=\"center\"&gt;&lt;img src=\"https://live.stati...</td>\n      <td>SpaceX REST API  Open Source REST API for lau...</td>\n      <td>spacex rest api open source rest api launch ro...</td>\n      <td>spacex rest api open source rest api launch ro...</td>\n      <td>0.7717</td>\n      <td>475</td>\n      <td>7208</td>\n      <td>6713</td>\n      <td>0</td>\n      <td>0</td>\n      <td>0</td>\n      <td>0</td>\n      <td>0</td>\n      <td>0</td>\n      <td>0</td>\n      <td>1</td>\n      <td>JavaScript</td>\n    </tr>\n    <tr>\n      <th>1</th>\n      <td>\\nARCHIVED VERSION OF Space Engineers. This ve...</td>\n      <td>ARCHIVED VERSION OF Space Engineers. This vers...</td>\n      <td>archived version engineers version uptodate ve...</td>\n      <td>archived version engineer version uptodate ver...</td>\n      <td>0.9633</td>\n      <td>417</td>\n      <td>4943</td>\n      <td>4515</td>\n      <td>0</td>\n      <td>0</td>\n      <td>0</td>\n      <td>0</td>\n      <td>0</td>\n      <td>0</td>\n      <td>0</td>\n      <td>0</td>\n      <td>C#</td>\n    </tr>\n    <tr>\n      <th>2</th>\n      <td># Spaceship Generator\\n\\nA Blender script to p...</td>\n      <td># Spaceship Generator  A Blender script to pro...</td>\n      <td>spaceship generator blender script procedurall...</td>\n      <td>spaceship generator blender script procedurall...</td>\n      <td>0.0000</td>\n      <td>117</td>\n      <td>3587</td>\n      <td>3469</td>\n      <td>0</td>\n      <td>0</td>\n      <td>0</td>\n      <td>0</td>\n      <td>0</td>\n      <td>0</td>\n      <td>0</td>\n      <td>0</td>\n      <td>Python</td>\n    </tr>\n    <tr>\n      <th>3</th>\n      <td># Spacegray\\n\\nA set of custom UI themes for S...</td>\n      <td># Spacegray  A set of custom UI themes for Sub...</td>\n      <td>spacegray set custom ui themes sublime text hy...</td>\n      <td>spacegray set custom ui theme sublime text hyp...</td>\n      <td>0.0000</td>\n      <td>95</td>\n      <td>3964</td>\n      <td>3866</td>\n      <td>0</td>\n      <td>0</td>\n      <td>0</td>\n      <td>0</td>\n      <td>0</td>\n      <td>0</td>\n      <td>0</td>\n      <td>0</td>\n      <td>JavaScript</td>\n    </tr>\n    <tr>\n      <th>4</th>\n      <td># S P A C E\\n\\n![cover](resources/space-readme...</td>\n      <td># S P A C E  ![cover .  You can read it here: ...</td>\n      <td>p c e cover read</td>\n      <td>p c e cover read</td>\n      <td>0.0000</td>\n      <td>16</td>\n      <td>5705</td>\n      <td>5689</td>\n      <td>0</td>\n      <td>0</td>\n      <td>0</td>\n      <td>0</td>\n      <td>0</td>\n      <td>0</td>\n      <td>0</td>\n      <td>0</td>\n      <td>JavaScript</td>\n    </tr>\n    <tr>\n      <th>...</th>\n      <td>...</td>\n      <td>...</td>\n      <td>...</td>\n      <td>...</td>\n      <td>...</td>\n      <td>...</td>\n      <td>...</td>\n      <td>...</td>\n      <td>...</td>\n      <td>...</td>\n      <td>...</td>\n      <td>...</td>\n      <td>...</td>\n      <td>...</td>\n      <td>...</td>\n      <td>...</td>\n      <td>...</td>\n    </tr>\n    <tr>\n      <th>427</th>\n      <td># Simple multi-dataset detection\\nAn object de...</td>\n      <td># Simple multi-dataset detection An object det...</td>\n      <td>simple multidataset detection object detector ...</td>\n      <td>simple multidataset detection object detector ...</td>\n      <td>0.9451</td>\n      <td>374</td>\n      <td>4046</td>\n      <td>3671</td>\n      <td>0</td>\n      <td>0</td>\n      <td>0</td>\n      <td>0</td>\n      <td>0</td>\n      <td>0</td>\n      <td>0</td>\n      <td>0</td>\n      <td>Python</td>\n    </tr>\n    <tr>\n      <th>428</th>\n      <td>\\n![Python package](https://github.com/WagnerG...</td>\n      <td>![Python package .</td>\n      <td>python package</td>\n      <td>python package</td>\n      <td>0.0000</td>\n      <td>14</td>\n      <td>558</td>\n      <td>544</td>\n      <td>0</td>\n      <td>0</td>\n      <td>0</td>\n      <td>0</td>\n      <td>0</td>\n      <td>0</td>\n      <td>0</td>\n      <td>0</td>\n      <td>Python</td>\n    </tr>\n    <tr>\n      <th>429</th>\n      <td># UnityScreenSpaceMetaballs\\nScreenSpace Metab...</td>\n      <td># UnityScreenSpaceMetaballs ScreenSpace Metaba...</td>\n      <td>unityscreenspacemetaballs screenspace metaball...</td>\n      <td>unityscreenspacemetaballs screenspace metaball...</td>\n      <td>0.0000</td>\n      <td>126</td>\n      <td>488</td>\n      <td>357</td>\n      <td>0</td>\n      <td>0</td>\n      <td>0</td>\n      <td>0</td>\n      <td>0</td>\n      <td>0</td>\n      <td>0</td>\n      <td>0</td>\n      <td>C#</td>\n    </tr>\n    <tr>\n      <th>430</th>\n      <td>Caching for Analytic Computations\\n-----------...</td>\n      <td>Caching for Analytic Computations ------------...</td>\n      <td>caching analytic computations humans repeat st...</td>\n      <td>caching analytic computation human repeat stuf...</td>\n      <td>0.8225</td>\n      <td>239</td>\n      <td>1633</td>\n      <td>1387</td>\n      <td>0</td>\n      <td>0</td>\n      <td>0</td>\n      <td>0</td>\n      <td>0</td>\n      <td>0</td>\n      <td>0</td>\n      <td>0</td>\n      <td>Python</td>\n    </tr>\n    <tr>\n      <th>431</th>\n      <td>KCT\\n===\\n\\nKerbal Construction Time - An addo...</td>\n      <td>KCT ===  Kerbal Construction Time - An addon f...</td>\n      <td>kct kerbal construction time addon kerbal prog...</td>\n      <td>kct kerbal construction time addon kerbal prog...</td>\n      <td>0.2500</td>\n      <td>451</td>\n      <td>849</td>\n      <td>388</td>\n      <td>0</td>\n      <td>0</td>\n      <td>1</td>\n      <td>0</td>\n      <td>0</td>\n      <td>0</td>\n      <td>0</td>\n      <td>0</td>\n      <td>C#</td>\n    </tr>\n  </tbody>\n</table>\n<p>432 rows × 17 columns</p>\n</div>"
     },
     "execution_count": 30,
     "metadata": {},
     "output_type": "execute_result"
    }
   ],
   "source": [
    "df"
   ]
  },
  {
   "cell_type": "code",
   "execution_count": 31,
   "id": "110e47fa",
   "metadata": {},
   "outputs": [],
   "source": [
    "from sklearn.neighbors import KNeighborsClassifier"
   ]
  },
  {
   "cell_type": "code",
   "execution_count": 32,
   "id": "f3cd8b53",
   "metadata": {},
   "outputs": [],
   "source": [
    "knn = KNeighborsClassifier?"
   ]
  },
  {
   "cell_type": "code",
   "execution_count": 33,
   "id": "1c770170",
   "metadata": {},
   "outputs": [
    {
     "data": {
      "text/plain": "0.6473029045643154"
     },
     "execution_count": 33,
     "metadata": {},
     "output_type": "execute_result"
    }
   ],
   "source": [
    "knn = KNeighborsClassifier(n_neighbors=3)\n",
    "knn.fit(X_tfid, y_train)\n",
    "knn.score(X_tfid, y_train)"
   ]
  },
  {
   "cell_type": "code",
   "execution_count": 34,
   "id": "79f7af2f",
   "metadata": {},
   "outputs": [
    {
     "data": {
      "text/plain": "0.16346153846153846"
     },
     "execution_count": 34,
     "metadata": {},
     "output_type": "execute_result"
    }
   ],
   "source": [
    "knn.score(X_tfid_val, y_validate)"
   ]
  },
  {
   "cell_type": "code",
   "execution_count": 35,
   "id": "42fb8469",
   "metadata": {},
   "outputs": [],
   "source": [
    "tfidf = TfidfVectorizer()\n",
    "p = tfidf.fit_transform(X_train.lemmatized)\n",
    "#X_tfid_val = tfidf.transform(X_validate.lemmatized)\n",
    "#X_tfid_test = tfidf.transform(X_test.lemmatized)\n",
    "idf_values = pd.DataFrame(X_tfid.todense(), \n",
    "             columns=tfidf.get_feature_names_out())\n",
    "values_to_remove = idf_values[idf_values > 3].index.tolist()"
   ]
  },
  {
   "cell_type": "code",
   "execution_count": 36,
   "id": "7b8e94e6",
   "metadata": {},
   "outputs": [
    {
     "data": {
      "text/plain": "<module 'prepare' from '/Users/zacharystufflebeme/codeup-data-science/NLP/NLP/NLP-Project/Codeup-Mirzakhani-GitHub-Scrape-NLP-Project/zach_docs/prepare.py'>"
     },
     "execution_count": 36,
     "metadata": {},
     "output_type": "execute_result"
    }
   ],
   "source": [
    "reload(pr)"
   ]
  },
  {
   "cell_type": "code",
   "execution_count": 37,
   "id": "6749ed54",
   "metadata": {},
   "outputs": [],
   "source": [
    "df = pr.get_clean_df()"
   ]
  },
  {
   "cell_type": "code",
   "execution_count": 38,
   "id": "a8932926",
   "metadata": {},
   "outputs": [
    {
     "data": {
      "text/plain": "                                              original  \\\n0    <p align=\"center\"><img src=\"https://live.stati...   \n1    \\nARCHIVED VERSION OF Space Engineers. This ve...   \n2    # Spaceship Generator\\n\\nA Blender script to p...   \n3    # Spacegray\\n\\nA set of custom UI themes for S...   \n4    # S P A C E\\n\\n![cover](resources/space-readme...   \n..                                                 ...   \n427  # Simple multi-dataset detection\\nAn object de...   \n428  \\n![Python package](https://github.com/WagnerG...   \n429  # UnityScreenSpaceMetaballs\\nScreenSpace Metab...   \n430  Caching for Analytic Computations\\n-----------...   \n431  KCT\\n===\\n\\nKerbal Construction Time - An addo...   \n\n                                           first_clean  \\\n0     SpaceX REST API  Open Source REST API for lau...   \n1    ARCHIVED VERSION OF Space Engineers. This vers...   \n2    # Spaceship Generator  A Blender script to pro...   \n3    # Spacegray  A set of custom UI themes for Sub...   \n4    # S P A C E  ![cover .  You can read it here: ...   \n..                                                 ...   \n427  # Simple multi-dataset detection An object det...   \n428                               ![Python package .     \n429  # UnityScreenSpaceMetaballs ScreenSpace Metaba...   \n430  Caching for Analytic Computations ------------...   \n431  KCT ===  Kerbal Construction Time - An addon f...   \n\n                                                 clean  \\\n0    spacex rest api open source rest api launch ro...   \n1    archived version engineers version uptodate ve...   \n2    spaceship generator blender script procedurall...   \n3    spacegray set custom ui themes sublime text hy...   \n4                                     p c e cover read   \n..                                                 ...   \n427  simple multidataset detection object detector ...   \n428                                     python package   \n429  unityscreenspacemetaballs screenspace metaball...   \n430  caching analytic computations humans repeat st...   \n431  kct kerbal construction time addon kerbal prog...   \n\n                                            lemmatized  sentiment  lem_length  \\\n0    spacex rest api open source rest api launch ro...     0.7717         475   \n1    archived version engineer version uptodate ver...     0.9633         417   \n2    spaceship generator blender script procedurall...     0.0000         117   \n3    spacegray set custom ui theme sublime text hyp...     0.0000          95   \n4                                     p c e cover read     0.0000          16   \n..                                                 ...        ...         ...   \n427  simple multidataset detection object detector ...     0.9451         374   \n428                                     python package     0.0000          14   \n429  unityscreenspacemetaballs screenspace metaball...     0.0000         126   \n430  caching analytic computation human repeat stuf...     0.8225         239   \n431  kct kerbal construction time addon kerbal prog...     0.2500         451   \n\n     original_length  length_diff  has_#9  has_tab  has_parts  has_fix  has_x  \\\n0               7208         6713       0        0          0        0      0   \n1               4943         4515       0        0          0        0      0   \n2               3587         3469       0        0          0        0      0   \n3               3964         3866       0        0          0        0      0   \n4               5705         5689       0        0          0        0      0   \n..               ...          ...     ...      ...        ...      ...    ...   \n427             4046         3671       0        0          0        0      0   \n428              558          544       0        0          0        0      0   \n429              488          357       0        0          0        0      0   \n430             1633         1387       0        0          0        0      0   \n431              849          388       0        0          1        0      0   \n\n     has_v  has_codeblock  has_image    language  \n0        0              0          1  JavaScript  \n1        0              0          0          C#  \n2        0              0          0      Python  \n3        0              0          0  JavaScript  \n4        0              0          0  JavaScript  \n..     ...            ...        ...         ...  \n427      0              0          0      Python  \n428      0              0          0      Python  \n429      0              0          0          C#  \n430      0              0          0      Python  \n431      0              0          0          C#  \n\n[432 rows x 17 columns]",
      "text/html": "<div>\n<style scoped>\n    .dataframe tbody tr th:only-of-type {\n        vertical-align: middle;\n    }\n\n    .dataframe tbody tr th {\n        vertical-align: top;\n    }\n\n    .dataframe thead th {\n        text-align: right;\n    }\n</style>\n<table border=\"1\" class=\"dataframe\">\n  <thead>\n    <tr style=\"text-align: right;\">\n      <th></th>\n      <th>original</th>\n      <th>first_clean</th>\n      <th>clean</th>\n      <th>lemmatized</th>\n      <th>sentiment</th>\n      <th>lem_length</th>\n      <th>original_length</th>\n      <th>length_diff</th>\n      <th>has_#9</th>\n      <th>has_tab</th>\n      <th>has_parts</th>\n      <th>has_fix</th>\n      <th>has_x</th>\n      <th>has_v</th>\n      <th>has_codeblock</th>\n      <th>has_image</th>\n      <th>language</th>\n    </tr>\n  </thead>\n  <tbody>\n    <tr>\n      <th>0</th>\n      <td>&lt;p align=\"center\"&gt;&lt;img src=\"https://live.stati...</td>\n      <td>SpaceX REST API  Open Source REST API for lau...</td>\n      <td>spacex rest api open source rest api launch ro...</td>\n      <td>spacex rest api open source rest api launch ro...</td>\n      <td>0.7717</td>\n      <td>475</td>\n      <td>7208</td>\n      <td>6713</td>\n      <td>0</td>\n      <td>0</td>\n      <td>0</td>\n      <td>0</td>\n      <td>0</td>\n      <td>0</td>\n      <td>0</td>\n      <td>1</td>\n      <td>JavaScript</td>\n    </tr>\n    <tr>\n      <th>1</th>\n      <td>\\nARCHIVED VERSION OF Space Engineers. This ve...</td>\n      <td>ARCHIVED VERSION OF Space Engineers. This vers...</td>\n      <td>archived version engineers version uptodate ve...</td>\n      <td>archived version engineer version uptodate ver...</td>\n      <td>0.9633</td>\n      <td>417</td>\n      <td>4943</td>\n      <td>4515</td>\n      <td>0</td>\n      <td>0</td>\n      <td>0</td>\n      <td>0</td>\n      <td>0</td>\n      <td>0</td>\n      <td>0</td>\n      <td>0</td>\n      <td>C#</td>\n    </tr>\n    <tr>\n      <th>2</th>\n      <td># Spaceship Generator\\n\\nA Blender script to p...</td>\n      <td># Spaceship Generator  A Blender script to pro...</td>\n      <td>spaceship generator blender script procedurall...</td>\n      <td>spaceship generator blender script procedurall...</td>\n      <td>0.0000</td>\n      <td>117</td>\n      <td>3587</td>\n      <td>3469</td>\n      <td>0</td>\n      <td>0</td>\n      <td>0</td>\n      <td>0</td>\n      <td>0</td>\n      <td>0</td>\n      <td>0</td>\n      <td>0</td>\n      <td>Python</td>\n    </tr>\n    <tr>\n      <th>3</th>\n      <td># Spacegray\\n\\nA set of custom UI themes for S...</td>\n      <td># Spacegray  A set of custom UI themes for Sub...</td>\n      <td>spacegray set custom ui themes sublime text hy...</td>\n      <td>spacegray set custom ui theme sublime text hyp...</td>\n      <td>0.0000</td>\n      <td>95</td>\n      <td>3964</td>\n      <td>3866</td>\n      <td>0</td>\n      <td>0</td>\n      <td>0</td>\n      <td>0</td>\n      <td>0</td>\n      <td>0</td>\n      <td>0</td>\n      <td>0</td>\n      <td>JavaScript</td>\n    </tr>\n    <tr>\n      <th>4</th>\n      <td># S P A C E\\n\\n![cover](resources/space-readme...</td>\n      <td># S P A C E  ![cover .  You can read it here: ...</td>\n      <td>p c e cover read</td>\n      <td>p c e cover read</td>\n      <td>0.0000</td>\n      <td>16</td>\n      <td>5705</td>\n      <td>5689</td>\n      <td>0</td>\n      <td>0</td>\n      <td>0</td>\n      <td>0</td>\n      <td>0</td>\n      <td>0</td>\n      <td>0</td>\n      <td>0</td>\n      <td>JavaScript</td>\n    </tr>\n    <tr>\n      <th>...</th>\n      <td>...</td>\n      <td>...</td>\n      <td>...</td>\n      <td>...</td>\n      <td>...</td>\n      <td>...</td>\n      <td>...</td>\n      <td>...</td>\n      <td>...</td>\n      <td>...</td>\n      <td>...</td>\n      <td>...</td>\n      <td>...</td>\n      <td>...</td>\n      <td>...</td>\n      <td>...</td>\n      <td>...</td>\n    </tr>\n    <tr>\n      <th>427</th>\n      <td># Simple multi-dataset detection\\nAn object de...</td>\n      <td># Simple multi-dataset detection An object det...</td>\n      <td>simple multidataset detection object detector ...</td>\n      <td>simple multidataset detection object detector ...</td>\n      <td>0.9451</td>\n      <td>374</td>\n      <td>4046</td>\n      <td>3671</td>\n      <td>0</td>\n      <td>0</td>\n      <td>0</td>\n      <td>0</td>\n      <td>0</td>\n      <td>0</td>\n      <td>0</td>\n      <td>0</td>\n      <td>Python</td>\n    </tr>\n    <tr>\n      <th>428</th>\n      <td>\\n![Python package](https://github.com/WagnerG...</td>\n      <td>![Python package .</td>\n      <td>python package</td>\n      <td>python package</td>\n      <td>0.0000</td>\n      <td>14</td>\n      <td>558</td>\n      <td>544</td>\n      <td>0</td>\n      <td>0</td>\n      <td>0</td>\n      <td>0</td>\n      <td>0</td>\n      <td>0</td>\n      <td>0</td>\n      <td>0</td>\n      <td>Python</td>\n    </tr>\n    <tr>\n      <th>429</th>\n      <td># UnityScreenSpaceMetaballs\\nScreenSpace Metab...</td>\n      <td># UnityScreenSpaceMetaballs ScreenSpace Metaba...</td>\n      <td>unityscreenspacemetaballs screenspace metaball...</td>\n      <td>unityscreenspacemetaballs screenspace metaball...</td>\n      <td>0.0000</td>\n      <td>126</td>\n      <td>488</td>\n      <td>357</td>\n      <td>0</td>\n      <td>0</td>\n      <td>0</td>\n      <td>0</td>\n      <td>0</td>\n      <td>0</td>\n      <td>0</td>\n      <td>0</td>\n      <td>C#</td>\n    </tr>\n    <tr>\n      <th>430</th>\n      <td>Caching for Analytic Computations\\n-----------...</td>\n      <td>Caching for Analytic Computations ------------...</td>\n      <td>caching analytic computations humans repeat st...</td>\n      <td>caching analytic computation human repeat stuf...</td>\n      <td>0.8225</td>\n      <td>239</td>\n      <td>1633</td>\n      <td>1387</td>\n      <td>0</td>\n      <td>0</td>\n      <td>0</td>\n      <td>0</td>\n      <td>0</td>\n      <td>0</td>\n      <td>0</td>\n      <td>0</td>\n      <td>Python</td>\n    </tr>\n    <tr>\n      <th>431</th>\n      <td>KCT\\n===\\n\\nKerbal Construction Time - An addo...</td>\n      <td>KCT ===  Kerbal Construction Time - An addon f...</td>\n      <td>kct kerbal construction time addon kerbal prog...</td>\n      <td>kct kerbal construction time addon kerbal prog...</td>\n      <td>0.2500</td>\n      <td>451</td>\n      <td>849</td>\n      <td>388</td>\n      <td>0</td>\n      <td>0</td>\n      <td>1</td>\n      <td>0</td>\n      <td>0</td>\n      <td>0</td>\n      <td>0</td>\n      <td>0</td>\n      <td>C#</td>\n    </tr>\n  </tbody>\n</table>\n<p>432 rows × 17 columns</p>\n</div>"
     },
     "execution_count": 38,
     "metadata": {},
     "output_type": "execute_result"
    }
   ],
   "source": [
    "df"
   ]
  },
  {
   "cell_type": "code",
   "execution_count": 39,
   "id": "fa8d2d34",
   "metadata": {},
   "outputs": [],
   "source": [
    "df['original_length'] = df.original.str.len()\n",
    "df['clean_length'] = df.clean.str.len()\n",
    "df['length_diff'] = df.original_length - df.clean_length"
   ]
  },
  {
   "cell_type": "code",
   "execution_count": 40,
   "id": "6ecbbe79",
   "metadata": {},
   "outputs": [
    {
     "data": {
      "text/plain": "                                              original  \\\n0    <p align=\"center\"><img src=\"https://live.stati...   \n1    \\nARCHIVED VERSION OF Space Engineers. This ve...   \n2    # Spaceship Generator\\n\\nA Blender script to p...   \n3    # Spacegray\\n\\nA set of custom UI themes for S...   \n4    # S P A C E\\n\\n![cover](resources/space-readme...   \n..                                                 ...   \n427  # Simple multi-dataset detection\\nAn object de...   \n428  \\n![Python package](https://github.com/WagnerG...   \n429  # UnityScreenSpaceMetaballs\\nScreenSpace Metab...   \n430  Caching for Analytic Computations\\n-----------...   \n431  KCT\\n===\\n\\nKerbal Construction Time - An addo...   \n\n                                           first_clean  \\\n0     SpaceX REST API  Open Source REST API for lau...   \n1    ARCHIVED VERSION OF Space Engineers. This vers...   \n2    # Spaceship Generator  A Blender script to pro...   \n3    # Spacegray  A set of custom UI themes for Sub...   \n4    # S P A C E  ![cover .  You can read it here: ...   \n..                                                 ...   \n427  # Simple multi-dataset detection An object det...   \n428                               ![Python package .     \n429  # UnityScreenSpaceMetaballs ScreenSpace Metaba...   \n430  Caching for Analytic Computations ------------...   \n431  KCT ===  Kerbal Construction Time - An addon f...   \n\n                                                 clean  \\\n0    spacex rest api open source rest api launch ro...   \n1    archived version engineers version uptodate ve...   \n2    spaceship generator blender script procedurall...   \n3    spacegray set custom ui themes sublime text hy...   \n4                                     p c e cover read   \n..                                                 ...   \n427  simple multidataset detection object detector ...   \n428                                     python package   \n429  unityscreenspacemetaballs screenspace metaball...   \n430  caching analytic computations humans repeat st...   \n431  kct kerbal construction time addon kerbal prog...   \n\n                                            lemmatized  sentiment  lem_length  \\\n0    spacex rest api open source rest api launch ro...     0.7717         475   \n1    archived version engineer version uptodate ver...     0.9633         417   \n2    spaceship generator blender script procedurall...     0.0000         117   \n3    spacegray set custom ui theme sublime text hyp...     0.0000          95   \n4                                     p c e cover read     0.0000          16   \n..                                                 ...        ...         ...   \n427  simple multidataset detection object detector ...     0.9451         374   \n428                                     python package     0.0000          14   \n429  unityscreenspacemetaballs screenspace metaball...     0.0000         126   \n430  caching analytic computation human repeat stuf...     0.8225         239   \n431  kct kerbal construction time addon kerbal prog...     0.2500         451   \n\n     original_length  length_diff  has_#9  has_tab  has_parts  has_fix  has_x  \\\n0               7208         6713       0        0          0        0      0   \n1               4943         4515       0        0          0        0      0   \n2               3587         3469       0        0          0        0      0   \n3               3964         3866       0        0          0        0      0   \n4               5705         5689       0        0          0        0      0   \n..               ...          ...     ...      ...        ...      ...    ...   \n427             4046         3671       0        0          0        0      0   \n428              558          544       0        0          0        0      0   \n429              488          357       0        0          0        0      0   \n430             1633         1387       0        0          0        0      0   \n431              849          388       0        0          1        0      0   \n\n     has_v  has_codeblock  has_image    language  clean_length  \n0        0              0          1  JavaScript           495  \n1        0              0          0          C#           428  \n2        0              0          0      Python           118  \n3        0              0          0  JavaScript            98  \n4        0              0          0  JavaScript            16  \n..     ...            ...        ...         ...           ...  \n427      0              0          0      Python           375  \n428      0              0          0      Python            14  \n429      0              0          0          C#           131  \n430      0              0          0      Python           246  \n431      0              0          0          C#           461  \n\n[432 rows x 18 columns]",
      "text/html": "<div>\n<style scoped>\n    .dataframe tbody tr th:only-of-type {\n        vertical-align: middle;\n    }\n\n    .dataframe tbody tr th {\n        vertical-align: top;\n    }\n\n    .dataframe thead th {\n        text-align: right;\n    }\n</style>\n<table border=\"1\" class=\"dataframe\">\n  <thead>\n    <tr style=\"text-align: right;\">\n      <th></th>\n      <th>original</th>\n      <th>first_clean</th>\n      <th>clean</th>\n      <th>lemmatized</th>\n      <th>sentiment</th>\n      <th>lem_length</th>\n      <th>original_length</th>\n      <th>length_diff</th>\n      <th>has_#9</th>\n      <th>has_tab</th>\n      <th>has_parts</th>\n      <th>has_fix</th>\n      <th>has_x</th>\n      <th>has_v</th>\n      <th>has_codeblock</th>\n      <th>has_image</th>\n      <th>language</th>\n      <th>clean_length</th>\n    </tr>\n  </thead>\n  <tbody>\n    <tr>\n      <th>0</th>\n      <td>&lt;p align=\"center\"&gt;&lt;img src=\"https://live.stati...</td>\n      <td>SpaceX REST API  Open Source REST API for lau...</td>\n      <td>spacex rest api open source rest api launch ro...</td>\n      <td>spacex rest api open source rest api launch ro...</td>\n      <td>0.7717</td>\n      <td>475</td>\n      <td>7208</td>\n      <td>6713</td>\n      <td>0</td>\n      <td>0</td>\n      <td>0</td>\n      <td>0</td>\n      <td>0</td>\n      <td>0</td>\n      <td>0</td>\n      <td>1</td>\n      <td>JavaScript</td>\n      <td>495</td>\n    </tr>\n    <tr>\n      <th>1</th>\n      <td>\\nARCHIVED VERSION OF Space Engineers. This ve...</td>\n      <td>ARCHIVED VERSION OF Space Engineers. This vers...</td>\n      <td>archived version engineers version uptodate ve...</td>\n      <td>archived version engineer version uptodate ver...</td>\n      <td>0.9633</td>\n      <td>417</td>\n      <td>4943</td>\n      <td>4515</td>\n      <td>0</td>\n      <td>0</td>\n      <td>0</td>\n      <td>0</td>\n      <td>0</td>\n      <td>0</td>\n      <td>0</td>\n      <td>0</td>\n      <td>C#</td>\n      <td>428</td>\n    </tr>\n    <tr>\n      <th>2</th>\n      <td># Spaceship Generator\\n\\nA Blender script to p...</td>\n      <td># Spaceship Generator  A Blender script to pro...</td>\n      <td>spaceship generator blender script procedurall...</td>\n      <td>spaceship generator blender script procedurall...</td>\n      <td>0.0000</td>\n      <td>117</td>\n      <td>3587</td>\n      <td>3469</td>\n      <td>0</td>\n      <td>0</td>\n      <td>0</td>\n      <td>0</td>\n      <td>0</td>\n      <td>0</td>\n      <td>0</td>\n      <td>0</td>\n      <td>Python</td>\n      <td>118</td>\n    </tr>\n    <tr>\n      <th>3</th>\n      <td># Spacegray\\n\\nA set of custom UI themes for S...</td>\n      <td># Spacegray  A set of custom UI themes for Sub...</td>\n      <td>spacegray set custom ui themes sublime text hy...</td>\n      <td>spacegray set custom ui theme sublime text hyp...</td>\n      <td>0.0000</td>\n      <td>95</td>\n      <td>3964</td>\n      <td>3866</td>\n      <td>0</td>\n      <td>0</td>\n      <td>0</td>\n      <td>0</td>\n      <td>0</td>\n      <td>0</td>\n      <td>0</td>\n      <td>0</td>\n      <td>JavaScript</td>\n      <td>98</td>\n    </tr>\n    <tr>\n      <th>4</th>\n      <td># S P A C E\\n\\n![cover](resources/space-readme...</td>\n      <td># S P A C E  ![cover .  You can read it here: ...</td>\n      <td>p c e cover read</td>\n      <td>p c e cover read</td>\n      <td>0.0000</td>\n      <td>16</td>\n      <td>5705</td>\n      <td>5689</td>\n      <td>0</td>\n      <td>0</td>\n      <td>0</td>\n      <td>0</td>\n      <td>0</td>\n      <td>0</td>\n      <td>0</td>\n      <td>0</td>\n      <td>JavaScript</td>\n      <td>16</td>\n    </tr>\n    <tr>\n      <th>...</th>\n      <td>...</td>\n      <td>...</td>\n      <td>...</td>\n      <td>...</td>\n      <td>...</td>\n      <td>...</td>\n      <td>...</td>\n      <td>...</td>\n      <td>...</td>\n      <td>...</td>\n      <td>...</td>\n      <td>...</td>\n      <td>...</td>\n      <td>...</td>\n      <td>...</td>\n      <td>...</td>\n      <td>...</td>\n      <td>...</td>\n    </tr>\n    <tr>\n      <th>427</th>\n      <td># Simple multi-dataset detection\\nAn object de...</td>\n      <td># Simple multi-dataset detection An object det...</td>\n      <td>simple multidataset detection object detector ...</td>\n      <td>simple multidataset detection object detector ...</td>\n      <td>0.9451</td>\n      <td>374</td>\n      <td>4046</td>\n      <td>3671</td>\n      <td>0</td>\n      <td>0</td>\n      <td>0</td>\n      <td>0</td>\n      <td>0</td>\n      <td>0</td>\n      <td>0</td>\n      <td>0</td>\n      <td>Python</td>\n      <td>375</td>\n    </tr>\n    <tr>\n      <th>428</th>\n      <td>\\n![Python package](https://github.com/WagnerG...</td>\n      <td>![Python package .</td>\n      <td>python package</td>\n      <td>python package</td>\n      <td>0.0000</td>\n      <td>14</td>\n      <td>558</td>\n      <td>544</td>\n      <td>0</td>\n      <td>0</td>\n      <td>0</td>\n      <td>0</td>\n      <td>0</td>\n      <td>0</td>\n      <td>0</td>\n      <td>0</td>\n      <td>Python</td>\n      <td>14</td>\n    </tr>\n    <tr>\n      <th>429</th>\n      <td># UnityScreenSpaceMetaballs\\nScreenSpace Metab...</td>\n      <td># UnityScreenSpaceMetaballs ScreenSpace Metaba...</td>\n      <td>unityscreenspacemetaballs screenspace metaball...</td>\n      <td>unityscreenspacemetaballs screenspace metaball...</td>\n      <td>0.0000</td>\n      <td>126</td>\n      <td>488</td>\n      <td>357</td>\n      <td>0</td>\n      <td>0</td>\n      <td>0</td>\n      <td>0</td>\n      <td>0</td>\n      <td>0</td>\n      <td>0</td>\n      <td>0</td>\n      <td>C#</td>\n      <td>131</td>\n    </tr>\n    <tr>\n      <th>430</th>\n      <td>Caching for Analytic Computations\\n-----------...</td>\n      <td>Caching for Analytic Computations ------------...</td>\n      <td>caching analytic computations humans repeat st...</td>\n      <td>caching analytic computation human repeat stuf...</td>\n      <td>0.8225</td>\n      <td>239</td>\n      <td>1633</td>\n      <td>1387</td>\n      <td>0</td>\n      <td>0</td>\n      <td>0</td>\n      <td>0</td>\n      <td>0</td>\n      <td>0</td>\n      <td>0</td>\n      <td>0</td>\n      <td>Python</td>\n      <td>246</td>\n    </tr>\n    <tr>\n      <th>431</th>\n      <td>KCT\\n===\\n\\nKerbal Construction Time - An addo...</td>\n      <td>KCT ===  Kerbal Construction Time - An addon f...</td>\n      <td>kct kerbal construction time addon kerbal prog...</td>\n      <td>kct kerbal construction time addon kerbal prog...</td>\n      <td>0.2500</td>\n      <td>451</td>\n      <td>849</td>\n      <td>388</td>\n      <td>0</td>\n      <td>0</td>\n      <td>1</td>\n      <td>0</td>\n      <td>0</td>\n      <td>0</td>\n      <td>0</td>\n      <td>0</td>\n      <td>C#</td>\n      <td>461</td>\n    </tr>\n  </tbody>\n</table>\n<p>432 rows × 18 columns</p>\n</div>"
     },
     "execution_count": 40,
     "metadata": {},
     "output_type": "execute_result"
    }
   ],
   "source": [
    "df"
   ]
  },
  {
   "cell_type": "code",
   "execution_count": 41,
   "id": "c607c560",
   "metadata": {},
   "outputs": [],
   "source": [
    "import numpy as np"
   ]
  },
  {
   "cell_type": "code",
   "execution_count": 42,
   "id": "079db9f8",
   "metadata": {},
   "outputs": [],
   "source": [
    "df['has_#9'] = np.where(df.clean.str.contains('&#9;'), 1, 0)\n",
    "df['has_parts'] = np.where((df.clean.str.contains(' parts ')) | (df.clean.str.contains(' parts ')), 1, 0)\n",
    "df['has_fix'] = np.where(df.clean.str.contains(' fix '), 1, 0)\n",
    "df['has_tab'] = np.where(df.clean.str.contains(' tab '), 1, 0)\n",
    "df['has_x'] = np.where(df.clean.str.contains(' x '), 1, 0)\n",
    "df['has_v'] = np.where(df.clean.str.contains(' v '), 1, 0)\n",
    "df['has_codeblock'] = np.where(df.clean.str.contains('codeblock'), 1, 0)\n",
    "df['has_image'] = np.where(df.clean.str.contains('image'), 1, 0)"
   ]
  },
  {
   "cell_type": "code",
   "execution_count": 43,
   "id": "384c3360",
   "metadata": {},
   "outputs": [
    {
     "data": {
      "text/plain": "                                              original  \\\n0    <p align=\"center\"><img src=\"https://live.stati...   \n1    \\nARCHIVED VERSION OF Space Engineers. This ve...   \n2    # Spaceship Generator\\n\\nA Blender script to p...   \n3    # Spacegray\\n\\nA set of custom UI themes for S...   \n4    # S P A C E\\n\\n![cover](resources/space-readme...   \n..                                                 ...   \n427  # Simple multi-dataset detection\\nAn object de...   \n428  \\n![Python package](https://github.com/WagnerG...   \n429  # UnityScreenSpaceMetaballs\\nScreenSpace Metab...   \n430  Caching for Analytic Computations\\n-----------...   \n431  KCT\\n===\\n\\nKerbal Construction Time - An addo...   \n\n                                           first_clean  \\\n0     SpaceX REST API  Open Source REST API for lau...   \n1    ARCHIVED VERSION OF Space Engineers. This vers...   \n2    # Spaceship Generator  A Blender script to pro...   \n3    # Spacegray  A set of custom UI themes for Sub...   \n4    # S P A C E  ![cover .  You can read it here: ...   \n..                                                 ...   \n427  # Simple multi-dataset detection An object det...   \n428                               ![Python package .     \n429  # UnityScreenSpaceMetaballs ScreenSpace Metaba...   \n430  Caching for Analytic Computations ------------...   \n431  KCT ===  Kerbal Construction Time - An addon f...   \n\n                                                 clean  \\\n0    spacex rest api open source rest api launch ro...   \n1    archived version engineers version uptodate ve...   \n2    spaceship generator blender script procedurall...   \n3    spacegray set custom ui themes sublime text hy...   \n4                                     p c e cover read   \n..                                                 ...   \n427  simple multidataset detection object detector ...   \n428                                     python package   \n429  unityscreenspacemetaballs screenspace metaball...   \n430  caching analytic computations humans repeat st...   \n431  kct kerbal construction time addon kerbal prog...   \n\n                                            lemmatized  sentiment  lem_length  \\\n0    spacex rest api open source rest api launch ro...     0.7717         475   \n1    archived version engineer version uptodate ver...     0.9633         417   \n2    spaceship generator blender script procedurall...     0.0000         117   \n3    spacegray set custom ui theme sublime text hyp...     0.0000          95   \n4                                     p c e cover read     0.0000          16   \n..                                                 ...        ...         ...   \n427  simple multidataset detection object detector ...     0.9451         374   \n428                                     python package     0.0000          14   \n429  unityscreenspacemetaballs screenspace metaball...     0.0000         126   \n430  caching analytic computation human repeat stuf...     0.8225         239   \n431  kct kerbal construction time addon kerbal prog...     0.2500         451   \n\n     original_length  length_diff  has_#9  has_tab  has_parts  has_fix  has_x  \\\n0               7208         6713       0        0          0        0      0   \n1               4943         4515       0        0          0        0      0   \n2               3587         3469       0        0          0        0      0   \n3               3964         3866       0        0          0        0      0   \n4               5705         5689       0        0          0        0      0   \n..               ...          ...     ...      ...        ...      ...    ...   \n427             4046         3671       0        0          0        0      0   \n428              558          544       0        0          0        0      0   \n429              488          357       0        0          0        0      0   \n430             1633         1387       0        0          0        0      0   \n431              849          388       0        0          1        0      0   \n\n     has_v  has_codeblock  has_image    language  clean_length  \n0        0              0          1  JavaScript           495  \n1        0              0          0          C#           428  \n2        0              0          0      Python           118  \n3        0              0          0  JavaScript            98  \n4        0              0          0  JavaScript            16  \n..     ...            ...        ...         ...           ...  \n427      0              0          0      Python           375  \n428      0              0          0      Python            14  \n429      0              0          0          C#           131  \n430      0              0          0      Python           246  \n431      0              0          0          C#           461  \n\n[432 rows x 18 columns]",
      "text/html": "<div>\n<style scoped>\n    .dataframe tbody tr th:only-of-type {\n        vertical-align: middle;\n    }\n\n    .dataframe tbody tr th {\n        vertical-align: top;\n    }\n\n    .dataframe thead th {\n        text-align: right;\n    }\n</style>\n<table border=\"1\" class=\"dataframe\">\n  <thead>\n    <tr style=\"text-align: right;\">\n      <th></th>\n      <th>original</th>\n      <th>first_clean</th>\n      <th>clean</th>\n      <th>lemmatized</th>\n      <th>sentiment</th>\n      <th>lem_length</th>\n      <th>original_length</th>\n      <th>length_diff</th>\n      <th>has_#9</th>\n      <th>has_tab</th>\n      <th>has_parts</th>\n      <th>has_fix</th>\n      <th>has_x</th>\n      <th>has_v</th>\n      <th>has_codeblock</th>\n      <th>has_image</th>\n      <th>language</th>\n      <th>clean_length</th>\n    </tr>\n  </thead>\n  <tbody>\n    <tr>\n      <th>0</th>\n      <td>&lt;p align=\"center\"&gt;&lt;img src=\"https://live.stati...</td>\n      <td>SpaceX REST API  Open Source REST API for lau...</td>\n      <td>spacex rest api open source rest api launch ro...</td>\n      <td>spacex rest api open source rest api launch ro...</td>\n      <td>0.7717</td>\n      <td>475</td>\n      <td>7208</td>\n      <td>6713</td>\n      <td>0</td>\n      <td>0</td>\n      <td>0</td>\n      <td>0</td>\n      <td>0</td>\n      <td>0</td>\n      <td>0</td>\n      <td>1</td>\n      <td>JavaScript</td>\n      <td>495</td>\n    </tr>\n    <tr>\n      <th>1</th>\n      <td>\\nARCHIVED VERSION OF Space Engineers. This ve...</td>\n      <td>ARCHIVED VERSION OF Space Engineers. This vers...</td>\n      <td>archived version engineers version uptodate ve...</td>\n      <td>archived version engineer version uptodate ver...</td>\n      <td>0.9633</td>\n      <td>417</td>\n      <td>4943</td>\n      <td>4515</td>\n      <td>0</td>\n      <td>0</td>\n      <td>0</td>\n      <td>0</td>\n      <td>0</td>\n      <td>0</td>\n      <td>0</td>\n      <td>0</td>\n      <td>C#</td>\n      <td>428</td>\n    </tr>\n    <tr>\n      <th>2</th>\n      <td># Spaceship Generator\\n\\nA Blender script to p...</td>\n      <td># Spaceship Generator  A Blender script to pro...</td>\n      <td>spaceship generator blender script procedurall...</td>\n      <td>spaceship generator blender script procedurall...</td>\n      <td>0.0000</td>\n      <td>117</td>\n      <td>3587</td>\n      <td>3469</td>\n      <td>0</td>\n      <td>0</td>\n      <td>0</td>\n      <td>0</td>\n      <td>0</td>\n      <td>0</td>\n      <td>0</td>\n      <td>0</td>\n      <td>Python</td>\n      <td>118</td>\n    </tr>\n    <tr>\n      <th>3</th>\n      <td># Spacegray\\n\\nA set of custom UI themes for S...</td>\n      <td># Spacegray  A set of custom UI themes for Sub...</td>\n      <td>spacegray set custom ui themes sublime text hy...</td>\n      <td>spacegray set custom ui theme sublime text hyp...</td>\n      <td>0.0000</td>\n      <td>95</td>\n      <td>3964</td>\n      <td>3866</td>\n      <td>0</td>\n      <td>0</td>\n      <td>0</td>\n      <td>0</td>\n      <td>0</td>\n      <td>0</td>\n      <td>0</td>\n      <td>0</td>\n      <td>JavaScript</td>\n      <td>98</td>\n    </tr>\n    <tr>\n      <th>4</th>\n      <td># S P A C E\\n\\n![cover](resources/space-readme...</td>\n      <td># S P A C E  ![cover .  You can read it here: ...</td>\n      <td>p c e cover read</td>\n      <td>p c e cover read</td>\n      <td>0.0000</td>\n      <td>16</td>\n      <td>5705</td>\n      <td>5689</td>\n      <td>0</td>\n      <td>0</td>\n      <td>0</td>\n      <td>0</td>\n      <td>0</td>\n      <td>0</td>\n      <td>0</td>\n      <td>0</td>\n      <td>JavaScript</td>\n      <td>16</td>\n    </tr>\n    <tr>\n      <th>...</th>\n      <td>...</td>\n      <td>...</td>\n      <td>...</td>\n      <td>...</td>\n      <td>...</td>\n      <td>...</td>\n      <td>...</td>\n      <td>...</td>\n      <td>...</td>\n      <td>...</td>\n      <td>...</td>\n      <td>...</td>\n      <td>...</td>\n      <td>...</td>\n      <td>...</td>\n      <td>...</td>\n      <td>...</td>\n      <td>...</td>\n    </tr>\n    <tr>\n      <th>427</th>\n      <td># Simple multi-dataset detection\\nAn object de...</td>\n      <td># Simple multi-dataset detection An object det...</td>\n      <td>simple multidataset detection object detector ...</td>\n      <td>simple multidataset detection object detector ...</td>\n      <td>0.9451</td>\n      <td>374</td>\n      <td>4046</td>\n      <td>3671</td>\n      <td>0</td>\n      <td>0</td>\n      <td>0</td>\n      <td>0</td>\n      <td>0</td>\n      <td>0</td>\n      <td>0</td>\n      <td>0</td>\n      <td>Python</td>\n      <td>375</td>\n    </tr>\n    <tr>\n      <th>428</th>\n      <td>\\n![Python package](https://github.com/WagnerG...</td>\n      <td>![Python package .</td>\n      <td>python package</td>\n      <td>python package</td>\n      <td>0.0000</td>\n      <td>14</td>\n      <td>558</td>\n      <td>544</td>\n      <td>0</td>\n      <td>0</td>\n      <td>0</td>\n      <td>0</td>\n      <td>0</td>\n      <td>0</td>\n      <td>0</td>\n      <td>0</td>\n      <td>Python</td>\n      <td>14</td>\n    </tr>\n    <tr>\n      <th>429</th>\n      <td># UnityScreenSpaceMetaballs\\nScreenSpace Metab...</td>\n      <td># UnityScreenSpaceMetaballs ScreenSpace Metaba...</td>\n      <td>unityscreenspacemetaballs screenspace metaball...</td>\n      <td>unityscreenspacemetaballs screenspace metaball...</td>\n      <td>0.0000</td>\n      <td>126</td>\n      <td>488</td>\n      <td>357</td>\n      <td>0</td>\n      <td>0</td>\n      <td>0</td>\n      <td>0</td>\n      <td>0</td>\n      <td>0</td>\n      <td>0</td>\n      <td>0</td>\n      <td>C#</td>\n      <td>131</td>\n    </tr>\n    <tr>\n      <th>430</th>\n      <td>Caching for Analytic Computations\\n-----------...</td>\n      <td>Caching for Analytic Computations ------------...</td>\n      <td>caching analytic computations humans repeat st...</td>\n      <td>caching analytic computation human repeat stuf...</td>\n      <td>0.8225</td>\n      <td>239</td>\n      <td>1633</td>\n      <td>1387</td>\n      <td>0</td>\n      <td>0</td>\n      <td>0</td>\n      <td>0</td>\n      <td>0</td>\n      <td>0</td>\n      <td>0</td>\n      <td>0</td>\n      <td>Python</td>\n      <td>246</td>\n    </tr>\n    <tr>\n      <th>431</th>\n      <td>KCT\\n===\\n\\nKerbal Construction Time - An addo...</td>\n      <td>KCT ===  Kerbal Construction Time - An addon f...</td>\n      <td>kct kerbal construction time addon kerbal prog...</td>\n      <td>kct kerbal construction time addon kerbal prog...</td>\n      <td>0.2500</td>\n      <td>451</td>\n      <td>849</td>\n      <td>388</td>\n      <td>0</td>\n      <td>0</td>\n      <td>1</td>\n      <td>0</td>\n      <td>0</td>\n      <td>0</td>\n      <td>0</td>\n      <td>0</td>\n      <td>C#</td>\n      <td>461</td>\n    </tr>\n  </tbody>\n</table>\n<p>432 rows × 18 columns</p>\n</div>"
     },
     "execution_count": 43,
     "metadata": {},
     "output_type": "execute_result"
    }
   ],
   "source": [
    "df"
   ]
  },
  {
   "cell_type": "code",
   "execution_count": 44,
   "id": "b939a785",
   "metadata": {},
   "outputs": [
    {
     "data": {
      "text/plain": "Index(['original', 'first_clean', 'clean', 'lemmatized', 'sentiment',\n       'lem_length', 'original_length', 'length_diff', 'has_#9', 'has_tab',\n       'has_parts', 'has_fix', 'has_x', 'has_v', 'has_codeblock', 'has_image',\n       'language', 'clean_length'],\n      dtype='object')"
     },
     "execution_count": 44,
     "metadata": {},
     "output_type": "execute_result"
    }
   ],
   "source": [
    "df.columns"
   ]
  },
  {
   "cell_type": "code",
   "execution_count": 45,
   "id": "3cfb94a4",
   "metadata": {},
   "outputs": [],
   "source": [
    "new_order = ['original', 'first_clean', 'clean', 'lemmatized', 'sentiment',\\\n",
    "        'original_length', 'length_diff', 'has_#9', 'has_tab',\\\n",
    "        'has_parts', 'has_fix', 'has_x', 'has_v',\\\n",
    "       'has_codeblock', 'has_image', 'language']"
   ]
  },
  {
   "cell_type": "code",
   "execution_count": 46,
   "id": "15d9fba9",
   "metadata": {},
   "outputs": [],
   "source": [
    "df = df[new_order]"
   ]
  },
  {
   "cell_type": "code",
   "execution_count": 47,
   "id": "93f136f2",
   "metadata": {},
   "outputs": [
    {
     "data": {
      "text/plain": "                                              original  \\\n0    <p align=\"center\"><img src=\"https://live.stati...   \n1    \\nARCHIVED VERSION OF Space Engineers. This ve...   \n2    # Spaceship Generator\\n\\nA Blender script to p...   \n3    # Spacegray\\n\\nA set of custom UI themes for S...   \n4    # S P A C E\\n\\n![cover](resources/space-readme...   \n..                                                 ...   \n427  # Simple multi-dataset detection\\nAn object de...   \n428  \\n![Python package](https://github.com/WagnerG...   \n429  # UnityScreenSpaceMetaballs\\nScreenSpace Metab...   \n430  Caching for Analytic Computations\\n-----------...   \n431  KCT\\n===\\n\\nKerbal Construction Time - An addo...   \n\n                                           first_clean  \\\n0     SpaceX REST API  Open Source REST API for lau...   \n1    ARCHIVED VERSION OF Space Engineers. This vers...   \n2    # Spaceship Generator  A Blender script to pro...   \n3    # Spacegray  A set of custom UI themes for Sub...   \n4    # S P A C E  ![cover .  You can read it here: ...   \n..                                                 ...   \n427  # Simple multi-dataset detection An object det...   \n428                               ![Python package .     \n429  # UnityScreenSpaceMetaballs ScreenSpace Metaba...   \n430  Caching for Analytic Computations ------------...   \n431  KCT ===  Kerbal Construction Time - An addon f...   \n\n                                                 clean  \\\n0    spacex rest api open source rest api launch ro...   \n1    archived version engineers version uptodate ve...   \n2    spaceship generator blender script procedurall...   \n3    spacegray set custom ui themes sublime text hy...   \n4                                     p c e cover read   \n..                                                 ...   \n427  simple multidataset detection object detector ...   \n428                                     python package   \n429  unityscreenspacemetaballs screenspace metaball...   \n430  caching analytic computations humans repeat st...   \n431  kct kerbal construction time addon kerbal prog...   \n\n                                            lemmatized  sentiment  \\\n0    spacex rest api open source rest api launch ro...     0.7717   \n1    archived version engineer version uptodate ver...     0.9633   \n2    spaceship generator blender script procedurall...     0.0000   \n3    spacegray set custom ui theme sublime text hyp...     0.0000   \n4                                     p c e cover read     0.0000   \n..                                                 ...        ...   \n427  simple multidataset detection object detector ...     0.9451   \n428                                     python package     0.0000   \n429  unityscreenspacemetaballs screenspace metaball...     0.0000   \n430  caching analytic computation human repeat stuf...     0.8225   \n431  kct kerbal construction time addon kerbal prog...     0.2500   \n\n     original_length  length_diff  has_#9  has_tab  has_parts  has_fix  has_x  \\\n0               7208         6713       0        0          0        0      0   \n1               4943         4515       0        0          0        0      0   \n2               3587         3469       0        0          0        0      0   \n3               3964         3866       0        0          0        0      0   \n4               5705         5689       0        0          0        0      0   \n..               ...          ...     ...      ...        ...      ...    ...   \n427             4046         3671       0        0          0        0      0   \n428              558          544       0        0          0        0      0   \n429              488          357       0        0          0        0      0   \n430             1633         1387       0        0          0        0      0   \n431              849          388       0        0          1        0      0   \n\n     has_v  has_codeblock  has_image    language  \n0        0              0          1  JavaScript  \n1        0              0          0          C#  \n2        0              0          0      Python  \n3        0              0          0  JavaScript  \n4        0              0          0  JavaScript  \n..     ...            ...        ...         ...  \n427      0              0          0      Python  \n428      0              0          0      Python  \n429      0              0          0          C#  \n430      0              0          0      Python  \n431      0              0          0          C#  \n\n[432 rows x 16 columns]",
      "text/html": "<div>\n<style scoped>\n    .dataframe tbody tr th:only-of-type {\n        vertical-align: middle;\n    }\n\n    .dataframe tbody tr th {\n        vertical-align: top;\n    }\n\n    .dataframe thead th {\n        text-align: right;\n    }\n</style>\n<table border=\"1\" class=\"dataframe\">\n  <thead>\n    <tr style=\"text-align: right;\">\n      <th></th>\n      <th>original</th>\n      <th>first_clean</th>\n      <th>clean</th>\n      <th>lemmatized</th>\n      <th>sentiment</th>\n      <th>original_length</th>\n      <th>length_diff</th>\n      <th>has_#9</th>\n      <th>has_tab</th>\n      <th>has_parts</th>\n      <th>has_fix</th>\n      <th>has_x</th>\n      <th>has_v</th>\n      <th>has_codeblock</th>\n      <th>has_image</th>\n      <th>language</th>\n    </tr>\n  </thead>\n  <tbody>\n    <tr>\n      <th>0</th>\n      <td>&lt;p align=\"center\"&gt;&lt;img src=\"https://live.stati...</td>\n      <td>SpaceX REST API  Open Source REST API for lau...</td>\n      <td>spacex rest api open source rest api launch ro...</td>\n      <td>spacex rest api open source rest api launch ro...</td>\n      <td>0.7717</td>\n      <td>7208</td>\n      <td>6713</td>\n      <td>0</td>\n      <td>0</td>\n      <td>0</td>\n      <td>0</td>\n      <td>0</td>\n      <td>0</td>\n      <td>0</td>\n      <td>1</td>\n      <td>JavaScript</td>\n    </tr>\n    <tr>\n      <th>1</th>\n      <td>\\nARCHIVED VERSION OF Space Engineers. This ve...</td>\n      <td>ARCHIVED VERSION OF Space Engineers. This vers...</td>\n      <td>archived version engineers version uptodate ve...</td>\n      <td>archived version engineer version uptodate ver...</td>\n      <td>0.9633</td>\n      <td>4943</td>\n      <td>4515</td>\n      <td>0</td>\n      <td>0</td>\n      <td>0</td>\n      <td>0</td>\n      <td>0</td>\n      <td>0</td>\n      <td>0</td>\n      <td>0</td>\n      <td>C#</td>\n    </tr>\n    <tr>\n      <th>2</th>\n      <td># Spaceship Generator\\n\\nA Blender script to p...</td>\n      <td># Spaceship Generator  A Blender script to pro...</td>\n      <td>spaceship generator blender script procedurall...</td>\n      <td>spaceship generator blender script procedurall...</td>\n      <td>0.0000</td>\n      <td>3587</td>\n      <td>3469</td>\n      <td>0</td>\n      <td>0</td>\n      <td>0</td>\n      <td>0</td>\n      <td>0</td>\n      <td>0</td>\n      <td>0</td>\n      <td>0</td>\n      <td>Python</td>\n    </tr>\n    <tr>\n      <th>3</th>\n      <td># Spacegray\\n\\nA set of custom UI themes for S...</td>\n      <td># Spacegray  A set of custom UI themes for Sub...</td>\n      <td>spacegray set custom ui themes sublime text hy...</td>\n      <td>spacegray set custom ui theme sublime text hyp...</td>\n      <td>0.0000</td>\n      <td>3964</td>\n      <td>3866</td>\n      <td>0</td>\n      <td>0</td>\n      <td>0</td>\n      <td>0</td>\n      <td>0</td>\n      <td>0</td>\n      <td>0</td>\n      <td>0</td>\n      <td>JavaScript</td>\n    </tr>\n    <tr>\n      <th>4</th>\n      <td># S P A C E\\n\\n![cover](resources/space-readme...</td>\n      <td># S P A C E  ![cover .  You can read it here: ...</td>\n      <td>p c e cover read</td>\n      <td>p c e cover read</td>\n      <td>0.0000</td>\n      <td>5705</td>\n      <td>5689</td>\n      <td>0</td>\n      <td>0</td>\n      <td>0</td>\n      <td>0</td>\n      <td>0</td>\n      <td>0</td>\n      <td>0</td>\n      <td>0</td>\n      <td>JavaScript</td>\n    </tr>\n    <tr>\n      <th>...</th>\n      <td>...</td>\n      <td>...</td>\n      <td>...</td>\n      <td>...</td>\n      <td>...</td>\n      <td>...</td>\n      <td>...</td>\n      <td>...</td>\n      <td>...</td>\n      <td>...</td>\n      <td>...</td>\n      <td>...</td>\n      <td>...</td>\n      <td>...</td>\n      <td>...</td>\n      <td>...</td>\n    </tr>\n    <tr>\n      <th>427</th>\n      <td># Simple multi-dataset detection\\nAn object de...</td>\n      <td># Simple multi-dataset detection An object det...</td>\n      <td>simple multidataset detection object detector ...</td>\n      <td>simple multidataset detection object detector ...</td>\n      <td>0.9451</td>\n      <td>4046</td>\n      <td>3671</td>\n      <td>0</td>\n      <td>0</td>\n      <td>0</td>\n      <td>0</td>\n      <td>0</td>\n      <td>0</td>\n      <td>0</td>\n      <td>0</td>\n      <td>Python</td>\n    </tr>\n    <tr>\n      <th>428</th>\n      <td>\\n![Python package](https://github.com/WagnerG...</td>\n      <td>![Python package .</td>\n      <td>python package</td>\n      <td>python package</td>\n      <td>0.0000</td>\n      <td>558</td>\n      <td>544</td>\n      <td>0</td>\n      <td>0</td>\n      <td>0</td>\n      <td>0</td>\n      <td>0</td>\n      <td>0</td>\n      <td>0</td>\n      <td>0</td>\n      <td>Python</td>\n    </tr>\n    <tr>\n      <th>429</th>\n      <td># UnityScreenSpaceMetaballs\\nScreenSpace Metab...</td>\n      <td># UnityScreenSpaceMetaballs ScreenSpace Metaba...</td>\n      <td>unityscreenspacemetaballs screenspace metaball...</td>\n      <td>unityscreenspacemetaballs screenspace metaball...</td>\n      <td>0.0000</td>\n      <td>488</td>\n      <td>357</td>\n      <td>0</td>\n      <td>0</td>\n      <td>0</td>\n      <td>0</td>\n      <td>0</td>\n      <td>0</td>\n      <td>0</td>\n      <td>0</td>\n      <td>C#</td>\n    </tr>\n    <tr>\n      <th>430</th>\n      <td>Caching for Analytic Computations\\n-----------...</td>\n      <td>Caching for Analytic Computations ------------...</td>\n      <td>caching analytic computations humans repeat st...</td>\n      <td>caching analytic computation human repeat stuf...</td>\n      <td>0.8225</td>\n      <td>1633</td>\n      <td>1387</td>\n      <td>0</td>\n      <td>0</td>\n      <td>0</td>\n      <td>0</td>\n      <td>0</td>\n      <td>0</td>\n      <td>0</td>\n      <td>0</td>\n      <td>Python</td>\n    </tr>\n    <tr>\n      <th>431</th>\n      <td>KCT\\n===\\n\\nKerbal Construction Time - An addo...</td>\n      <td>KCT ===  Kerbal Construction Time - An addon f...</td>\n      <td>kct kerbal construction time addon kerbal prog...</td>\n      <td>kct kerbal construction time addon kerbal prog...</td>\n      <td>0.2500</td>\n      <td>849</td>\n      <td>388</td>\n      <td>0</td>\n      <td>0</td>\n      <td>1</td>\n      <td>0</td>\n      <td>0</td>\n      <td>0</td>\n      <td>0</td>\n      <td>0</td>\n      <td>C#</td>\n    </tr>\n  </tbody>\n</table>\n<p>432 rows × 16 columns</p>\n</div>"
     },
     "execution_count": 47,
     "metadata": {},
     "output_type": "execute_result"
    }
   ],
   "source": [
    "df"
   ]
  },
  {
   "cell_type": "code",
   "execution_count": 48,
   "id": "f1df65ef",
   "metadata": {},
   "outputs": [],
   "source": [
    "import seaborn as sns"
   ]
  },
  {
   "cell_type": "code",
   "execution_count": 49,
   "id": "01273b22",
   "metadata": {},
   "outputs": [
    {
     "data": {
      "text/plain": "<AxesSubplot:xlabel='Count', ylabel='original_length'>"
     },
     "execution_count": 49,
     "metadata": {},
     "output_type": "execute_result"
    },
    {
     "data": {
      "text/plain": "<Figure size 432x288 with 1 Axes>",
      "image/png": "[encoded data removed]"
     },
     "metadata": {},
     "output_type": "display_data"
    }
   ],
   "source": [
    "sns.histplot(data=df, y='original_length', hue='language')"
   ]
  },
  {
   "cell_type": "code",
   "execution_count": 50,
   "id": "3848cfb4",
   "metadata": {},
   "outputs": [
    {
     "data": {
      "text/plain": "<AxesSubplot:xlabel='Count', ylabel='length_diff'>"
     },
     "execution_count": 50,
     "metadata": {},
     "output_type": "execute_result"
    },
    {
     "data": {
      "text/plain": "<Figure size 432x288 with 1 Axes>",
      "image/png": "[encoded data removed]"
     },
     "metadata": {},
     "output_type": "display_data"
    }
   ],
   "source": [
    "sns.histplot(data=df, y='length_diff', hue='language')"
   ]
  },
  {
   "cell_type": "code",
   "execution_count": 50,
   "id": "fc9d2c06",
   "metadata": {},
   "outputs": [],
   "source": []
  },
  {
   "cell_type": "code",
   "execution_count": 51,
   "id": "aee8c9b8",
   "metadata": {},
   "outputs": [
    {
     "ename": "SyntaxError",
     "evalue": "invalid syntax (370647077.py, line 1)",
     "output_type": "error",
     "traceback": [
      "\u001B[0;36m  Input \u001B[0;32mIn [51]\u001B[0;36m\u001B[0m\n\u001B[0;31m    del\u001B[0m\n\u001B[0m        ^\u001B[0m\n\u001B[0;31mSyntaxError\u001B[0m\u001B[0;31m:\u001B[0m invalid syntax\n"
     ]
    }
   ],
   "source": [
    "del "
   ]
  },
  {
   "cell_type": "code",
   "execution_count": null,
   "id": "68fd8fb5",
   "metadata": {},
   "outputs": [],
   "source": [
    "from sklearn.preprocessing import MinMaxScaler"
   ]
  },
  {
   "cell_type": "code",
   "execution_count": null,
   "id": "9dca4f43",
   "metadata": {},
   "outputs": [],
   "source": [
    "X_train, X_validate, X_test, y_train, y_validate, y_test = pr.split_data(df, explore=False)"
   ]
  },
  {
   "cell_type": "code",
   "execution_count": null,
   "id": "956dd6a5",
   "metadata": {},
   "outputs": [],
   "source": [
    "tv = TfidfVectorizer()\n",
    "XT_train = tv.fit_transform(X_train.lemmatized)\n",
    "XT_val = tv.transform(X_validate.lemmatized)\n",
    "XT_test = tv.transform(X_test.lemmatized)\n",
    "pd.DataFrame(XT_train.todense(), \n",
    "             columns=tv.get_feature_names_out()).head(1)"
   ]
  },
  {
   "cell_type": "code",
   "execution_count": null,
   "id": "bfb5d3b7",
   "metadata": {},
   "outputs": [],
   "source": [
    "idf_values = pd.Series(\n",
    "    dict(\n",
    "        zip(\n",
    "            tv.get_feature_names_out(), tv.idf_)))\n",
    "#values_to_remove = idf_values[idf_values > 3].index.tolist()"
   ]
  },
  {
   "cell_type": "code",
   "execution_count": null,
   "id": "482824d6",
   "metadata": {},
   "outputs": [],
   "source": [
    "idf_values.describe()"
   ]
  },
  {
   "cell_type": "code",
   "execution_count": null,
   "id": "3f5cb761",
   "metadata": {},
   "outputs": [],
   "source": [
    "# 5.65 -> sweet spot\n",
    "values_to_remove = idf_values[idf_values > 5.65].index.tolist()"
   ]
  },
  {
   "cell_type": "code",
   "execution_count": 52,
   "id": "70916773",
   "metadata": {
    "scrolled": true
   },
   "outputs": [
    {
     "data": {
      "text/plain": "   aabb  aaro   ab  ability  abis  able  abramov  absence  absorb  abuild  \\\n0   0.0   0.0  0.0      0.0   0.0   0.0      0.0      0.0     0.0     0.0   \n\n   ...  york  youtube  yum  zdepth  zero  zip  ziptar  zodiusinfuser  zoom  \\\n0  ...   0.0      0.0  0.0     0.0   0.0  0.0     0.0            0.0   0.0   \n\n   zoomrotate  \n0         0.0  \n\n[1 rows x 4926 columns]",
      "text/html": "<div>\n<style scoped>\n    .dataframe tbody tr th:only-of-type {\n        vertical-align: middle;\n    }\n\n    .dataframe tbody tr th {\n        vertical-align: top;\n    }\n\n    .dataframe thead th {\n        text-align: right;\n    }\n</style>\n<table border=\"1\" class=\"dataframe\">\n  <thead>\n    <tr style=\"text-align: right;\">\n      <th></th>\n      <th>aabb</th>\n      <th>aaro</th>\n      <th>ab</th>\n      <th>ability</th>\n      <th>abis</th>\n      <th>able</th>\n      <th>abramov</th>\n      <th>absence</th>\n      <th>absorb</th>\n      <th>abuild</th>\n      <th>...</th>\n      <th>york</th>\n      <th>youtube</th>\n      <th>yum</th>\n      <th>zdepth</th>\n      <th>zero</th>\n      <th>zip</th>\n      <th>ziptar</th>\n      <th>zodiusinfuser</th>\n      <th>zoom</th>\n      <th>zoomrotate</th>\n    </tr>\n  </thead>\n  <tbody>\n    <tr>\n      <th>0</th>\n      <td>0.0</td>\n      <td>0.0</td>\n      <td>0.0</td>\n      <td>0.0</td>\n      <td>0.0</td>\n      <td>0.0</td>\n      <td>0.0</td>\n      <td>0.0</td>\n      <td>0.0</td>\n      <td>0.0</td>\n      <td>...</td>\n      <td>0.0</td>\n      <td>0.0</td>\n      <td>0.0</td>\n      <td>0.0</td>\n      <td>0.0</td>\n      <td>0.0</td>\n      <td>0.0</td>\n      <td>0.0</td>\n      <td>0.0</td>\n      <td>0.0</td>\n    </tr>\n  </tbody>\n</table>\n<p>1 rows × 4926 columns</p>\n</div>"
     },
     "execution_count": 52,
     "metadata": {},
     "output_type": "execute_result"
    }
   ],
   "source": [
    "tv = TfidfVectorizer(stop_words=values_to_remove)\n",
    "XT_train = tv.fit_transform(X_train.lemmatized)\n",
    "XT_validate = tv.transform(X_validate.lemmatized)\n",
    "XT_test = tv.transform(X_test.lemmatized)\n",
    "pd.DataFrame(XT_train.todense(), \n",
    "             columns=tv.get_feature_names_out()).head(1)"
   ]
  },
  {
   "cell_type": "code",
   "execution_count": 53,
   "id": "7572049f",
   "metadata": {},
   "outputs": [
    {
     "data": {
      "text/plain": "<241x4926 sparse matrix of type '<class 'numpy.float64'>'\n\twith 11514 stored elements in Compressed Sparse Row format>"
     },
     "execution_count": 53,
     "metadata": {},
     "output_type": "execute_result"
    }
   ],
   "source": [
    "XT_train"
   ]
  },
  {
   "cell_type": "code",
   "execution_count": 54,
   "id": "60f2d55a",
   "metadata": {},
   "outputs": [
    {
     "data": {
      "text/plain": "0.6265560165975104"
     },
     "execution_count": 54,
     "metadata": {},
     "output_type": "execute_result"
    }
   ],
   "source": [
    "tree = DecisionTreeClassifier(max_depth=6, random_state=42)\n",
    "tree.fit(XT_train, y_train)\n",
    "tree.score(XT_train, y_train)"
   ]
  },
  {
   "cell_type": "code",
   "execution_count": 55,
   "id": "ba20f043",
   "metadata": {},
   "outputs": [
    {
     "ename": "NameError",
     "evalue": "name 'XT_val' is not defined",
     "output_type": "error",
     "traceback": [
      "\u001B[0;31m---------------------------------------------------------------------------\u001B[0m",
      "\u001B[0;31mNameError\u001B[0m                                 Traceback (most recent call last)",
      "Input \u001B[0;32mIn [55]\u001B[0m, in \u001B[0;36m<cell line: 1>\u001B[0;34m()\u001B[0m\n\u001B[0;32m----> 1\u001B[0m tree\u001B[38;5;241m.\u001B[39mscore(\u001B[43mXT_val\u001B[49m, y_validate)\n",
      "\u001B[0;31mNameError\u001B[0m: name 'XT_val' is not defined"
     ]
    }
   ],
   "source": [
    "tree.score(XT_val, y_validate)"
   ]
  },
  {
   "cell_type": "code",
   "execution_count": null,
   "id": "2bb90196",
   "metadata": {},
   "outputs": [],
   "source": [
    "XF_train = X_train.iloc[:, 4:].copy()\n",
    "XF_validate = X_validate.iloc[:, 4:].copy()\n",
    "XF_test = X_test.iloc[:, 4:].copy()"
   ]
  },
  {
   "cell_type": "code",
   "execution_count": null,
   "id": "9deb4340",
   "metadata": {},
   "outputs": [],
   "source": [
    "# scale\n",
    "to_scale = ['sentiment', 'original_length',  'length_diff','clean_length']\n",
    "sc = MinMaxScaler()\n",
    "sc.fit(XF_train[to_scale])\n",
    "XF_train[to_scale] = sc.transform(XF_train[to_scale])\n",
    "XF_validate[to_scale] = sc.transform(XF_validate[to_scale])\n",
    "XF_test[to_scale] = sc.transform(XF_test[to_scale])"
   ]
  },
  {
   "cell_type": "code",
   "execution_count": 56,
   "id": "5448a10d",
   "metadata": {},
   "outputs": [
    {
     "ename": "NameError",
     "evalue": "name 'XF_train' is not defined",
     "output_type": "error",
     "traceback": [
      "\u001B[0;31m---------------------------------------------------------------------------\u001B[0m",
      "\u001B[0;31mNameError\u001B[0m                                 Traceback (most recent call last)",
      "Input \u001B[0;32mIn [56]\u001B[0m, in \u001B[0;36m<cell line: 1>\u001B[0;34m()\u001B[0m\n\u001B[0;32m----> 1\u001B[0m X_train_complete \u001B[38;5;241m=\u001B[39m pd\u001B[38;5;241m.\u001B[39mconcat([\u001B[43mXF_train\u001B[49m, pd\u001B[38;5;241m.\u001B[39mDataFrame(XT_train\u001B[38;5;241m.\u001B[39mtodense(), columns\u001B[38;5;241m=\u001B[39mtv\u001B[38;5;241m.\u001B[39mget_feature_names_out(), index\u001B[38;5;241m=\u001B[39mXF_train\u001B[38;5;241m.\u001B[39mindex)], \n\u001B[1;32m      2\u001B[0m           axis\u001B[38;5;241m=\u001B[39m\u001B[38;5;241m1\u001B[39m)\n\u001B[1;32m      3\u001B[0m X_validate_complete \u001B[38;5;241m=\u001B[39m pd\u001B[38;5;241m.\u001B[39mconcat([XF_validate, pd\u001B[38;5;241m.\u001B[39mDataFrame(XT_validate\u001B[38;5;241m.\u001B[39mtodense(), columns\u001B[38;5;241m=\u001B[39mtv\u001B[38;5;241m.\u001B[39mget_feature_names_out(), index\u001B[38;5;241m=\u001B[39mXF_validate\u001B[38;5;241m.\u001B[39mindex)], \n\u001B[1;32m      4\u001B[0m           axis\u001B[38;5;241m=\u001B[39m\u001B[38;5;241m1\u001B[39m)\n\u001B[1;32m      5\u001B[0m X_test_complete \u001B[38;5;241m=\u001B[39m pd\u001B[38;5;241m.\u001B[39mconcat([XF_test, pd\u001B[38;5;241m.\u001B[39mDataFrame(XT_test\u001B[38;5;241m.\u001B[39mtodense(), columns\u001B[38;5;241m=\u001B[39mtv\u001B[38;5;241m.\u001B[39mget_feature_names_out(), index\u001B[38;5;241m=\u001B[39mXF_test\u001B[38;5;241m.\u001B[39mindex)], \n\u001B[1;32m      6\u001B[0m           axis\u001B[38;5;241m=\u001B[39m\u001B[38;5;241m1\u001B[39m)\n",
      "\u001B[0;31mNameError\u001B[0m: name 'XF_train' is not defined"
     ]
    }
   ],
   "source": [
    "X_train_complete = pd.concat([XF_train, pd.DataFrame(XT_train.todense(), columns=tv.get_feature_names_out(), index=XF_train.index)], \n",
    "          axis=1)\n",
    "X_validate_complete = pd.concat([XF_validate, pd.DataFrame(XT_validate.todense(), columns=tv.get_feature_names_out(), index=XF_validate.index)], \n",
    "          axis=1)\n",
    "X_test_complete = pd.concat([XF_test, pd.DataFrame(XT_test.todense(), columns=tv.get_feature_names_out(), index=XF_test.index)], \n",
    "          axis=1)"
   ]
  },
  {
   "cell_type": "code",
   "execution_count": 57,
   "id": "0c066734",
   "metadata": {},
   "outputs": [
    {
     "ename": "NameError",
     "evalue": "name 'XF_train' is not defined",
     "output_type": "error",
     "traceback": [
      "\u001B[0;31m---------------------------------------------------------------------------\u001B[0m",
      "\u001B[0;31mNameError\u001B[0m                                 Traceback (most recent call last)",
      "Input \u001B[0;32mIn [57]\u001B[0m, in \u001B[0;36m<cell line: 1>\u001B[0;34m()\u001B[0m\n\u001B[0;32m----> 1\u001B[0m X_train\u001B[38;5;241m.\u001B[39mshape, XT_train\u001B[38;5;241m.\u001B[39mshape, \u001B[43mXF_train\u001B[49m\u001B[38;5;241m.\u001B[39mshape\n",
      "\u001B[0;31mNameError\u001B[0m: name 'XF_train' is not defined"
     ]
    }
   ],
   "source": [
    "X_train.shape, XT_train.shape, XF_train.shape"
   ]
  },
  {
   "cell_type": "code",
   "execution_count": 58,
   "id": "640d0fae",
   "metadata": {},
   "outputs": [
    {
     "ename": "NameError",
     "evalue": "name 'X_train_complete' is not defined",
     "output_type": "error",
     "traceback": [
      "\u001B[0;31m---------------------------------------------------------------------------\u001B[0m",
      "\u001B[0;31mNameError\u001B[0m                                 Traceback (most recent call last)",
      "Input \u001B[0;32mIn [58]\u001B[0m, in \u001B[0;36m<cell line: 3>\u001B[0;34m()\u001B[0m\n\u001B[1;32m      1\u001B[0m \u001B[38;5;66;03m# complete set: bag of words + feature eng\u001B[39;00m\n\u001B[1;32m      2\u001B[0m tree \u001B[38;5;241m=\u001B[39m DecisionTreeClassifier(max_depth\u001B[38;5;241m=\u001B[39m\u001B[38;5;241m6\u001B[39m, random_state\u001B[38;5;241m=\u001B[39m\u001B[38;5;241m42\u001B[39m)\n\u001B[0;32m----> 3\u001B[0m tree\u001B[38;5;241m.\u001B[39mfit(\u001B[43mX_train_complete\u001B[49m, y_train)\n\u001B[1;32m      4\u001B[0m tree\u001B[38;5;241m.\u001B[39mscore(X_train_complete, y_train)\n",
      "\u001B[0;31mNameError\u001B[0m: name 'X_train_complete' is not defined"
     ]
    }
   ],
   "source": [
    "# complete set: bag of words + feature eng\n",
    "tree = DecisionTreeClassifier(max_depth=6, random_state=42)\n",
    "tree.fit(X_train_complete, y_train)\n",
    "tree.score(X_train_complete, y_train)"
   ]
  },
  {
   "cell_type": "code",
   "execution_count": 59,
   "id": "987d76ff",
   "metadata": {},
   "outputs": [
    {
     "ename": "NameError",
     "evalue": "name 'X_validate_complete' is not defined",
     "output_type": "error",
     "traceback": [
      "\u001B[0;31m---------------------------------------------------------------------------\u001B[0m",
      "\u001B[0;31mNameError\u001B[0m                                 Traceback (most recent call last)",
      "Input \u001B[0;32mIn [59]\u001B[0m, in \u001B[0;36m<cell line: 1>\u001B[0;34m()\u001B[0m\n\u001B[0;32m----> 1\u001B[0m tree\u001B[38;5;241m.\u001B[39mscore(\u001B[43mX_validate_complete\u001B[49m, y_validate)\n",
      "\u001B[0;31mNameError\u001B[0m: name 'X_validate_complete' is not defined"
     ]
    }
   ],
   "source": [
    "tree.score(X_validate_complete, y_validate)"
   ]
  },
  {
   "cell_type": "code",
   "execution_count": 60,
   "id": "57a823c8",
   "metadata": {},
   "outputs": [
    {
     "data": {
      "text/plain": "0.6265560165975104"
     },
     "execution_count": 60,
     "metadata": {},
     "output_type": "execute_result"
    }
   ],
   "source": [
    "# complete set: bag of words + feature eng\n",
    "tree = DecisionTreeClassifier(max_depth=6, random_state=42)\n",
    "tree.fit(XT_train, y_train)\n",
    "tree.score(XT_train, y_train)"
   ]
  },
  {
   "cell_type": "code",
   "execution_count": 61,
   "id": "f4cf7eda",
   "metadata": {},
   "outputs": [
    {
     "ename": "NameError",
     "evalue": "name 'X_train_complete' is not defined",
     "output_type": "error",
     "traceback": [
      "\u001B[0;31m---------------------------------------------------------------------------\u001B[0m",
      "\u001B[0;31mNameError\u001B[0m                                 Traceback (most recent call last)",
      "Input \u001B[0;32mIn [61]\u001B[0m, in \u001B[0;36m<cell line: 1>\u001B[0;34m()\u001B[0m\n\u001B[0;32m----> 1\u001B[0m \u001B[43mX_train_complete\u001B[49m\n",
      "\u001B[0;31mNameError\u001B[0m: name 'X_train_complete' is not defined"
     ]
    }
   ],
   "source": [
    "X_train_complete"
   ]
  },
  {
   "cell_type": "code",
   "execution_count": 62,
   "id": "0718e2e4",
   "metadata": {},
   "outputs": [
    {
     "ename": "NameError",
     "evalue": "name 'X_validate_complete' is not defined",
     "output_type": "error",
     "traceback": [
      "\u001B[0;31m---------------------------------------------------------------------------\u001B[0m",
      "\u001B[0;31mNameError\u001B[0m                                 Traceback (most recent call last)",
      "Input \u001B[0;32mIn [62]\u001B[0m, in \u001B[0;36m<cell line: 1>\u001B[0;34m()\u001B[0m\n\u001B[0;32m----> 1\u001B[0m \u001B[43mX_validate_complete\u001B[49m\n",
      "\u001B[0;31mNameError\u001B[0m: name 'X_validate_complete' is not defined"
     ]
    }
   ],
   "source": [
    "X_validate_complete"
   ]
  },
  {
   "cell_type": "code",
   "execution_count": 63,
   "id": "0339c8f0",
   "metadata": {},
   "outputs": [
    {
     "ename": "NameError",
     "evalue": "name 'X_train1' is not defined",
     "output_type": "error",
     "traceback": [
      "\u001B[0;31m---------------------------------------------------------------------------\u001B[0m",
      "\u001B[0;31mNameError\u001B[0m                                 Traceback (most recent call last)",
      "Input \u001B[0;32mIn [63]\u001B[0m, in \u001B[0;36m<cell line: 3>\u001B[0;34m()\u001B[0m\n\u001B[1;32m      1\u001B[0m \u001B[38;5;66;03m# engineered features only\u001B[39;00m\n\u001B[1;32m      2\u001B[0m tree \u001B[38;5;241m=\u001B[39m DecisionTreeClassifier(max_depth\u001B[38;5;241m=\u001B[39m\u001B[38;5;241m3\u001B[39m, random_state\u001B[38;5;241m=\u001B[39m\u001B[38;5;241m42\u001B[39m)\n\u001B[0;32m----> 3\u001B[0m tree\u001B[38;5;241m.\u001B[39mfit(\u001B[43mX_train1\u001B[49m, y_train)\n\u001B[1;32m      4\u001B[0m tree\u001B[38;5;241m.\u001B[39mscore(X_train1, y_train)\n",
      "\u001B[0;31mNameError\u001B[0m: name 'X_train1' is not defined"
     ]
    }
   ],
   "source": [
    "# engineered features only\n",
    "tree = DecisionTreeClassifier(max_depth=3, random_state=42)\n",
    "tree.fit(X_train1, y_train)\n",
    "tree.score(X_train1, y_train)"
   ]
  },
  {
   "cell_type": "code",
   "execution_count": 64,
   "id": "6d45289d",
   "metadata": {},
   "outputs": [
    {
     "ename": "NameError",
     "evalue": "name 'X_validate1' is not defined",
     "output_type": "error",
     "traceback": [
      "\u001B[0;31m---------------------------------------------------------------------------\u001B[0m",
      "\u001B[0;31mNameError\u001B[0m                                 Traceback (most recent call last)",
      "Input \u001B[0;32mIn [64]\u001B[0m, in \u001B[0;36m<cell line: 1>\u001B[0;34m()\u001B[0m\n\u001B[0;32m----> 1\u001B[0m tree\u001B[38;5;241m.\u001B[39mscore(\u001B[43mX_validate1\u001B[49m, y_validate)\n",
      "\u001B[0;31mNameError\u001B[0m: name 'X_validate1' is not defined"
     ]
    }
   ],
   "source": [
    "tree.score(X_validate1, y_validate)"
   ]
  },
  {
   "cell_type": "code",
   "execution_count": 65,
   "id": "b356f9eb",
   "metadata": {},
   "outputs": [
    {
     "data": {
      "text/plain": "False"
     },
     "execution_count": 65,
     "metadata": {},
     "output_type": "execute_result"
    }
   ],
   "source": [
    "'part' in values_to_remove"
   ]
  },
  {
   "cell_type": "code",
   "execution_count": 66,
   "id": "d595e9aa",
   "metadata": {},
   "outputs": [
    {
     "data": {
      "text/plain": "JavaScript    0.352697\nPython        0.319502\nC#            0.215768\nJava          0.112033\nName: language, dtype: float64"
     },
     "execution_count": 66,
     "metadata": {},
     "output_type": "execute_result"
    }
   ],
   "source": [
    "y_train.value_counts(normalize=True)"
   ]
  },
  {
   "cell_type": "code",
   "execution_count": 67,
   "id": "53c1845e",
   "metadata": {},
   "outputs": [
    {
     "ename": "NameError",
     "evalue": "name 'X_train_complete' is not defined",
     "output_type": "error",
     "traceback": [
      "\u001B[0;31m---------------------------------------------------------------------------\u001B[0m",
      "\u001B[0;31mNameError\u001B[0m                                 Traceback (most recent call last)",
      "Input \u001B[0;32mIn [67]\u001B[0m, in \u001B[0;36m<cell line: 1>\u001B[0;34m()\u001B[0m\n\u001B[0;32m----> 1\u001B[0m \u001B[43mX_train_complete\u001B[49m\n",
      "\u001B[0;31mNameError\u001B[0m: name 'X_train_complete' is not defined"
     ]
    }
   ],
   "source": [
    "X_train_complete"
   ]
  },
  {
   "cell_type": "code",
   "execution_count": null,
   "id": "5886c43f",
   "metadata": {},
   "outputs": [],
   "source": [
    "a = m.gen_decision_trees(X_train_complete,y_train,X_validate_complete,y_validate)"
   ]
  },
  {
   "cell_type": "code",
   "execution_count": null,
   "outputs": [],
   "source": [
    "a"
   ],
   "metadata": {
    "collapsed": false
   }
  },
  {
   "cell_type": "code",
   "execution_count": null,
   "outputs": [],
   "source": [],
   "metadata": {
    "collapsed": false
   }
  }
 ],
 "metadata": {
  "kernelspec": {
   "display_name": "Python 3 (ipykernel)",
   "language": "python",
   "name": "python3"
  },
  "language_info": {
   "codemirror_mode": {
    "name": "ipython",
    "version": 3
   },
   "file_extension": ".py",
   "mimetype": "text/x-python",
   "name": "python",
   "nbconvert_exporter": "python",
   "pygments_lexer": "ipython3",
   "version": "3.9.12"
  }
 },
 "nbformat": 4,
 "nbformat_minor": 5
}
